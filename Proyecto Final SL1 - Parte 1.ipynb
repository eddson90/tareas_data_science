{
 "cells": [
  {
   "cell_type": "markdown",
   "id": "10209503",
   "metadata": {},
   "source": [
    "# Proyecto Final Statistical Learning I: Parte 1\n",
    "\n",
    "El proyecto consiste en hacer clasificación binaria para determinar si una persona sobrevive(y=1) o no (y=0) del hundimiento del Titanic. Se busca crear un modelo con un nivel de exactitud de al menos el 80%. "
   ]
  },
  {
   "cell_type": "markdown",
   "id": "e964a5e4",
   "metadata": {},
   "source": [
    "### Objetivo\n",
    "\n",
    "Crear un modelo combinado por moda de resultados de 4 modelos: Decision Tree, Naive Bayes, SVM y Regresión logística para determinar si una persona sobrevivie o no en el hundimiento del Titanic con una exactitud mínima del 80%."
   ]
  },
  {
   "cell_type": "markdown",
   "id": "d1b1994c",
   "metadata": {},
   "source": [
    "Importar librerías"
   ]
  },
  {
   "cell_type": "code",
   "execution_count": 1041,
   "id": "9e31aef9",
   "metadata": {},
   "outputs": [
    {
     "name": "stdout",
     "output_type": "stream",
     "text": [
      "Enabled compatitility to tf1.x\n"
     ]
    }
   ],
   "source": [
    "import tensorflow as tf\n",
    "import tensorflow_addons as tfa\n",
    "import numpy as np \n",
    "import matplotlib.pyplot as plt\n",
    "import pandas as pd\n",
    "import joblib\n",
    "import sklearn as sk\n",
    "from sklearn import tree\n",
    "from sklearn import svm\n",
    "from sklearn.impute import SimpleImputer\n",
    "from sklearn import metrics\n",
    "from scipy import stats\n",
    "from math import sqrt\n",
    "from math import pi\n",
    "from math import exp\n",
    "import sklearn.model_selection as model_selection\n",
    "import seaborn as sns\n",
    "import time\n",
    "if tf.__version__.startswith(\"2.\"):\n",
    "    import tensorflow.compat.v1 as tf\n",
    "    tf.compat.v1.disable_v2_behavior()\n",
    "    tf.compat.v1.disable_eager_execution()\n",
    "    print(\"Enabled compatitility to tf1.x\")"
   ]
  },
  {
   "cell_type": "markdown",
   "id": "f60e00db",
   "metadata": {},
   "source": [
    "### Carga de datos"
   ]
  },
  {
   "cell_type": "code",
   "execution_count": 319,
   "id": "7e19fa9a",
   "metadata": {
    "scrolled": true
   },
   "outputs": [
    {
     "data": {
      "text/html": [
       "<div>\n",
       "<style scoped>\n",
       "    .dataframe tbody tr th:only-of-type {\n",
       "        vertical-align: middle;\n",
       "    }\n",
       "\n",
       "    .dataframe tbody tr th {\n",
       "        vertical-align: top;\n",
       "    }\n",
       "\n",
       "    .dataframe thead th {\n",
       "        text-align: right;\n",
       "    }\n",
       "</style>\n",
       "<table border=\"1\" class=\"dataframe\">\n",
       "  <thead>\n",
       "    <tr style=\"text-align: right;\">\n",
       "      <th></th>\n",
       "      <th>PassengerId</th>\n",
       "      <th>Name</th>\n",
       "      <th>Age</th>\n",
       "      <th>SibSp</th>\n",
       "      <th>Parch</th>\n",
       "      <th>Ticket</th>\n",
       "      <th>Fare</th>\n",
       "      <th>Cabin</th>\n",
       "      <th>Embarked</th>\n",
       "      <th>passenger_class</th>\n",
       "      <th>passenger_sex</th>\n",
       "      <th>passenger_survived</th>\n",
       "    </tr>\n",
       "  </thead>\n",
       "  <tbody>\n",
       "    <tr>\n",
       "      <th>0</th>\n",
       "      <td>1</td>\n",
       "      <td>Braund, Mr. Owen Harris</td>\n",
       "      <td>22.0</td>\n",
       "      <td>1</td>\n",
       "      <td>0</td>\n",
       "      <td>A/5 21171</td>\n",
       "      <td>7.2500</td>\n",
       "      <td>NaN</td>\n",
       "      <td>S</td>\n",
       "      <td>Lower</td>\n",
       "      <td>M</td>\n",
       "      <td>N</td>\n",
       "    </tr>\n",
       "    <tr>\n",
       "      <th>1</th>\n",
       "      <td>2</td>\n",
       "      <td>Cumings, Mrs. John Bradley (Florence Briggs Th...</td>\n",
       "      <td>38.0</td>\n",
       "      <td>1</td>\n",
       "      <td>0</td>\n",
       "      <td>PC 17599</td>\n",
       "      <td>71.2833</td>\n",
       "      <td>C85</td>\n",
       "      <td>C</td>\n",
       "      <td>Upper</td>\n",
       "      <td>F</td>\n",
       "      <td>Y</td>\n",
       "    </tr>\n",
       "    <tr>\n",
       "      <th>2</th>\n",
       "      <td>3</td>\n",
       "      <td>Heikkinen, Miss. Laina</td>\n",
       "      <td>26.0</td>\n",
       "      <td>0</td>\n",
       "      <td>0</td>\n",
       "      <td>STON/O2. 3101282</td>\n",
       "      <td>7.9250</td>\n",
       "      <td>NaN</td>\n",
       "      <td>S</td>\n",
       "      <td>Lower</td>\n",
       "      <td>F</td>\n",
       "      <td>Y</td>\n",
       "    </tr>\n",
       "    <tr>\n",
       "      <th>3</th>\n",
       "      <td>4</td>\n",
       "      <td>Futrelle, Mrs. Jacques Heath (Lily May Peel)</td>\n",
       "      <td>35.0</td>\n",
       "      <td>1</td>\n",
       "      <td>0</td>\n",
       "      <td>113803</td>\n",
       "      <td>53.1000</td>\n",
       "      <td>C123</td>\n",
       "      <td>S</td>\n",
       "      <td>Upper</td>\n",
       "      <td>F</td>\n",
       "      <td>Y</td>\n",
       "    </tr>\n",
       "    <tr>\n",
       "      <th>4</th>\n",
       "      <td>5</td>\n",
       "      <td>Allen, Mr. William Henry</td>\n",
       "      <td>35.0</td>\n",
       "      <td>0</td>\n",
       "      <td>0</td>\n",
       "      <td>373450</td>\n",
       "      <td>8.0500</td>\n",
       "      <td>NaN</td>\n",
       "      <td>S</td>\n",
       "      <td>Lower</td>\n",
       "      <td>M</td>\n",
       "      <td>N</td>\n",
       "    </tr>\n",
       "  </tbody>\n",
       "</table>\n",
       "</div>"
      ],
      "text/plain": [
       "   PassengerId                                               Name   Age  \\\n",
       "0            1                            Braund, Mr. Owen Harris  22.0   \n",
       "1            2  Cumings, Mrs. John Bradley (Florence Briggs Th...  38.0   \n",
       "2            3                             Heikkinen, Miss. Laina  26.0   \n",
       "3            4       Futrelle, Mrs. Jacques Heath (Lily May Peel)  35.0   \n",
       "4            5                           Allen, Mr. William Henry  35.0   \n",
       "\n",
       "   SibSp  Parch            Ticket     Fare Cabin Embarked passenger_class  \\\n",
       "0      1      0         A/5 21171   7.2500   NaN        S           Lower   \n",
       "1      1      0          PC 17599  71.2833   C85        C           Upper   \n",
       "2      0      0  STON/O2. 3101282   7.9250   NaN        S           Lower   \n",
       "3      1      0            113803  53.1000  C123        S           Upper   \n",
       "4      0      0            373450   8.0500   NaN        S           Lower   \n",
       "\n",
       "  passenger_sex passenger_survived  \n",
       "0             M                  N  \n",
       "1             F                  Y  \n",
       "2             F                  Y  \n",
       "3             F                  Y  \n",
       "4             M                  N  "
      ]
     },
     "execution_count": 319,
     "metadata": {},
     "output_type": "execute_result"
    }
   ],
   "source": [
    "data = pd.read_csv(\"data_titanic_proyecto.csv\") \n",
    "data.head()"
   ]
  },
  {
   "cell_type": "markdown",
   "id": "dea29a44",
   "metadata": {},
   "source": [
    "Buscamos el significado de cada columna. Cada campo se refiere a:\n",
    "\n",
    "* PassengerId - Id del pasajero\n",
    "* Name - Nombre\n",
    "* passenger_sex - Sexo de los pasajeros (M/F)\n",
    "* Age - Edad\n",
    "* Sibsp - Número de hermanos/esposos abordo \n",
    "* Parch - Número de padres/hijos abordo\n",
    "* Ticket - Número de boleto\n",
    "* Fare - Tarifa\n",
    "* Cabin - Camarote\n",
    "* Embarked - Puerto de embarcación (C = Cherbourg; Q = Queenstown; S = Southampton)\n",
    "* passenger_class (Lower/Middle/Upper)\n",
    "* passenger_survived - el pasajero sobrevivió (Y/N)"
   ]
  },
  {
   "cell_type": "markdown",
   "id": "e1745bfd",
   "metadata": {},
   "source": [
    "### Selección y transformación de features\n",
    "\n",
    "Primero revisamos la estructura general de los datos con info() y describe():"
   ]
  },
  {
   "cell_type": "code",
   "execution_count": 320,
   "id": "45361d4d",
   "metadata": {},
   "outputs": [
    {
     "name": "stdout",
     "output_type": "stream",
     "text": [
      "<class 'pandas.core.frame.DataFrame'>\n",
      "RangeIndex: 891 entries, 0 to 890\n",
      "Data columns (total 12 columns):\n",
      " #   Column              Non-Null Count  Dtype  \n",
      "---  ------              --------------  -----  \n",
      " 0   PassengerId         891 non-null    int64  \n",
      " 1   Name                891 non-null    object \n",
      " 2   Age                 714 non-null    float64\n",
      " 3   SibSp               891 non-null    int64  \n",
      " 4   Parch               891 non-null    int64  \n",
      " 5   Ticket              891 non-null    object \n",
      " 6   Fare                891 non-null    float64\n",
      " 7   Cabin               204 non-null    object \n",
      " 8   Embarked            889 non-null    object \n",
      " 9   passenger_class     891 non-null    object \n",
      " 10  passenger_sex       891 non-null    object \n",
      " 11  passenger_survived  891 non-null    object \n",
      "dtypes: float64(2), int64(3), object(7)\n",
      "memory usage: 83.7+ KB\n"
     ]
    }
   ],
   "source": [
    "data.info()"
   ]
  },
  {
   "cell_type": "code",
   "execution_count": 321,
   "id": "3fc665d0",
   "metadata": {},
   "outputs": [
    {
     "data": {
      "text/html": [
       "<div>\n",
       "<style scoped>\n",
       "    .dataframe tbody tr th:only-of-type {\n",
       "        vertical-align: middle;\n",
       "    }\n",
       "\n",
       "    .dataframe tbody tr th {\n",
       "        vertical-align: top;\n",
       "    }\n",
       "\n",
       "    .dataframe thead th {\n",
       "        text-align: right;\n",
       "    }\n",
       "</style>\n",
       "<table border=\"1\" class=\"dataframe\">\n",
       "  <thead>\n",
       "    <tr style=\"text-align: right;\">\n",
       "      <th></th>\n",
       "      <th>PassengerId</th>\n",
       "      <th>Age</th>\n",
       "      <th>SibSp</th>\n",
       "      <th>Parch</th>\n",
       "      <th>Fare</th>\n",
       "    </tr>\n",
       "  </thead>\n",
       "  <tbody>\n",
       "    <tr>\n",
       "      <th>count</th>\n",
       "      <td>891.000000</td>\n",
       "      <td>714.000000</td>\n",
       "      <td>891.000000</td>\n",
       "      <td>891.000000</td>\n",
       "      <td>891.000000</td>\n",
       "    </tr>\n",
       "    <tr>\n",
       "      <th>mean</th>\n",
       "      <td>446.000000</td>\n",
       "      <td>29.699118</td>\n",
       "      <td>0.523008</td>\n",
       "      <td>0.381594</td>\n",
       "      <td>32.204208</td>\n",
       "    </tr>\n",
       "    <tr>\n",
       "      <th>std</th>\n",
       "      <td>257.353842</td>\n",
       "      <td>14.526497</td>\n",
       "      <td>1.102743</td>\n",
       "      <td>0.806057</td>\n",
       "      <td>49.693429</td>\n",
       "    </tr>\n",
       "    <tr>\n",
       "      <th>min</th>\n",
       "      <td>1.000000</td>\n",
       "      <td>0.420000</td>\n",
       "      <td>0.000000</td>\n",
       "      <td>0.000000</td>\n",
       "      <td>0.000000</td>\n",
       "    </tr>\n",
       "    <tr>\n",
       "      <th>25%</th>\n",
       "      <td>223.500000</td>\n",
       "      <td>20.125000</td>\n",
       "      <td>0.000000</td>\n",
       "      <td>0.000000</td>\n",
       "      <td>7.910400</td>\n",
       "    </tr>\n",
       "    <tr>\n",
       "      <th>50%</th>\n",
       "      <td>446.000000</td>\n",
       "      <td>28.000000</td>\n",
       "      <td>0.000000</td>\n",
       "      <td>0.000000</td>\n",
       "      <td>14.454200</td>\n",
       "    </tr>\n",
       "    <tr>\n",
       "      <th>75%</th>\n",
       "      <td>668.500000</td>\n",
       "      <td>38.000000</td>\n",
       "      <td>1.000000</td>\n",
       "      <td>0.000000</td>\n",
       "      <td>31.000000</td>\n",
       "    </tr>\n",
       "    <tr>\n",
       "      <th>max</th>\n",
       "      <td>891.000000</td>\n",
       "      <td>80.000000</td>\n",
       "      <td>8.000000</td>\n",
       "      <td>6.000000</td>\n",
       "      <td>512.329200</td>\n",
       "    </tr>\n",
       "  </tbody>\n",
       "</table>\n",
       "</div>"
      ],
      "text/plain": [
       "       PassengerId         Age       SibSp       Parch        Fare\n",
       "count   891.000000  714.000000  891.000000  891.000000  891.000000\n",
       "mean    446.000000   29.699118    0.523008    0.381594   32.204208\n",
       "std     257.353842   14.526497    1.102743    0.806057   49.693429\n",
       "min       1.000000    0.420000    0.000000    0.000000    0.000000\n",
       "25%     223.500000   20.125000    0.000000    0.000000    7.910400\n",
       "50%     446.000000   28.000000    0.000000    0.000000   14.454200\n",
       "75%     668.500000   38.000000    1.000000    0.000000   31.000000\n",
       "max     891.000000   80.000000    8.000000    6.000000  512.329200"
      ]
     },
     "execution_count": 321,
     "metadata": {},
     "output_type": "execute_result"
    }
   ],
   "source": [
    "data.describe()"
   ]
  },
  {
   "cell_type": "code",
   "execution_count": 322,
   "id": "ae43b670",
   "metadata": {},
   "outputs": [
    {
     "data": {
      "text/plain": [
       "PassengerId             0\n",
       "Name                    0\n",
       "Age                   177\n",
       "SibSp                   0\n",
       "Parch                   0\n",
       "Ticket                  0\n",
       "Fare                    0\n",
       "Cabin                 687\n",
       "Embarked                2\n",
       "passenger_class         0\n",
       "passenger_sex           0\n",
       "passenger_survived      0\n",
       "dtype: int64"
      ]
     },
     "execution_count": 322,
     "metadata": {},
     "output_type": "execute_result"
    }
   ],
   "source": [
    "data.isnull().sum()"
   ]
  },
  {
   "cell_type": "markdown",
   "id": "35255879",
   "metadata": {},
   "source": [
    "Observamos que Age, Cabin y Embarked tienen valores nulos. Para el caso de Cabin (el 77% de los datos tienen valores nulos) y en el caso de Age el 19% son nulos). Para el caso de Age y Embarked podemos hacer imputación de datos. \n",
    "\n",
    "Primero graficamos un histograma de la distribución de Age para compararlo con los datos imputados."
   ]
  },
  {
   "cell_type": "code",
   "execution_count": 323,
   "id": "fb7ad714",
   "metadata": {},
   "outputs": [
    {
     "data": {
      "image/png": "[encoded data removed]",
      "text/plain": [
       "<Figure size 432x288 with 1 Axes>"
      ]
     },
     "metadata": {
      "needs_background": "light"
     },
     "output_type": "display_data"
    }
   ],
   "source": [
    "plt.hist(data['Age'], color = 'blue', edgecolor = 'black')\n",
    "plt.show()"
   ]
  },
  {
   "cell_type": "code",
   "execution_count": 324,
   "id": "2d727d78",
   "metadata": {
    "scrolled": true
   },
   "outputs": [
    {
     "data": {
      "image/png": "[encoded data removed]",
      "text/plain": [
       "<Figure size 432x288 with 1 Axes>"
      ]
     },
     "metadata": {
      "needs_background": "light"
     },
     "output_type": "display_data"
    }
   ],
   "source": [
    "#dataset.fillna(dataset.mean(), inplace=True)\n",
    "\n",
    "data['Age'].fillna(data['Age'].median(), inplace=True)\n",
    "plt.hist(data['Age'], color = 'blue', edgecolor = 'black')\n",
    "plt.show()"
   ]
  },
  {
   "cell_type": "markdown",
   "id": "c4e20a64",
   "metadata": {},
   "source": [
    "Para el caso de 'Embarked' podemos imputar la moda que sería 'S'"
   ]
  },
  {
   "cell_type": "code",
   "execution_count": 325,
   "id": "ec3cf40d",
   "metadata": {},
   "outputs": [
    {
     "data": {
      "text/plain": [
       "S    644\n",
       "C    168\n",
       "Q     77\n",
       "Name: Embarked, dtype: int64"
      ]
     },
     "execution_count": 325,
     "metadata": {},
     "output_type": "execute_result"
    }
   ],
   "source": [
    "data['Embarked'].value_counts()"
   ]
  },
  {
   "cell_type": "code",
   "execution_count": 326,
   "id": "e5566887",
   "metadata": {},
   "outputs": [
    {
     "data": {
      "text/plain": [
       "S    646\n",
       "C    168\n",
       "Q     77\n",
       "Name: Embarked, dtype: int64"
      ]
     },
     "execution_count": 326,
     "metadata": {},
     "output_type": "execute_result"
    }
   ],
   "source": [
    "data['Embarked'].fillna('S', inplace=True)\n",
    "data['Embarked'].value_counts()"
   ]
  },
  {
   "cell_type": "code",
   "execution_count": 327,
   "id": "b8ef2603",
   "metadata": {},
   "outputs": [
    {
     "data": {
      "text/plain": [
       "PassengerId             0\n",
       "Name                    0\n",
       "Age                     0\n",
       "SibSp                   0\n",
       "Parch                   0\n",
       "Ticket                  0\n",
       "Fare                    0\n",
       "Cabin                 687\n",
       "Embarked                0\n",
       "passenger_class         0\n",
       "passenger_sex           0\n",
       "passenger_survived      0\n",
       "dtype: int64"
      ]
     },
     "execution_count": 327,
     "metadata": {},
     "output_type": "execute_result"
    }
   ],
   "source": [
    "data.isnull().sum()"
   ]
  },
  {
   "cell_type": "markdown",
   "id": "d6ffd2fd",
   "metadata": {},
   "source": [
    "Ahora removemos las columnas que son innecesarias para el entrenamiento:"
   ]
  },
  {
   "cell_type": "code",
   "execution_count": 328,
   "id": "8d78c061",
   "metadata": {},
   "outputs": [],
   "source": [
    "data = data.drop(columns = [\"PassengerId\", \"Name\", \"Cabin\", \"Ticket\"])"
   ]
  },
  {
   "cell_type": "code",
   "execution_count": 329,
   "id": "122b4713",
   "metadata": {},
   "outputs": [
    {
     "data": {
      "text/html": [
       "<div>\n",
       "<style scoped>\n",
       "    .dataframe tbody tr th:only-of-type {\n",
       "        vertical-align: middle;\n",
       "    }\n",
       "\n",
       "    .dataframe tbody tr th {\n",
       "        vertical-align: top;\n",
       "    }\n",
       "\n",
       "    .dataframe thead th {\n",
       "        text-align: right;\n",
       "    }\n",
       "</style>\n",
       "<table border=\"1\" class=\"dataframe\">\n",
       "  <thead>\n",
       "    <tr style=\"text-align: right;\">\n",
       "      <th></th>\n",
       "      <th>Age</th>\n",
       "      <th>SibSp</th>\n",
       "      <th>Parch</th>\n",
       "      <th>Fare</th>\n",
       "      <th>Embarked</th>\n",
       "      <th>passenger_class</th>\n",
       "      <th>passenger_sex</th>\n",
       "      <th>passenger_survived</th>\n",
       "    </tr>\n",
       "  </thead>\n",
       "  <tbody>\n",
       "    <tr>\n",
       "      <th>0</th>\n",
       "      <td>22.0</td>\n",
       "      <td>1</td>\n",
       "      <td>0</td>\n",
       "      <td>7.2500</td>\n",
       "      <td>S</td>\n",
       "      <td>Lower</td>\n",
       "      <td>M</td>\n",
       "      <td>N</td>\n",
       "    </tr>\n",
       "    <tr>\n",
       "      <th>1</th>\n",
       "      <td>38.0</td>\n",
       "      <td>1</td>\n",
       "      <td>0</td>\n",
       "      <td>71.2833</td>\n",
       "      <td>C</td>\n",
       "      <td>Upper</td>\n",
       "      <td>F</td>\n",
       "      <td>Y</td>\n",
       "    </tr>\n",
       "    <tr>\n",
       "      <th>2</th>\n",
       "      <td>26.0</td>\n",
       "      <td>0</td>\n",
       "      <td>0</td>\n",
       "      <td>7.9250</td>\n",
       "      <td>S</td>\n",
       "      <td>Lower</td>\n",
       "      <td>F</td>\n",
       "      <td>Y</td>\n",
       "    </tr>\n",
       "    <tr>\n",
       "      <th>3</th>\n",
       "      <td>35.0</td>\n",
       "      <td>1</td>\n",
       "      <td>0</td>\n",
       "      <td>53.1000</td>\n",
       "      <td>S</td>\n",
       "      <td>Upper</td>\n",
       "      <td>F</td>\n",
       "      <td>Y</td>\n",
       "    </tr>\n",
       "    <tr>\n",
       "      <th>4</th>\n",
       "      <td>35.0</td>\n",
       "      <td>0</td>\n",
       "      <td>0</td>\n",
       "      <td>8.0500</td>\n",
       "      <td>S</td>\n",
       "      <td>Lower</td>\n",
       "      <td>M</td>\n",
       "      <td>N</td>\n",
       "    </tr>\n",
       "  </tbody>\n",
       "</table>\n",
       "</div>"
      ],
      "text/plain": [
       "    Age  SibSp  Parch     Fare Embarked passenger_class passenger_sex  \\\n",
       "0  22.0      1      0   7.2500        S           Lower             M   \n",
       "1  38.0      1      0  71.2833        C           Upper             F   \n",
       "2  26.0      0      0   7.9250        S           Lower             F   \n",
       "3  35.0      1      0  53.1000        S           Upper             F   \n",
       "4  35.0      0      0   8.0500        S           Lower             M   \n",
       "\n",
       "  passenger_survived  \n",
       "0                  N  \n",
       "1                  Y  \n",
       "2                  Y  \n",
       "3                  Y  \n",
       "4                  N  "
      ]
     },
     "execution_count": 329,
     "metadata": {},
     "output_type": "execute_result"
    }
   ],
   "source": [
    "data.head()"
   ]
  },
  {
   "cell_type": "markdown",
   "id": "4ae210fa",
   "metadata": {},
   "source": [
    "Ahora que ya removimos valores NA y columnas innecesarias podemos hacer ingenería de características con las columnas restantes. Para el caso de Age, podemos generar una nueva columna que indique si el pasajero era adulto o niño, ya que los niños tenían mayor probabilidad de salvarse. "
   ]
  },
  {
   "cell_type": "code",
   "execution_count": 330,
   "id": "7bcaca45",
   "metadata": {},
   "outputs": [],
   "source": [
    "data['Adult'] = np.where(data['Age']<=15, 0, 1)"
   ]
  },
  {
   "cell_type": "code",
   "execution_count": 331,
   "id": "bd65ede1",
   "metadata": {},
   "outputs": [
    {
     "data": {
      "text/html": [
       "<div>\n",
       "<style scoped>\n",
       "    .dataframe tbody tr th:only-of-type {\n",
       "        vertical-align: middle;\n",
       "    }\n",
       "\n",
       "    .dataframe tbody tr th {\n",
       "        vertical-align: top;\n",
       "    }\n",
       "\n",
       "    .dataframe thead th {\n",
       "        text-align: right;\n",
       "    }\n",
       "</style>\n",
       "<table border=\"1\" class=\"dataframe\">\n",
       "  <thead>\n",
       "    <tr style=\"text-align: right;\">\n",
       "      <th></th>\n",
       "      <th>Age</th>\n",
       "      <th>SibSp</th>\n",
       "      <th>Parch</th>\n",
       "      <th>Fare</th>\n",
       "      <th>Embarked</th>\n",
       "      <th>passenger_class</th>\n",
       "      <th>passenger_sex</th>\n",
       "      <th>passenger_survived</th>\n",
       "      <th>Adult</th>\n",
       "    </tr>\n",
       "  </thead>\n",
       "  <tbody>\n",
       "    <tr>\n",
       "      <th>0</th>\n",
       "      <td>22.0</td>\n",
       "      <td>1</td>\n",
       "      <td>0</td>\n",
       "      <td>7.2500</td>\n",
       "      <td>S</td>\n",
       "      <td>Lower</td>\n",
       "      <td>M</td>\n",
       "      <td>N</td>\n",
       "      <td>1</td>\n",
       "    </tr>\n",
       "    <tr>\n",
       "      <th>1</th>\n",
       "      <td>38.0</td>\n",
       "      <td>1</td>\n",
       "      <td>0</td>\n",
       "      <td>71.2833</td>\n",
       "      <td>C</td>\n",
       "      <td>Upper</td>\n",
       "      <td>F</td>\n",
       "      <td>Y</td>\n",
       "      <td>1</td>\n",
       "    </tr>\n",
       "    <tr>\n",
       "      <th>2</th>\n",
       "      <td>26.0</td>\n",
       "      <td>0</td>\n",
       "      <td>0</td>\n",
       "      <td>7.9250</td>\n",
       "      <td>S</td>\n",
       "      <td>Lower</td>\n",
       "      <td>F</td>\n",
       "      <td>Y</td>\n",
       "      <td>1</td>\n",
       "    </tr>\n",
       "    <tr>\n",
       "      <th>3</th>\n",
       "      <td>35.0</td>\n",
       "      <td>1</td>\n",
       "      <td>0</td>\n",
       "      <td>53.1000</td>\n",
       "      <td>S</td>\n",
       "      <td>Upper</td>\n",
       "      <td>F</td>\n",
       "      <td>Y</td>\n",
       "      <td>1</td>\n",
       "    </tr>\n",
       "    <tr>\n",
       "      <th>4</th>\n",
       "      <td>35.0</td>\n",
       "      <td>0</td>\n",
       "      <td>0</td>\n",
       "      <td>8.0500</td>\n",
       "      <td>S</td>\n",
       "      <td>Lower</td>\n",
       "      <td>M</td>\n",
       "      <td>N</td>\n",
       "      <td>1</td>\n",
       "    </tr>\n",
       "  </tbody>\n",
       "</table>\n",
       "</div>"
      ],
      "text/plain": [
       "    Age  SibSp  Parch     Fare Embarked passenger_class passenger_sex  \\\n",
       "0  22.0      1      0   7.2500        S           Lower             M   \n",
       "1  38.0      1      0  71.2833        C           Upper             F   \n",
       "2  26.0      0      0   7.9250        S           Lower             F   \n",
       "3  35.0      1      0  53.1000        S           Upper             F   \n",
       "4  35.0      0      0   8.0500        S           Lower             M   \n",
       "\n",
       "  passenger_survived  Adult  \n",
       "0                  N      1  \n",
       "1                  Y      1  \n",
       "2                  Y      1  \n",
       "3                  Y      1  \n",
       "4                  N      1  "
      ]
     },
     "execution_count": 331,
     "metadata": {},
     "output_type": "execute_result"
    }
   ],
   "source": [
    "data.head()"
   ]
  },
  {
   "cell_type": "markdown",
   "id": "2dfe44a0",
   "metadata": {},
   "source": [
    "Para el caso de Embarked y passenger_class podemos hacer One Hot Encoding:"
   ]
  },
  {
   "cell_type": "code",
   "execution_count": 332,
   "id": "c432e291",
   "metadata": {},
   "outputs": [],
   "source": [
    "data = pd.concat([data, pd.get_dummies(data['Embarked'])], axis = 1)\n",
    "data = pd.concat([data, pd.get_dummies(data['passenger_class'])], axis = 1)"
   ]
  },
  {
   "cell_type": "code",
   "execution_count": 333,
   "id": "59b9dc7f",
   "metadata": {},
   "outputs": [],
   "source": [
    "data = data.drop(columns = [\"Embarked\", \"passenger_class\"])"
   ]
  },
  {
   "cell_type": "code",
   "execution_count": 334,
   "id": "16ae2dac",
   "metadata": {},
   "outputs": [
    {
     "data": {
      "text/html": [
       "<div>\n",
       "<style scoped>\n",
       "    .dataframe tbody tr th:only-of-type {\n",
       "        vertical-align: middle;\n",
       "    }\n",
       "\n",
       "    .dataframe tbody tr th {\n",
       "        vertical-align: top;\n",
       "    }\n",
       "\n",
       "    .dataframe thead th {\n",
       "        text-align: right;\n",
       "    }\n",
       "</style>\n",
       "<table border=\"1\" class=\"dataframe\">\n",
       "  <thead>\n",
       "    <tr style=\"text-align: right;\">\n",
       "      <th></th>\n",
       "      <th>Age</th>\n",
       "      <th>SibSp</th>\n",
       "      <th>Parch</th>\n",
       "      <th>Fare</th>\n",
       "      <th>passenger_sex</th>\n",
       "      <th>passenger_survived</th>\n",
       "      <th>Adult</th>\n",
       "      <th>C</th>\n",
       "      <th>Q</th>\n",
       "      <th>S</th>\n",
       "      <th>Lower</th>\n",
       "      <th>Middle</th>\n",
       "      <th>Upper</th>\n",
       "    </tr>\n",
       "  </thead>\n",
       "  <tbody>\n",
       "    <tr>\n",
       "      <th>0</th>\n",
       "      <td>22.0</td>\n",
       "      <td>1</td>\n",
       "      <td>0</td>\n",
       "      <td>7.2500</td>\n",
       "      <td>M</td>\n",
       "      <td>N</td>\n",
       "      <td>1</td>\n",
       "      <td>0</td>\n",
       "      <td>0</td>\n",
       "      <td>1</td>\n",
       "      <td>1</td>\n",
       "      <td>0</td>\n",
       "      <td>0</td>\n",
       "    </tr>\n",
       "    <tr>\n",
       "      <th>1</th>\n",
       "      <td>38.0</td>\n",
       "      <td>1</td>\n",
       "      <td>0</td>\n",
       "      <td>71.2833</td>\n",
       "      <td>F</td>\n",
       "      <td>Y</td>\n",
       "      <td>1</td>\n",
       "      <td>1</td>\n",
       "      <td>0</td>\n",
       "      <td>0</td>\n",
       "      <td>0</td>\n",
       "      <td>0</td>\n",
       "      <td>1</td>\n",
       "    </tr>\n",
       "    <tr>\n",
       "      <th>2</th>\n",
       "      <td>26.0</td>\n",
       "      <td>0</td>\n",
       "      <td>0</td>\n",
       "      <td>7.9250</td>\n",
       "      <td>F</td>\n",
       "      <td>Y</td>\n",
       "      <td>1</td>\n",
       "      <td>0</td>\n",
       "      <td>0</td>\n",
       "      <td>1</td>\n",
       "      <td>1</td>\n",
       "      <td>0</td>\n",
       "      <td>0</td>\n",
       "    </tr>\n",
       "    <tr>\n",
       "      <th>3</th>\n",
       "      <td>35.0</td>\n",
       "      <td>1</td>\n",
       "      <td>0</td>\n",
       "      <td>53.1000</td>\n",
       "      <td>F</td>\n",
       "      <td>Y</td>\n",
       "      <td>1</td>\n",
       "      <td>0</td>\n",
       "      <td>0</td>\n",
       "      <td>1</td>\n",
       "      <td>0</td>\n",
       "      <td>0</td>\n",
       "      <td>1</td>\n",
       "    </tr>\n",
       "    <tr>\n",
       "      <th>4</th>\n",
       "      <td>35.0</td>\n",
       "      <td>0</td>\n",
       "      <td>0</td>\n",
       "      <td>8.0500</td>\n",
       "      <td>M</td>\n",
       "      <td>N</td>\n",
       "      <td>1</td>\n",
       "      <td>0</td>\n",
       "      <td>0</td>\n",
       "      <td>1</td>\n",
       "      <td>1</td>\n",
       "      <td>0</td>\n",
       "      <td>0</td>\n",
       "    </tr>\n",
       "  </tbody>\n",
       "</table>\n",
       "</div>"
      ],
      "text/plain": [
       "    Age  SibSp  Parch     Fare passenger_sex passenger_survived  Adult  C  Q  \\\n",
       "0  22.0      1      0   7.2500             M                  N      1  0  0   \n",
       "1  38.0      1      0  71.2833             F                  Y      1  1  0   \n",
       "2  26.0      0      0   7.9250             F                  Y      1  0  0   \n",
       "3  35.0      1      0  53.1000             F                  Y      1  0  0   \n",
       "4  35.0      0      0   8.0500             M                  N      1  0  0   \n",
       "\n",
       "   S  Lower  Middle  Upper  \n",
       "0  1      1       0      0  \n",
       "1  0      0       0      1  \n",
       "2  1      1       0      0  \n",
       "3  1      0       0      1  \n",
       "4  1      1       0      0  "
      ]
     },
     "execution_count": 334,
     "metadata": {},
     "output_type": "execute_result"
    }
   ],
   "source": [
    "data.head()"
   ]
  },
  {
   "cell_type": "markdown",
   "id": "d0e07d67",
   "metadata": {},
   "source": [
    "Ahora podemos codificar las variables passenger_sex (M = 0, F = 1) y passenger_survived (Y = 1, N = 0). "
   ]
  },
  {
   "cell_type": "code",
   "execution_count": 335,
   "id": "40d4ab7b",
   "metadata": {},
   "outputs": [
    {
     "data": {
      "text/html": [
       "<div>\n",
       "<style scoped>\n",
       "    .dataframe tbody tr th:only-of-type {\n",
       "        vertical-align: middle;\n",
       "    }\n",
       "\n",
       "    .dataframe tbody tr th {\n",
       "        vertical-align: top;\n",
       "    }\n",
       "\n",
       "    .dataframe thead th {\n",
       "        text-align: right;\n",
       "    }\n",
       "</style>\n",
       "<table border=\"1\" class=\"dataframe\">\n",
       "  <thead>\n",
       "    <tr style=\"text-align: right;\">\n",
       "      <th></th>\n",
       "      <th>Age</th>\n",
       "      <th>SibSp</th>\n",
       "      <th>Parch</th>\n",
       "      <th>Fare</th>\n",
       "      <th>passenger_sex</th>\n",
       "      <th>passenger_survived</th>\n",
       "      <th>Adult</th>\n",
       "      <th>C</th>\n",
       "      <th>Q</th>\n",
       "      <th>S</th>\n",
       "      <th>Lower</th>\n",
       "      <th>Middle</th>\n",
       "      <th>Upper</th>\n",
       "    </tr>\n",
       "  </thead>\n",
       "  <tbody>\n",
       "    <tr>\n",
       "      <th>0</th>\n",
       "      <td>22.0</td>\n",
       "      <td>1</td>\n",
       "      <td>0</td>\n",
       "      <td>7.2500</td>\n",
       "      <td>0</td>\n",
       "      <td>0</td>\n",
       "      <td>1</td>\n",
       "      <td>0</td>\n",
       "      <td>0</td>\n",
       "      <td>1</td>\n",
       "      <td>1</td>\n",
       "      <td>0</td>\n",
       "      <td>0</td>\n",
       "    </tr>\n",
       "    <tr>\n",
       "      <th>1</th>\n",
       "      <td>38.0</td>\n",
       "      <td>1</td>\n",
       "      <td>0</td>\n",
       "      <td>71.2833</td>\n",
       "      <td>1</td>\n",
       "      <td>1</td>\n",
       "      <td>1</td>\n",
       "      <td>1</td>\n",
       "      <td>0</td>\n",
       "      <td>0</td>\n",
       "      <td>0</td>\n",
       "      <td>0</td>\n",
       "      <td>1</td>\n",
       "    </tr>\n",
       "    <tr>\n",
       "      <th>2</th>\n",
       "      <td>26.0</td>\n",
       "      <td>0</td>\n",
       "      <td>0</td>\n",
       "      <td>7.9250</td>\n",
       "      <td>1</td>\n",
       "      <td>1</td>\n",
       "      <td>1</td>\n",
       "      <td>0</td>\n",
       "      <td>0</td>\n",
       "      <td>1</td>\n",
       "      <td>1</td>\n",
       "      <td>0</td>\n",
       "      <td>0</td>\n",
       "    </tr>\n",
       "    <tr>\n",
       "      <th>3</th>\n",
       "      <td>35.0</td>\n",
       "      <td>1</td>\n",
       "      <td>0</td>\n",
       "      <td>53.1000</td>\n",
       "      <td>1</td>\n",
       "      <td>1</td>\n",
       "      <td>1</td>\n",
       "      <td>0</td>\n",
       "      <td>0</td>\n",
       "      <td>1</td>\n",
       "      <td>0</td>\n",
       "      <td>0</td>\n",
       "      <td>1</td>\n",
       "    </tr>\n",
       "    <tr>\n",
       "      <th>4</th>\n",
       "      <td>35.0</td>\n",
       "      <td>0</td>\n",
       "      <td>0</td>\n",
       "      <td>8.0500</td>\n",
       "      <td>0</td>\n",
       "      <td>0</td>\n",
       "      <td>1</td>\n",
       "      <td>0</td>\n",
       "      <td>0</td>\n",
       "      <td>1</td>\n",
       "      <td>1</td>\n",
       "      <td>0</td>\n",
       "      <td>0</td>\n",
       "    </tr>\n",
       "  </tbody>\n",
       "</table>\n",
       "</div>"
      ],
      "text/plain": [
       "    Age  SibSp  Parch     Fare  passenger_sex  passenger_survived  Adult  C  \\\n",
       "0  22.0      1      0   7.2500              0                   0      1  0   \n",
       "1  38.0      1      0  71.2833              1                   1      1  1   \n",
       "2  26.0      0      0   7.9250              1                   1      1  0   \n",
       "3  35.0      1      0  53.1000              1                   1      1  0   \n",
       "4  35.0      0      0   8.0500              0                   0      1  0   \n",
       "\n",
       "   Q  S  Lower  Middle  Upper  \n",
       "0  0  1      1       0      0  \n",
       "1  0  0      0       0      1  \n",
       "2  0  1      1       0      0  \n",
       "3  0  1      0       0      1  \n",
       "4  0  1      1       0      0  "
      ]
     },
     "execution_count": 335,
     "metadata": {},
     "output_type": "execute_result"
    }
   ],
   "source": [
    "data['passenger_sex'].replace({\"M\":0, \"F\":1}, inplace = True)\n",
    "data['passenger_survived'].replace({\"N\":0, \"Y\":1}, inplace = True)\n",
    "data.head()"
   ]
  },
  {
   "cell_type": "markdown",
   "id": "b41a8ee3",
   "metadata": {},
   "source": [
    "Ahora podemos revisar la relación entre cantidad de hijos/esposos/hermanos y la supervivencia:"
   ]
  },
  {
   "cell_type": "code",
   "execution_count": 336,
   "id": "f0e136e8",
   "metadata": {},
   "outputs": [
    {
     "data": {
      "text/plain": [
       "Text(0.5, 0, 'Supervivientes por SibSp')"
      ]
     },
     "execution_count": 336,
     "metadata": {},
     "output_type": "execute_result"
    },
    {
     "data": {
      "image/png": "[encoded data removed]",
      "text/plain": [
       "<Figure size 432x288 with 1 Axes>"
      ]
     },
     "metadata": {
      "needs_background": "light"
     },
     "output_type": "display_data"
    }
   ],
   "source": [
    "sns.countplot(x = 'SibSp', hue = 'passenger_survived', data=data)\n",
    "plt.xlabel('Supervivientes por SibSp')"
   ]
  },
  {
   "cell_type": "code",
   "execution_count": 337,
   "id": "b8e476c6",
   "metadata": {},
   "outputs": [
    {
     "data": {
      "text/plain": [
       "Text(0.5, 0, 'Supervivientes por Parch')"
      ]
     },
     "execution_count": 337,
     "metadata": {},
     "output_type": "execute_result"
    },
    {
     "data": {
      "image/png": "[encoded data removed]",
      "text/plain": [
       "<Figure size 432x288 with 1 Axes>"
      ]
     },
     "metadata": {
      "needs_background": "light"
     },
     "output_type": "display_data"
    }
   ],
   "source": [
    "sns.countplot(x = 'Parch', hue = 'passenger_survived', data=data)\n",
    "plt.xlabel('Supervivientes por Parch')"
   ]
  },
  {
   "cell_type": "markdown",
   "id": "99813b3e",
   "metadata": {},
   "source": [
    "Observamos que hay mayor supervivencia de las personas que tenían 0 hermanos/esposo/esposa/hijos. Por lo tanto podríamos generar una nueva variable que indique si el pasajero estaba solo o no. "
   ]
  },
  {
   "cell_type": "code",
   "execution_count": 338,
   "id": "337610c2",
   "metadata": {},
   "outputs": [
    {
     "data": {
      "text/html": [
       "<div>\n",
       "<style scoped>\n",
       "    .dataframe tbody tr th:only-of-type {\n",
       "        vertical-align: middle;\n",
       "    }\n",
       "\n",
       "    .dataframe tbody tr th {\n",
       "        vertical-align: top;\n",
       "    }\n",
       "\n",
       "    .dataframe thead th {\n",
       "        text-align: right;\n",
       "    }\n",
       "</style>\n",
       "<table border=\"1\" class=\"dataframe\">\n",
       "  <thead>\n",
       "    <tr style=\"text-align: right;\">\n",
       "      <th></th>\n",
       "      <th>Age</th>\n",
       "      <th>SibSp</th>\n",
       "      <th>Parch</th>\n",
       "      <th>Fare</th>\n",
       "      <th>passenger_sex</th>\n",
       "      <th>passenger_survived</th>\n",
       "      <th>Adult</th>\n",
       "      <th>C</th>\n",
       "      <th>Q</th>\n",
       "      <th>S</th>\n",
       "      <th>Lower</th>\n",
       "      <th>Middle</th>\n",
       "      <th>Upper</th>\n",
       "      <th>No_family</th>\n",
       "    </tr>\n",
       "  </thead>\n",
       "  <tbody>\n",
       "    <tr>\n",
       "      <th>0</th>\n",
       "      <td>22.0</td>\n",
       "      <td>1</td>\n",
       "      <td>0</td>\n",
       "      <td>7.2500</td>\n",
       "      <td>0</td>\n",
       "      <td>0</td>\n",
       "      <td>1</td>\n",
       "      <td>0</td>\n",
       "      <td>0</td>\n",
       "      <td>1</td>\n",
       "      <td>1</td>\n",
       "      <td>0</td>\n",
       "      <td>0</td>\n",
       "      <td>0</td>\n",
       "    </tr>\n",
       "    <tr>\n",
       "      <th>1</th>\n",
       "      <td>38.0</td>\n",
       "      <td>1</td>\n",
       "      <td>0</td>\n",
       "      <td>71.2833</td>\n",
       "      <td>1</td>\n",
       "      <td>1</td>\n",
       "      <td>1</td>\n",
       "      <td>1</td>\n",
       "      <td>0</td>\n",
       "      <td>0</td>\n",
       "      <td>0</td>\n",
       "      <td>0</td>\n",
       "      <td>1</td>\n",
       "      <td>0</td>\n",
       "    </tr>\n",
       "    <tr>\n",
       "      <th>2</th>\n",
       "      <td>26.0</td>\n",
       "      <td>0</td>\n",
       "      <td>0</td>\n",
       "      <td>7.9250</td>\n",
       "      <td>1</td>\n",
       "      <td>1</td>\n",
       "      <td>1</td>\n",
       "      <td>0</td>\n",
       "      <td>0</td>\n",
       "      <td>1</td>\n",
       "      <td>1</td>\n",
       "      <td>0</td>\n",
       "      <td>0</td>\n",
       "      <td>1</td>\n",
       "    </tr>\n",
       "    <tr>\n",
       "      <th>3</th>\n",
       "      <td>35.0</td>\n",
       "      <td>1</td>\n",
       "      <td>0</td>\n",
       "      <td>53.1000</td>\n",
       "      <td>1</td>\n",
       "      <td>1</td>\n",
       "      <td>1</td>\n",
       "      <td>0</td>\n",
       "      <td>0</td>\n",
       "      <td>1</td>\n",
       "      <td>0</td>\n",
       "      <td>0</td>\n",
       "      <td>1</td>\n",
       "      <td>0</td>\n",
       "    </tr>\n",
       "    <tr>\n",
       "      <th>4</th>\n",
       "      <td>35.0</td>\n",
       "      <td>0</td>\n",
       "      <td>0</td>\n",
       "      <td>8.0500</td>\n",
       "      <td>0</td>\n",
       "      <td>0</td>\n",
       "      <td>1</td>\n",
       "      <td>0</td>\n",
       "      <td>0</td>\n",
       "      <td>1</td>\n",
       "      <td>1</td>\n",
       "      <td>0</td>\n",
       "      <td>0</td>\n",
       "      <td>1</td>\n",
       "    </tr>\n",
       "  </tbody>\n",
       "</table>\n",
       "</div>"
      ],
      "text/plain": [
       "    Age  SibSp  Parch     Fare  passenger_sex  passenger_survived  Adult  C  \\\n",
       "0  22.0      1      0   7.2500              0                   0      1  0   \n",
       "1  38.0      1      0  71.2833              1                   1      1  1   \n",
       "2  26.0      0      0   7.9250              1                   1      1  0   \n",
       "3  35.0      1      0  53.1000              1                   1      1  0   \n",
       "4  35.0      0      0   8.0500              0                   0      1  0   \n",
       "\n",
       "   Q  S  Lower  Middle  Upper  No_family  \n",
       "0  0  1      1       0      0          0  \n",
       "1  0  0      0       0      1          0  \n",
       "2  0  1      1       0      0          1  \n",
       "3  0  1      0       0      1          0  \n",
       "4  0  1      1       0      0          1  "
      ]
     },
     "execution_count": 338,
     "metadata": {},
     "output_type": "execute_result"
    }
   ],
   "source": [
    "data['No_family'] = np.where(np.logical_and(data['Parch'] == 0, data['SibSp'] == 0),1,0)\n",
    "data.head()"
   ]
  },
  {
   "cell_type": "markdown",
   "id": "018d36c5",
   "metadata": {},
   "source": [
    "**Resumen de Feature Enginerring**\n",
    "* Se imputó la mediana en 'Age' y la moda en 'Embarked'.\n",
    "* Se removieron las columnas inncesarias: 'PassengerId', 'Name', 'Cabin', 'Ticket'.\n",
    "* Se creó una nueva columna 'Adult' para indicar si el pasajero era adulto o niño (menor o igual a 15 años).\n",
    "* 'Embarked' y 'passenger_class' se codificaron con OHE.\n",
    "* Las variables 'passenger_sex'  y 'passenger_survived' se codificaron a valores 0 y 1. Con (M = 0, F = 1) y (Y = 1, N = 0) respectivamente.\n",
    "* Se creó una nueva columna 'Alone' para indicar si el pasajero estaba solo o no (SibSP y Parch iguales a cero)."
   ]
  },
  {
   "cell_type": "markdown",
   "id": "9c3e7412",
   "metadata": {},
   "source": [
    "## Entrenamiento, validación y selección"
   ]
  },
  {
   "cell_type": "markdown",
   "id": "ecbf68a1",
   "metadata": {},
   "source": [
    "**Separación de datos**\n",
    "\n",
    "Separamos los datos entre train y test, posteriormente tomamos una porción de los datos de entrenamiento para generar el set de validación: "
   ]
  },
  {
   "cell_type": "code",
   "execution_count": 339,
   "id": "cadfbfcf",
   "metadata": {},
   "outputs": [],
   "source": [
    "Y = data['passenger_survived'].to_frame()\n",
    "X = data.loc[:,data.columns != 'passenger_survived']"
   ]
  },
  {
   "cell_type": "code",
   "execution_count": 340,
   "id": "19225220",
   "metadata": {},
   "outputs": [],
   "source": [
    "X_train, X_test, Y_train, Y_test = model_selection.train_test_split(X, Y, train_size=0.8, random_state=2021)"
   ]
  },
  {
   "cell_type": "code",
   "execution_count": 341,
   "id": "45211dc2",
   "metadata": {},
   "outputs": [],
   "source": [
    "X_train, X_val, Y_train, Y_val = model_selection.train_test_split(X_train, Y_train, train_size=0.9, random_state=2021)"
   ]
  },
  {
   "cell_type": "code",
   "execution_count": 342,
   "id": "9e4932ad",
   "metadata": {
    "scrolled": true
   },
   "outputs": [
    {
     "name": "stdout",
     "output_type": "stream",
     "text": [
      "Sets de entrenamiento----------\n",
      "X_train Shape:  (640, 13)\n",
      "Y_train Shape:  (640, 1)\n",
      "Sets de pruebas----------------\n",
      "X_test Shape:  (179, 13)\n",
      "Y_test Shape:  (179, 1)\n",
      "Sets de validación-------------\n",
      "X_val Shape:  (72, 13)\n",
      "Y_val Shape:  (72, 1)\n"
     ]
    }
   ],
   "source": [
    "print(\"Sets de entrenamiento----------\")\n",
    "print(\"X_train Shape: \",X_train.shape)\n",
    "print(\"Y_train Shape: \",Y_train.shape)\n",
    "print(\"Sets de pruebas----------------\")\n",
    "print(\"X_test Shape: \",X_test.shape)\n",
    "print(\"Y_test Shape: \",Y_test.shape)\n",
    "print(\"Sets de validación-------------\")\n",
    "print(\"X_val Shape: \",X_val.shape)\n",
    "print(\"Y_val Shape: \",Y_val.shape)"
   ]
  },
  {
   "cell_type": "markdown",
   "id": "f81f7dd9",
   "metadata": {},
   "source": [
    "Creamos un dataframe vacío para almacenar los resultados de cada experimento luego de entrenar los modelos:"
   ]
  },
  {
   "cell_type": "code",
   "execution_count": 642,
   "id": "d6bb512a",
   "metadata": {},
   "outputs": [
    {
     "data": {
      "text/html": [
       "<div>\n",
       "<style scoped>\n",
       "    .dataframe tbody tr th:only-of-type {\n",
       "        vertical-align: middle;\n",
       "    }\n",
       "\n",
       "    .dataframe tbody tr th {\n",
       "        vertical-align: top;\n",
       "    }\n",
       "\n",
       "    .dataframe thead th {\n",
       "        text-align: right;\n",
       "    }\n",
       "</style>\n",
       "<table border=\"1\" class=\"dataframe\">\n",
       "  <thead>\n",
       "    <tr style=\"text-align: right;\">\n",
       "      <th></th>\n",
       "      <th>modelo</th>\n",
       "      <th>config_string</th>\n",
       "      <th>accuracy</th>\n",
       "      <th>f1_score</th>\n",
       "      <th>recall</th>\n",
       "      <th>precision</th>\n",
       "      <th>mse</th>\n",
       "    </tr>\n",
       "  </thead>\n",
       "  <tbody>\n",
       "  </tbody>\n",
       "</table>\n",
       "</div>"
      ],
      "text/plain": [
       "Empty DataFrame\n",
       "Columns: [modelo, config_string, accuracy, f1_score, recall, precision, mse]\n",
       "Index: []"
      ]
     },
     "execution_count": 642,
     "metadata": {},
     "output_type": "execute_result"
    }
   ],
   "source": [
    "bitacora = pd.DataFrame(columns = ['modelo','config_string','accuracy','f1_score','recall','precision','mse'])\n",
    "bitacora"
   ]
  },
  {
   "cell_type": "markdown",
   "id": "8a91c44c",
   "metadata": {},
   "source": [
    "### Árbol de decisión"
   ]
  },
  {
   "cell_type": "code",
   "execution_count": 799,
   "id": "164feaaa",
   "metadata": {},
   "outputs": [],
   "source": [
    "def tree_model(criterio,splitter, maxDepth, maxFeatures, maxLeafNodes):\n",
    "    #crear objeto\n",
    "    modelo_arbol = tree.DecisionTreeClassifier(criterion=criterio,\n",
    "                                               splitter=splitter,\n",
    "                                               max_depth=maxDepth,\n",
    "                                               max_features = maxFeatures, \n",
    "                                               max_leaf_nodes = maxLeafNodes) \n",
    "    #entrenar el modelo\n",
    "    modelo_arbol = modelo_arbol.fit(X_train, Y_train) \n",
    "\n",
    "    #predecir sobre los datos de validación\n",
    "    Y_hat = modelo_arbol.predict(X_val)\n",
    "\n",
    "    #metricas de evaluación\n",
    "    accuracy = metrics.accuracy_score(Y_val, Y_hat) \n",
    "    f1_score = metrics.f1_score(Y_val, Y_hat) \n",
    "    recall = metrics.recall_score(Y_val, Y_hat) \n",
    "    precision = metrics.precision_score(Y_val, Y_hat)\n",
    "    mse = metrics.mean_squared_error(Y_val, Y_hat)\n",
    "\n",
    "    #cadena de configuración\n",
    "    config_string = \"criterion=\"+str(criterio)+\"_MaxDepth=\"+str(maxDepth)+\"_MaxFeatures=\"+str(maxFeatures)+\"_MaxLeafNodes=\"+str(maxLeafNodes)\n",
    "    \n",
    "    resultado = {'modelo':modelo_arbol, \n",
    "                 'config_string':config_string, \n",
    "                 'accuracy':accuracy, \n",
    "                 'f1_score':f1_score, \n",
    "                 'recall':recall, \n",
    "                 'precision':precision,\n",
    "                 'mse':mse}\n",
    "    return resultado"
   ]
  },
  {
   "cell_type": "code",
   "execution_count": 1061,
   "id": "436a3755",
   "metadata": {},
   "outputs": [
    {
     "data": {
      "image/png": "[encoded data removed]",
      "text/plain": [
       "<Figure size 432x288 with 1 Axes>"
      ]
     },
     "metadata": {
      "needs_background": "light"
     },
     "output_type": "display_data"
    }
   ],
   "source": [
    "tree.plot_tree(DecisionTree) \n",
    "plt.show()"
   ]
  },
  {
   "cell_type": "code",
   "execution_count": 1053,
   "id": "68adad62",
   "metadata": {},
   "outputs": [
    {
     "data": {
      "text/plain": [
       "'DecisionTree.pdf'"
      ]
     },
     "execution_count": 1053,
     "metadata": {},
     "output_type": "execute_result"
    }
   ],
   "source": [
    "import graphviz \n",
    "dot_data = tree.export_graphviz(DecisionTree, out_file=None) \n",
    "graph = graphviz.Source(dot_data) \n",
    "graph.render(\"DecisionTree\") "
   ]
  },
  {
   "cell_type": "markdown",
   "id": "636679cc",
   "metadata": {},
   "source": [
    "Realizamos varios experimentos y los añadimos a la bitácora:"
   ]
  },
  {
   "cell_type": "code",
   "execution_count": 892,
   "id": "e38343a8",
   "metadata": {},
   "outputs": [
    {
     "data": {
      "text/html": [
       "<div>\n",
       "<style scoped>\n",
       "    .dataframe tbody tr th:only-of-type {\n",
       "        vertical-align: middle;\n",
       "    }\n",
       "\n",
       "    .dataframe tbody tr th {\n",
       "        vertical-align: top;\n",
       "    }\n",
       "\n",
       "    .dataframe thead th {\n",
       "        text-align: right;\n",
       "    }\n",
       "</style>\n",
       "<table border=\"1\" class=\"dataframe\">\n",
       "  <thead>\n",
       "    <tr style=\"text-align: right;\">\n",
       "      <th></th>\n",
       "      <th>modelo</th>\n",
       "      <th>config_string</th>\n",
       "      <th>accuracy</th>\n",
       "      <th>f1_score</th>\n",
       "      <th>recall</th>\n",
       "      <th>precision</th>\n",
       "      <th>mse</th>\n",
       "    </tr>\n",
       "  </thead>\n",
       "  <tbody>\n",
       "    <tr>\n",
       "      <th>0</th>\n",
       "      <td>DecisionTreeClassifier(criterion='entropy')</td>\n",
       "      <td>criterion=entropy_MaxDepth=None_MaxFeatures=No...</td>\n",
       "      <td>0.805556</td>\n",
       "      <td>0.681818</td>\n",
       "      <td>0.625000</td>\n",
       "      <td>0.750000</td>\n",
       "      <td>0.194444</td>\n",
       "    </tr>\n",
       "    <tr>\n",
       "      <th>1</th>\n",
       "      <td>DecisionTreeClassifier()</td>\n",
       "      <td>criterion=gini_MaxDepth=None_MaxFeatures=None_...</td>\n",
       "      <td>0.791667</td>\n",
       "      <td>0.680851</td>\n",
       "      <td>0.666667</td>\n",
       "      <td>0.695652</td>\n",
       "      <td>0.208333</td>\n",
       "    </tr>\n",
       "    <tr>\n",
       "      <th>2</th>\n",
       "      <td>DecisionTreeClassifier(criterion='entropy', ma...</td>\n",
       "      <td>criterion=entropy_MaxDepth=50_MaxFeatures=None...</td>\n",
       "      <td>0.833333</td>\n",
       "      <td>0.739130</td>\n",
       "      <td>0.708333</td>\n",
       "      <td>0.772727</td>\n",
       "      <td>0.166667</td>\n",
       "    </tr>\n",
       "    <tr>\n",
       "      <th>3</th>\n",
       "      <td>DecisionTreeClassifier(max_depth=50)</td>\n",
       "      <td>criterion=gini_MaxDepth=50_MaxFeatures=None_Ma...</td>\n",
       "      <td>0.833333</td>\n",
       "      <td>0.750000</td>\n",
       "      <td>0.750000</td>\n",
       "      <td>0.750000</td>\n",
       "      <td>0.166667</td>\n",
       "    </tr>\n",
       "    <tr>\n",
       "      <th>4</th>\n",
       "      <td>DecisionTreeClassifier(max_depth=50, max_leaf_...</td>\n",
       "      <td>criterion=gini_MaxDepth=50_MaxFeatures=None_Ma...</td>\n",
       "      <td>0.861111</td>\n",
       "      <td>0.791667</td>\n",
       "      <td>0.791667</td>\n",
       "      <td>0.791667</td>\n",
       "      <td>0.138889</td>\n",
       "    </tr>\n",
       "    <tr>\n",
       "      <th>...</th>\n",
       "      <td>...</td>\n",
       "      <td>...</td>\n",
       "      <td>...</td>\n",
       "      <td>...</td>\n",
       "      <td>...</td>\n",
       "      <td>...</td>\n",
       "      <td>...</td>\n",
       "    </tr>\n",
       "    <tr>\n",
       "      <th>126</th>\n",
       "      <td>DecisionTreeClassifier(max_depth=2000, max_fea...</td>\n",
       "      <td>criterion=gini_MaxDepth=2000_MaxFeatures=6_Max...</td>\n",
       "      <td>0.833333</td>\n",
       "      <td>0.700000</td>\n",
       "      <td>0.583333</td>\n",
       "      <td>0.875000</td>\n",
       "      <td>0.166667</td>\n",
       "    </tr>\n",
       "    <tr>\n",
       "      <th>127</th>\n",
       "      <td>DecisionTreeClassifier(max_depth=2000, max_fea...</td>\n",
       "      <td>criterion=gini_MaxDepth=2000_MaxFeatures=5_Max...</td>\n",
       "      <td>0.861111</td>\n",
       "      <td>0.791667</td>\n",
       "      <td>0.791667</td>\n",
       "      <td>0.791667</td>\n",
       "      <td>0.138889</td>\n",
       "    </tr>\n",
       "    <tr>\n",
       "      <th>128</th>\n",
       "      <td>DecisionTreeClassifier(max_depth=2000, max_fea...</td>\n",
       "      <td>criterion=gini_MaxDepth=2000_MaxFeatures=4_Max...</td>\n",
       "      <td>0.805556</td>\n",
       "      <td>0.708333</td>\n",
       "      <td>0.708333</td>\n",
       "      <td>0.708333</td>\n",
       "      <td>0.194444</td>\n",
       "    </tr>\n",
       "    <tr>\n",
       "      <th>129</th>\n",
       "      <td>DecisionTreeClassifier(max_depth=2000, max_fea...</td>\n",
       "      <td>criterion=gini_MaxDepth=2000_MaxFeatures=3_Max...</td>\n",
       "      <td>0.861111</td>\n",
       "      <td>0.791667</td>\n",
       "      <td>0.791667</td>\n",
       "      <td>0.791667</td>\n",
       "      <td>0.138889</td>\n",
       "    </tr>\n",
       "    <tr>\n",
       "      <th>130</th>\n",
       "      <td>DecisionTreeClassifier(max_depth=2000, max_fea...</td>\n",
       "      <td>criterion=gini_MaxDepth=2000_MaxFeatures=2_Max...</td>\n",
       "      <td>0.750000</td>\n",
       "      <td>0.608696</td>\n",
       "      <td>0.583333</td>\n",
       "      <td>0.636364</td>\n",
       "      <td>0.250000</td>\n",
       "    </tr>\n",
       "  </tbody>\n",
       "</table>\n",
       "<p>131 rows × 7 columns</p>\n",
       "</div>"
      ],
      "text/plain": [
       "                                                modelo  \\\n",
       "0          DecisionTreeClassifier(criterion='entropy')   \n",
       "1                             DecisionTreeClassifier()   \n",
       "2    DecisionTreeClassifier(criterion='entropy', ma...   \n",
       "3                 DecisionTreeClassifier(max_depth=50)   \n",
       "4    DecisionTreeClassifier(max_depth=50, max_leaf_...   \n",
       "..                                                 ...   \n",
       "126  DecisionTreeClassifier(max_depth=2000, max_fea...   \n",
       "127  DecisionTreeClassifier(max_depth=2000, max_fea...   \n",
       "128  DecisionTreeClassifier(max_depth=2000, max_fea...   \n",
       "129  DecisionTreeClassifier(max_depth=2000, max_fea...   \n",
       "130  DecisionTreeClassifier(max_depth=2000, max_fea...   \n",
       "\n",
       "                                         config_string  accuracy  f1_score  \\\n",
       "0    criterion=entropy_MaxDepth=None_MaxFeatures=No...  0.805556  0.681818   \n",
       "1    criterion=gini_MaxDepth=None_MaxFeatures=None_...  0.791667  0.680851   \n",
       "2    criterion=entropy_MaxDepth=50_MaxFeatures=None...  0.833333  0.739130   \n",
       "3    criterion=gini_MaxDepth=50_MaxFeatures=None_Ma...  0.833333  0.750000   \n",
       "4    criterion=gini_MaxDepth=50_MaxFeatures=None_Ma...  0.861111  0.791667   \n",
       "..                                                 ...       ...       ...   \n",
       "126  criterion=gini_MaxDepth=2000_MaxFeatures=6_Max...  0.833333  0.700000   \n",
       "127  criterion=gini_MaxDepth=2000_MaxFeatures=5_Max...  0.861111  0.791667   \n",
       "128  criterion=gini_MaxDepth=2000_MaxFeatures=4_Max...  0.805556  0.708333   \n",
       "129  criterion=gini_MaxDepth=2000_MaxFeatures=3_Max...  0.861111  0.791667   \n",
       "130  criterion=gini_MaxDepth=2000_MaxFeatures=2_Max...  0.750000  0.608696   \n",
       "\n",
       "       recall  precision       mse  \n",
       "0    0.625000   0.750000  0.194444  \n",
       "1    0.666667   0.695652  0.208333  \n",
       "2    0.708333   0.772727  0.166667  \n",
       "3    0.750000   0.750000  0.166667  \n",
       "4    0.791667   0.791667  0.138889  \n",
       "..        ...        ...       ...  \n",
       "126  0.583333   0.875000  0.166667  \n",
       "127  0.791667   0.791667  0.138889  \n",
       "128  0.708333   0.708333  0.194444  \n",
       "129  0.791667   0.791667  0.138889  \n",
       "130  0.583333   0.636364  0.250000  \n",
       "\n",
       "[131 rows x 7 columns]"
      ]
     },
     "execution_count": 892,
     "metadata": {},
     "output_type": "execute_result"
    }
   ],
   "source": [
    "bitacora = bitacora.append(tree_model(\"gini\",\"best\",2000,,10), ignore_index = True)\n",
    "bitacora"
   ]
  },
  {
   "cell_type": "code",
   "execution_count": 899,
   "id": "4ec78d4c",
   "metadata": {},
   "outputs": [
    {
     "data": {
      "text/plain": [
       "'criterion=gini_MaxDepth=2000_MaxFeatures=10_MaxLeafNodes=10'"
      ]
     },
     "execution_count": 899,
     "metadata": {},
     "output_type": "execute_result"
    }
   ],
   "source": [
    "bitacora.loc[122][1]"
   ]
  },
  {
   "cell_type": "markdown",
   "id": "09034d8c",
   "metadata": {},
   "source": [
    "### Support Vector Machine (SVM)"
   ]
  },
  {
   "cell_type": "code",
   "execution_count": 826,
   "id": "1668c079",
   "metadata": {},
   "outputs": [],
   "source": [
    "def svm_model(C, kernel, shrinking,tol,break_ties):\n",
    "    #crear objeto y entrenar el modelo\n",
    "    modelo_svm = svm.SVC(C = C, kernel = kernel, shrinking = shrinking,tol=tol,break_ties=break_ties)\n",
    "    modelo_svm.fit(X_train, Y_train.values.ravel())\n",
    "\n",
    "    #predecir sobre los datos de validación\n",
    "    Y_hat = modelo_svm.predict(X_val)\n",
    "\n",
    "    #metricas de evaluación\n",
    "    accuracy = metrics.accuracy_score(Y_val, Y_hat) \n",
    "    f1_score = metrics.f1_score(Y_val, Y_hat) \n",
    "    recall = metrics.recall_score(Y_val, Y_hat) \n",
    "    precision = metrics.precision_score(Y_val, Y_hat)\n",
    "    mse = metrics.mean_squared_error(Y_val, Y_hat)\n",
    "\n",
    "    #cadena de configuración\n",
    "    config_string = \"C=\"+str(C)+\"_kernel=\"+str(kernel)+\"_shrinking=\"+str(shrinking)+\"_tol=\"+str(tol)+\"_break_ties\"+str(break_ties)\n",
    "    \n",
    "    resultado = {'modelo':modelo_svm, \n",
    "                 'config_string':config_string, \n",
    "                 'accuracy':accuracy, \n",
    "                 'f1_score':f1_score, \n",
    "                 'recall':recall, \n",
    "                 'precision':precision,\n",
    "                 'mse':mse}\n",
    "    \n",
    "    return resultado"
   ]
  },
  {
   "cell_type": "markdown",
   "id": "7f474113",
   "metadata": {},
   "source": [
    "Realizamos varios experimentos y los añadimos a la bitácora:"
   ]
  },
  {
   "cell_type": "code",
   "execution_count": 827,
   "id": "cf62622e",
   "metadata": {},
   "outputs": [
    {
     "data": {
      "text/html": [
       "<div>\n",
       "<style scoped>\n",
       "    .dataframe tbody tr th:only-of-type {\n",
       "        vertical-align: middle;\n",
       "    }\n",
       "\n",
       "    .dataframe tbody tr th {\n",
       "        vertical-align: top;\n",
       "    }\n",
       "\n",
       "    .dataframe thead th {\n",
       "        text-align: right;\n",
       "    }\n",
       "</style>\n",
       "<table border=\"1\" class=\"dataframe\">\n",
       "  <thead>\n",
       "    <tr style=\"text-align: right;\">\n",
       "      <th></th>\n",
       "      <th>modelo</th>\n",
       "      <th>config_string</th>\n",
       "      <th>accuracy</th>\n",
       "      <th>f1_score</th>\n",
       "      <th>recall</th>\n",
       "      <th>precision</th>\n",
       "      <th>mse</th>\n",
       "    </tr>\n",
       "  </thead>\n",
       "  <tbody>\n",
       "    <tr>\n",
       "      <th>0</th>\n",
       "      <td>DecisionTreeClassifier(criterion='entropy')</td>\n",
       "      <td>criterion=entropy_MaxDepth=None_MaxFeatures=No...</td>\n",
       "      <td>0.805556</td>\n",
       "      <td>0.681818</td>\n",
       "      <td>0.625000</td>\n",
       "      <td>0.750000</td>\n",
       "      <td>0.194444</td>\n",
       "    </tr>\n",
       "    <tr>\n",
       "      <th>1</th>\n",
       "      <td>DecisionTreeClassifier()</td>\n",
       "      <td>criterion=gini_MaxDepth=None_MaxFeatures=None_...</td>\n",
       "      <td>0.791667</td>\n",
       "      <td>0.680851</td>\n",
       "      <td>0.666667</td>\n",
       "      <td>0.695652</td>\n",
       "      <td>0.208333</td>\n",
       "    </tr>\n",
       "    <tr>\n",
       "      <th>2</th>\n",
       "      <td>DecisionTreeClassifier(criterion='entropy', ma...</td>\n",
       "      <td>criterion=entropy_MaxDepth=50_MaxFeatures=None...</td>\n",
       "      <td>0.833333</td>\n",
       "      <td>0.739130</td>\n",
       "      <td>0.708333</td>\n",
       "      <td>0.772727</td>\n",
       "      <td>0.166667</td>\n",
       "    </tr>\n",
       "    <tr>\n",
       "      <th>3</th>\n",
       "      <td>DecisionTreeClassifier(max_depth=50)</td>\n",
       "      <td>criterion=gini_MaxDepth=50_MaxFeatures=None_Ma...</td>\n",
       "      <td>0.833333</td>\n",
       "      <td>0.750000</td>\n",
       "      <td>0.750000</td>\n",
       "      <td>0.750000</td>\n",
       "      <td>0.166667</td>\n",
       "    </tr>\n",
       "    <tr>\n",
       "      <th>4</th>\n",
       "      <td>DecisionTreeClassifier(max_depth=50, max_leaf_...</td>\n",
       "      <td>criterion=gini_MaxDepth=50_MaxFeatures=None_Ma...</td>\n",
       "      <td>0.861111</td>\n",
       "      <td>0.791667</td>\n",
       "      <td>0.791667</td>\n",
       "      <td>0.791667</td>\n",
       "      <td>0.138889</td>\n",
       "    </tr>\n",
       "    <tr>\n",
       "      <th>...</th>\n",
       "      <td>...</td>\n",
       "      <td>...</td>\n",
       "      <td>...</td>\n",
       "      <td>...</td>\n",
       "      <td>...</td>\n",
       "      <td>...</td>\n",
       "      <td>...</td>\n",
       "    </tr>\n",
       "    <tr>\n",
       "      <th>71</th>\n",
       "      <td>DecisionTreeClassifier(max_depth=50, max_leaf_...</td>\n",
       "      <td>criterion=gini_MaxDepth=50_MaxFeatures=None_Ma...</td>\n",
       "      <td>0.833333</td>\n",
       "      <td>0.769231</td>\n",
       "      <td>0.833333</td>\n",
       "      <td>0.714286</td>\n",
       "      <td>0.166667</td>\n",
       "    </tr>\n",
       "    <tr>\n",
       "      <th>72</th>\n",
       "      <td>DecisionTreeClassifier(max_depth=50, max_leaf_...</td>\n",
       "      <td>criterion=gini_MaxDepth=50_MaxFeatures=None_Ma...</td>\n",
       "      <td>0.791667</td>\n",
       "      <td>0.693878</td>\n",
       "      <td>0.708333</td>\n",
       "      <td>0.680000</td>\n",
       "      <td>0.208333</td>\n",
       "    </tr>\n",
       "    <tr>\n",
       "      <th>73</th>\n",
       "      <td>DecisionTreeClassifier(max_depth=50, max_leaf_...</td>\n",
       "      <td>criterion=gini_MaxDepth=50_MaxFeatures=None_Ma...</td>\n",
       "      <td>0.861111</td>\n",
       "      <td>0.791667</td>\n",
       "      <td>0.791667</td>\n",
       "      <td>0.791667</td>\n",
       "      <td>0.138889</td>\n",
       "    </tr>\n",
       "    <tr>\n",
       "      <th>74</th>\n",
       "      <td>SVC(break_ties=True, kernel='linear', shrinkin...</td>\n",
       "      <td>C=1.0_kernel=linear_shrinking=False_tol=1e-05</td>\n",
       "      <td>0.833333</td>\n",
       "      <td>0.769231</td>\n",
       "      <td>0.833333</td>\n",
       "      <td>0.714286</td>\n",
       "      <td>0.166667</td>\n",
       "    </tr>\n",
       "    <tr>\n",
       "      <th>75</th>\n",
       "      <td>SVC(break_ties=True, kernel='linear', shrinkin...</td>\n",
       "      <td>C=1.0_kernel=linear_shrinking=False_tol=1e-05_...</td>\n",
       "      <td>0.833333</td>\n",
       "      <td>0.769231</td>\n",
       "      <td>0.833333</td>\n",
       "      <td>0.714286</td>\n",
       "      <td>0.166667</td>\n",
       "    </tr>\n",
       "  </tbody>\n",
       "</table>\n",
       "<p>76 rows × 7 columns</p>\n",
       "</div>"
      ],
      "text/plain": [
       "                                               modelo  \\\n",
       "0         DecisionTreeClassifier(criterion='entropy')   \n",
       "1                            DecisionTreeClassifier()   \n",
       "2   DecisionTreeClassifier(criterion='entropy', ma...   \n",
       "3                DecisionTreeClassifier(max_depth=50)   \n",
       "4   DecisionTreeClassifier(max_depth=50, max_leaf_...   \n",
       "..                                                ...   \n",
       "71  DecisionTreeClassifier(max_depth=50, max_leaf_...   \n",
       "72  DecisionTreeClassifier(max_depth=50, max_leaf_...   \n",
       "73  DecisionTreeClassifier(max_depth=50, max_leaf_...   \n",
       "74  SVC(break_ties=True, kernel='linear', shrinkin...   \n",
       "75  SVC(break_ties=True, kernel='linear', shrinkin...   \n",
       "\n",
       "                                        config_string  accuracy  f1_score  \\\n",
       "0   criterion=entropy_MaxDepth=None_MaxFeatures=No...  0.805556  0.681818   \n",
       "1   criterion=gini_MaxDepth=None_MaxFeatures=None_...  0.791667  0.680851   \n",
       "2   criterion=entropy_MaxDepth=50_MaxFeatures=None...  0.833333  0.739130   \n",
       "3   criterion=gini_MaxDepth=50_MaxFeatures=None_Ma...  0.833333  0.750000   \n",
       "4   criterion=gini_MaxDepth=50_MaxFeatures=None_Ma...  0.861111  0.791667   \n",
       "..                                                ...       ...       ...   \n",
       "71  criterion=gini_MaxDepth=50_MaxFeatures=None_Ma...  0.833333  0.769231   \n",
       "72  criterion=gini_MaxDepth=50_MaxFeatures=None_Ma...  0.791667  0.693878   \n",
       "73  criterion=gini_MaxDepth=50_MaxFeatures=None_Ma...  0.861111  0.791667   \n",
       "74      C=1.0_kernel=linear_shrinking=False_tol=1e-05  0.833333  0.769231   \n",
       "75  C=1.0_kernel=linear_shrinking=False_tol=1e-05_...  0.833333  0.769231   \n",
       "\n",
       "      recall  precision       mse  \n",
       "0   0.625000   0.750000  0.194444  \n",
       "1   0.666667   0.695652  0.208333  \n",
       "2   0.708333   0.772727  0.166667  \n",
       "3   0.750000   0.750000  0.166667  \n",
       "4   0.791667   0.791667  0.138889  \n",
       "..       ...        ...       ...  \n",
       "71  0.833333   0.714286  0.166667  \n",
       "72  0.708333   0.680000  0.208333  \n",
       "73  0.791667   0.791667  0.138889  \n",
       "74  0.833333   0.714286  0.166667  \n",
       "75  0.833333   0.714286  0.166667  \n",
       "\n",
       "[76 rows x 7 columns]"
      ]
     },
     "execution_count": 827,
     "metadata": {},
     "output_type": "execute_result"
    }
   ],
   "source": [
    "bitacora = bitacora.append(svm_model(1.0, 'linear',False,0.00001,True), ignore_index = True)\n",
    "bitacora"
   ]
  },
  {
   "cell_type": "code",
   "execution_count": 829,
   "id": "e52dc27d",
   "metadata": {},
   "outputs": [
    {
     "data": {
      "text/plain": [
       "modelo           SVC(kernel='linear')\n",
       "config_string     C=1.0_kernel=linear\n",
       "accuracy                     0.833333\n",
       "f1_score                     0.769231\n",
       "recall                       0.833333\n",
       "precision                    0.714286\n",
       "mse                          0.166667\n",
       "Name: 8, dtype: object"
      ]
     },
     "execution_count": 829,
     "metadata": {},
     "output_type": "execute_result"
    }
   ],
   "source": [
    "bitacora.loc[8]"
   ]
  },
  {
   "cell_type": "markdown",
   "id": "5baee902",
   "metadata": {},
   "source": [
    "### Naive Bayes"
   ]
  },
  {
   "cell_type": "markdown",
   "id": "d6a85d5a",
   "metadata": {},
   "source": [
    "Para Naive Bayes necesitamos primero unificar las variables X y Y en un solo dataset:"
   ]
  },
  {
   "cell_type": "code",
   "execution_count": 358,
   "id": "e21cbca6",
   "metadata": {},
   "outputs": [],
   "source": [
    "dataset_train = pd.merge(X_train, Y_train, left_index = True, right_index = True)\n",
    "dataset_train = np.array(dataset_train)\n",
    "\n",
    "dataset_val = pd.merge(X_val, Y_val, left_index = True, right_index = True)\n",
    "dataset_val = np.array(dataset_val)"
   ]
  },
  {
   "cell_type": "code",
   "execution_count": 359,
   "id": "72c7fcb7",
   "metadata": {},
   "outputs": [],
   "source": [
    "# Creamos una función que separa los datos por clase ('passenger_survived') y los guarda en un diccionario:\n",
    "def separar_por_clase(dataset):\n",
    "    separated = {}\n",
    "    for i in range(len(dataset)):\n",
    "        vector = dataset[i]\n",
    "        class_value = vector[-1]\n",
    "        if (class_value not in separated):\n",
    "            separated[class_value] = list()\n",
    "        separated[class_value].append(vector)\n",
    "    return separated"
   ]
  },
  {
   "cell_type": "code",
   "execution_count": 360,
   "id": "becb595f",
   "metadata": {},
   "outputs": [],
   "source": [
    "# Calcular la media de una lista de números\n",
    "def mean(numbers):\n",
    "    return sum(numbers)/float(len(numbers))\n",
    " \n",
    "# Calcular la desviación estándar de una list de números\n",
    "def stdev(numbers):\n",
    "    avg = mean(numbers)\n",
    "    variance = sum([(x-avg)**2 for x in numbers]) / float(len(numbers)-1)\n",
    "    return sqrt(variance)\n",
    " \n",
    "# Calcular la media, desviación y conteo para cada columna en el data set\n",
    "def summarize_dataset(dataset):\n",
    "    summaries = [(mean(column), stdev(column), len(column)) for column in zip(*dataset)]\n",
    "    del(summaries[-1])\n",
    "    return summaries"
   ]
  },
  {
   "cell_type": "code",
   "execution_count": 361,
   "id": "93501fb9",
   "metadata": {},
   "outputs": [],
   "source": [
    "# Calcular media, desviación y conteo por cada columna agrupáda por clase\n",
    "def summarize_by_class(dataset):\n",
    "    separated = separar_por_clase(dataset)\n",
    "    summaries = dict()\n",
    "    for class_value, rows in separated.items():\n",
    "        summaries[class_value] = summarize_dataset(rows)\n",
    "    return summaries"
   ]
  },
  {
   "cell_type": "code",
   "execution_count": 372,
   "id": "dc891e90",
   "metadata": {},
   "outputs": [],
   "source": [
    "# Calcular la distribución de probabilidad Gaussiana para x\n",
    "def calculate_probability(x, mean, stdev):\n",
    "    exponent = exp(-((x-mean)**2 / (2 * stdev**2 )))\n",
    "    return (1 / (sqrt(2 * pi) * stdev)) * exponent"
   ]
  },
  {
   "cell_type": "code",
   "execution_count": 363,
   "id": "79c0a158",
   "metadata": {},
   "outputs": [],
   "source": [
    "# Calcular las probabilidades de cada clase según una fila dada\n",
    "def calculate_class_probabilities(summaries, row):\n",
    "    total_rows = sum([summaries[label][0][2] for label in summaries])\n",
    "    probabilities = dict()\n",
    "    for class_value, class_summaries in summaries.items():\n",
    "        probabilities[class_value] = summaries[class_value][0][2]/float(total_rows)\n",
    "        for i in range(len(class_summaries)):\n",
    "            mean, stdev, count = class_summaries[i]\n",
    "            probabilities[class_value] *= calculate_probability(row[i], mean, stdev)\n",
    "    return probabilities"
   ]
  },
  {
   "cell_type": "code",
   "execution_count": 375,
   "id": "ef78035f",
   "metadata": {},
   "outputs": [
    {
     "data": {
      "text/plain": [
       "{1.0: [(28.161943319838056, 13.737418170703485, 247),\n",
       "  (0.5141700404858299, 0.73168811622438, 247),\n",
       "  (0.4979757085020243, 0.7956921307184058, 247),\n",
       "  (50.43901943319837, 62.93807515993663, 247),\n",
       "  (0.7044534412955465, 0.457214530487074, 247),\n",
       "  (0.8502024291497976, 0.357597504348151, 247),\n",
       "  (0.27530364372469635, 0.44757409445511814, 247),\n",
       "  (0.06882591093117409, 0.2536718922533412, 247),\n",
       "  (0.6558704453441295, 0.4760482137835933, 247),\n",
       "  (0.32793522267206476, 0.47041430867172795, 247),\n",
       "  (0.24696356275303644, 0.4321209870480921, 247),\n",
       "  (0.4251012145748988, 0.49536211797567686, 247),\n",
       "  (0.44534412955465585, 0.4980129040879982, 247)],\n",
       " 0.0: [(29.950381679389313, 12.218804765809528, 393),\n",
       "  (0.5648854961832062, 1.3020739146463114, 393),\n",
       "  (0.3231552162849873, 0.7985306779977741, 393),\n",
       "  (22.598906106870228, 34.06358545485886, 393),\n",
       "  (0.13231552162849872, 0.33926538614033896, 393),\n",
       "  (0.9414758269720102, 0.23503117476869603, 393),\n",
       "  (0.13740458015267176, 0.3447128081185982, 393),\n",
       "  (0.089058524173028, 0.2851912697501352, 393),\n",
       "  (0.7735368956743003, 0.4190757070656614, 393),\n",
       "  (0.6666666666666666, 0.4720054190856916, 393),\n",
       "  (0.19083969465648856, 0.39346389152057887, 393),\n",
       "  (0.14249363867684478, 0.3500012982268071, 393),\n",
       "  (0.6743002544529262, 0.4692330710035304, 393)]}"
      ]
     },
     "execution_count": 375,
     "metadata": {},
     "output_type": "execute_result"
    }
   ],
   "source": [
    "# Si ejecutamos un ejemplo nos da las probabilidades para cada clase:\n",
    "summaries = summarize_by_class(dataset_train)\n",
    "summaries"
   ]
  },
  {
   "cell_type": "code",
   "execution_count": 376,
   "id": "838e0c4e",
   "metadata": {},
   "outputs": [
    {
     "name": "stdout",
     "output_type": "stream",
     "text": [
      "{1.0: 4.8219731658846846e-14, 0.0: 1.5298316275326373e-14}\n"
     ]
    }
   ],
   "source": [
    "# ejemplo\n",
    "probabilities = calculate_class_probabilities(summaries, dataset_train[0])\n",
    "print(probabilities)"
   ]
  },
  {
   "cell_type": "code",
   "execution_count": 377,
   "id": "aeca353a",
   "metadata": {},
   "outputs": [],
   "source": [
    "# Predict the class for a given row\n",
    "def predict(summaries, row):\n",
    "    probabilities = calculate_class_probabilities(summaries, row)\n",
    "    best_label, best_prob = None, -1\n",
    "    for class_value, probability in probabilities.items():\n",
    "        if best_label is None or probability > best_prob:\n",
    "            best_prob = probability\n",
    "            best_label = class_value\n",
    "    return best_label"
   ]
  },
  {
   "cell_type": "code",
   "execution_count": 378,
   "id": "c34535b2",
   "metadata": {},
   "outputs": [],
   "source": [
    "# Funcion para predecir:\n",
    "def naive_bayes(train, test):\n",
    "    summarize = summarize_by_class(train)\n",
    "    predictions = list()\n",
    "    for row in test:\n",
    "        output = predict(summarize, row)\n",
    "        predictions.append(output)      \n",
    "    return(predictions)"
   ]
  },
  {
   "cell_type": "code",
   "execution_count": 558,
   "id": "1c2de693",
   "metadata": {},
   "outputs": [],
   "source": [
    "# función para predecir y evaluar el modelo\n",
    "def naive_bayes_model(train, test, Y_test):\n",
    "    Y_hat = naive_bayes(train, test)\n",
    "\n",
    "    #metricas de evaluación\n",
    "    accuracy = metrics.accuracy_score(Y_test, Y_hat) \n",
    "    f1_score = metrics.f1_score(Y_test, Y_hat) \n",
    "    recall = metrics.recall_score(Y_test, Y_hat) \n",
    "    precision = metrics.precision_score(Y_test, Y_hat)\n",
    "    mse = metrics.mean_squared_error(Y_val, Y_hat)\n",
    "    \n",
    "    config_string = \"pdf=gaussian\"\n",
    "    \n",
    "    resultado = {'modelo':naive_bayes, \n",
    "                 'config_string':config_string, \n",
    "                 'accuracy':accuracy, \n",
    "                 'f1_score':f1_score, \n",
    "                 'recall':recall, \n",
    "                 'precision':precision,\n",
    "                 'mse':mse}\n",
    "    \n",
    "    return resultado"
   ]
  },
  {
   "cell_type": "code",
   "execution_count": 656,
   "id": "01db8c9b",
   "metadata": {},
   "outputs": [
    {
     "data": {
      "text/html": [
       "<div>\n",
       "<style scoped>\n",
       "    .dataframe tbody tr th:only-of-type {\n",
       "        vertical-align: middle;\n",
       "    }\n",
       "\n",
       "    .dataframe tbody tr th {\n",
       "        vertical-align: top;\n",
       "    }\n",
       "\n",
       "    .dataframe thead th {\n",
       "        text-align: right;\n",
       "    }\n",
       "</style>\n",
       "<table border=\"1\" class=\"dataframe\">\n",
       "  <thead>\n",
       "    <tr style=\"text-align: right;\">\n",
       "      <th></th>\n",
       "      <th>modelo</th>\n",
       "      <th>config_string</th>\n",
       "      <th>accuracy</th>\n",
       "      <th>f1_score</th>\n",
       "      <th>recall</th>\n",
       "      <th>precision</th>\n",
       "      <th>mse</th>\n",
       "    </tr>\n",
       "  </thead>\n",
       "  <tbody>\n",
       "    <tr>\n",
       "      <th>0</th>\n",
       "      <td>DecisionTreeClassifier(criterion='entropy')</td>\n",
       "      <td>criterion=entropy_MaxDepth=None_MaxFeatures=No...</td>\n",
       "      <td>0.805556</td>\n",
       "      <td>0.681818</td>\n",
       "      <td>0.625000</td>\n",
       "      <td>0.750000</td>\n",
       "      <td>0.194444</td>\n",
       "    </tr>\n",
       "    <tr>\n",
       "      <th>1</th>\n",
       "      <td>DecisionTreeClassifier()</td>\n",
       "      <td>criterion=gini_MaxDepth=None_MaxFeatures=None_...</td>\n",
       "      <td>0.791667</td>\n",
       "      <td>0.680851</td>\n",
       "      <td>0.666667</td>\n",
       "      <td>0.695652</td>\n",
       "      <td>0.208333</td>\n",
       "    </tr>\n",
       "    <tr>\n",
       "      <th>2</th>\n",
       "      <td>DecisionTreeClassifier(criterion='entropy', ma...</td>\n",
       "      <td>criterion=entropy_MaxDepth=50_MaxFeatures=None...</td>\n",
       "      <td>0.833333</td>\n",
       "      <td>0.739130</td>\n",
       "      <td>0.708333</td>\n",
       "      <td>0.772727</td>\n",
       "      <td>0.166667</td>\n",
       "    </tr>\n",
       "    <tr>\n",
       "      <th>3</th>\n",
       "      <td>DecisionTreeClassifier(max_depth=50)</td>\n",
       "      <td>criterion=gini_MaxDepth=50_MaxFeatures=None_Ma...</td>\n",
       "      <td>0.833333</td>\n",
       "      <td>0.750000</td>\n",
       "      <td>0.750000</td>\n",
       "      <td>0.750000</td>\n",
       "      <td>0.166667</td>\n",
       "    </tr>\n",
       "    <tr>\n",
       "      <th>4</th>\n",
       "      <td>DecisionTreeClassifier(max_depth=50, max_leaf_...</td>\n",
       "      <td>criterion=gini_MaxDepth=50_MaxFeatures=None_Ma...</td>\n",
       "      <td>0.861111</td>\n",
       "      <td>0.791667</td>\n",
       "      <td>0.791667</td>\n",
       "      <td>0.791667</td>\n",
       "      <td>0.138889</td>\n",
       "    </tr>\n",
       "    <tr>\n",
       "      <th>5</th>\n",
       "      <td>DecisionTreeClassifier(criterion='entropy', ma...</td>\n",
       "      <td>criterion=entropy_MaxDepth=50_MaxFeatures=None...</td>\n",
       "      <td>0.861111</td>\n",
       "      <td>0.791667</td>\n",
       "      <td>0.791667</td>\n",
       "      <td>0.791667</td>\n",
       "      <td>0.138889</td>\n",
       "    </tr>\n",
       "    <tr>\n",
       "      <th>6</th>\n",
       "      <td>DecisionTreeClassifier(criterion='entropy', ma...</td>\n",
       "      <td>criterion=entropy_MaxDepth=50_MaxFeatures=None...</td>\n",
       "      <td>0.833333</td>\n",
       "      <td>0.769231</td>\n",
       "      <td>0.833333</td>\n",
       "      <td>0.714286</td>\n",
       "      <td>0.166667</td>\n",
       "    </tr>\n",
       "    <tr>\n",
       "      <th>7</th>\n",
       "      <td>SVC()</td>\n",
       "      <td>C=1.0_kernel=rbf</td>\n",
       "      <td>0.736111</td>\n",
       "      <td>0.457143</td>\n",
       "      <td>0.333333</td>\n",
       "      <td>0.727273</td>\n",
       "      <td>0.263889</td>\n",
       "    </tr>\n",
       "    <tr>\n",
       "      <th>8</th>\n",
       "      <td>SVC(kernel='linear')</td>\n",
       "      <td>C=1.0_kernel=linear</td>\n",
       "      <td>0.833333</td>\n",
       "      <td>0.769231</td>\n",
       "      <td>0.833333</td>\n",
       "      <td>0.714286</td>\n",
       "      <td>0.166667</td>\n",
       "    </tr>\n",
       "    <tr>\n",
       "      <th>9</th>\n",
       "      <td>SVC(C=0.5, kernel='linear')</td>\n",
       "      <td>C=0.5_kernel=linear</td>\n",
       "      <td>0.805556</td>\n",
       "      <td>0.720000</td>\n",
       "      <td>0.750000</td>\n",
       "      <td>0.692308</td>\n",
       "      <td>0.194444</td>\n",
       "    </tr>\n",
       "    <tr>\n",
       "      <th>10</th>\n",
       "      <td>SVC(C=1.5, kernel='linear')</td>\n",
       "      <td>C=1.5_kernel=linear</td>\n",
       "      <td>0.833333</td>\n",
       "      <td>0.769231</td>\n",
       "      <td>0.833333</td>\n",
       "      <td>0.714286</td>\n",
       "      <td>0.166667</td>\n",
       "    </tr>\n",
       "    <tr>\n",
       "      <th>11</th>\n",
       "      <td>SVC(kernel='poly')</td>\n",
       "      <td>C=1.0_kernel=poly</td>\n",
       "      <td>0.666667</td>\n",
       "      <td>0.200000</td>\n",
       "      <td>0.125000</td>\n",
       "      <td>0.500000</td>\n",
       "      <td>0.333333</td>\n",
       "    </tr>\n",
       "    <tr>\n",
       "      <th>12</th>\n",
       "      <td>SVC(kernel='sigmoid')</td>\n",
       "      <td>C=1.0_kernel=sigmoid</td>\n",
       "      <td>0.708333</td>\n",
       "      <td>0.432432</td>\n",
       "      <td>0.333333</td>\n",
       "      <td>0.615385</td>\n",
       "      <td>0.291667</td>\n",
       "    </tr>\n",
       "    <tr>\n",
       "      <th>13</th>\n",
       "      <td>&lt;function naive_bayes at 0x000001B0FCEA95E0&gt;</td>\n",
       "      <td>pdf=gaussian</td>\n",
       "      <td>0.847222</td>\n",
       "      <td>0.775510</td>\n",
       "      <td>0.791667</td>\n",
       "      <td>0.760000</td>\n",
       "      <td>0.152778</td>\n",
       "    </tr>\n",
       "  </tbody>\n",
       "</table>\n",
       "</div>"
      ],
      "text/plain": [
       "                                               modelo  \\\n",
       "0         DecisionTreeClassifier(criterion='entropy')   \n",
       "1                            DecisionTreeClassifier()   \n",
       "2   DecisionTreeClassifier(criterion='entropy', ma...   \n",
       "3                DecisionTreeClassifier(max_depth=50)   \n",
       "4   DecisionTreeClassifier(max_depth=50, max_leaf_...   \n",
       "5   DecisionTreeClassifier(criterion='entropy', ma...   \n",
       "6   DecisionTreeClassifier(criterion='entropy', ma...   \n",
       "7                                               SVC()   \n",
       "8                                SVC(kernel='linear')   \n",
       "9                         SVC(C=0.5, kernel='linear')   \n",
       "10                        SVC(C=1.5, kernel='linear')   \n",
       "11                                 SVC(kernel='poly')   \n",
       "12                              SVC(kernel='sigmoid')   \n",
       "13       <function naive_bayes at 0x000001B0FCEA95E0>   \n",
       "\n",
       "                                        config_string  accuracy  f1_score  \\\n",
       "0   criterion=entropy_MaxDepth=None_MaxFeatures=No...  0.805556  0.681818   \n",
       "1   criterion=gini_MaxDepth=None_MaxFeatures=None_...  0.791667  0.680851   \n",
       "2   criterion=entropy_MaxDepth=50_MaxFeatures=None...  0.833333  0.739130   \n",
       "3   criterion=gini_MaxDepth=50_MaxFeatures=None_Ma...  0.833333  0.750000   \n",
       "4   criterion=gini_MaxDepth=50_MaxFeatures=None_Ma...  0.861111  0.791667   \n",
       "5   criterion=entropy_MaxDepth=50_MaxFeatures=None...  0.861111  0.791667   \n",
       "6   criterion=entropy_MaxDepth=50_MaxFeatures=None...  0.833333  0.769231   \n",
       "7                                    C=1.0_kernel=rbf  0.736111  0.457143   \n",
       "8                                 C=1.0_kernel=linear  0.833333  0.769231   \n",
       "9                                 C=0.5_kernel=linear  0.805556  0.720000   \n",
       "10                                C=1.5_kernel=linear  0.833333  0.769231   \n",
       "11                                  C=1.0_kernel=poly  0.666667  0.200000   \n",
       "12                               C=1.0_kernel=sigmoid  0.708333  0.432432   \n",
       "13                                       pdf=gaussian  0.847222  0.775510   \n",
       "\n",
       "      recall  precision       mse  \n",
       "0   0.625000   0.750000  0.194444  \n",
       "1   0.666667   0.695652  0.208333  \n",
       "2   0.708333   0.772727  0.166667  \n",
       "3   0.750000   0.750000  0.166667  \n",
       "4   0.791667   0.791667  0.138889  \n",
       "5   0.791667   0.791667  0.138889  \n",
       "6   0.833333   0.714286  0.166667  \n",
       "7   0.333333   0.727273  0.263889  \n",
       "8   0.833333   0.714286  0.166667  \n",
       "9   0.750000   0.692308  0.194444  \n",
       "10  0.833333   0.714286  0.166667  \n",
       "11  0.125000   0.500000  0.333333  \n",
       "12  0.333333   0.615385  0.291667  \n",
       "13  0.791667   0.760000  0.152778  "
      ]
     },
     "execution_count": 656,
     "metadata": {},
     "output_type": "execute_result"
    }
   ],
   "source": [
    "bitacora = bitacora.append(naive_bayes_model(dataset_train, dataset_val, Y_val), ignore_index = True)\n",
    "bitacora"
   ]
  },
  {
   "cell_type": "markdown",
   "id": "949892d7",
   "metadata": {},
   "source": [
    "### Regresión Logística"
   ]
  },
  {
   "cell_type": "markdown",
   "id": "85dcb9ed",
   "metadata": {},
   "source": [
    "El modelo de regresión logística lo definimos en TensorFlow por lo que primero requerimos definir el grafo:"
   ]
  },
  {
   "cell_type": "code",
   "execution_count": 609,
   "id": "22467c41",
   "metadata": {
    "scrolled": false
   },
   "outputs": [],
   "source": [
    "tf.reset_default_graph()\n",
    "grafo = tf.Graph()\n",
    "with grafo.as_default():\n",
    "    \n",
    "    # tensores de entrada\n",
    "    tensor_x = tf.placeholder(shape=[None, 13], dtype = tf.float32, name = \"Features\")\n",
    "    tensor_y = tf.placeholder(shape=[None, 1], dtype = tf.float32, name = \"Passenger_Survived\")\n",
    "    \n",
    "    # tensores de parámetros\n",
    "    weight = tf.get_variable(\"peso\",dtype=tf.float32,shape=[13,1],initializer=tf.zeros_initializer())\n",
    "    bias = tf.get_variable(\"sesgo\",dtype=tf.float32,shape=[1],initializer=tf.zeros_initializer())\n",
    "    \n",
    "    with tf.name_scope(\"Hiper_Parametros\"):\n",
    "        # hiper-parámetros\n",
    "        learning_rate = tf.placeholder(\"float\", name = \"Learning_Rate\")\n",
    "        epochs = tf.placeholder(tf.int32, name = \"Epochs\")\n",
    "        batch_size = tf.placeholder(tf.int32, name = \"Batch_Size\")\n",
    "        lam = tf.placeholder(\"float\", name = \"Lambda\")\n",
    "\n",
    "    with tf.name_scope(\"Hipotesis\"):\n",
    "        # modelo lineal\n",
    "        z = tf.add(tf.matmul(tensor_x, weight), bias)\n",
    "        # prediccion\n",
    "        Y_hat = tf.math.sigmoid(z)\n",
    "    \n",
    "    with tf.name_scope(\"Costo\"):\n",
    "        # función de costo\n",
    "        regL1 = lam * tf.reduce_sum(tf.math.abs(weight))\n",
    "        costo = tf.reduce_mean(tf.nn.sigmoid_cross_entropy_with_logits(logits = z, labels = tensor_y)) + regL1\n",
    "        costo_summary = tf.summary.scalar(\"entropy\", costo)\n",
    "    \n",
    "    with tf.name_scope(\"Gradient_Descent_Update\"):\n",
    "        # gradient descent\n",
    "        gradiente = tf.gradients(costo, [weight, bias])\n",
    "        actualizacion_weight = tf.assign(weight, weight - learning_rate*gradiente[0])\n",
    "        actualizacion_bias = tf.assign(bias, bias - learning_rate*gradiente[1])\n",
    "        actualizacion_parametros = tf.group(actualizacion_weight,actualizacion_bias)\n",
    "        \n",
    "    with tf.name_scope(\"Metricas_evaluacion\"):\n",
    "        # Acuracy del modelo manual\n",
    "        \"\"\" #manual:\n",
    "        correcto = tf.equal(tf.argmax(z,1), tf.argmax(tensor_y,1))\n",
    "        accuracy = tf.reduce_mean(tf.cast(correcto, tf.float32))\n",
    "        accuracy_summary = tf.summary.scalar('Accuracy', accuracy)\n",
    "        \"\"\"\n",
    "        acc, acc_op = tf.metrics.accuracy(labels=tensor_y, \n",
    "                                          predictions=Y_hat)\n",
    "        accuracy_summary = tf.summary.scalar('Accuracy', acc)\n",
    "        \n",
    "        # Recall\n",
    "        recall, recall_op = tf.metrics.recall(labels=tf.argmax(tensor_y, 1),\n",
    "                                              predictions=tf.argmax(Y_hat,1))\n",
    "        recall_summary = tf.summary.scalar('Recall', recall)\n",
    "        \n",
    "        # Precision\n",
    "        precision, precision_op = tf.metrics.precision(labels=tf.argmax(tensor_y, 1),\n",
    "                                                      predictions=tf.argmax(Y_hat,1))\n",
    "        precision_summary = tf.summary.scalar('Precision', precision)\n",
    "    \n",
    "        # Error\n",
    "        mse, mse_op = tf.metrics.mean_squared_error(labels=tf.argmax(tensor_y, 1),\n",
    "                                            predictions=tf.argmax(Y_hat,1))\n",
    "        mse_summary = tf.summary.scalar('MSE', mse)\n",
    "        \n",
    "        # F1-Score\n",
    "        f1_score = tf.math.multiply(2.0,tf.divide(\n",
    "            tf.math.multiply(precision_op, recall_op),\n",
    "            tf.add(precision_op, recall_op)))\n",
    "\n",
    "        f1_score_summary = tf.summary.scalar('f1-Score', f1_score)\n",
    "    \n",
    "    summaries = tf.summary.merge_all()\n",
    "    \n",
    "    init = tf.global_variables_initializer()\n",
    "    init2 = tf.local_variables_initializer()"
   ]
  },
  {
   "cell_type": "markdown",
   "id": "d9dbcc82",
   "metadata": {},
   "source": [
    "Grafo en TensorBoard:\n",
    "<img src=\"https://github.com/eddson90/tareas_data_science/blob/main/Grafo_ProyectoFinal_SL1_RegLog.PNG?raw=true\" alt=\"alt text\" width=\"800\"/>\n",
    "\n",
    "**Ahora creamos la función de entrenamiento:**"
   ]
  },
  {
   "cell_type": "code",
   "execution_count": 612,
   "id": "5897f54c",
   "metadata": {},
   "outputs": [],
   "source": [
    "def reg_log_train(X_train, Y_train, lr, epoch, b_size, reg_param):\n",
    "    tf.reset_default_graph()\n",
    "    total_iteraciones = int(len(X_train)/b_size)\n",
    "    \n",
    "    with tf.Session(graph = grafo) as sess:\n",
    "        timestamp = time.strftime('%Y%m%d_%H%M%S', time.localtime(time.time()))\n",
    "        writer = tf.summary.FileWriter('./TB_log_dir/proyecto_final/'\n",
    "                                       +str(timestamp)\n",
    "                                       +'_lr='+str(lr)\n",
    "                                       +'_b_size='+str(b_size)\n",
    "                                       +'_epoch='+str(epoch),grafo)\n",
    "        sess.run(init)\n",
    "        sess.run(init2)\n",
    "    \n",
    "        for e in range(epoch):\n",
    "            for i in range(total_iteraciones):\n",
    "                muestra_inicio = i*b_size\n",
    "                muestra_fin = muestra_inicio + b_size\n",
    "                x_mb = X_train[muestra_inicio:muestra_fin]\n",
    "                y_mb = Y_train[muestra_inicio:muestra_fin]\n",
    "                \n",
    "                feed_dict = {tensor_x:x_mb, tensor_y:y_mb, learning_rate:lr, epochs:epoch, batch_size:b_size, lam:reg_param}\n",
    "                act_p, w, b, summ = sess.run([actualizacion_parametros, weight, bias, summaries], feed_dict = feed_dict)\n",
    "                writer.add_summary(summ, e)\n",
    "                \n",
    "            feed_dict = {tensor_x:X_train, tensor_y:Y_train}\n",
    "            prediccion = sess.run(Y_hat, feed_dict = feed_dict)\n",
    "            \n",
    "        final_weight, final_bias = sess.run([weight, bias], feed_dict = feed_dict)\n",
    "        \n",
    "        writer.close()\n",
    "        \n",
    "    return lr, b_size, reg_param, final_weight, final_bias"
   ]
  },
  {
   "cell_type": "markdown",
   "id": "0b57f79f",
   "metadata": {},
   "source": [
    "Monitoreo de métricas en Tensorboard:\n",
    "<img src=\"https://github.com/eddson90/tareas_data_science/blob/main/cross_entropy_SL1_proyecto_final.PNG?raw=true\" alt=\"alt text\" width=\"400\"/>\n",
    "\n",
    "Métricas de performance:\n",
    "<img src=\"https://github.com/eddson90/tareas_data_science/blob/main/metricas_sl1_proyecto_final_tf.PNG?raw=true\" alt=\"alt text\" width=\"600\"/>"
   ]
  },
  {
   "cell_type": "code",
   "execution_count": 933,
   "id": "1995f5a7",
   "metadata": {},
   "outputs": [],
   "source": [
    "X_train_norm=(X_train-X_train.mean())/X_train.std()\n",
    "Y_train_norm = (Y_train-Y_train.mean())/Y_train.std()\n",
    "\n",
    "X_val_norm=(X_val-X_val.mean())/X_val.std()\n",
    "Y_val_norm = (Y_val-Y_val.mean())/Y_val.std()"
   ]
  },
  {
   "cell_type": "code",
   "execution_count": 953,
   "id": "b9e9e633",
   "metadata": {},
   "outputs": [],
   "source": [
    "lr, b_size, reg_param, w, b = reg_log_train(X_train, Y_train, 0.001, 2000, 128, 0.001)"
   ]
  },
  {
   "cell_type": "code",
   "execution_count": 625,
   "id": "e7a78d71",
   "metadata": {},
   "outputs": [],
   "source": [
    "def regLog_predict(X_test, frontera):\n",
    "    z = np.matmul(np.array(X_test),w) + b\n",
    "    Y_hat = 1/(1 + np.exp(-z))\n",
    "    Y_hat[Y_hat<frontera]=0\n",
    "    Y_hat[Y_hat>=frontera]=1\n",
    "    Y_hat = pd.DataFrame(Y_hat)\n",
    "  \n",
    "    return Y_hat\n",
    "\n",
    "def reg_log_model(X_test, Y_test, frontera):\n",
    "    \n",
    "    Y_hat = regLog_predict(X_test, frontera)\n",
    "    \n",
    "    accuracy = metrics.accuracy_score(Y_test, Y_hat) \n",
    "    f1_score = metrics.f1_score(Y_test, Y_hat) \n",
    "    recall = metrics.recall_score(Y_test, Y_hat) \n",
    "    precision = metrics.precision_score(Y_test, Y_hat)\n",
    "    mse = metrics.mean_squared_error(Y_val, Y_hat)\n",
    "    \n",
    "    config_string = \"lr=\"+str(lr)+\"_batchsize=\"+str(b_size)+\"_lambda=\"+str(reg_param)+\"_frontera=\"+str(frontera)\n",
    "    \n",
    "    resultado = {'modelo':regLog_predict, \n",
    "                 'config_string':config_string, \n",
    "                 'accuracy':accuracy, \n",
    "                 'f1_score':f1_score, \n",
    "                 'recall':recall, \n",
    "                 'precision':precision,\n",
    "                 'mse':mse}\n",
    "    \n",
    "    return resultado"
   ]
  },
  {
   "cell_type": "code",
   "execution_count": 961,
   "id": "9a607eb6",
   "metadata": {},
   "outputs": [
    {
     "data": {
      "text/html": [
       "<div>\n",
       "<style scoped>\n",
       "    .dataframe tbody tr th:only-of-type {\n",
       "        vertical-align: middle;\n",
       "    }\n",
       "\n",
       "    .dataframe tbody tr th {\n",
       "        vertical-align: top;\n",
       "    }\n",
       "\n",
       "    .dataframe thead th {\n",
       "        text-align: right;\n",
       "    }\n",
       "</style>\n",
       "<table border=\"1\" class=\"dataframe\">\n",
       "  <thead>\n",
       "    <tr style=\"text-align: right;\">\n",
       "      <th></th>\n",
       "      <th>modelo</th>\n",
       "      <th>config_string</th>\n",
       "      <th>accuracy</th>\n",
       "      <th>f1_score</th>\n",
       "      <th>recall</th>\n",
       "      <th>precision</th>\n",
       "      <th>mse</th>\n",
       "    </tr>\n",
       "  </thead>\n",
       "  <tbody>\n",
       "    <tr>\n",
       "      <th>0</th>\n",
       "      <td>DecisionTreeClassifier(criterion='entropy')</td>\n",
       "      <td>criterion=entropy_MaxDepth=None_MaxFeatures=No...</td>\n",
       "      <td>0.805556</td>\n",
       "      <td>0.681818</td>\n",
       "      <td>0.625000</td>\n",
       "      <td>0.750000</td>\n",
       "      <td>0.194444</td>\n",
       "    </tr>\n",
       "    <tr>\n",
       "      <th>1</th>\n",
       "      <td>DecisionTreeClassifier()</td>\n",
       "      <td>criterion=gini_MaxDepth=None_MaxFeatures=None_...</td>\n",
       "      <td>0.791667</td>\n",
       "      <td>0.680851</td>\n",
       "      <td>0.666667</td>\n",
       "      <td>0.695652</td>\n",
       "      <td>0.208333</td>\n",
       "    </tr>\n",
       "    <tr>\n",
       "      <th>2</th>\n",
       "      <td>DecisionTreeClassifier(criterion='entropy', ma...</td>\n",
       "      <td>criterion=entropy_MaxDepth=50_MaxFeatures=None...</td>\n",
       "      <td>0.833333</td>\n",
       "      <td>0.739130</td>\n",
       "      <td>0.708333</td>\n",
       "      <td>0.772727</td>\n",
       "      <td>0.166667</td>\n",
       "    </tr>\n",
       "    <tr>\n",
       "      <th>3</th>\n",
       "      <td>DecisionTreeClassifier(max_depth=50)</td>\n",
       "      <td>criterion=gini_MaxDepth=50_MaxFeatures=None_Ma...</td>\n",
       "      <td>0.833333</td>\n",
       "      <td>0.750000</td>\n",
       "      <td>0.750000</td>\n",
       "      <td>0.750000</td>\n",
       "      <td>0.166667</td>\n",
       "    </tr>\n",
       "    <tr>\n",
       "      <th>4</th>\n",
       "      <td>DecisionTreeClassifier(max_depth=50, max_leaf_...</td>\n",
       "      <td>criterion=gini_MaxDepth=50_MaxFeatures=None_Ma...</td>\n",
       "      <td>0.861111</td>\n",
       "      <td>0.791667</td>\n",
       "      <td>0.791667</td>\n",
       "      <td>0.791667</td>\n",
       "      <td>0.138889</td>\n",
       "    </tr>\n",
       "    <tr>\n",
       "      <th>...</th>\n",
       "      <td>...</td>\n",
       "      <td>...</td>\n",
       "      <td>...</td>\n",
       "      <td>...</td>\n",
       "      <td>...</td>\n",
       "      <td>...</td>\n",
       "      <td>...</td>\n",
       "    </tr>\n",
       "    <tr>\n",
       "      <th>152</th>\n",
       "      <td>&lt;function regLog_predict at 0x000001B0FDFADC10&gt;</td>\n",
       "      <td>lr=0.001_batchsize=128_lambda=0.001_frontera=0.7</td>\n",
       "      <td>0.694444</td>\n",
       "      <td>0.214286</td>\n",
       "      <td>0.125000</td>\n",
       "      <td>0.750000</td>\n",
       "      <td>0.305556</td>\n",
       "    </tr>\n",
       "    <tr>\n",
       "      <th>153</th>\n",
       "      <td>&lt;function regLog_predict at 0x000001B0FDFADC10&gt;</td>\n",
       "      <td>lr=0.001_batchsize=128_lambda=0.001_frontera=0.3</td>\n",
       "      <td>0.777778</td>\n",
       "      <td>0.733333</td>\n",
       "      <td>0.916667</td>\n",
       "      <td>0.611111</td>\n",
       "      <td>0.222222</td>\n",
       "    </tr>\n",
       "    <tr>\n",
       "      <th>154</th>\n",
       "      <td>&lt;function regLog_predict at 0x000001B0FDFADC10&gt;</td>\n",
       "      <td>lr=0.001_batchsize=128_lambda=0.001_frontera=0.2</td>\n",
       "      <td>0.430556</td>\n",
       "      <td>0.539326</td>\n",
       "      <td>1.000000</td>\n",
       "      <td>0.369231</td>\n",
       "      <td>0.569444</td>\n",
       "    </tr>\n",
       "    <tr>\n",
       "      <th>155</th>\n",
       "      <td>&lt;function regLog_predict at 0x000001B0FDFADC10&gt;</td>\n",
       "      <td>lr=0.001_batchsize=128_lambda=0.001_frontera=0.45</td>\n",
       "      <td>0.847222</td>\n",
       "      <td>0.765957</td>\n",
       "      <td>0.750000</td>\n",
       "      <td>0.782609</td>\n",
       "      <td>0.152778</td>\n",
       "    </tr>\n",
       "    <tr>\n",
       "      <th>156</th>\n",
       "      <td>&lt;function regLog_predict at 0x000001B0FDFADC10&gt;</td>\n",
       "      <td>lr=0.001_batchsize=128_lambda=0.001_frontera=0.47</td>\n",
       "      <td>0.861111</td>\n",
       "      <td>0.772727</td>\n",
       "      <td>0.708333</td>\n",
       "      <td>0.850000</td>\n",
       "      <td>0.138889</td>\n",
       "    </tr>\n",
       "  </tbody>\n",
       "</table>\n",
       "<p>157 rows × 7 columns</p>\n",
       "</div>"
      ],
      "text/plain": [
       "                                                modelo  \\\n",
       "0          DecisionTreeClassifier(criterion='entropy')   \n",
       "1                             DecisionTreeClassifier()   \n",
       "2    DecisionTreeClassifier(criterion='entropy', ma...   \n",
       "3                 DecisionTreeClassifier(max_depth=50)   \n",
       "4    DecisionTreeClassifier(max_depth=50, max_leaf_...   \n",
       "..                                                 ...   \n",
       "152    <function regLog_predict at 0x000001B0FDFADC10>   \n",
       "153    <function regLog_predict at 0x000001B0FDFADC10>   \n",
       "154    <function regLog_predict at 0x000001B0FDFADC10>   \n",
       "155    <function regLog_predict at 0x000001B0FDFADC10>   \n",
       "156    <function regLog_predict at 0x000001B0FDFADC10>   \n",
       "\n",
       "                                         config_string  accuracy  f1_score  \\\n",
       "0    criterion=entropy_MaxDepth=None_MaxFeatures=No...  0.805556  0.681818   \n",
       "1    criterion=gini_MaxDepth=None_MaxFeatures=None_...  0.791667  0.680851   \n",
       "2    criterion=entropy_MaxDepth=50_MaxFeatures=None...  0.833333  0.739130   \n",
       "3    criterion=gini_MaxDepth=50_MaxFeatures=None_Ma...  0.833333  0.750000   \n",
       "4    criterion=gini_MaxDepth=50_MaxFeatures=None_Ma...  0.861111  0.791667   \n",
       "..                                                 ...       ...       ...   \n",
       "152   lr=0.001_batchsize=128_lambda=0.001_frontera=0.7  0.694444  0.214286   \n",
       "153   lr=0.001_batchsize=128_lambda=0.001_frontera=0.3  0.777778  0.733333   \n",
       "154   lr=0.001_batchsize=128_lambda=0.001_frontera=0.2  0.430556  0.539326   \n",
       "155  lr=0.001_batchsize=128_lambda=0.001_frontera=0.45  0.847222  0.765957   \n",
       "156  lr=0.001_batchsize=128_lambda=0.001_frontera=0.47  0.861111  0.772727   \n",
       "\n",
       "       recall  precision       mse  \n",
       "0    0.625000   0.750000  0.194444  \n",
       "1    0.666667   0.695652  0.208333  \n",
       "2    0.708333   0.772727  0.166667  \n",
       "3    0.750000   0.750000  0.166667  \n",
       "4    0.791667   0.791667  0.138889  \n",
       "..        ...        ...       ...  \n",
       "152  0.125000   0.750000  0.305556  \n",
       "153  0.916667   0.611111  0.222222  \n",
       "154  1.000000   0.369231  0.569444  \n",
       "155  0.750000   0.782609  0.152778  \n",
       "156  0.708333   0.850000  0.138889  \n",
       "\n",
       "[157 rows x 7 columns]"
      ]
     },
     "execution_count": 961,
     "metadata": {},
     "output_type": "execute_result"
    }
   ],
   "source": [
    "bitacora = bitacora.append(reg_log_model(X_val,Y_val,0.47), ignore_index = True)\n",
    "bitacora"
   ]
  },
  {
   "cell_type": "code",
   "execution_count": 832,
   "id": "45cc5ac5",
   "metadata": {},
   "outputs": [
    {
     "data": {
      "text/plain": [
       "modelo           <function regLog_predict at 0x000001B0FDFADC10>\n",
       "config_string    lr=0.001_batchsize=8_lambda=0.001_frontera=0.68\n",
       "accuracy                                                0.833333\n",
       "f1_score                                                     0.7\n",
       "recall                                                  0.583333\n",
       "precision                                                  0.875\n",
       "mse                                                     0.166667\n",
       "Name: 54, dtype: object"
      ]
     },
     "execution_count": 832,
     "metadata": {},
     "output_type": "execute_result"
    }
   ],
   "source": [
    "bitacora.loc[54]"
   ]
  },
  {
   "cell_type": "code",
   "execution_count": 1005,
   "id": "66a47ced",
   "metadata": {},
   "outputs": [],
   "source": [
    "#Exportar todos los experimentos a un csv\n",
    "bitacora.to_csv(r'C:\\Users\\eddso\\OneDrive\\Maestría\\Tareas Git Hub\\tareas_data_science\\bitacora.csv')\n",
    "bitacora.to_csv(r'C:\\Users\\eddso\\OneDrive\\Maestría\\Tareas Git Hub\\tareas_data_science\\bitacora.tsv', sep='\\t')"
   ]
  },
  {
   "cell_type": "code",
   "execution_count": 1023,
   "id": "d3614073",
   "metadata": {},
   "outputs": [
    {
     "data": {
      "text/plain": [
       "array([38.    ,  1.    ,  5.    , 31.3875,  1.    ,  1.    ,  0.    ,\n",
       "        0.    ,  1.    ,  1.    ,  0.    ,  0.    ,  0.    ,  1.    ])"
      ]
     },
     "execution_count": 1023,
     "metadata": {},
     "output_type": "execute_result"
    }
   ],
   "source": [
    "dataset_train[0]"
   ]
  },
  {
   "cell_type": "markdown",
   "id": "ce82ec84",
   "metadata": {},
   "source": [
    "### Selección de los mejores modelos\n",
    "\n",
    "Los mejores modelos de cada tipo de algoritmo corresponden a las filas 121 (árbol de decisión), 8 (SVM), 13 (Naive Bayes) y 156 (regresión logística). "
   ]
  },
  {
   "cell_type": "code",
   "execution_count": 982,
   "id": "f6d081c6",
   "metadata": {},
   "outputs": [],
   "source": [
    "DecisionTree = bitacora.loc[121][0]\n",
    "SVM = bitacora.loc[8][0]\n",
    "NaiveBayes = bitacora.loc[13][0]\n",
    "RegLog = bitacora.loc[156][0]"
   ]
  },
  {
   "cell_type": "markdown",
   "id": "f2441d6f",
   "metadata": {},
   "source": [
    "### Prueba/Evaluación Final"
   ]
  },
  {
   "cell_type": "markdown",
   "id": "977f3d5c",
   "metadata": {},
   "source": [
    "Dado el conjunto de observaciones X del conjunto de pruebas y los 4 modelos elegidos, predecimos sobre estas observaciones con cada modelo. "
   ]
  },
  {
   "cell_type": "code",
   "execution_count": 983,
   "id": "6b7f31ad",
   "metadata": {},
   "outputs": [],
   "source": [
    "predictionTree = DecisionTree.predict(X_test).reshape(-1,1)"
   ]
  },
  {
   "cell_type": "code",
   "execution_count": 707,
   "id": "bd107348",
   "metadata": {},
   "outputs": [],
   "source": [
    "predictionSVM = SVM.predict(X_test).reshape(-1,1)"
   ]
  },
  {
   "cell_type": "code",
   "execution_count": 692,
   "id": "dd19dd4a",
   "metadata": {},
   "outputs": [],
   "source": [
    "# Para Naive Bayes recordemos que necesitamos el dataset \"consolidado\"\n",
    "dataset_test = pd.merge(X_test, X_test, left_index = True, right_index = True)\n",
    "dataset_test = np.array(dataset_test)"
   ]
  },
  {
   "cell_type": "code",
   "execution_count": 708,
   "id": "424d08f7",
   "metadata": {},
   "outputs": [],
   "source": [
    "predictionNB = np.array(NaiveBayes(dataset_train, dataset_test)).reshape(-1,1)"
   ]
  },
  {
   "cell_type": "code",
   "execution_count": 984,
   "id": "ca75f8bd",
   "metadata": {},
   "outputs": [],
   "source": [
    "predictionRegLog = np.array(RegLog(X_test, 0.68))"
   ]
  },
  {
   "cell_type": "code",
   "execution_count": 985,
   "id": "e46be4b3",
   "metadata": {},
   "outputs": [],
   "source": [
    "predicciones = np.hstack((predictionTree, predictionSVM, predictionNB, predictionRegLog))"
   ]
  },
  {
   "cell_type": "code",
   "execution_count": 986,
   "id": "cb8ce249",
   "metadata": {},
   "outputs": [
    {
     "data": {
      "text/html": [
       "<div>\n",
       "<style scoped>\n",
       "    .dataframe tbody tr th:only-of-type {\n",
       "        vertical-align: middle;\n",
       "    }\n",
       "\n",
       "    .dataframe tbody tr th {\n",
       "        vertical-align: top;\n",
       "    }\n",
       "\n",
       "    .dataframe thead th {\n",
       "        text-align: right;\n",
       "    }\n",
       "</style>\n",
       "<table border=\"1\" class=\"dataframe\">\n",
       "  <thead>\n",
       "    <tr style=\"text-align: right;\">\n",
       "      <th></th>\n",
       "      <th>DecisionTree</th>\n",
       "      <th>SVM</th>\n",
       "      <th>NaiveBayes</th>\n",
       "      <th>RegLog</th>\n",
       "    </tr>\n",
       "  </thead>\n",
       "  <tbody>\n",
       "    <tr>\n",
       "      <th>0</th>\n",
       "      <td>0.0</td>\n",
       "      <td>0.0</td>\n",
       "      <td>0.0</td>\n",
       "      <td>0.0</td>\n",
       "    </tr>\n",
       "    <tr>\n",
       "      <th>1</th>\n",
       "      <td>0.0</td>\n",
       "      <td>0.0</td>\n",
       "      <td>0.0</td>\n",
       "      <td>0.0</td>\n",
       "    </tr>\n",
       "    <tr>\n",
       "      <th>2</th>\n",
       "      <td>0.0</td>\n",
       "      <td>0.0</td>\n",
       "      <td>0.0</td>\n",
       "      <td>0.0</td>\n",
       "    </tr>\n",
       "    <tr>\n",
       "      <th>3</th>\n",
       "      <td>0.0</td>\n",
       "      <td>0.0</td>\n",
       "      <td>0.0</td>\n",
       "      <td>0.0</td>\n",
       "    </tr>\n",
       "    <tr>\n",
       "      <th>4</th>\n",
       "      <td>0.0</td>\n",
       "      <td>1.0</td>\n",
       "      <td>1.0</td>\n",
       "      <td>0.0</td>\n",
       "    </tr>\n",
       "  </tbody>\n",
       "</table>\n",
       "</div>"
      ],
      "text/plain": [
       "   DecisionTree  SVM  NaiveBayes  RegLog\n",
       "0           0.0  0.0         0.0     0.0\n",
       "1           0.0  0.0         0.0     0.0\n",
       "2           0.0  0.0         0.0     0.0\n",
       "3           0.0  0.0         0.0     0.0\n",
       "4           0.0  1.0         1.0     0.0"
      ]
     },
     "execution_count": 986,
     "metadata": {},
     "output_type": "execute_result"
    }
   ],
   "source": [
    "tabla_predicciones = pd.DataFrame(predicciones)\n",
    "tabla_predicciones.columns = ['DecisionTree', 'SVM','NaiveBayes','RegLog']\n",
    "tabla_predicciones.head()"
   ]
  },
  {
   "cell_type": "markdown",
   "id": "2744f617",
   "metadata": {},
   "source": [
    "A continuación, combinamos los resultados de las predicciones en una predicción final (moda de resultados individuales)."
   ]
  },
  {
   "cell_type": "code",
   "execution_count": 987,
   "id": "11b09e76",
   "metadata": {},
   "outputs": [
    {
     "data": {
      "text/html": [
       "<div>\n",
       "<style scoped>\n",
       "    .dataframe tbody tr th:only-of-type {\n",
       "        vertical-align: middle;\n",
       "    }\n",
       "\n",
       "    .dataframe tbody tr th {\n",
       "        vertical-align: top;\n",
       "    }\n",
       "\n",
       "    .dataframe thead th {\n",
       "        text-align: right;\n",
       "    }\n",
       "</style>\n",
       "<table border=\"1\" class=\"dataframe\">\n",
       "  <thead>\n",
       "    <tr style=\"text-align: right;\">\n",
       "      <th></th>\n",
       "      <th>0</th>\n",
       "    </tr>\n",
       "  </thead>\n",
       "  <tbody>\n",
       "    <tr>\n",
       "      <th>0</th>\n",
       "      <td>0.0</td>\n",
       "    </tr>\n",
       "    <tr>\n",
       "      <th>1</th>\n",
       "      <td>0.0</td>\n",
       "    </tr>\n",
       "    <tr>\n",
       "      <th>2</th>\n",
       "      <td>0.0</td>\n",
       "    </tr>\n",
       "    <tr>\n",
       "      <th>3</th>\n",
       "      <td>0.0</td>\n",
       "    </tr>\n",
       "    <tr>\n",
       "      <th>4</th>\n",
       "      <td>0.0</td>\n",
       "    </tr>\n",
       "    <tr>\n",
       "      <th>...</th>\n",
       "      <td>...</td>\n",
       "    </tr>\n",
       "    <tr>\n",
       "      <th>174</th>\n",
       "      <td>0.0</td>\n",
       "    </tr>\n",
       "    <tr>\n",
       "      <th>175</th>\n",
       "      <td>1.0</td>\n",
       "    </tr>\n",
       "    <tr>\n",
       "      <th>176</th>\n",
       "      <td>1.0</td>\n",
       "    </tr>\n",
       "    <tr>\n",
       "      <th>177</th>\n",
       "      <td>0.0</td>\n",
       "    </tr>\n",
       "    <tr>\n",
       "      <th>178</th>\n",
       "      <td>0.0</td>\n",
       "    </tr>\n",
       "  </tbody>\n",
       "</table>\n",
       "<p>179 rows × 1 columns</p>\n",
       "</div>"
      ],
      "text/plain": [
       "       0\n",
       "0    0.0\n",
       "1    0.0\n",
       "2    0.0\n",
       "3    0.0\n",
       "4    0.0\n",
       "..   ...\n",
       "174  0.0\n",
       "175  1.0\n",
       "176  1.0\n",
       "177  0.0\n",
       "178  0.0\n",
       "\n",
       "[179 rows x 1 columns]"
      ]
     },
     "execution_count": 987,
     "metadata": {},
     "output_type": "execute_result"
    }
   ],
   "source": [
    "prediccion_final, conteo = stats.mode(predicciones, axis = 1)\n",
    "prediccion_final = pd.DataFrame(prediccion_final)\n",
    "prediccion_final"
   ]
  },
  {
   "cell_type": "markdown",
   "id": "5c1f08ac",
   "metadata": {},
   "source": [
    "Ahora, calculamos las métricas de evaluación del modelo final:"
   ]
  },
  {
   "cell_type": "code",
   "execution_count": 755,
   "id": "742047b0",
   "metadata": {},
   "outputs": [],
   "source": [
    "def metricas(prediccion_final, Y_test):\n",
    "    accuracy = metrics.accuracy_score(Y_test, prediccion_final) \n",
    "    f1_score = metrics.f1_score(Y_test, prediccion_final) \n",
    "    recall = metrics.recall_score(Y_test,prediccion_final) \n",
    "    precision = metrics.precision_score(Y_test, prediccion_final)\n",
    "    mse = metrics.mean_squared_error(Y_test, prediccion_final)\n",
    "    \n",
    "    resultado = {'modelo':'modelo_combinado',  \n",
    "                 'accuracy':accuracy, \n",
    "                 'f1_score':f1_score, \n",
    "                 'recall':recall, \n",
    "                 'precision':precision,\n",
    "                 'mse':mse}\n",
    "    \n",
    "    return resultado"
   ]
  },
  {
   "cell_type": "markdown",
   "id": "1e2a6a09",
   "metadata": {},
   "source": [
    "Creamos un data frame para mostrar el resultado final:"
   ]
  },
  {
   "cell_type": "code",
   "execution_count": 988,
   "id": "b6d949c8",
   "metadata": {},
   "outputs": [
    {
     "data": {
      "text/html": [
       "<div>\n",
       "<style scoped>\n",
       "    .dataframe tbody tr th:only-of-type {\n",
       "        vertical-align: middle;\n",
       "    }\n",
       "\n",
       "    .dataframe tbody tr th {\n",
       "        vertical-align: top;\n",
       "    }\n",
       "\n",
       "    .dataframe thead th {\n",
       "        text-align: right;\n",
       "    }\n",
       "</style>\n",
       "<table border=\"1\" class=\"dataframe\">\n",
       "  <thead>\n",
       "    <tr style=\"text-align: right;\">\n",
       "      <th></th>\n",
       "      <th>modelo</th>\n",
       "      <th>accuracy</th>\n",
       "      <th>f1_score</th>\n",
       "      <th>recall</th>\n",
       "      <th>precision</th>\n",
       "      <th>mse</th>\n",
       "    </tr>\n",
       "  </thead>\n",
       "  <tbody>\n",
       "    <tr>\n",
       "      <th>0</th>\n",
       "      <td>modelo_combinado</td>\n",
       "      <td>0.748603</td>\n",
       "      <td>0.587156</td>\n",
       "      <td>0.450704</td>\n",
       "      <td>0.842105</td>\n",
       "      <td>0.251397</td>\n",
       "    </tr>\n",
       "  </tbody>\n",
       "</table>\n",
       "</div>"
      ],
      "text/plain": [
       "             modelo  accuracy  f1_score    recall  precision       mse\n",
       "0  modelo_combinado  0.748603  0.587156  0.450704   0.842105  0.251397"
      ]
     },
     "execution_count": 988,
     "metadata": {},
     "output_type": "execute_result"
    }
   ],
   "source": [
    "resultado_final = pd.DataFrame(columns = ['modelo','accuracy','f1_score','recall','precision','mse'])\n",
    "resultado_final.append(metricas(prediccion_final, Y_test), ignore_index = True)"
   ]
  },
  {
   "cell_type": "markdown",
   "id": "a8a3114d",
   "metadata": {},
   "source": [
    "### Conclusiones"
   ]
  },
  {
   "cell_type": "markdown",
   "id": "d03c7f8d",
   "metadata": {},
   "source": [
    "* Se ejecutaron 156 experimentos con los 4 modelos y una gran variedad de configuraciones, de los cuales se seleccionaron como los mejores modelos de cada tipo los siguientes: \n",
    "    \n",
    "    + Modelo de árbol de decisión, con impuridad de Gini, features máximas igual a 11 y con máximo de nodos de hoja de 10. \n",
    "    + Modelo Support Vector Machine con C igual a 1.0 y kernel lineal. \n",
    "    + Modelo de Naive Bayes con distribución Gaussiana. \n",
    "    + Modelo de Regresión Logística con learning_rate de 0.001, mini-batch igual a 128, lambda (parámetro de regularización L1) igual 0.001 y frontera de decisión igual 0.47. \n",
    "    \n",
    "    \n",
    "* Los modelos de árbol de decisión, SVM, Naive Bayes y Regresión logística generaron accuracy de 0.875, 0.833, 0.847, 0.861 respectivamente, en el dataset de evaluación. \n",
    "\n",
    "\n",
    "* El modelo combinado (basado en la moda de los resultados individuales de los mejores modelos) generó un accuracy de 0.7486 en el dataset de pruebas, esto a pesar de que los modelos por individual superaban el accuracy mínimo deseado de 80%. \n",
    "\n",
    "\n",
    "* Se realizaron pruebas de normalización de datos para el algoritmo de regresión logística sin obtener mejores resultados que los ya mostrados. \n",
    "\n",
    "\n",
    "* En la sección de feature engineering, se imputó la mediana en 'Age', la moda en 'Embarked', se removieron 'PassengerId', 'Name', 'Cabin', 'Ticket'. Se creó una columna 'Adult' para indicar si los pasajeros eran menores o iguales a 15 años y una columna 'No_family' para indicar si el pasajero viajaba acompañado o no. También se transformaron las variables 'Embarked' y 'passenger_class' con One Hot Encoding. \n",
    "\n",
    "\n",
    "* La columna 'cabin' a pesar de tener información importante porque la ubicación de las cabinas en el Titanic era un predictor importante sobre si un pasajero sobrevivía o no, no estaba completa y esa falta de información afectó drásticamente el desempeño de los modelos. "
   ]
  },
  {
   "cell_type": "markdown",
   "id": "e2991d38",
   "metadata": {},
   "source": [
    "### Recomendaciones"
   ]
  },
  {
   "cell_type": "markdown",
   "id": "2fc93767",
   "metadata": {},
   "source": [
    "* Es de gran utilidad crear una bitácora de experimentos en la que se van registrando las diferentes pruebas en las evaluaciones de modelos, una mejora que podría realizarse es añadir una columna de 'categoría' indicando la categoría de los modelos evaluados de manera que sea más simple buscar los mejores modelos de cada tipo, esto se vuelve especialmente útil cuando la cantidad de experimentos incrementa. \n",
    "\n",
    "\n",
    "* En TensorFlow, al momento de definir un grafo es importante validar que las formas ('shape') de los tensores tengan concordancia matemática en las operaciones que se definan (principalmente si se realizan multiplicaciones matriciales y/o sumas con otros vectores. \n",
    "\n",
    "\n",
    "* Es de vital importancia asegurarse de que el dataset esté balanceado antes de dividirlo, de manera que los resultados del entrenamiento y  las evaluaciones se acercen más a los resultados que los modelos podrían obtener en un ambiente de prueba reales."
   ]
  },
  {
   "cell_type": "markdown",
   "id": "a4a936c4",
   "metadata": {},
   "source": [
    "### Comentarios adicionales\n",
    "\n",
    "* Uno de los mayores obstáculos en la creación de algunos de los modelos fue la poca experiencia práctica en su implementación. Creo que tener un laboratorio de la clase aportaría mucho valor a las clases teóricas que también son fundamentales para la creación de algoritmos en cualquier herramienta. \n",
    "\n",
    "\n",
    "* Al ser la primera clase de Statistical Learning, es fascinante el alcance y las capacidades adquiridas, ya que con un conocimiento básico de regresiones al inicio de clase, se construyen bloques de conocimiento que permiten ir elaborando y exponiendo los modelos más complejos. "
   ]
  }
 ],
 "metadata": {
  "kernelspec": {
   "display_name": "Python 3",
   "language": "python",
   "name": "python3"
  },
  "language_info": {
   "codemirror_mode": {
    "name": "ipython",
    "version": 3
   },
   "file_extension": ".py",
   "mimetype": "text/x-python",
   "name": "python",
   "nbconvert_exporter": "python",
   "pygments_lexer": "ipython3",
   "version": "3.8.10"
  }
 },
 "nbformat": 4,
 "nbformat_minor": 5
}
