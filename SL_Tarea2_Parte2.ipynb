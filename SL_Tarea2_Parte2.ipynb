{
 "cells": [
  {
   "cell_type": "markdown",
   "id": "f8135a40",
   "metadata": {},
   "source": [
    "# Tarea 2 - Regresion Polinomial & Feature engineering\n",
    "### Parte 2 - Modelo polinomial de calidad de vinos"
   ]
  },
  {
   "cell_type": "markdown",
   "id": "af8f9077",
   "metadata": {},
   "source": [
    "Es permitido utilizar [sklearn.preprocessing.polynomialfeatures](https://scikit-learn.org/stable/modules/generated/sklearn.preprocessing.PolynomialFeatures.html)\n",
    "\n",
    "\n",
    "### Instrucciones\n",
    "\n",
    "1. Seleccionar y transformar(generando las combinaciones polinomiales para un polinomio de grado dos o tres a elección) las features que considere que son las mejores para predecir la calidad del vino, utilizar como minimo 2 features. Para seleccionar las features, hacer un analisis exploratorio por ejemplo(pero no limitado a ):  graficando y viendo la forma en que se comportan los datos.\n",
    "\n",
    " Por ejemplo, se tienen las features \"a\" y \"b\" y seleccionamos polinomio de grado 2, hacemos feature engineering para obtener :\n",
    " \n",
    " $[a,b,a^{2},b^{2},ab]$\n",
    " \n",
    " No olvidar el \"bias\" (parámetro multiplicado por 1) ,con lo cual el dataset puede quedar con las columnas:\n",
    " \n",
    " $[1,a,b,a^{2},b^{2},ab]$\n",
    "2. Una vez transformada la data aplicar regresion lineal con las features polinomiales usando Tensorflow.\n",
    "\n",
    "Requisitos adicionales:\n",
    "* Se debe agregar al notebook un screenshot del grafo de tensorboard, simplificando(usando  names , y name_scope como visto en clase).\n",
    "\n",
    "* Se debe generar un directorio de logs de tensorboard para cada corrida/experimento , con cada directorio identificando facilmente la configuración del experimento como visto en clase, por ejemplo para un experimento con learning rate = 0.1 , y polinomio grado 2  crear un directorio: lr=0.1_polinomio_grado=2. (Agregar al notebook un screenshot de estas gráficas)\n",
    "\n",
    "* Concluir en markdown cual es el mejor modelo para este caso basado en la comparativa entre curvas de costo/error en tensorboard."
   ]
  },
  {
   "cell_type": "code",
   "execution_count": 1,
   "id": "099bbc2c",
   "metadata": {},
   "outputs": [],
   "source": [
    "import tensorflow as tf\n",
    "import numpy as np \n",
    "import matplotlib.pyplot as plt\n",
    "import pandas as pd\n",
    "import sklearn as sk\n",
    "import sklearn.model_selection as model_selection\n",
    "from sklearn.preprocessing import PolynomialFeatures\n",
    "import seaborn as sns\n",
    "import time"
   ]
  },
  {
   "cell_type": "code",
   "execution_count": 2,
   "id": "0bd6e6c7",
   "metadata": {},
   "outputs": [
    {
     "name": "stdout",
     "output_type": "stream",
     "text": [
      "WARNING:tensorflow:From C:\\Users\\eddso\\anaconda3\\envs\\tf\\lib\\site-packages\\tensorflow\\python\\compat\\v2_compat.py:96: disable_resource_variables (from tensorflow.python.ops.variable_scope) is deprecated and will be removed in a future version.\n",
      "Instructions for updating:\n",
      "non-resource variables are not supported in the long term\n",
      "Enabled compatitility to tf1.x\n"
     ]
    }
   ],
   "source": [
    "if tf.__version__.startswith(\"2.\"):\n",
    "    import tensorflow.compat.v1 as tf\n",
    "    tf.compat.v1.disable_v2_behavior()\n",
    "    tf.compat.v1.disable_eager_execution()\n",
    "    print(\"Enabled compatitility to tf1.x\")"
   ]
  },
  {
   "cell_type": "code",
   "execution_count": 3,
   "id": "65be280d",
   "metadata": {},
   "outputs": [],
   "source": [
    "%load_ext tensorboard"
   ]
  },
  {
   "cell_type": "code",
   "execution_count": 4,
   "id": "2edfe68f",
   "metadata": {},
   "outputs": [],
   "source": [
    "data = pd.read_csv('C:\\\\Users\\\\eddso\\\\OneDrive\\\\Maestría\\\\Ciclo 2 - 2021\\\\Statistical Learning\\\\regresion_polinomial\\\\winequality-red.csv')"
   ]
  },
  {
   "cell_type": "markdown",
   "id": "0eae4935",
   "metadata": {},
   "source": [
    "### Red Wine Quality Data\n",
    "\n",
    "Se aplicará regresión para crear un modelo de la calidad de vino en función de características del mismo, siendo 1 el peor vino y 10 el mejor.\n",
    "\n",
    "Variables de entrada:\n",
    "1. fixed acidity \n",
    "2. volatile acidity \n",
    "3. citric acid \n",
    "4. residual sugar \n",
    "5. chlorides \n",
    "6. free sulfur dioxide \n",
    "7. total sulfur dioxide \n",
    "8. density \n",
    "9. pH \n",
    "10. sulphates \n",
    "11. alcohol \n",
    "\n",
    "Variable a predecir: \n",
    "12. quality (puntuacion  entre 0 y 10) \n"
   ]
  },
  {
   "cell_type": "code",
   "execution_count": 5,
   "id": "43685af2",
   "metadata": {},
   "outputs": [
    {
     "data": {
      "text/html": [
       "<div>\n",
       "<style scoped>\n",
       "    .dataframe tbody tr th:only-of-type {\n",
       "        vertical-align: middle;\n",
       "    }\n",
       "\n",
       "    .dataframe tbody tr th {\n",
       "        vertical-align: top;\n",
       "    }\n",
       "\n",
       "    .dataframe thead th {\n",
       "        text-align: right;\n",
       "    }\n",
       "</style>\n",
       "<table border=\"1\" class=\"dataframe\">\n",
       "  <thead>\n",
       "    <tr style=\"text-align: right;\">\n",
       "      <th></th>\n",
       "      <th>fixed acidity</th>\n",
       "      <th>volatile acidity</th>\n",
       "      <th>citric acid</th>\n",
       "      <th>residual sugar</th>\n",
       "      <th>chlorides</th>\n",
       "      <th>free sulfur dioxide</th>\n",
       "      <th>total sulfur dioxide</th>\n",
       "      <th>density</th>\n",
       "      <th>pH</th>\n",
       "      <th>sulphates</th>\n",
       "      <th>alcohol</th>\n",
       "      <th>quality</th>\n",
       "    </tr>\n",
       "  </thead>\n",
       "  <tbody>\n",
       "    <tr>\n",
       "      <th>0</th>\n",
       "      <td>7.4</td>\n",
       "      <td>0.70</td>\n",
       "      <td>0.00</td>\n",
       "      <td>1.9</td>\n",
       "      <td>0.076</td>\n",
       "      <td>11.0</td>\n",
       "      <td>34.0</td>\n",
       "      <td>0.9978</td>\n",
       "      <td>3.51</td>\n",
       "      <td>0.56</td>\n",
       "      <td>9.4</td>\n",
       "      <td>5</td>\n",
       "    </tr>\n",
       "    <tr>\n",
       "      <th>1</th>\n",
       "      <td>7.8</td>\n",
       "      <td>0.88</td>\n",
       "      <td>0.00</td>\n",
       "      <td>2.6</td>\n",
       "      <td>0.098</td>\n",
       "      <td>25.0</td>\n",
       "      <td>67.0</td>\n",
       "      <td>0.9968</td>\n",
       "      <td>3.20</td>\n",
       "      <td>0.68</td>\n",
       "      <td>9.8</td>\n",
       "      <td>5</td>\n",
       "    </tr>\n",
       "    <tr>\n",
       "      <th>2</th>\n",
       "      <td>7.8</td>\n",
       "      <td>0.76</td>\n",
       "      <td>0.04</td>\n",
       "      <td>2.3</td>\n",
       "      <td>0.092</td>\n",
       "      <td>15.0</td>\n",
       "      <td>54.0</td>\n",
       "      <td>0.9970</td>\n",
       "      <td>3.26</td>\n",
       "      <td>0.65</td>\n",
       "      <td>9.8</td>\n",
       "      <td>5</td>\n",
       "    </tr>\n",
       "    <tr>\n",
       "      <th>3</th>\n",
       "      <td>11.2</td>\n",
       "      <td>0.28</td>\n",
       "      <td>0.56</td>\n",
       "      <td>1.9</td>\n",
       "      <td>0.075</td>\n",
       "      <td>17.0</td>\n",
       "      <td>60.0</td>\n",
       "      <td>0.9980</td>\n",
       "      <td>3.16</td>\n",
       "      <td>0.58</td>\n",
       "      <td>9.8</td>\n",
       "      <td>6</td>\n",
       "    </tr>\n",
       "    <tr>\n",
       "      <th>4</th>\n",
       "      <td>7.4</td>\n",
       "      <td>0.70</td>\n",
       "      <td>0.00</td>\n",
       "      <td>1.9</td>\n",
       "      <td>0.076</td>\n",
       "      <td>11.0</td>\n",
       "      <td>34.0</td>\n",
       "      <td>0.9978</td>\n",
       "      <td>3.51</td>\n",
       "      <td>0.56</td>\n",
       "      <td>9.4</td>\n",
       "      <td>5</td>\n",
       "    </tr>\n",
       "  </tbody>\n",
       "</table>\n",
       "</div>"
      ],
      "text/plain": [
       "   fixed acidity  volatile acidity  citric acid  residual sugar  chlorides  \\\n",
       "0            7.4              0.70         0.00             1.9      0.076   \n",
       "1            7.8              0.88         0.00             2.6      0.098   \n",
       "2            7.8              0.76         0.04             2.3      0.092   \n",
       "3           11.2              0.28         0.56             1.9      0.075   \n",
       "4            7.4              0.70         0.00             1.9      0.076   \n",
       "\n",
       "   free sulfur dioxide  total sulfur dioxide  density    pH  sulphates  \\\n",
       "0                 11.0                  34.0   0.9978  3.51       0.56   \n",
       "1                 25.0                  67.0   0.9968  3.20       0.68   \n",
       "2                 15.0                  54.0   0.9970  3.26       0.65   \n",
       "3                 17.0                  60.0   0.9980  3.16       0.58   \n",
       "4                 11.0                  34.0   0.9978  3.51       0.56   \n",
       "\n",
       "   alcohol  quality  \n",
       "0      9.4        5  \n",
       "1      9.8        5  \n",
       "2      9.8        5  \n",
       "3      9.8        6  \n",
       "4      9.4        5  "
      ]
     },
     "execution_count": 5,
     "metadata": {},
     "output_type": "execute_result"
    }
   ],
   "source": [
    "data.head()"
   ]
  },
  {
   "cell_type": "markdown",
   "id": "fb243b9b",
   "metadata": {},
   "source": [
    "### Análisis exploratorio"
   ]
  },
  {
   "cell_type": "code",
   "execution_count": 6,
   "id": "fcc2f000",
   "metadata": {},
   "outputs": [
    {
     "data": {
      "image/png": "[encoded data removed]",
      "text/plain": [
       "<Figure size 1440x720 with 12 Axes>"
      ]
     },
     "metadata": {
      "needs_background": "light"
     },
     "output_type": "display_data"
    }
   ],
   "source": [
    "data.hist(figsize = (20,10))\n",
    "plt.show()"
   ]
  },
  {
   "cell_type": "code",
   "execution_count": 7,
   "id": "381d5731",
   "metadata": {},
   "outputs": [
    {
     "data": {
      "text/html": [
       "<div>\n",
       "<style scoped>\n",
       "    .dataframe tbody tr th:only-of-type {\n",
       "        vertical-align: middle;\n",
       "    }\n",
       "\n",
       "    .dataframe tbody tr th {\n",
       "        vertical-align: top;\n",
       "    }\n",
       "\n",
       "    .dataframe thead th {\n",
       "        text-align: right;\n",
       "    }\n",
       "</style>\n",
       "<table border=\"1\" class=\"dataframe\">\n",
       "  <thead>\n",
       "    <tr style=\"text-align: right;\">\n",
       "      <th></th>\n",
       "      <th>fixed acidity</th>\n",
       "      <th>volatile acidity</th>\n",
       "      <th>citric acid</th>\n",
       "      <th>residual sugar</th>\n",
       "      <th>chlorides</th>\n",
       "      <th>free sulfur dioxide</th>\n",
       "      <th>total sulfur dioxide</th>\n",
       "      <th>density</th>\n",
       "      <th>pH</th>\n",
       "      <th>sulphates</th>\n",
       "      <th>alcohol</th>\n",
       "      <th>quality</th>\n",
       "    </tr>\n",
       "  </thead>\n",
       "  <tbody>\n",
       "    <tr>\n",
       "      <th>count</th>\n",
       "      <td>1599.000000</td>\n",
       "      <td>1599.000000</td>\n",
       "      <td>1599.000000</td>\n",
       "      <td>1599.000000</td>\n",
       "      <td>1599.000000</td>\n",
       "      <td>1599.000000</td>\n",
       "      <td>1599.000000</td>\n",
       "      <td>1599.000000</td>\n",
       "      <td>1599.000000</td>\n",
       "      <td>1599.000000</td>\n",
       "      <td>1599.000000</td>\n",
       "      <td>1599.000000</td>\n",
       "    </tr>\n",
       "    <tr>\n",
       "      <th>mean</th>\n",
       "      <td>8.319637</td>\n",
       "      <td>0.527821</td>\n",
       "      <td>0.270976</td>\n",
       "      <td>2.538806</td>\n",
       "      <td>0.087467</td>\n",
       "      <td>15.874922</td>\n",
       "      <td>46.467792</td>\n",
       "      <td>0.996747</td>\n",
       "      <td>3.311113</td>\n",
       "      <td>0.658149</td>\n",
       "      <td>10.422983</td>\n",
       "      <td>5.636023</td>\n",
       "    </tr>\n",
       "    <tr>\n",
       "      <th>std</th>\n",
       "      <td>1.741096</td>\n",
       "      <td>0.179060</td>\n",
       "      <td>0.194801</td>\n",
       "      <td>1.409928</td>\n",
       "      <td>0.047065</td>\n",
       "      <td>10.460157</td>\n",
       "      <td>32.895324</td>\n",
       "      <td>0.001887</td>\n",
       "      <td>0.154386</td>\n",
       "      <td>0.169507</td>\n",
       "      <td>1.065668</td>\n",
       "      <td>0.807569</td>\n",
       "    </tr>\n",
       "    <tr>\n",
       "      <th>min</th>\n",
       "      <td>4.600000</td>\n",
       "      <td>0.120000</td>\n",
       "      <td>0.000000</td>\n",
       "      <td>0.900000</td>\n",
       "      <td>0.012000</td>\n",
       "      <td>1.000000</td>\n",
       "      <td>6.000000</td>\n",
       "      <td>0.990070</td>\n",
       "      <td>2.740000</td>\n",
       "      <td>0.330000</td>\n",
       "      <td>8.400000</td>\n",
       "      <td>3.000000</td>\n",
       "    </tr>\n",
       "    <tr>\n",
       "      <th>25%</th>\n",
       "      <td>7.100000</td>\n",
       "      <td>0.390000</td>\n",
       "      <td>0.090000</td>\n",
       "      <td>1.900000</td>\n",
       "      <td>0.070000</td>\n",
       "      <td>7.000000</td>\n",
       "      <td>22.000000</td>\n",
       "      <td>0.995600</td>\n",
       "      <td>3.210000</td>\n",
       "      <td>0.550000</td>\n",
       "      <td>9.500000</td>\n",
       "      <td>5.000000</td>\n",
       "    </tr>\n",
       "    <tr>\n",
       "      <th>50%</th>\n",
       "      <td>7.900000</td>\n",
       "      <td>0.520000</td>\n",
       "      <td>0.260000</td>\n",
       "      <td>2.200000</td>\n",
       "      <td>0.079000</td>\n",
       "      <td>14.000000</td>\n",
       "      <td>38.000000</td>\n",
       "      <td>0.996750</td>\n",
       "      <td>3.310000</td>\n",
       "      <td>0.620000</td>\n",
       "      <td>10.200000</td>\n",
       "      <td>6.000000</td>\n",
       "    </tr>\n",
       "    <tr>\n",
       "      <th>75%</th>\n",
       "      <td>9.200000</td>\n",
       "      <td>0.640000</td>\n",
       "      <td>0.420000</td>\n",
       "      <td>2.600000</td>\n",
       "      <td>0.090000</td>\n",
       "      <td>21.000000</td>\n",
       "      <td>62.000000</td>\n",
       "      <td>0.997835</td>\n",
       "      <td>3.400000</td>\n",
       "      <td>0.730000</td>\n",
       "      <td>11.100000</td>\n",
       "      <td>6.000000</td>\n",
       "    </tr>\n",
       "    <tr>\n",
       "      <th>max</th>\n",
       "      <td>15.900000</td>\n",
       "      <td>1.580000</td>\n",
       "      <td>1.000000</td>\n",
       "      <td>15.500000</td>\n",
       "      <td>0.611000</td>\n",
       "      <td>72.000000</td>\n",
       "      <td>289.000000</td>\n",
       "      <td>1.003690</td>\n",
       "      <td>4.010000</td>\n",
       "      <td>2.000000</td>\n",
       "      <td>14.900000</td>\n",
       "      <td>8.000000</td>\n",
       "    </tr>\n",
       "  </tbody>\n",
       "</table>\n",
       "</div>"
      ],
      "text/plain": [
       "       fixed acidity  volatile acidity  citric acid  residual sugar  \\\n",
       "count    1599.000000       1599.000000  1599.000000     1599.000000   \n",
       "mean        8.319637          0.527821     0.270976        2.538806   \n",
       "std         1.741096          0.179060     0.194801        1.409928   \n",
       "min         4.600000          0.120000     0.000000        0.900000   \n",
       "25%         7.100000          0.390000     0.090000        1.900000   \n",
       "50%         7.900000          0.520000     0.260000        2.200000   \n",
       "75%         9.200000          0.640000     0.420000        2.600000   \n",
       "max        15.900000          1.580000     1.000000       15.500000   \n",
       "\n",
       "         chlorides  free sulfur dioxide  total sulfur dioxide      density  \\\n",
       "count  1599.000000          1599.000000           1599.000000  1599.000000   \n",
       "mean      0.087467            15.874922             46.467792     0.996747   \n",
       "std       0.047065            10.460157             32.895324     0.001887   \n",
       "min       0.012000             1.000000              6.000000     0.990070   \n",
       "25%       0.070000             7.000000             22.000000     0.995600   \n",
       "50%       0.079000            14.000000             38.000000     0.996750   \n",
       "75%       0.090000            21.000000             62.000000     0.997835   \n",
       "max       0.611000            72.000000            289.000000     1.003690   \n",
       "\n",
       "                pH    sulphates      alcohol      quality  \n",
       "count  1599.000000  1599.000000  1599.000000  1599.000000  \n",
       "mean      3.311113     0.658149    10.422983     5.636023  \n",
       "std       0.154386     0.169507     1.065668     0.807569  \n",
       "min       2.740000     0.330000     8.400000     3.000000  \n",
       "25%       3.210000     0.550000     9.500000     5.000000  \n",
       "50%       3.310000     0.620000    10.200000     6.000000  \n",
       "75%       3.400000     0.730000    11.100000     6.000000  \n",
       "max       4.010000     2.000000    14.900000     8.000000  "
      ]
     },
     "execution_count": 7,
     "metadata": {},
     "output_type": "execute_result"
    }
   ],
   "source": [
    "data.describe()"
   ]
  },
  {
   "cell_type": "code",
   "execution_count": 8,
   "id": "8ed1957e",
   "metadata": {},
   "outputs": [
    {
     "data": {
      "text/plain": [
       "fixed acidity           0.124052\n",
       "volatile acidity       -0.390558\n",
       "citric acid             0.226373\n",
       "residual sugar          0.013732\n",
       "chlorides              -0.128907\n",
       "free sulfur dioxide    -0.050656\n",
       "total sulfur dioxide   -0.185100\n",
       "density                -0.174919\n",
       "pH                     -0.057731\n",
       "sulphates               0.251397\n",
       "alcohol                 0.476166\n",
       "quality                 1.000000\n",
       "Name: quality, dtype: float64"
      ]
     },
     "execution_count": 8,
     "metadata": {},
     "output_type": "execute_result"
    }
   ],
   "source": [
    "#Correlacion con la variable 'quality'\n",
    "data.corr()['quality']"
   ]
  },
  {
   "cell_type": "markdown",
   "id": "13e4c500",
   "metadata": {},
   "source": [
    "#### Selección de features\n",
    "\n",
    "Se seleccionarán las variables 'alcohol' y 'volatile acidity' por tener mejor correlación con 'quality'."
   ]
  },
  {
   "cell_type": "code",
   "execution_count": 9,
   "id": "eeed6157",
   "metadata": {},
   "outputs": [
    {
     "data": {
      "text/plain": [
       "<AxesSubplot:xlabel='quality', ylabel='alcohol'>"
      ]
     },
     "execution_count": 9,
     "metadata": {},
     "output_type": "execute_result"
    },
    {
     "data": {
      "image/png": "[encoded data removed]",
      "text/plain": [
       "<Figure size 432x288 with 1 Axes>"
      ]
     },
     "metadata": {
      "needs_background": "light"
     },
     "output_type": "display_data"
    }
   ],
   "source": [
    "data.plot.scatter(x = 'quality', y = 'alcohol')"
   ]
  },
  {
   "cell_type": "code",
   "execution_count": 10,
   "id": "92ed044c",
   "metadata": {},
   "outputs": [
    {
     "data": {
      "text/plain": [
       "<AxesSubplot:xlabel='quality', ylabel='volatile acidity'>"
      ]
     },
     "execution_count": 10,
     "metadata": {},
     "output_type": "execute_result"
    },
    {
     "data": {
      "image/png": "[encoded data removed]",
      "text/plain": [
       "<Figure size 432x288 with 1 Axes>"
      ]
     },
     "metadata": {
      "needs_background": "light"
     },
     "output_type": "display_data"
    }
   ],
   "source": [
    "data.plot.scatter(x = 'quality', y = 'volatile acidity')"
   ]
  },
  {
   "cell_type": "markdown",
   "id": "e63e3990",
   "metadata": {},
   "source": [
    "#### Transformación de features"
   ]
  },
  {
   "cell_type": "code",
   "execution_count": 11,
   "id": "94bfaaca",
   "metadata": {},
   "outputs": [
    {
     "data": {
      "text/plain": [
       "array([[1.00000e+00, 9.40000e+00, 7.00000e-01, 8.83600e+01, 6.58000e+00,\n",
       "        4.90000e-01],\n",
       "       [1.00000e+00, 9.80000e+00, 8.80000e-01, 9.60400e+01, 8.62400e+00,\n",
       "        7.74400e-01],\n",
       "       [1.00000e+00, 9.80000e+00, 7.60000e-01, 9.60400e+01, 7.44800e+00,\n",
       "        5.77600e-01],\n",
       "       ...,\n",
       "       [1.00000e+00, 1.10000e+01, 5.10000e-01, 1.21000e+02, 5.61000e+00,\n",
       "        2.60100e-01],\n",
       "       [1.00000e+00, 1.02000e+01, 6.45000e-01, 1.04040e+02, 6.57900e+00,\n",
       "        4.16025e-01],\n",
       "       [1.00000e+00, 1.10000e+01, 3.10000e-01, 1.21000e+02, 3.41000e+00,\n",
       "        9.61000e-02]])"
      ]
     },
     "execution_count": 11,
     "metadata": {},
     "output_type": "execute_result"
    }
   ],
   "source": [
    "# Transformacion con polinomio de grado 2\n",
    "features = np.array(data[['alcohol','volatile acidity']])\n",
    "polinomioG2 = PolynomialFeatures(2)\n",
    "trans_featuresG2 = polinomioG2.fit_transform(features)\n",
    "trans_featuresG2"
   ]
  },
  {
   "cell_type": "code",
   "execution_count": 12,
   "id": "33ca5f5f",
   "metadata": {},
   "outputs": [],
   "source": [
    "# Podemos definir una función para transformar las features al polinomio de n grado\n",
    "def transformar_features(features, grado):\n",
    "    poly = PolynomialFeatures(grado)\n",
    "    return poly.fit_transform(features)"
   ]
  },
  {
   "cell_type": "code",
   "execution_count": 13,
   "id": "35517b05",
   "metadata": {},
   "outputs": [
    {
     "name": "stdout",
     "output_type": "stream",
     "text": [
      "[[1.00000e+00 9.40000e+00 7.00000e-01 8.83600e+01 6.58000e+00 4.90000e-01]\n",
      " [1.00000e+00 9.80000e+00 8.80000e-01 9.60400e+01 8.62400e+00 7.74400e-01]\n",
      " [1.00000e+00 9.80000e+00 7.60000e-01 9.60400e+01 7.44800e+00 5.77600e-01]\n",
      " ...\n",
      " [1.00000e+00 1.10000e+01 5.10000e-01 1.21000e+02 5.61000e+00 2.60100e-01]\n",
      " [1.00000e+00 1.02000e+01 6.45000e-01 1.04040e+02 6.57900e+00 4.16025e-01]\n",
      " [1.00000e+00 1.10000e+01 3.10000e-01 1.21000e+02 3.41000e+00 9.61000e-02]]\n"
     ]
    },
    {
     "data": {
      "text/plain": [
       "(1599, 6)"
      ]
     },
     "execution_count": 13,
     "metadata": {},
     "output_type": "execute_result"
    }
   ],
   "source": [
    "trans_featuresG2 = transformar_features(features,2)\n",
    "print(trans_featuresG2)\n",
    "np.shape(trans_featuresG2)"
   ]
  },
  {
   "cell_type": "code",
   "execution_count": 14,
   "id": "e0824220",
   "metadata": {},
   "outputs": [
    {
     "name": "stdout",
     "output_type": "stream",
     "text": [
      "[[1.00000000e+00 9.40000000e+00 7.00000000e-01 ... 6.18520000e+01\n",
      "  4.60600000e+00 3.43000000e-01]\n",
      " [1.00000000e+00 9.80000000e+00 8.80000000e-01 ... 8.45152000e+01\n",
      "  7.58912000e+00 6.81472000e-01]\n",
      " [1.00000000e+00 9.80000000e+00 7.60000000e-01 ... 7.29904000e+01\n",
      "  5.66048000e+00 4.38976000e-01]\n",
      " ...\n",
      " [1.00000000e+00 1.10000000e+01 5.10000000e-01 ... 6.17100000e+01\n",
      "  2.86110000e+00 1.32651000e-01]\n",
      " [1.00000000e+00 1.02000000e+01 6.45000000e-01 ... 6.71058000e+01\n",
      "  4.24345500e+00 2.68336125e-01]\n",
      " [1.00000000e+00 1.10000000e+01 3.10000000e-01 ... 3.75100000e+01\n",
      "  1.05710000e+00 2.97910000e-02]]\n"
     ]
    },
    {
     "data": {
      "text/plain": [
       "(1599, 10)"
      ]
     },
     "execution_count": 14,
     "metadata": {},
     "output_type": "execute_result"
    }
   ],
   "source": [
    "trans_featuresG3 = transformar_features(features,3)\n",
    "print(trans_featuresG3)\n",
    "np.shape(trans_featuresG3)"
   ]
  },
  {
   "cell_type": "markdown",
   "id": "4836d716",
   "metadata": {},
   "source": [
    "### Preparación de los datos"
   ]
  },
  {
   "cell_type": "code",
   "execution_count": 72,
   "id": "52f4e474",
   "metadata": {},
   "outputs": [],
   "source": [
    "grado = 2\n",
    "x_data = transformar_features(features,grado)\n",
    "y_data = np.array(data['quality']).reshape(-1,1)\n",
    "weight_rows = len(x_data[0])\n",
    "columns_tensor = len(x_data[1])"
   ]
  },
  {
   "cell_type": "markdown",
   "id": "508b9b19",
   "metadata": {},
   "source": [
    "### Definición del grafo"
   ]
  },
  {
   "cell_type": "code",
   "execution_count": 73,
   "id": "0fe0030f",
   "metadata": {},
   "outputs": [],
   "source": [
    "tf.reset_default_graph()\n",
    "gr = tf.Graph()\n",
    "with gr.as_default():\n",
    "    tensor_x = tf.placeholder(tf.float32,[None,columns_tensor],\"tensor_x\")\n",
    "    tensor_y = tf.placeholder(tf.float32,[None,1],\"tensor_y\")\n",
    "    weight = tf.get_variable(\"peso\",dtype=tf.float32,shape=[weight_rows,1],initializer=tf.zeros_initializer())\n",
    "    learning_rate = tf.placeholder(\"float\", name = \"learning_rate\")\n",
    "    bias = tf.get_variable(\"sesgo\",dtype=tf.float32,shape=[],initializer=tf.zeros_initializer())\n",
    "    epochs = tf.placeholder(tf.int32, name = \"epochs\")\n",
    "    batch_size = tf.placeholder(tf.int32, name = \"batch_size\")\n",
    "    with tf.name_scope(\"modelo\"):\n",
    "        y_hat = tf.add(tf.matmul(tensor_x,weight),bias)\n",
    "    with tf.name_scope(\"MSE\"):\n",
    "        costo = 1/2*tf.reduce_mean(tf.math.square(y_hat - tensor_y))\n",
    "        costo_summary = tf.summary.scalar(\"MSE\", costo)\n",
    "    with tf.name_scope(\"gradiente\"):\n",
    "        gradiente = tf.gradients(costo, [weight, bias])\n",
    "    with tf.name_scope(\"actualizacion_parametros\"):\n",
    "        actualizacion_weight = tf.assign(weight, weight - learning_rate*gradiente[0])\n",
    "        actualizacion_bias = tf.assign(bias, bias - learning_rate*gradiente[1])\n",
    "        actualizacion_parametros = tf.group(actualizacion_weight,actualizacion_bias)\n",
    "    init = tf.global_variables_initializer()"
   ]
  },
  {
   "cell_type": "markdown",
   "id": "a30e01f2",
   "metadata": {},
   "source": [
    "***Grafo en Tensorboard***\n",
    "<img src=\"https://github.com/eddson90/tareas_data_science/blob/main/SL_Tarea2_Parte2_Graph.PNG?raw=true\">"
   ]
  },
  {
   "cell_type": "code",
   "execution_count": 46,
   "id": "a530551b",
   "metadata": {},
   "outputs": [],
   "source": [
    "def entrenar_modelo(x_data, y_data, lr, epoch, b_size):\n",
    "    total_iteraciones = int(len(x_data)/b_size)\n",
    "    tf.reset_default_graph()\n",
    "    \n",
    "    with tf.Session(graph = gr) as sess:\n",
    "        timestamp = time.strftime('%Y%m%d_%H%M%S', time.localtime(time.time()))\n",
    "        writer = tf.summary.FileWriter('./TB_log_dir/reg_polinomial/'+str(timestamp)+'_lr='+str(lr)+'_b_size='+str(b_size)+'_epoch='+str(epoch)+'_grado='+str(grado),gr)\n",
    "        sess.run(init)\n",
    "\n",
    "        for e in range(epoch):\n",
    "\n",
    "            for i in range(total_iteraciones):\n",
    "                muestra_inicio = i*b_size\n",
    "                muestra_fin = muestra_inicio + b_size\n",
    "                x_mb =  np.array(x_data[muestra_inicio:muestra_fin]).reshape([-1,1])\n",
    "                y_mb = np.array(y_data[muestra_inicio:muestra_fin]).reshape([-1,1])\n",
    "\n",
    "                feed_dict2 = {tensor_x :x_data, tensor_y:y_data, learning_rate:lr, epochs:epoch, batch_size:b_size}\n",
    "                act_p, w, b, c = sess.run([actualizacion_parametros, weight, bias, costo_summary], feed_dict=feed_dict2)\n",
    "                #print(\"Epoch {} iteracion {} m={} b={}\".format(e,i,w,b))\n",
    "                writer.add_summary(c, e)\n",
    "\n",
    "            feed_dict = {tensor_x:np.array(x_data), tensor_y:np.array(y_data)}\n",
    "            prediccion = sess.run(y_hat, feed_dict = feed_dict)\n",
    "\n",
    "        final_weight,final_bias = sess.run([weight,bias],feed_dict=feed_dict)\n",
    "        print(\"Weight {} | Bias {}\".format(final_weight, final_bias))\n",
    "\n",
    "        writer.close()\n",
    "        \n",
    "        return final_weight, final_bias"
   ]
  },
  {
   "cell_type": "code",
   "execution_count": 74,
   "id": "da3ba597",
   "metadata": {},
   "outputs": [
    {
     "name": "stdout",
     "output_type": "stream",
     "text": [
      "Weight [[ 0.07526894]\n",
      " [ 0.40831083]\n",
      " [ 0.01743011]\n",
      " [ 0.01114798]\n",
      " [-0.01215553]\n",
      " [-0.00630338]] | Bias 0.0752689316868782\n"
     ]
    },
    {
     "data": {
      "text/plain": [
       "(array([[ 0.07526894],\n",
       "        [ 0.40831083],\n",
       "        [ 0.01743011],\n",
       "        [ 0.01114798],\n",
       "        [-0.01215553],\n",
       "        [-0.00630338]], dtype=float32),\n",
       " 0.07526893)"
      ]
     },
     "execution_count": 74,
     "metadata": {},
     "output_type": "execute_result"
    }
   ],
   "source": [
    "entrenar_modelo(x_data, y_data, 0.0001, 150, 32)"
   ]
  },
  {
   "cell_type": "code",
   "execution_count": 67,
   "id": "cf701bf3",
   "metadata": {},
   "outputs": [
    {
     "data": {
      "text/plain": [
       "Reusing TensorBoard on port 6006 (pid 14868), started 0:00:48 ago. (Use '!kill 14868' to kill it.)"
      ]
     },
     "metadata": {},
     "output_type": "display_data"
    },
    {
     "data": {
      "text/html": [
       "\n",
       "      <iframe id=\"tensorboard-frame-eb6122352edf525b\" width=\"100%\" height=\"800\" frameborder=\"0\">\n",
       "      </iframe>\n",
       "      <script>\n",
       "        (function() {\n",
       "          const frame = document.getElementById(\"tensorboard-frame-eb6122352edf525b\");\n",
       "          const url = new URL(\"/\", window.location);\n",
       "          const port = 6006;\n",
       "          if (port) {\n",
       "            url.port = port;\n",
       "          }\n",
       "          frame.src = url;\n",
       "        })();\n",
       "      </script>\n",
       "    "
      ],
      "text/plain": [
       "<IPython.core.display.HTML object>"
      ]
     },
     "metadata": {},
     "output_type": "display_data"
    }
   ],
   "source": [
    "%tensorboard --logdir \"C:\\Users\\eddso\\OneDrive\\Maestría\\Tareas Git Hub\\tareas_data_science\\TB_log_dir\\reg_polinomial\""
   ]
  },
  {
   "cell_type": "markdown",
   "id": "1fba5ac6",
   "metadata": {},
   "source": [
    "***Comparativo del MSE por modelo***\n",
    "<img src=\"https://github.com/eddson90/tareas_data_science/blob/main/SL_Tarea2_Parte2%20-%20MSE_regresion_polinomial.PNG?raw=true\">\n",
    "\n",
    "El mejor modelo es un polinomio de grado 2 con learning rate de 0.0001 como se muestra en la última línea:\n",
    "\n",
    "<img src=\"https://github.com/eddson90/tareas_data_science/blob/main/SL_Tarea2_Parte2%20-%20Resumen%20MSE.PNG?raw=true\">"
   ]
  }
 ],
 "metadata": {
  "kernelspec": {
   "display_name": "Python 3",
   "language": "python",
   "name": "python3"
  },
  "language_info": {
   "codemirror_mode": {
    "name": "ipython",
    "version": 3
   },
   "file_extension": ".py",
   "mimetype": "text/x-python",
   "name": "python",
   "nbconvert_exporter": "python",
   "pygments_lexer": "ipython3",
   "version": "3.8.10"
  }
 },
 "nbformat": 4,
 "nbformat_minor": 5
}
