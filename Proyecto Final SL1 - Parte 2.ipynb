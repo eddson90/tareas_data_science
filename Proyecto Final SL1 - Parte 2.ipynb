{
 "cells": [
  {
   "cell_type": "markdown",
   "id": "9c0c9bd9",
   "metadata": {},
   "source": [
    "# Proyecto Final Statistical Learning I: Parte 2\n",
    "\n",
    "## Deployment, inferencia y predicción"
   ]
  },
  {
   "cell_type": "code",
   "execution_count": 201,
   "id": "73d59fb6",
   "metadata": {},
   "outputs": [],
   "source": [
    "import pandas as pd\n",
    "import numpy as np\n",
    "import sklearn as sk\n",
    "from sklearn import tree\n",
    "from sklearn.tree import DecisionTreeClassifier\n",
    "from sklearn import svm\n",
    "from sklearn.svm import SVC\n",
    "from math import sqrt\n",
    "from math import pi\n",
    "from math import exp"
   ]
  },
  {
   "cell_type": "code",
   "execution_count": 214,
   "id": "b64cd6a9",
   "metadata": {},
   "outputs": [],
   "source": [
    "# Importar función NaiveBayes como módulo\n",
    "import NaiveBayesFunction"
   ]
  },
  {
   "cell_type": "markdown",
   "id": "22938a1d",
   "metadata": {},
   "source": [
    "Carga de los modelos elegidos:"
   ]
  },
  {
   "cell_type": "code",
   "execution_count": 153,
   "id": "240f224c",
   "metadata": {},
   "outputs": [
    {
     "data": {
      "text/html": [
       "<div>\n",
       "<style scoped>\n",
       "    .dataframe tbody tr th:only-of-type {\n",
       "        vertical-align: middle;\n",
       "    }\n",
       "\n",
       "    .dataframe tbody tr th {\n",
       "        vertical-align: top;\n",
       "    }\n",
       "\n",
       "    .dataframe thead th {\n",
       "        text-align: right;\n",
       "    }\n",
       "</style>\n",
       "<table border=\"1\" class=\"dataframe\">\n",
       "  <thead>\n",
       "    <tr style=\"text-align: right;\">\n",
       "      <th></th>\n",
       "      <th>modelo</th>\n",
       "      <th>config_string</th>\n",
       "      <th>accuracy</th>\n",
       "      <th>f1_score</th>\n",
       "      <th>recall</th>\n",
       "      <th>precision</th>\n",
       "      <th>mse</th>\n",
       "    </tr>\n",
       "  </thead>\n",
       "  <tbody>\n",
       "    <tr>\n",
       "      <th>8</th>\n",
       "      <td>SVC(kernel='linear')</td>\n",
       "      <td>C=1.0_kernel=linear</td>\n",
       "      <td>0.833333</td>\n",
       "      <td>0.769231</td>\n",
       "      <td>0.833333</td>\n",
       "      <td>0.714286</td>\n",
       "      <td>0.166667</td>\n",
       "    </tr>\n",
       "    <tr>\n",
       "      <th>13</th>\n",
       "      <td>&lt;function naive_bayes at 0x000001B0FCEA95E0&gt;</td>\n",
       "      <td>pdf=gaussian</td>\n",
       "      <td>0.847222</td>\n",
       "      <td>0.775510</td>\n",
       "      <td>0.791667</td>\n",
       "      <td>0.760000</td>\n",
       "      <td>0.152778</td>\n",
       "    </tr>\n",
       "    <tr>\n",
       "      <th>121</th>\n",
       "      <td>DecisionTreeClassifier(max_depth=2000, max_fea...</td>\n",
       "      <td>criterion=gini_MaxDepth=2000_MaxFeatures=11_Ma...</td>\n",
       "      <td>0.875000</td>\n",
       "      <td>0.808511</td>\n",
       "      <td>0.791667</td>\n",
       "      <td>0.826087</td>\n",
       "      <td>0.125000</td>\n",
       "    </tr>\n",
       "    <tr>\n",
       "      <th>156</th>\n",
       "      <td>&lt;function regLog_predict at 0x000001B0FDFADC10&gt;</td>\n",
       "      <td>lr=0.001_batchsize=128_lambda=0.001_frontera=0.47</td>\n",
       "      <td>0.861111</td>\n",
       "      <td>0.772727</td>\n",
       "      <td>0.708333</td>\n",
       "      <td>0.850000</td>\n",
       "      <td>0.138889</td>\n",
       "    </tr>\n",
       "  </tbody>\n",
       "</table>\n",
       "</div>"
      ],
      "text/plain": [
       "                                                modelo  \\\n",
       "8                                 SVC(kernel='linear')   \n",
       "13        <function naive_bayes at 0x000001B0FCEA95E0>   \n",
       "121  DecisionTreeClassifier(max_depth=2000, max_fea...   \n",
       "156    <function regLog_predict at 0x000001B0FDFADC10>   \n",
       "\n",
       "                                         config_string  accuracy  f1_score  \\\n",
       "8                                  C=1.0_kernel=linear  0.833333  0.769231   \n",
       "13                                        pdf=gaussian  0.847222  0.775510   \n",
       "121  criterion=gini_MaxDepth=2000_MaxFeatures=11_Ma...  0.875000  0.808511   \n",
       "156  lr=0.001_batchsize=128_lambda=0.001_frontera=0.47  0.861111  0.772727   \n",
       "\n",
       "       recall  precision       mse  \n",
       "8    0.833333   0.714286  0.166667  \n",
       "13   0.791667   0.760000  0.152778  \n",
       "121  0.791667   0.826087  0.125000  \n",
       "156  0.708333   0.850000  0.138889  "
      ]
     },
     "execution_count": 153,
     "metadata": {},
     "output_type": "execute_result"
    }
   ],
   "source": [
    "modelos = pd.read_csv(r'C:\\Users\\eddso\\OneDrive\\Maestría\\Tareas Git Hub\\tareas_data_science\\bitacora.tsv', sep='\\t',index_col = 0)\n",
    "modelos_elegidos = modelos[modelos.index.isin([121,8,13,156])]\n",
    "modelos_elegidos"
   ]
  },
  {
   "cell_type": "code",
   "execution_count": 154,
   "id": "738ecf39",
   "metadata": {},
   "outputs": [],
   "source": [
    "DecisionTree = eval(modelos_elegidos.loc[121][0])\n",
    "SVM = eval(modelos_elegidos.loc[8][0])\n",
    "NB = modelos_elegidos.loc[13][0]\n",
    "RegLog = modelos_elegidos.loc[156][0]"
   ]
  },
  {
   "cell_type": "code",
   "execution_count": 236,
   "id": "213118c3",
   "metadata": {},
   "outputs": [],
   "source": [
    "DecisionTree = eval(modelos_elegidos.loc[121][0])\n",
    "\n",
    "import graphviz \n",
    "dot_data = tree.export_graphviz(DecisionTree, out_file=None) \n",
    "graph = graphviz.Source(dot_data) \n",
    "graph.render(\"DecisionTree\") "
   ]
  },
  {
   "cell_type": "markdown",
   "id": "dd3bdc62",
   "metadata": {},
   "source": [
    "<img src=\"https://github.com/eddson90/tareas_data_science/blob/main/plot_tree.PNG?raw=true\" alt=\"alt text\" width=\"500\"/>"
   ]
  },
  {
   "cell_type": "code",
   "execution_count": 217,
   "id": "474454ea",
   "metadata": {},
   "outputs": [
    {
     "data": {
      "text/plain": [
       "SVC(kernel='linear')"
      ]
     },
     "execution_count": 217,
     "metadata": {},
     "output_type": "execute_result"
    }
   ],
   "source": [
    "SVM"
   ]
  },
  {
   "cell_type": "markdown",
   "id": "4da3def8",
   "metadata": {},
   "source": [
    "Observaciones de prueba"
   ]
  },
  {
   "cell_type": "code",
   "execution_count": 202,
   "id": "a94f333a",
   "metadata": {},
   "outputs": [],
   "source": [
    "obs_datatest = np.array([[23.],[ 0.],[ 0.],[13.],[ 0.],[ 1.],[ 0.],[ 0.],[ 1.],[ 0.],[ 1.],[ 0.],[ 1.],[ 0.]])\n",
    "obs_datatrain = np.array([[38.],[ 1.],[ 5.],[31.3875],[ 1.],[ 1.],[ 0.],[ 0.],[ 1.],[ 1.],[ 0.],[ 0.],[ 0.],[ 1.]])"
   ]
  },
  {
   "cell_type": "code",
   "execution_count": 219,
   "id": "d9151b48",
   "metadata": {},
   "outputs": [],
   "source": [
    "obs_test = np.array([[14.5   ,  1.    ,  0.    , 14.4542,  1.    ,  0.    ,  1.    ,\n",
    "         0.    ,  0.    ,  1.    ,  0.    ,  0.    ,  0.    ],\n",
    "       [22.    ,  0.    ,  1.    , 55.    ,  1.    ,  1.    ,  0.    ,\n",
    "         0.    ,  1.    ,  0.    ,  0.    ,  1.    ,  0.    ],\n",
    "       [42.    ,  0.    ,  0.    ,  7.65  ,  0.    ,  1.    ,  0.    ,\n",
    "         0.    ,  1.    ,  1.    ,  0.    ,  0.    ,  1.    ],\n",
    "       [26.    ,  0.    ,  0.    , 10.5   ,  0.    ,  1.    ,  0.    ,\n",
    "         0.    ,  1.    ,  0.    ,  1.    ,  0.    ,  1.    ],\n",
    "       [33.    ,  1.    ,  1.    , 20.525 ,  0.    ,  1.    ,  0.    ,\n",
    "         0.    ,  1.    ,  1.    ,  0.    ,  0.    ,  0.    ],\n",
    "       [25.    ,  0.    ,  0.    ,  7.8958,  0.    ,  1.    ,  0.    ,\n",
    "         0.    ,  1.    ,  1.    ,  0.    ,  0.    ,  1.    ],\n",
    "       [48.    ,  1.    ,  0.    , 76.7292,  0.    ,  1.    ,  1.    ,\n",
    "         0.    ,  0.    ,  0.    ,  0.    ,  1.    ,  0.    ],\n",
    "       [19.    ,  0.    ,  0.    ,  7.65  ,  0.    ,  1.    ,  0.    ,\n",
    "         0.    ,  1.    ,  1.    ,  0.    ,  0.    ,  1.    ],\n",
    "       [22.    ,  0.    ,  0.    ,  7.25  ,  0.    ,  1.    ,  0.    ,\n",
    "         0.    ,  1.    ,  1.    ,  0.    ,  0.    ,  1.    ],\n",
    "       [28.    ,  0.    ,  0.    , 12.35  ,  1.    ,  1.    ,  0.    ,\n",
    "         1.    ,  0.    ,  0.    ,  1.    ,  0.    ,  1.    ]])"
   ]
  },
  {
   "cell_type": "code",
   "execution_count": 226,
   "id": "386f491d",
   "metadata": {},
   "outputs": [
    {
     "data": {
      "text/html": [
       "<div>\n",
       "<style scoped>\n",
       "    .dataframe tbody tr th:only-of-type {\n",
       "        vertical-align: middle;\n",
       "    }\n",
       "\n",
       "    .dataframe tbody tr th {\n",
       "        vertical-align: top;\n",
       "    }\n",
       "\n",
       "    .dataframe thead th {\n",
       "        text-align: right;\n",
       "    }\n",
       "</style>\n",
       "<table border=\"1\" class=\"dataframe\">\n",
       "  <thead>\n",
       "    <tr style=\"text-align: right;\">\n",
       "      <th></th>\n",
       "      <th>0</th>\n",
       "      <th>1</th>\n",
       "      <th>2</th>\n",
       "      <th>3</th>\n",
       "      <th>4</th>\n",
       "      <th>5</th>\n",
       "      <th>6</th>\n",
       "      <th>7</th>\n",
       "      <th>8</th>\n",
       "      <th>9</th>\n",
       "      <th>10</th>\n",
       "      <th>11</th>\n",
       "      <th>12</th>\n",
       "    </tr>\n",
       "  </thead>\n",
       "  <tbody>\n",
       "    <tr>\n",
       "      <th>1</th>\n",
       "      <td>22.0</td>\n",
       "      <td>0.0</td>\n",
       "      <td>1.0</td>\n",
       "      <td>55.0</td>\n",
       "      <td>1.0</td>\n",
       "      <td>1.0</td>\n",
       "      <td>0.0</td>\n",
       "      <td>0.0</td>\n",
       "      <td>1.0</td>\n",
       "      <td>0.0</td>\n",
       "      <td>0.0</td>\n",
       "      <td>1.0</td>\n",
       "      <td>0.0</td>\n",
       "    </tr>\n",
       "  </tbody>\n",
       "</table>\n",
       "</div>"
      ],
      "text/plain": [
       "     0    1    2     3    4    5    6    7    8    9    10   11   12\n",
       "1  22.0  0.0  1.0  55.0  1.0  1.0  0.0  0.0  1.0  0.0  0.0  1.0  0.0"
      ]
     },
     "execution_count": 226,
     "metadata": {},
     "output_type": "execute_result"
    }
   ],
   "source": [
    "obs_test = pd.DataFrame(obs_test)\n",
    "obs_test.loc[1:1]"
   ]
  },
  {
   "cell_type": "code",
   "execution_count": null,
   "id": "539455ef",
   "metadata": {},
   "outputs": [],
   "source": []
  }
 ],
 "metadata": {
  "kernelspec": {
   "display_name": "Python 3",
   "language": "python",
   "name": "python3"
  },
  "language_info": {
   "codemirror_mode": {
    "name": "ipython",
    "version": 3
   },
   "file_extension": ".py",
   "mimetype": "text/x-python",
   "name": "python",
   "nbconvert_exporter": "python",
   "pygments_lexer": "ipython3",
   "version": "3.8.10"
  }
 },
 "nbformat": 4,
 "nbformat_minor": 5
}
