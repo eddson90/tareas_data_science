{
 "cells": [
  {
   "cell_type": "markdown",
   "id": "6bd529db",
   "metadata": {},
   "source": [
    "# Práctica 1\n",
    "\n",
    "Statistical Learning II\n",
    "\n",
    "Eddson Sierra"
   ]
  },
  {
   "cell_type": "code",
   "execution_count": 322,
   "id": "c203a6b4",
   "metadata": {},
   "outputs": [],
   "source": [
    "import pandas as pd\n",
    "import numpy as np\n",
    "from scipy import linalg as LA\n",
    "import matplotlib.pyplot as plt\n",
    "import random\n",
    "import math\n",
    "from sklearn.mixture import GaussianMixture as GM"
   ]
  },
  {
   "cell_type": "code",
   "execution_count": 16,
   "id": "264ffe8b",
   "metadata": {},
   "outputs": [],
   "source": [
    "normales = pd.read_excel(r\"C:\\\\Users\\\\eddso\\\\OneDrive\\\\Maestría\\\\Ciclo 3 - 2021\\\\Statistical Learning II\\\\Prácticas\\\\Práctica 1\\\\estaturas.xlsx\",\n",
    "             sheet_name = \"normales\")\n",
    "\n",
    "valtest = pd.read_excel(r\"C:\\\\Users\\\\eddso\\\\OneDrive\\\\Maestría\\\\Ciclo 3 - 2021\\\\Statistical Learning II\\\\Prácticas\\\\Práctica 1\\\\estaturas.xlsx\",\n",
    "             sheet_name = \"valtest(normales)\")\n",
    "\n",
    "anomalias= pd.read_excel(r\"C:\\\\Users\\\\eddso\\\\OneDrive\\\\Maestría\\\\Ciclo 3 - 2021\\\\Statistical Learning II\\\\Prácticas\\\\Práctica 1\\\\estaturas.xlsx\",\n",
    "             sheet_name = \"anomalias\")"
   ]
  },
  {
   "cell_type": "markdown",
   "id": "205c8e5e",
   "metadata": {},
   "source": [
    "## Implementación de hard clustering con K-means"
   ]
  },
  {
   "cell_type": "code",
   "execution_count": 27,
   "id": "131da913",
   "metadata": {},
   "outputs": [
    {
     "data": {
      "text/html": [
       "<div>\n",
       "<style scoped>\n",
       "    .dataframe tbody tr th:only-of-type {\n",
       "        vertical-align: middle;\n",
       "    }\n",
       "\n",
       "    .dataframe tbody tr th {\n",
       "        vertical-align: top;\n",
       "    }\n",
       "\n",
       "    .dataframe thead th {\n",
       "        text-align: right;\n",
       "    }\n",
       "</style>\n",
       "<table border=\"1\" class=\"dataframe\">\n",
       "  <thead>\n",
       "    <tr style=\"text-align: right;\">\n",
       "      <th></th>\n",
       "      <th>Estatura(metros)</th>\n",
       "      <th>Edad(años)</th>\n",
       "    </tr>\n",
       "  </thead>\n",
       "  <tbody>\n",
       "    <tr>\n",
       "      <th>0</th>\n",
       "      <td>1.77</td>\n",
       "      <td>26</td>\n",
       "    </tr>\n",
       "    <tr>\n",
       "      <th>1</th>\n",
       "      <td>1.74</td>\n",
       "      <td>31</td>\n",
       "    </tr>\n",
       "    <tr>\n",
       "      <th>2</th>\n",
       "      <td>1.72</td>\n",
       "      <td>24</td>\n",
       "    </tr>\n",
       "    <tr>\n",
       "      <th>3</th>\n",
       "      <td>1.78</td>\n",
       "      <td>34</td>\n",
       "    </tr>\n",
       "    <tr>\n",
       "      <th>4</th>\n",
       "      <td>1.65</td>\n",
       "      <td>32</td>\n",
       "    </tr>\n",
       "  </tbody>\n",
       "</table>\n",
       "</div>"
      ],
      "text/plain": [
       "   Estatura(metros)  Edad(años)\n",
       "0              1.77          26\n",
       "1              1.74          31\n",
       "2              1.72          24\n",
       "3              1.78          34\n",
       "4              1.65          32"
      ]
     },
     "execution_count": 27,
     "metadata": {},
     "output_type": "execute_result"
    }
   ],
   "source": [
    "normales.head()"
   ]
  },
  {
   "cell_type": "code",
   "execution_count": 34,
   "id": "d42d4ab4",
   "metadata": {},
   "outputs": [
    {
     "data": {
      "image/png": "[encoded data removed]",
      "text/plain": [
       "<Figure size 432x288 with 1 Axes>"
      ]
     },
     "metadata": {
      "needs_background": "light"
     },
     "output_type": "display_data"
    }
   ],
   "source": [
    "plt.scatter(normales['Estatura(metros)'], normales['Edad(años)'])\n",
    "plt.xlabel(\"Estatura en metros\")\n",
    "plt.ylabel(\"Edad en años\")\n",
    "plt.show()"
   ]
  },
  {
   "cell_type": "markdown",
   "id": "f05e48d2",
   "metadata": {},
   "source": [
    "#### Paso 1: Crear centroides en posiciones aleatorias"
   ]
  },
  {
   "cell_type": "code",
   "execution_count": 48,
   "id": "37fbfc8f",
   "metadata": {},
   "outputs": [
    {
     "name": "stdout",
     "output_type": "stream",
     "text": [
      "Rango de estaturas: 1.55 - 1.9\n",
      "Rango de edades: 21 - 53\n"
     ]
    }
   ],
   "source": [
    "# Obtenemos el rango de las dos variables\n",
    "max_x = normales['Estatura(metros)'].max()\n",
    "min_x = normales['Estatura(metros)'].min()\n",
    "\n",
    "max_y = normales['Edad(años)'].max()\n",
    "min_y = normales['Edad(años)'].min()\n",
    "\n",
    "print('Rango de estaturas: '+str(min_x)+' - '+str(max_x))\n",
    "print('Rango de edades: '+str(min_y)+' - '+str(max_y))"
   ]
  },
  {
   "cell_type": "code",
   "execution_count": 110,
   "id": "713627c7",
   "metadata": {},
   "outputs": [],
   "source": [
    "k = 2\n",
    "centroides = []\n",
    "\n",
    "# generamos k centroides de manera aleatoria y los guardamos en una lista\n",
    "for i in range(k): \n",
    "    coor_y = random.randrange(min_y, max_y)\n",
    "    coor_x = round(random.uniform(min_x, max_x),2)\n",
    "    centroide = coor_x, coor_y\n",
    "    centroides.append(centroide)\n",
    "centroides = np.array(centroides)"
   ]
  },
  {
   "cell_type": "code",
   "execution_count": 111,
   "id": "367db65d",
   "metadata": {},
   "outputs": [
    {
     "data": {
      "text/plain": [
       "array([[ 1.86, 44.  ],\n",
       "       [ 1.74, 52.  ]])"
      ]
     },
     "execution_count": 111,
     "metadata": {},
     "output_type": "execute_result"
    }
   ],
   "source": [
    "centroides"
   ]
  },
  {
   "cell_type": "code",
   "execution_count": 112,
   "id": "62c713e0",
   "metadata": {},
   "outputs": [],
   "source": [
    "# Podemos crear una función que inicialice los centroides dado k y los datos\n",
    "def initialize_centroids(k, data):\n",
    "    max_x = data.iloc[:,0].max()\n",
    "    min_x = data.iloc[:,0].min()\n",
    "    max_y = data.iloc[:,1].max()\n",
    "    min_y = data.iloc[:,1].min()\n",
    "    \n",
    "    centroides = []\n",
    "    \n",
    "    for i in range(k): \n",
    "        coor_y = random.randrange(min_y, max_y)\n",
    "        coor_x = round(random.uniform(min_x, max_x),2)\n",
    "        centroide = coor_x, coor_y\n",
    "        centroides.append(centroide)\n",
    "    \n",
    "    centroides = np.array(centroides)\n",
    "    return centroides"
   ]
  },
  {
   "cell_type": "code",
   "execution_count": 199,
   "id": "ebfd275f",
   "metadata": {},
   "outputs": [
    {
     "data": {
      "text/plain": [
       "array([[ 1.86, 32.  ],\n",
       "       [ 1.7 , 34.  ]])"
      ]
     },
     "execution_count": 199,
     "metadata": {},
     "output_type": "execute_result"
    }
   ],
   "source": [
    "centroides = initialize_centroids(k = 2, data = normales)\n",
    "centroides"
   ]
  },
  {
   "cell_type": "markdown",
   "id": "085d19b2",
   "metadata": {},
   "source": [
    "#### Paso 2: Asignar las observaciones al cluster más cercano\n",
    "Para este paso debemos crear una función para calcular la distancia de cada observación a cada cluster"
   ]
  },
  {
   "cell_type": "code",
   "execution_count": 126,
   "id": "3d662dbf",
   "metadata": {},
   "outputs": [],
   "source": [
    "# Definimos una fórmula para calcular la distancia entre dos puntos\n",
    "def distancia(X1, X2):\n",
    "    return math.sqrt((sum(X1-X2))**2)"
   ]
  },
  {
   "cell_type": "code",
   "execution_count": 135,
   "id": "569e5c78",
   "metadata": {},
   "outputs": [
    {
     "data": {
      "text/plain": [
       "5.12"
      ]
     },
     "execution_count": 135,
     "metadata": {},
     "output_type": "execute_result"
    }
   ],
   "source": [
    "# Podemos probar la función con la primera fila de observaciones\n",
    "distancia(centroides[0], np.array(normales.iloc[1,:]))"
   ]
  },
  {
   "cell_type": "code",
   "execution_count": 186,
   "id": "06ef32b3",
   "metadata": {},
   "outputs": [],
   "source": [
    "def asignar_centroides(centroides_array, data):\n",
    "    centroide_asignado = []\n",
    "    for fila in range(len(data)):\n",
    "        distancias = []\n",
    "        for centroide in centroides_array:\n",
    "            dist = distancia(np.array(data.iloc[fila,:]), centroide)\n",
    "            distancias.append(dist)\n",
    "        centroide_asignado.append([np.argmin(distancias), dist])\n",
    "    clusters = pd.DataFrame(centroide_asignado, columns = ['cluster','distancia_min'])\n",
    "    \n",
    "    return pd.concat([data, clusters], axis = 1)"
   ]
  },
  {
   "cell_type": "code",
   "execution_count": 188,
   "id": "996bad40",
   "metadata": {
    "scrolled": true
   },
   "outputs": [
    {
     "data": {
      "text/html": [
       "<div>\n",
       "<style scoped>\n",
       "    .dataframe tbody tr th:only-of-type {\n",
       "        vertical-align: middle;\n",
       "    }\n",
       "\n",
       "    .dataframe tbody tr th {\n",
       "        vertical-align: top;\n",
       "    }\n",
       "\n",
       "    .dataframe thead th {\n",
       "        text-align: right;\n",
       "    }\n",
       "</style>\n",
       "<table border=\"1\" class=\"dataframe\">\n",
       "  <thead>\n",
       "    <tr style=\"text-align: right;\">\n",
       "      <th></th>\n",
       "      <th>Estatura(metros)</th>\n",
       "      <th>Edad(años)</th>\n",
       "      <th>cluster</th>\n",
       "      <th>distancia_min</th>\n",
       "    </tr>\n",
       "  </thead>\n",
       "  <tbody>\n",
       "    <tr>\n",
       "      <th>0</th>\n",
       "      <td>1.77</td>\n",
       "      <td>26</td>\n",
       "      <td>0</td>\n",
       "      <td>1.87</td>\n",
       "    </tr>\n",
       "    <tr>\n",
       "      <th>1</th>\n",
       "      <td>1.74</td>\n",
       "      <td>31</td>\n",
       "      <td>1</td>\n",
       "      <td>3.10</td>\n",
       "    </tr>\n",
       "    <tr>\n",
       "      <th>2</th>\n",
       "      <td>1.72</td>\n",
       "      <td>24</td>\n",
       "      <td>0</td>\n",
       "      <td>3.92</td>\n",
       "    </tr>\n",
       "    <tr>\n",
       "      <th>3</th>\n",
       "      <td>1.78</td>\n",
       "      <td>34</td>\n",
       "      <td>1</td>\n",
       "      <td>6.14</td>\n",
       "    </tr>\n",
       "    <tr>\n",
       "      <th>4</th>\n",
       "      <td>1.65</td>\n",
       "      <td>32</td>\n",
       "      <td>1</td>\n",
       "      <td>4.01</td>\n",
       "    </tr>\n",
       "  </tbody>\n",
       "</table>\n",
       "</div>"
      ],
      "text/plain": [
       "   Estatura(metros)  Edad(años)  cluster  distancia_min\n",
       "0              1.77          26        0           1.87\n",
       "1              1.74          31        1           3.10\n",
       "2              1.72          24        0           3.92\n",
       "3              1.78          34        1           6.14\n",
       "4              1.65          32        1           4.01"
      ]
     },
     "execution_count": 188,
     "metadata": {},
     "output_type": "execute_result"
    }
   ],
   "source": [
    "# Comprobamos que la función nos indica el índice del centroide asignado:\n",
    "asignar_centroides(centroides, normales).head()"
   ]
  },
  {
   "cell_type": "markdown",
   "id": "90296d2b",
   "metadata": {},
   "source": [
    "Debemos calcular la distancia total, ya que esto determina si el algoritmo converge o no:"
   ]
  },
  {
   "cell_type": "code",
   "execution_count": 190,
   "id": "165f814d",
   "metadata": {},
   "outputs": [
    {
     "data": {
      "text/plain": [
       "215.43"
      ]
     },
     "execution_count": 190,
     "metadata": {},
     "output_type": "execute_result"
    }
   ],
   "source": [
    "new_data = asignar_centroides(centroides, normales)\n",
    "new_data['distancia_min'].sum()"
   ]
  },
  {
   "cell_type": "code",
   "execution_count": 266,
   "id": "a0de342c",
   "metadata": {},
   "outputs": [
    {
     "data": {
      "text/plain": [
       "207.01915805065"
      ]
     },
     "execution_count": 266,
     "metadata": {},
     "output_type": "execute_result"
    }
   ],
   "source": [
    "LA.norm(new_data)"
   ]
  },
  {
   "cell_type": "markdown",
   "id": "17233bc9",
   "metadata": {},
   "source": [
    "#### Paso 3: Mover los centroides a la posición promedio de las observaciones de cada cluster"
   ]
  },
  {
   "cell_type": "code",
   "execution_count": 234,
   "id": "ad443d2a",
   "metadata": {},
   "outputs": [
    {
     "data": {
      "text/html": [
       "<div>\n",
       "<style scoped>\n",
       "    .dataframe tbody tr th:only-of-type {\n",
       "        vertical-align: middle;\n",
       "    }\n",
       "\n",
       "    .dataframe tbody tr th {\n",
       "        vertical-align: top;\n",
       "    }\n",
       "\n",
       "    .dataframe thead th {\n",
       "        text-align: right;\n",
       "    }\n",
       "</style>\n",
       "<table border=\"1\" class=\"dataframe\">\n",
       "  <thead>\n",
       "    <tr style=\"text-align: right;\">\n",
       "      <th></th>\n",
       "      <th>Estatura(metros)</th>\n",
       "      <th>Edad(años)</th>\n",
       "    </tr>\n",
       "  </thead>\n",
       "  <tbody>\n",
       "    <tr>\n",
       "      <th>0</th>\n",
       "      <td>1.750000</td>\n",
       "      <td>24.500000</td>\n",
       "    </tr>\n",
       "    <tr>\n",
       "      <th>1</th>\n",
       "      <td>1.720417</td>\n",
       "      <td>33.833333</td>\n",
       "    </tr>\n",
       "  </tbody>\n",
       "</table>\n",
       "</div>"
      ],
      "text/plain": [
       "   Estatura(metros)  Edad(años)\n",
       "0          1.750000   24.500000\n",
       "1          1.720417   33.833333"
      ]
     },
     "execution_count": 234,
     "metadata": {},
     "output_type": "execute_result"
    }
   ],
   "source": [
    "nuevos_centroides = new_data.groupby('cluster').agg('mean').iloc[:,0:2].reset_index(drop = True)\n",
    "nuevos_centroides "
   ]
  },
  {
   "cell_type": "markdown",
   "id": "c6620c8c",
   "metadata": {},
   "source": [
    "#### Paso 4: Unir todo\n",
    "\n",
    "Ahora podemos unir todos los pasos para crear una función que haga K-means para cierto K y datos"
   ]
  },
  {
   "cell_type": "code",
   "execution_count": 377,
   "id": "f04f3f2a",
   "metadata": {},
   "outputs": [],
   "source": [
    "def kmeans(data, k, iteraciones):\n",
    "    \n",
    "    # obtener los centroids iniciales\n",
    "    centroides = initialize_centroids(k, data)\n",
    "    \n",
    "    modelos = []\n",
    "    \n",
    "    for i in range(iteraciones):\n",
    "        # asignar observaciones a los clusters\n",
    "        new_data = asignar_centroides(centroides, data)\n",
    "\n",
    "        # calcular la distancia total\n",
    "        distancia = new_data['distancia_min'].sum()\n",
    "        distorsion = LA.norm(new_data)\n",
    "        modelos.append((i, centroides, k, distorsion, np.array(new_data['cluster'])))\n",
    "        \n",
    "        # calcular los nuenvos centroides\n",
    "        centroides = np.array(new_data.groupby('cluster').agg('mean').iloc[:,0:2].reset_index(drop = True))\n",
    "    \n",
    "    return modelos"
   ]
  },
  {
   "cell_type": "code",
   "execution_count": 397,
   "id": "6288d8d4",
   "metadata": {},
   "outputs": [],
   "source": [
    "modelos = pd.DataFrame(kmeans(normales,3,10), columns = ['iteracion','centroides','k','distorsion','cluster'])"
   ]
  },
  {
   "cell_type": "markdown",
   "id": "0b6214ac",
   "metadata": {},
   "source": [
    "#### Método del codo\n",
    "Ahora podemos utilizar el método del codo para evaluar si existe un k óptimo:"
   ]
  },
  {
   "cell_type": "code",
   "execution_count": 398,
   "id": "32d09b37",
   "metadata": {},
   "outputs": [
    {
     "data": {
      "text/html": [
       "<div>\n",
       "<style scoped>\n",
       "    .dataframe tbody tr th:only-of-type {\n",
       "        vertical-align: middle;\n",
       "    }\n",
       "\n",
       "    .dataframe tbody tr th {\n",
       "        vertical-align: top;\n",
       "    }\n",
       "\n",
       "    .dataframe thead th {\n",
       "        text-align: right;\n",
       "    }\n",
       "</style>\n",
       "<table border=\"1\" class=\"dataframe\">\n",
       "  <thead>\n",
       "    <tr style=\"text-align: right;\">\n",
       "      <th></th>\n",
       "      <th>iteracion</th>\n",
       "      <th>centroides</th>\n",
       "      <th>k</th>\n",
       "      <th>distorsion</th>\n",
       "      <th>cluster</th>\n",
       "    </tr>\n",
       "  </thead>\n",
       "  <tbody>\n",
       "    <tr>\n",
       "      <th>0</th>\n",
       "      <td>0</td>\n",
       "      <td>[[1.62, 40.0], [1.83, 49.0], [1.8, 44.0]]</td>\n",
       "      <td>3</td>\n",
       "      <td>227.889132</td>\n",
       "      <td>[0, 0, 0, 0, 0, 0, 0, 0, 0, 0, 0, 0, 0, 0, 0, ...</td>\n",
       "    </tr>\n",
       "    <tr>\n",
       "      <th>1</th>\n",
       "      <td>1</td>\n",
       "      <td>[[1.7307317073170727, 28.21951219512195], [1.8...</td>\n",
       "      <td>3</td>\n",
       "      <td>224.799363</td>\n",
       "      <td>[0, 0, 0, 0, 0, 0, 0, 0, 0, 0, 0, 0, 0, 0, 0, ...</td>\n",
       "    </tr>\n",
       "    <tr>\n",
       "      <th>2</th>\n",
       "      <td>2</td>\n",
       "      <td>[[1.728461538461538, 27.666666666666668], [1.8...</td>\n",
       "      <td>3</td>\n",
       "      <td>218.666696</td>\n",
       "      <td>[0, 0, 0, 2, 0, 0, 0, 2, 0, 0, 0, 0, 0, 0, 0, ...</td>\n",
       "    </tr>\n",
       "    <tr>\n",
       "      <th>3</th>\n",
       "      <td>3</td>\n",
       "      <td>[[1.7231428571428564, 26.914285714285715], [1....</td>\n",
       "      <td>3</td>\n",
       "      <td>212.358347</td>\n",
       "      <td>[0, 0, 0, 2, 2, 0, 0, 2, 0, 0, 0, 0, 0, 0, 0, ...</td>\n",
       "    </tr>\n",
       "    <tr>\n",
       "      <th>4</th>\n",
       "      <td>4</td>\n",
       "      <td>[[1.723666666666666, 25.9], [1.84, 51.0], [1.7...</td>\n",
       "      <td>3</td>\n",
       "      <td>210.188111</td>\n",
       "      <td>[0, 2, 0, 2, 2, 0, 0, 2, 0, 0, 0, 0, 0, 0, 0, ...</td>\n",
       "    </tr>\n",
       "  </tbody>\n",
       "</table>\n",
       "</div>"
      ],
      "text/plain": [
       "   iteracion                                         centroides  k  \\\n",
       "0          0          [[1.62, 40.0], [1.83, 49.0], [1.8, 44.0]]  3   \n",
       "1          1  [[1.7307317073170727, 28.21951219512195], [1.8...  3   \n",
       "2          2  [[1.728461538461538, 27.666666666666668], [1.8...  3   \n",
       "3          3  [[1.7231428571428564, 26.914285714285715], [1....  3   \n",
       "4          4  [[1.723666666666666, 25.9], [1.84, 51.0], [1.7...  3   \n",
       "\n",
       "   distorsion                                            cluster  \n",
       "0  227.889132  [0, 0, 0, 0, 0, 0, 0, 0, 0, 0, 0, 0, 0, 0, 0, ...  \n",
       "1  224.799363  [0, 0, 0, 0, 0, 0, 0, 0, 0, 0, 0, 0, 0, 0, 0, ...  \n",
       "2  218.666696  [0, 0, 0, 2, 0, 0, 0, 2, 0, 0, 0, 0, 0, 0, 0, ...  \n",
       "3  212.358347  [0, 0, 0, 2, 2, 0, 0, 2, 0, 0, 0, 0, 0, 0, 0, ...  \n",
       "4  210.188111  [0, 2, 0, 2, 2, 0, 0, 2, 0, 0, 0, 0, 0, 0, 0, ...  "
      ]
     },
     "execution_count": 398,
     "metadata": {},
     "output_type": "execute_result"
    }
   ],
   "source": [
    "modelos.head()"
   ]
  },
  {
   "cell_type": "code",
   "execution_count": 410,
   "id": "24599f1c",
   "metadata": {},
   "outputs": [
    {
     "data": {
      "text/plain": [
       "array([array([[ 1.72925926, 25.37037037],\n",
       "              [ 1.77666667, 48.33333333],\n",
       "              [ 1.73357143, 33.71428571]]), 3], dtype=object)"
      ]
     },
     "execution_count": 410,
     "metadata": {},
     "output_type": "execute_result"
    }
   ],
   "source": [
    "# Podemos obtener la mejor configuración de las iteraciones K y la distorsión\n",
    "resultado = np.array(modelos.loc[modelos['distorsion'].argmin(),:])\n",
    "resultado[1:3]"
   ]
  },
  {
   "cell_type": "markdown",
   "id": "53afba80",
   "metadata": {},
   "source": [
    "Ejecutamos el algoritmo K means varias veces para graficar la distorsión para varios valores de K:"
   ]
  },
  {
   "cell_type": "code",
   "execution_count": 392,
   "id": "4f394b7a",
   "metadata": {},
   "outputs": [],
   "source": [
    "k_dist_arr = np.array([math.inf, math.inf])\n",
    "for i in range(1,10):\n",
    "    modelos = pd.DataFrame(kmeans(normales,i,10), columns = ['iteracion','centroides','k','distorsion','cluster'])\n",
    "    resultado = np.array(modelos.loc[modelos['distorsion'].argmin(),:])\n",
    "    k_dist = resultado[2:4]\n",
    "    k_dist_arr = np.vstack((k_dist_arr,k_dist))"
   ]
  },
  {
   "cell_type": "code",
   "execution_count": 393,
   "id": "462188fa",
   "metadata": {
    "scrolled": true
   },
   "outputs": [
    {
     "data": {
      "image/png": "[encoded data removed]",
      "text/plain": [
       "<Figure size 432x288 with 1 Axes>"
      ]
     },
     "metadata": {
      "needs_background": "light"
     },
     "output_type": "display_data"
    }
   ],
   "source": [
    "plt.plot(k_dist_arr[:,0],k_dist_arr[:,1])\n",
    "plt.xlabel('Valores de K')\n",
    "plt.ylabel('Distorsión')\n",
    "plt.show()"
   ]
  },
  {
   "cell_type": "markdown",
   "id": "2f3cd44f",
   "metadata": {},
   "source": [
    "De acuerdo el método del codo deberíamos elegir el valor de K donde se genera el \"codo\" en la gráfica de distorsión. Sin embargo, observamos que la gráfica no tiene un codo como tal. Al ver el contenido del arreglo que tiene los valores de K y la distorsión vemos que la menor distorsión (diferente de 1 cluster) se da cuando K = 3."
   ]
  },
  {
   "cell_type": "code",
   "execution_count": 394,
   "id": "9c1386a1",
   "metadata": {},
   "outputs": [
    {
     "data": {
      "text/plain": [
       "array([[inf, inf],\n",
       "       [1, 206.6592354522954],\n",
       "       [2, 215.56153228254803],\n",
       "       [3, 206.89452913018263],\n",
       "       [4, 206.95261620853105],\n",
       "       [5, 247.4208835163273],\n",
       "       [6, 207.79981857547423],\n",
       "       [7, 215.06360826508978],\n",
       "       [8, 208.75337027219464],\n",
       "       [9, 209.5906913535065]], dtype=object)"
      ]
     },
     "execution_count": 394,
     "metadata": {},
     "output_type": "execute_result"
    }
   ],
   "source": [
    "k_dist_arr"
   ]
  },
  {
   "cell_type": "code",
   "execution_count": 411,
   "id": "ced03679",
   "metadata": {},
   "outputs": [
    {
     "data": {
      "text/plain": [
       "array([0, 2, 0, 2, 2, 0, 0, 2, 0, 0, 0, 0, 0, 0, 0, 2, 0, 0, 0, 0, 2, 2,\n",
       "       0, 0, 2, 2, 0, 0, 0, 2, 0, 0, 2, 2, 1, 0, 0, 0, 0, 1, 0, 2, 2, 1],\n",
       "      dtype=int64)"
      ]
     },
     "execution_count": 411,
     "metadata": {},
     "output_type": "execute_result"
    }
   ],
   "source": [
    "# En la posición 4 de resultados obtenemos la asignación de los clusters:\n",
    "resultado[4]"
   ]
  },
  {
   "cell_type": "code",
   "execution_count": 412,
   "id": "b77ade99",
   "metadata": {},
   "outputs": [
    {
     "data": {
      "image/png": "[encoded data removed]",
      "text/plain": [
       "<Figure size 432x288 with 1 Axes>"
      ]
     },
     "metadata": {
      "needs_background": "light"
     },
     "output_type": "display_data"
    }
   ],
   "source": [
    "clusters = resultado[4]\n",
    "plt.scatter(normales.iloc[:,0], normales.iloc[:,1], c = clusters)\n",
    "plt.xlabel(\"Estatura en metros\")\n",
    "plt.ylabel(\"Edad en años\")\n",
    "plt.show()"
   ]
  },
  {
   "cell_type": "markdown",
   "id": "0981a7b4",
   "metadata": {},
   "source": [
    "Si analizamos el centroide de cada cluster podemos observar que la diferencia se produce mayormente debido a la edad y menormente a la estatura. En este caso sería posible **asignar una categoría a cada grupo basada en rangos de edad**. Por elemplo podrían utilizarse los rangos de 25 o menor, 26 a 34 y 35 o mayor. "
   ]
  },
  {
   "cell_type": "code",
   "execution_count": 413,
   "id": "e303fabd",
   "metadata": {},
   "outputs": [
    {
     "data": {
      "text/plain": [
       "array([[ 1.72925926, 25.37037037],\n",
       "       [ 1.77666667, 48.33333333],\n",
       "       [ 1.73357143, 33.71428571]])"
      ]
     },
     "execution_count": 413,
     "metadata": {},
     "output_type": "execute_result"
    }
   ],
   "source": [
    "resultado[1]"
   ]
  },
  {
   "cell_type": "markdown",
   "id": "c759ee8a",
   "metadata": {},
   "source": [
    "## Implementación de soft clustering con GMM"
   ]
  },
  {
   "cell_type": "markdown",
   "id": "69f3bfb4",
   "metadata": {},
   "source": [
    "Utilizando el mismo valor de K:"
   ]
  },
  {
   "cell_type": "code",
   "execution_count": 352,
   "id": "52ce58a8",
   "metadata": {},
   "outputs": [],
   "source": [
    "gmm = GM(n_components = 3).fit(normales)\n",
    "labels = gmm.predict(normales)"
   ]
  },
  {
   "cell_type": "code",
   "execution_count": 354,
   "id": "658f6d86",
   "metadata": {},
   "outputs": [
    {
     "data": {
      "text/plain": [
       "array([0, 1, 0, 1, 1, 1, 0, 1, 0, 0, 0, 0, 0, 0, 0, 1, 0, 0, 0, 0, 1, 1,\n",
       "       0, 0, 1, 1, 0, 0, 0, 1, 0, 0, 1, 1, 2, 0, 0, 0, 0, 2, 0, 1, 1, 2],\n",
       "      dtype=int64)"
      ]
     },
     "execution_count": 354,
     "metadata": {},
     "output_type": "execute_result"
    }
   ],
   "source": [
    "labels"
   ]
  },
  {
   "cell_type": "code",
   "execution_count": 355,
   "id": "4753b7b9",
   "metadata": {},
   "outputs": [
    {
     "data": {
      "image/png": "[encoded data removed]",
      "text/plain": [
       "<Figure size 432x288 with 1 Axes>"
      ]
     },
     "metadata": {
      "needs_background": "light"
     },
     "output_type": "display_data"
    }
   ],
   "source": [
    "plt.scatter(normales.iloc[:,0], normales.iloc[:,1], c = labels)\n",
    "plt.xlabel(\"Estatura en metros\")\n",
    "plt.ylabel(\"Edad en años\")\n",
    "plt.show()"
   ]
  },
  {
   "cell_type": "markdown",
   "id": "86c45c37",
   "metadata": {},
   "source": [
    "Con el Gaussian Mixture Model podemos obtener también las probabilidades de que cada observación permanezca a cierto cluster:"
   ]
  },
  {
   "cell_type": "code",
   "execution_count": 353,
   "id": "582286d3",
   "metadata": {},
   "outputs": [
    {
     "data": {
      "text/plain": [
       "array([[0.999, 0.001, 0.   ],\n",
       "       [0.021, 0.979, 0.   ],\n",
       "       [1.   , 0.   , 0.   ],\n",
       "       [0.   , 1.   , 0.   ],\n",
       "       [0.013, 0.987, 0.   ],\n",
       "       [0.495, 0.505, 0.   ],\n",
       "       [0.903, 0.097, 0.   ],\n",
       "       [0.   , 1.   , 0.   ],\n",
       "       [1.   , 0.   , 0.   ],\n",
       "       [1.   , 0.   , 0.   ],\n",
       "       [1.   , 0.   , 0.   ],\n",
       "       [1.   , 0.   , 0.   ],\n",
       "       [1.   , 0.   , 0.   ],\n",
       "       [0.985, 0.015, 0.   ],\n",
       "       [1.   , 0.   , 0.   ],\n",
       "       [0.   , 1.   , 0.   ],\n",
       "       [0.99 , 0.01 , 0.   ],\n",
       "       [0.939, 0.061, 0.   ],\n",
       "       [0.971, 0.029, 0.   ],\n",
       "       [0.991, 0.009, 0.   ],\n",
       "       [0.002, 0.998, 0.   ],\n",
       "       [0.   , 1.   , 0.   ],\n",
       "       [1.   , 0.   , 0.   ],\n",
       "       [1.   , 0.   , 0.   ],\n",
       "       [0.   , 1.   , 0.   ],\n",
       "       [0.   , 1.   , 0.   ],\n",
       "       [0.873, 0.127, 0.   ],\n",
       "       [0.953, 0.047, 0.   ],\n",
       "       [0.941, 0.059, 0.   ],\n",
       "       [0.215, 0.785, 0.   ],\n",
       "       [0.995, 0.005, 0.   ],\n",
       "       [1.   , 0.   , 0.   ],\n",
       "       [0.   , 1.   , 0.   ],\n",
       "       [0.   , 1.   , 0.   ],\n",
       "       [0.   , 0.   , 1.   ],\n",
       "       [0.775, 0.225, 0.   ],\n",
       "       [1.   , 0.   , 0.   ],\n",
       "       [1.   , 0.   , 0.   ],\n",
       "       [1.   , 0.   , 0.   ],\n",
       "       [0.   , 0.   , 1.   ],\n",
       "       [0.995, 0.005, 0.   ],\n",
       "       [0.098, 0.902, 0.   ],\n",
       "       [0.   , 1.   , 0.   ],\n",
       "       [0.   , 0.   , 1.   ]])"
      ]
     },
     "execution_count": 353,
     "metadata": {},
     "output_type": "execute_result"
    }
   ],
   "source": [
    "probs = gmm.predict_proba(normales)\n",
    "np.round(probs,3)"
   ]
  },
  {
   "cell_type": "markdown",
   "id": "79e16eb1",
   "metadata": {},
   "source": [
    "## Estimación usando los datos de la pestaña valtest(normales)"
   ]
  },
  {
   "cell_type": "markdown",
   "id": "5ad5423c",
   "metadata": {},
   "source": [
    "Primero, graficamos las observaciones en un scatter plot:"
   ]
  },
  {
   "cell_type": "code",
   "execution_count": 415,
   "id": "bb9da418",
   "metadata": {},
   "outputs": [
    {
     "data": {
      "image/png": "[encoded data removed]",
      "text/plain": [
       "<Figure size 432x288 with 1 Axes>"
      ]
     },
     "metadata": {
      "needs_background": "light"
     },
     "output_type": "display_data"
    }
   ],
   "source": [
    "plt.scatter(valtest['Estatura(metros)'], valtest['Edad(años)'])\n",
    "plt.xlabel(\"Estatura en metros\")\n",
    "plt.ylabel(\"Edad en años\")\n",
    "plt.show()"
   ]
  },
  {
   "cell_type": "markdown",
   "id": "f07802e6",
   "metadata": {},
   "source": [
    "Definimos una función para seleccionar el valor de k y graficar distorsión vs valores de k:"
   ]
  },
  {
   "cell_type": "code",
   "execution_count": 418,
   "id": "4914a251",
   "metadata": {},
   "outputs": [],
   "source": [
    "def seleccionar_k(data, max_k):\n",
    "    k_dist_arr = np.array([math.inf, math.inf])\n",
    "    for i in range(1,max_k):\n",
    "        modelos = pd.DataFrame(kmeans(data,i,10), columns = ['iteracion','centroides','k','distorsion','cluster'])\n",
    "        resultado = np.array(modelos.loc[modelos['distorsion'].argmin(),:])\n",
    "        k_dist = resultado[2:4]\n",
    "        k_dist_arr = np.vstack((k_dist_arr,k_dist))\n",
    "        \n",
    "    plt.plot(k_dist_arr[:,0],k_dist_arr[:,1])\n",
    "    plt.xlabel('Valores de K')\n",
    "    plt.ylabel('Distorsión')\n",
    "    plt.show()\n",
    "    \n",
    "    return k_dist_arr"
   ]
  },
  {
   "cell_type": "code",
   "execution_count": 420,
   "id": "3bc3c3a1",
   "metadata": {},
   "outputs": [
    {
     "data": {
      "image/png": "[encoded data removed]",
      "text/plain": [
       "<Figure size 432x288 with 1 Axes>"
      ]
     },
     "metadata": {
      "needs_background": "light"
     },
     "output_type": "display_data"
    },
    {
     "data": {
      "text/plain": [
       "array([[inf, inf],\n",
       "       [1, 86.44415654050886],\n",
       "       [2, 86.48186168208915],\n",
       "       [3, 87.13898094423644],\n",
       "       [4, 86.67831331999949],\n",
       "       [5, 86.6417012760022],\n",
       "       [6, 86.8532670657817],\n",
       "       [7, 87.4826634253896],\n",
       "       [8, 86.95448234565025],\n",
       "       [9, 86.90474900717452]], dtype=object)"
      ]
     },
     "execution_count": 420,
     "metadata": {},
     "output_type": "execute_result"
    }
   ],
   "source": [
    "seleccionar_k(valtest, 10)"
   ]
  },
  {
   "cell_type": "markdown",
   "id": "9f95f509",
   "metadata": {},
   "source": [
    "La menor distorsión se encuentra en k = 2. \n",
    "\n",
    "Ahora podemos utilizar este valor en la función kmeans para determinar a qué clusters se asigna cada observación:"
   ]
  },
  {
   "cell_type": "code",
   "execution_count": 435,
   "id": "fcac8270",
   "metadata": {},
   "outputs": [
    {
     "data": {
      "text/plain": [
       "array([1, 1, 1, 0, 1, 0, 1, 1], dtype=int64)"
      ]
     },
     "execution_count": 435,
     "metadata": {},
     "output_type": "execute_result"
    }
   ],
   "source": [
    "modelos2 = pd.DataFrame(kmeans(valtest,2,10), columns = ['iteracion','centroides','k','distorsion','cluster'])\n",
    "resultado2 =  np.array(modelos2.loc[modelos2['distorsion'].argmin(),:])\n",
    "clusters_asignados_Kmeans = resultado2[4]\n",
    "clusters_asignados_Kmeans"
   ]
  },
  {
   "cell_type": "markdown",
   "id": "8a584757",
   "metadata": {},
   "source": [
    "Determinamos la probabilidad de pertenecer a cada cluster según GMM (y también generamos a que clusters se asignan según GMM): "
   ]
  },
  {
   "cell_type": "code",
   "execution_count": 436,
   "id": "fb712a6f",
   "metadata": {},
   "outputs": [
    {
     "data": {
      "text/plain": [
       "array([[0., 1.],\n",
       "       [0., 1.],\n",
       "       [1., 0.],\n",
       "       [1., 0.],\n",
       "       [1., 0.],\n",
       "       [1., 0.],\n",
       "       [1., 0.],\n",
       "       [1., 0.]])"
      ]
     },
     "execution_count": 436,
     "metadata": {},
     "output_type": "execute_result"
    }
   ],
   "source": [
    "gmm2 = GM(n_components = 2).fit(valtest)\n",
    "clusters_asignados_GMM = gmm2.predict(valtest)\n",
    "probs_GMM = gmm2.predict_proba(valtest)\n",
    "np.round(probs_GMM,3)"
   ]
  },
  {
   "cell_type": "markdown",
   "id": "dd423924",
   "metadata": {},
   "source": [
    "Ahora podemos comparar los resultados en un scatter plot. \n",
    "\n",
    "**Asignación de clusters según Kmeans:**"
   ]
  },
  {
   "cell_type": "code",
   "execution_count": 440,
   "id": "de6c378f",
   "metadata": {},
   "outputs": [
    {
     "data": {
      "image/png": "[encoded data removed]",
      "text/plain": [
       "<Figure size 432x288 with 1 Axes>"
      ]
     },
     "metadata": {
      "needs_background": "light"
     },
     "output_type": "display_data"
    }
   ],
   "source": [
    "plt.scatter(valtest.iloc[:,0], valtest.iloc[:,1], c = clusters_asignados_Kmeans)\n",
    "plt.xlabel(\"Estatura en metros\")\n",
    "plt.ylabel(\"Edad en años\")\n",
    "plt.show()"
   ]
  },
  {
   "cell_type": "markdown",
   "id": "3e3ab3fc",
   "metadata": {},
   "source": [
    "**Asignación de clusters según GMM:**"
   ]
  },
  {
   "cell_type": "code",
   "execution_count": 441,
   "id": "623263fa",
   "metadata": {},
   "outputs": [
    {
     "data": {
      "image/png": "[encoded data removed]",
      "text/plain": [
       "<Figure size 432x288 with 1 Axes>"
      ]
     },
     "metadata": {
      "needs_background": "light"
     },
     "output_type": "display_data"
    }
   ],
   "source": [
    "plt.scatter(valtest.iloc[:,0], valtest.iloc[:,1], c = clusters_asignados_GMM)\n",
    "plt.xlabel(\"Estatura en metros\")\n",
    "plt.ylabel(\"Edad en años\")\n",
    "plt.show()"
   ]
  },
  {
   "cell_type": "markdown",
   "id": "42fb277f",
   "metadata": {},
   "source": [
    "## Usar GMM para estimación de Monte Carlo\n",
    "\n",
    "Simular 1000 observaciones para hacer una estimación de Monte Carlo del valor esperado de la siguiente función:\n",
    "\n",
    "$$f(edad,estatura) = \\frac{estatura}{edad}$$"
   ]
  },
  {
   "cell_type": "code",
   "execution_count": 454,
   "id": "b527574b",
   "metadata": {},
   "outputs": [],
   "source": [
    "def f(X):\n",
    "    estatura = X[:,0]\n",
    "    edad = X[:,1]\n",
    "    return estatura/edad"
   ]
  },
  {
   "cell_type": "code",
   "execution_count": 456,
   "id": "80f0a7d5",
   "metadata": {},
   "outputs": [],
   "source": [
    "muestra, cluster = gmm.sample(1000)\n",
    "\n",
    "muestra_f = f(muestra)\n",
    "valor_esperado_f = np.mean(muestra_f)"
   ]
  },
  {
   "cell_type": "code",
   "execution_count": 457,
   "id": "92399ae4",
   "metadata": {},
   "outputs": [
    {
     "data": {
      "text/plain": [
       "0.060901823524371214"
      ]
     },
     "execution_count": 457,
     "metadata": {},
     "output_type": "execute_result"
    }
   ],
   "source": [
    "valor_esperado_f"
   ]
  },
  {
   "cell_type": "code",
   "execution_count": 463,
   "id": "ff5da4b3",
   "metadata": {},
   "outputs": [
    {
     "data": {
      "image/png": "[encoded data removed]",
      "text/plain": [
       "<Figure size 432x288 with 1 Axes>"
      ]
     },
     "metadata": {
      "needs_background": "light"
     },
     "output_type": "display_data"
    }
   ],
   "source": [
    "plt.hist(muestra_f, density=True)\n",
    "plt.axvline(valor_esperado_f,color=\"r\",linestyle=\"--\")\n",
    "plt.title(\"El valor esperado de f(X) es:{}\".format(valor_esperado_f))\n",
    "plt.show()"
   ]
  },
  {
   "cell_type": "markdown",
   "id": "e19f0839",
   "metadata": {},
   "source": [
    "## Conclusión y análisis final\n",
    "\n",
    "* El resultado de hard clustering con K-means (manual) vs. soft clustering con GMM es prácticamente el mismo (si se usa el mismo valor de K), sin embargo GMM permite obtener las predicciones probabilísticas de cada cluster (para el caso de los datos de la primera pestaña). \n",
    "\n",
    "\n",
    "* Cuando se analiza el centroide de cada cluster, para este caso en particular, se puede observar que es posible asignar categorías basadas en rango de edad, ya que los clusters se asignan principalmente por la diferencia de edades y en menor medida por la diferencia de estaturas. \n",
    "\n",
    "\n",
    "* El método del codo no siempre produce un \"codo\" en la gráfica de k-distorsión, por lo que no siempre es conveniente utilizarlo, pero es una buena práctica para observar cual es el valor de K que produce la menor distorsión. \n",
    "\n",
    "\n",
    "* Cuando se evaluan los datos \"valtest\" los resultados de Kmeans difieren de los de GMM. En el caso de GMM, la asignación de los clusters es mejor ya que la separación es más clara. \n",
    "\n",
    "\n",
    "* Es posible utilizar el Gaussian Mixture Model para generar muestras y hacer una simulación de Monte Carlo. En Scikit Learn se hace a través del método .sample. "
   ]
  }
 ],
 "metadata": {
  "kernelspec": {
   "display_name": "Python 3",
   "language": "python",
   "name": "python3"
  },
  "language_info": {
   "codemirror_mode": {
    "name": "ipython",
    "version": 3
   },
   "file_extension": ".py",
   "mimetype": "text/x-python",
   "name": "python",
   "nbconvert_exporter": "python",
   "pygments_lexer": "ipython3",
   "version": "3.8.10"
  }
 },
 "nbformat": 4,
 "nbformat_minor": 5
}
