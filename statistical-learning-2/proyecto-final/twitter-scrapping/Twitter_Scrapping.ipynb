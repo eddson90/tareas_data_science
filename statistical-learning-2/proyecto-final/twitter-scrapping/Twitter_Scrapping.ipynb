{
 "cells": [
  {
   "cell_type": "markdown",
   "id": "b65e3a22-6b2d-4eb5-b26b-bf6a31697c18",
   "metadata": {},
   "source": [
    "# Twitter Scrapping"
   ]
  },
  {
   "cell_type": "markdown",
   "id": "c85b4c1c-a2ce-481f-a177-348da30e9c4a",
   "metadata": {},
   "source": [
    "## 1. Twitter Scrapping con snscrape"
   ]
  },
  {
   "cell_type": "markdown",
   "id": "705a8411-d2f8-4c83-b8c0-89255d025236",
   "metadata": {},
   "source": [
    "En esta sección se usa snscrape para hacer Twitter Scrapping de los n más recientes Tweets de la cuenta Arachno_Cosas. Esto genera un dataframe con los tweets que esta cuenta respondió a las menciones que le hicieron. Las respuestas de la cuenta consisten en la explicación de si la araña de la imagen es de importancia médica o no y la especie. "
   ]
  },
  {
   "cell_type": "markdown",
   "id": "0243e3fb-3da5-4ad0-8f30-b38937fcf486",
   "metadata": {},
   "source": [
    "Instalación de snscrape desde git"
   ]
  },
  {
   "cell_type": "code",
   "execution_count": null,
   "id": "b17dd098-9513-4a95-8743-8ce8f66b2967",
   "metadata": {},
   "outputs": [],
   "source": [
    "pip install git+https://github.com/JustAnotherArchivist/snscrape.git"
   ]
  },
  {
   "cell_type": "markdown",
   "id": "f834b36f-1517-4049-967a-909cc6ad8888",
   "metadata": {},
   "source": [
    "Seleccionar los últimos n tweeets de un usuario y guardarlos en un archivo .json:"
   ]
  },
  {
   "cell_type": "code",
   "execution_count": 482,
   "id": "c1100a88-c22b-4089-8e6e-a5d1d4da9da9",
   "metadata": {},
   "outputs": [
    {
     "data": {
      "text/plain": [
       "0"
      ]
     },
     "execution_count": 482,
     "metadata": {},
     "output_type": "execute_result"
    }
   ],
   "source": [
    "import os\n",
    "os.system(\"snscrape --jsonl --max-results 100 twitter-search 'from:Arachno_Cosas'> user-tweets.json\")"
   ]
  },
  {
   "cell_type": "markdown",
   "id": "e90c9729-8a9e-4afb-ab1d-b905c027cd1e",
   "metadata": {},
   "source": [
    "Convertir el archivo de json a un dataframe de pandas:"
   ]
  },
  {
   "cell_type": "code",
   "execution_count": 21,
   "id": "81935a11-8e06-49ec-9bf1-7dbad455345d",
   "metadata": {},
   "outputs": [
    {
     "data": {
      "text/plain": [
       "(100, 28)"
      ]
     },
     "execution_count": 21,
     "metadata": {},
     "output_type": "execute_result"
    }
   ],
   "source": [
    "import pandas as pd\n",
    "tweets_df = pd.read_json('user-tweets.json', lines=True)\n",
    "tweets_df.shape"
   ]
  },
  {
   "cell_type": "markdown",
   "id": "911eb442-e32c-4fba-9815-d84c8c942b8a",
   "metadata": {},
   "source": [
    "Se modifica el dataframe, quitando algunos campos que no se utilizan y filtrando únicamente los tweets que tengan mención de otro usuario, que tengan un link externo y que tengan hashtags. "
   ]
  },
  {
   "cell_type": "code",
   "execution_count": 22,
   "id": "372f4cd0-4382-4e97-a622-5855091aa4d3",
   "metadata": {},
   "outputs": [],
   "source": [
    "tweets_df = tweets_df.drop(['_type','replyCount','retweetCount','likeCount','lang','source','sourceUrl','sourceLabel',\n",
    "                            'tcooutlinks','retweetedTweet','quotedTweet','inReplyToUser','coordinates',\n",
    "                            'place','cashtags','quoteCount', 'media'], axis = 1)\n",
    "tweets_df = tweets_df[pd.isnull(tweets_df['mentionedUsers']) == False]\n",
    "tweets_df = tweets_df[pd.isnull(tweets_df['outlinks']) == False]\n",
    "tweets_df = tweets_df[pd.isnull(tweets_df['hashtags']) == False]\n",
    "tweets_df = tweets_df.reset_index()"
   ]
  },
  {
   "cell_type": "code",
   "execution_count": 23,
   "id": "777e3f0e-3704-4d26-bfcf-fcec88406883",
   "metadata": {},
   "outputs": [
    {
     "data": {
      "text/plain": [
       "(10, 12)"
      ]
     },
     "execution_count": 23,
     "metadata": {},
     "output_type": "execute_result"
    }
   ],
   "source": [
    "tweets_df.shape"
   ]
  },
  {
   "cell_type": "code",
   "execution_count": 24,
   "id": "c788ad24-f0bc-4fa7-a9c9-0a579e2b36f3",
   "metadata": {},
   "outputs": [
    {
     "data": {
      "text/html": [
       "<div>\n",
       "<style scoped>\n",
       "    .dataframe tbody tr th:only-of-type {\n",
       "        vertical-align: middle;\n",
       "    }\n",
       "\n",
       "    .dataframe tbody tr th {\n",
       "        vertical-align: top;\n",
       "    }\n",
       "\n",
       "    .dataframe thead th {\n",
       "        text-align: right;\n",
       "    }\n",
       "</style>\n",
       "<table border=\"1\" class=\"dataframe\">\n",
       "  <thead>\n",
       "    <tr style=\"text-align: right;\">\n",
       "      <th></th>\n",
       "      <th>index</th>\n",
       "      <th>url</th>\n",
       "      <th>date</th>\n",
       "      <th>content</th>\n",
       "      <th>renderedContent</th>\n",
       "      <th>id</th>\n",
       "      <th>user</th>\n",
       "      <th>conversationId</th>\n",
       "      <th>outlinks</th>\n",
       "      <th>inReplyToTweetId</th>\n",
       "      <th>mentionedUsers</th>\n",
       "      <th>hashtags</th>\n",
       "    </tr>\n",
       "  </thead>\n",
       "  <tbody>\n",
       "    <tr>\n",
       "      <th>0</th>\n",
       "      <td>12</td>\n",
       "      <td>https://twitter.com/Arachno_Cosas/status/14339...</td>\n",
       "      <td>2021-09-03 23:20:13+00:00</td>\n",
       "      <td>¡Que bonito arácnido! Pertenece al orden #Soli...</td>\n",
       "      <td>¡Que bonito arácnido! Pertenece al orden #Soli...</td>\n",
       "      <td>1433932875586543616</td>\n",
       "      <td>{'_type': 'snscrape.modules.twitter.User', 'us...</td>\n",
       "      <td>1433932875586543616</td>\n",
       "      <td>[https://twitter.com/LGLS34/status/14337957166...</td>\n",
       "      <td>NaN</td>\n",
       "      <td>[{'_type': 'snscrape.modules.twitter.User', 'u...</td>\n",
       "      <td>[Solifugae, Eremobatidae, NIM]</td>\n",
       "    </tr>\n",
       "    <tr>\n",
       "      <th>1</th>\n",
       "      <td>19</td>\n",
       "      <td>https://twitter.com/Arachno_Cosas/status/14339...</td>\n",
       "      <td>2021-09-03 21:40:46+00:00</td>\n",
       "      <td>¡Hola, @missael0! Gracias por compartir. Perte...</td>\n",
       "      <td>¡Hola, @missael0! Gracias por compartir. Perte...</td>\n",
       "      <td>1433907848535216130</td>\n",
       "      <td>{'_type': 'snscrape.modules.twitter.User', 'us...</td>\n",
       "      <td>1433907848535216130</td>\n",
       "      <td>[https://twitter.com/missael0/status/143383468...</td>\n",
       "      <td>NaN</td>\n",
       "      <td>[{'_type': 'snscrape.modules.twitter.User', 'u...</td>\n",
       "      <td>[Araneidae, Neoscona, NIM]</td>\n",
       "    </tr>\n",
       "    <tr>\n",
       "      <th>2</th>\n",
       "      <td>30</td>\n",
       "      <td>https://twitter.com/Arachno_Cosas/status/14338...</td>\n",
       "      <td>2021-09-03 19:09:38+00:00</td>\n",
       "      <td>¡Hola, @_Liaga_! Gracias por compartir. Perten...</td>\n",
       "      <td>¡Hola, @_Liaga_! Gracias por compartir. Perten...</td>\n",
       "      <td>1433869813097668629</td>\n",
       "      <td>{'_type': 'snscrape.modules.twitter.User', 'us...</td>\n",
       "      <td>1433869813097668629</td>\n",
       "      <td>[https://twitter.com/_Liaga_/status/1433849917...</td>\n",
       "      <td>NaN</td>\n",
       "      <td>[{'_type': 'snscrape.modules.twitter.User', 'u...</td>\n",
       "      <td>[Zoropsidae, Lauricius, NIM]</td>\n",
       "    </tr>\n",
       "    <tr>\n",
       "      <th>3</th>\n",
       "      <td>42</td>\n",
       "      <td>https://twitter.com/Arachno_Cosas/status/14336...</td>\n",
       "      <td>2021-09-03 02:21:22+00:00</td>\n",
       "      <td>@mitroeni ¡Hola! Se trata de una integrante de...</td>\n",
       "      <td>@mitroeni ¡Hola! Se trata de una integrante de...</td>\n",
       "      <td>1433616077053906947</td>\n",
       "      <td>{'_type': 'snscrape.modules.twitter.User', 'us...</td>\n",
       "      <td>1433615733041270785</td>\n",
       "      <td>[https://twitter.com/Arachno_Cosas/status/1295...</td>\n",
       "      <td>1.433616e+18</td>\n",
       "      <td>[{'_type': 'snscrape.modules.twitter.User', 'u...</td>\n",
       "      <td>[Loxosceles, IM]</td>\n",
       "    </tr>\n",
       "    <tr>\n",
       "      <th>4</th>\n",
       "      <td>47</td>\n",
       "      <td>https://twitter.com/Arachno_Cosas/status/14335...</td>\n",
       "      <td>2021-09-03 01:00:13+00:00</td>\n",
       "      <td>@noviadesoquete ¡Hola! Se trata de una integra...</td>\n",
       "      <td>@noviadesoquete ¡Hola! Se trata de una integra...</td>\n",
       "      <td>1433595652722724866</td>\n",
       "      <td>{'_type': 'snscrape.modules.twitter.User', 'us...</td>\n",
       "      <td>1433588906310701057</td>\n",
       "      <td>[https://twitter.com/Arachno_Cosas/status/1295...</td>\n",
       "      <td>1.433589e+18</td>\n",
       "      <td>[{'_type': 'snscrape.modules.twitter.User', 'u...</td>\n",
       "      <td>[Loxosceles, IM]</td>\n",
       "    </tr>\n",
       "  </tbody>\n",
       "</table>\n",
       "</div>"
      ],
      "text/plain": [
       "   index                                                url  \\\n",
       "0     12  https://twitter.com/Arachno_Cosas/status/14339...   \n",
       "1     19  https://twitter.com/Arachno_Cosas/status/14339...   \n",
       "2     30  https://twitter.com/Arachno_Cosas/status/14338...   \n",
       "3     42  https://twitter.com/Arachno_Cosas/status/14336...   \n",
       "4     47  https://twitter.com/Arachno_Cosas/status/14335...   \n",
       "\n",
       "                       date  \\\n",
       "0 2021-09-03 23:20:13+00:00   \n",
       "1 2021-09-03 21:40:46+00:00   \n",
       "2 2021-09-03 19:09:38+00:00   \n",
       "3 2021-09-03 02:21:22+00:00   \n",
       "4 2021-09-03 01:00:13+00:00   \n",
       "\n",
       "                                             content  \\\n",
       "0  ¡Que bonito arácnido! Pertenece al orden #Soli...   \n",
       "1  ¡Hola, @missael0! Gracias por compartir. Perte...   \n",
       "2  ¡Hola, @_Liaga_! Gracias por compartir. Perten...   \n",
       "3  @mitroeni ¡Hola! Se trata de una integrante de...   \n",
       "4  @noviadesoquete ¡Hola! Se trata de una integra...   \n",
       "\n",
       "                                     renderedContent                   id  \\\n",
       "0  ¡Que bonito arácnido! Pertenece al orden #Soli...  1433932875586543616   \n",
       "1  ¡Hola, @missael0! Gracias por compartir. Perte...  1433907848535216130   \n",
       "2  ¡Hola, @_Liaga_! Gracias por compartir. Perten...  1433869813097668629   \n",
       "3  @mitroeni ¡Hola! Se trata de una integrante de...  1433616077053906947   \n",
       "4  @noviadesoquete ¡Hola! Se trata de una integra...  1433595652722724866   \n",
       "\n",
       "                                                user       conversationId  \\\n",
       "0  {'_type': 'snscrape.modules.twitter.User', 'us...  1433932875586543616   \n",
       "1  {'_type': 'snscrape.modules.twitter.User', 'us...  1433907848535216130   \n",
       "2  {'_type': 'snscrape.modules.twitter.User', 'us...  1433869813097668629   \n",
       "3  {'_type': 'snscrape.modules.twitter.User', 'us...  1433615733041270785   \n",
       "4  {'_type': 'snscrape.modules.twitter.User', 'us...  1433588906310701057   \n",
       "\n",
       "                                            outlinks  inReplyToTweetId  \\\n",
       "0  [https://twitter.com/LGLS34/status/14337957166...               NaN   \n",
       "1  [https://twitter.com/missael0/status/143383468...               NaN   \n",
       "2  [https://twitter.com/_Liaga_/status/1433849917...               NaN   \n",
       "3  [https://twitter.com/Arachno_Cosas/status/1295...      1.433616e+18   \n",
       "4  [https://twitter.com/Arachno_Cosas/status/1295...      1.433589e+18   \n",
       "\n",
       "                                      mentionedUsers  \\\n",
       "0  [{'_type': 'snscrape.modules.twitter.User', 'u...   \n",
       "1  [{'_type': 'snscrape.modules.twitter.User', 'u...   \n",
       "2  [{'_type': 'snscrape.modules.twitter.User', 'u...   \n",
       "3  [{'_type': 'snscrape.modules.twitter.User', 'u...   \n",
       "4  [{'_type': 'snscrape.modules.twitter.User', 'u...   \n",
       "\n",
       "                         hashtags  \n",
       "0  [Solifugae, Eremobatidae, NIM]  \n",
       "1      [Araneidae, Neoscona, NIM]  \n",
       "2    [Zoropsidae, Lauricius, NIM]  \n",
       "3                [Loxosceles, IM]  \n",
       "4                [Loxosceles, IM]  "
      ]
     },
     "execution_count": 24,
     "metadata": {},
     "output_type": "execute_result"
    }
   ],
   "source": [
    "tweets_df.head()"
   ]
  },
  {
   "cell_type": "markdown",
   "id": "6e126fa0-7192-4357-b311-25ea8a722ddd",
   "metadata": {},
   "source": [
    "Se modifica el data frame para tomar en cuenta solo los hashtagsa que coincidan con NIM o IM. Esto se hace a través de regular expressions. Se crea una columna 'label' que indica el resultado del experto (NIM: No tiene importancia médica, IM: de importancia médica). "
   ]
  },
  {
   "cell_type": "code",
   "execution_count": 13,
   "id": "cb5a3052-29f1-4fbd-921f-fa6fc2e029b5",
   "metadata": {},
   "outputs": [],
   "source": [
    "import re"
   ]
  },
  {
   "cell_type": "code",
   "execution_count": 25,
   "id": "cf918e2d-5768-4e2d-856b-25fe7d295d6f",
   "metadata": {},
   "outputs": [],
   "source": [
    "labels = []\n",
    "patron = r'[N]?[I][M]'\n",
    "\n",
    "for i in range(len(tweets_df)):\n",
    "    texto = str(tweets_df['hashtags'][i])\n",
    "    try:\n",
    "        match = re.search(patron, texto)\n",
    "        hashtag = match.group()\n",
    "        labels.append(hashtag)\n",
    "    except:\n",
    "        labels.append(\"\")"
   ]
  },
  {
   "cell_type": "code",
   "execution_count": 26,
   "id": "3d60bdf3-9c8a-4e14-a631-1c68f90f71e6",
   "metadata": {},
   "outputs": [],
   "source": [
    "tweets_df['label'] = labels"
   ]
  },
  {
   "cell_type": "code",
   "execution_count": 27,
   "id": "a525bffd-6dab-4b4c-9d57-7a196ec619c0",
   "metadata": {},
   "outputs": [
    {
     "data": {
      "text/plain": [
       "array(['NIM', 'IM'], dtype=object)"
      ]
     },
     "execution_count": 27,
     "metadata": {},
     "output_type": "execute_result"
    }
   ],
   "source": [
    "tweets_df.label.unique()"
   ]
  },
  {
   "cell_type": "code",
   "execution_count": 28,
   "id": "63dfe176-d924-4c7b-add9-361042928af3",
   "metadata": {},
   "outputs": [
    {
     "data": {
      "text/plain": [
       "array(['NIM', 'IM'], dtype=object)"
      ]
     },
     "execution_count": 28,
     "metadata": {},
     "output_type": "execute_result"
    }
   ],
   "source": [
    "tweets_df = tweets_df[tweets_df['label'] != \"\"]\n",
    "tweets_df.label.unique()"
   ]
  },
  {
   "cell_type": "code",
   "execution_count": 29,
   "id": "38c8177f-34bc-4e46-b64d-a7a0b24c695f",
   "metadata": {},
   "outputs": [
    {
     "data": {
      "text/plain": [
       "(10, 13)"
      ]
     },
     "execution_count": 29,
     "metadata": {},
     "output_type": "execute_result"
    }
   ],
   "source": [
    "tweets_df.shape"
   ]
  },
  {
   "cell_type": "code",
   "execution_count": 30,
   "id": "8439c6ac-bb5e-43e0-a655-83cef7cffc6a",
   "metadata": {},
   "outputs": [
    {
     "data": {
      "text/html": [
       "<div>\n",
       "<style scoped>\n",
       "    .dataframe tbody tr th:only-of-type {\n",
       "        vertical-align: middle;\n",
       "    }\n",
       "\n",
       "    .dataframe tbody tr th {\n",
       "        vertical-align: top;\n",
       "    }\n",
       "\n",
       "    .dataframe thead th {\n",
       "        text-align: right;\n",
       "    }\n",
       "</style>\n",
       "<table border=\"1\" class=\"dataframe\">\n",
       "  <thead>\n",
       "    <tr style=\"text-align: right;\">\n",
       "      <th></th>\n",
       "      <th>index</th>\n",
       "      <th>url</th>\n",
       "      <th>date</th>\n",
       "      <th>content</th>\n",
       "      <th>renderedContent</th>\n",
       "      <th>id</th>\n",
       "      <th>user</th>\n",
       "      <th>conversationId</th>\n",
       "      <th>outlinks</th>\n",
       "      <th>inReplyToTweetId</th>\n",
       "      <th>mentionedUsers</th>\n",
       "      <th>hashtags</th>\n",
       "      <th>label</th>\n",
       "    </tr>\n",
       "  </thead>\n",
       "  <tbody>\n",
       "    <tr>\n",
       "      <th>0</th>\n",
       "      <td>12</td>\n",
       "      <td>https://twitter.com/Arachno_Cosas/status/14339...</td>\n",
       "      <td>2021-09-03 23:20:13+00:00</td>\n",
       "      <td>¡Que bonito arácnido! Pertenece al orden #Soli...</td>\n",
       "      <td>¡Que bonito arácnido! Pertenece al orden #Soli...</td>\n",
       "      <td>1433932875586543616</td>\n",
       "      <td>{'_type': 'snscrape.modules.twitter.User', 'us...</td>\n",
       "      <td>1433932875586543616</td>\n",
       "      <td>[https://twitter.com/LGLS34/status/14337957166...</td>\n",
       "      <td>NaN</td>\n",
       "      <td>[{'_type': 'snscrape.modules.twitter.User', 'u...</td>\n",
       "      <td>[Solifugae, Eremobatidae, NIM]</td>\n",
       "      <td>NIM</td>\n",
       "    </tr>\n",
       "    <tr>\n",
       "      <th>1</th>\n",
       "      <td>19</td>\n",
       "      <td>https://twitter.com/Arachno_Cosas/status/14339...</td>\n",
       "      <td>2021-09-03 21:40:46+00:00</td>\n",
       "      <td>¡Hola, @missael0! Gracias por compartir. Perte...</td>\n",
       "      <td>¡Hola, @missael0! Gracias por compartir. Perte...</td>\n",
       "      <td>1433907848535216130</td>\n",
       "      <td>{'_type': 'snscrape.modules.twitter.User', 'us...</td>\n",
       "      <td>1433907848535216130</td>\n",
       "      <td>[https://twitter.com/missael0/status/143383468...</td>\n",
       "      <td>NaN</td>\n",
       "      <td>[{'_type': 'snscrape.modules.twitter.User', 'u...</td>\n",
       "      <td>[Araneidae, Neoscona, NIM]</td>\n",
       "      <td>NIM</td>\n",
       "    </tr>\n",
       "    <tr>\n",
       "      <th>2</th>\n",
       "      <td>30</td>\n",
       "      <td>https://twitter.com/Arachno_Cosas/status/14338...</td>\n",
       "      <td>2021-09-03 19:09:38+00:00</td>\n",
       "      <td>¡Hola, @_Liaga_! Gracias por compartir. Perten...</td>\n",
       "      <td>¡Hola, @_Liaga_! Gracias por compartir. Perten...</td>\n",
       "      <td>1433869813097668629</td>\n",
       "      <td>{'_type': 'snscrape.modules.twitter.User', 'us...</td>\n",
       "      <td>1433869813097668629</td>\n",
       "      <td>[https://twitter.com/_Liaga_/status/1433849917...</td>\n",
       "      <td>NaN</td>\n",
       "      <td>[{'_type': 'snscrape.modules.twitter.User', 'u...</td>\n",
       "      <td>[Zoropsidae, Lauricius, NIM]</td>\n",
       "      <td>NIM</td>\n",
       "    </tr>\n",
       "    <tr>\n",
       "      <th>3</th>\n",
       "      <td>42</td>\n",
       "      <td>https://twitter.com/Arachno_Cosas/status/14336...</td>\n",
       "      <td>2021-09-03 02:21:22+00:00</td>\n",
       "      <td>@mitroeni ¡Hola! Se trata de una integrante de...</td>\n",
       "      <td>@mitroeni ¡Hola! Se trata de una integrante de...</td>\n",
       "      <td>1433616077053906947</td>\n",
       "      <td>{'_type': 'snscrape.modules.twitter.User', 'us...</td>\n",
       "      <td>1433615733041270785</td>\n",
       "      <td>[https://twitter.com/Arachno_Cosas/status/1295...</td>\n",
       "      <td>1.433616e+18</td>\n",
       "      <td>[{'_type': 'snscrape.modules.twitter.User', 'u...</td>\n",
       "      <td>[Loxosceles, IM]</td>\n",
       "      <td>IM</td>\n",
       "    </tr>\n",
       "    <tr>\n",
       "      <th>4</th>\n",
       "      <td>47</td>\n",
       "      <td>https://twitter.com/Arachno_Cosas/status/14335...</td>\n",
       "      <td>2021-09-03 01:00:13+00:00</td>\n",
       "      <td>@noviadesoquete ¡Hola! Se trata de una integra...</td>\n",
       "      <td>@noviadesoquete ¡Hola! Se trata de una integra...</td>\n",
       "      <td>1433595652722724866</td>\n",
       "      <td>{'_type': 'snscrape.modules.twitter.User', 'us...</td>\n",
       "      <td>1433588906310701057</td>\n",
       "      <td>[https://twitter.com/Arachno_Cosas/status/1295...</td>\n",
       "      <td>1.433589e+18</td>\n",
       "      <td>[{'_type': 'snscrape.modules.twitter.User', 'u...</td>\n",
       "      <td>[Loxosceles, IM]</td>\n",
       "      <td>IM</td>\n",
       "    </tr>\n",
       "  </tbody>\n",
       "</table>\n",
       "</div>"
      ],
      "text/plain": [
       "   index                                                url  \\\n",
       "0     12  https://twitter.com/Arachno_Cosas/status/14339...   \n",
       "1     19  https://twitter.com/Arachno_Cosas/status/14339...   \n",
       "2     30  https://twitter.com/Arachno_Cosas/status/14338...   \n",
       "3     42  https://twitter.com/Arachno_Cosas/status/14336...   \n",
       "4     47  https://twitter.com/Arachno_Cosas/status/14335...   \n",
       "\n",
       "                       date  \\\n",
       "0 2021-09-03 23:20:13+00:00   \n",
       "1 2021-09-03 21:40:46+00:00   \n",
       "2 2021-09-03 19:09:38+00:00   \n",
       "3 2021-09-03 02:21:22+00:00   \n",
       "4 2021-09-03 01:00:13+00:00   \n",
       "\n",
       "                                             content  \\\n",
       "0  ¡Que bonito arácnido! Pertenece al orden #Soli...   \n",
       "1  ¡Hola, @missael0! Gracias por compartir. Perte...   \n",
       "2  ¡Hola, @_Liaga_! Gracias por compartir. Perten...   \n",
       "3  @mitroeni ¡Hola! Se trata de una integrante de...   \n",
       "4  @noviadesoquete ¡Hola! Se trata de una integra...   \n",
       "\n",
       "                                     renderedContent                   id  \\\n",
       "0  ¡Que bonito arácnido! Pertenece al orden #Soli...  1433932875586543616   \n",
       "1  ¡Hola, @missael0! Gracias por compartir. Perte...  1433907848535216130   \n",
       "2  ¡Hola, @_Liaga_! Gracias por compartir. Perten...  1433869813097668629   \n",
       "3  @mitroeni ¡Hola! Se trata de una integrante de...  1433616077053906947   \n",
       "4  @noviadesoquete ¡Hola! Se trata de una integra...  1433595652722724866   \n",
       "\n",
       "                                                user       conversationId  \\\n",
       "0  {'_type': 'snscrape.modules.twitter.User', 'us...  1433932875586543616   \n",
       "1  {'_type': 'snscrape.modules.twitter.User', 'us...  1433907848535216130   \n",
       "2  {'_type': 'snscrape.modules.twitter.User', 'us...  1433869813097668629   \n",
       "3  {'_type': 'snscrape.modules.twitter.User', 'us...  1433615733041270785   \n",
       "4  {'_type': 'snscrape.modules.twitter.User', 'us...  1433588906310701057   \n",
       "\n",
       "                                            outlinks  inReplyToTweetId  \\\n",
       "0  [https://twitter.com/LGLS34/status/14337957166...               NaN   \n",
       "1  [https://twitter.com/missael0/status/143383468...               NaN   \n",
       "2  [https://twitter.com/_Liaga_/status/1433849917...               NaN   \n",
       "3  [https://twitter.com/Arachno_Cosas/status/1295...      1.433616e+18   \n",
       "4  [https://twitter.com/Arachno_Cosas/status/1295...      1.433589e+18   \n",
       "\n",
       "                                      mentionedUsers  \\\n",
       "0  [{'_type': 'snscrape.modules.twitter.User', 'u...   \n",
       "1  [{'_type': 'snscrape.modules.twitter.User', 'u...   \n",
       "2  [{'_type': 'snscrape.modules.twitter.User', 'u...   \n",
       "3  [{'_type': 'snscrape.modules.twitter.User', 'u...   \n",
       "4  [{'_type': 'snscrape.modules.twitter.User', 'u...   \n",
       "\n",
       "                         hashtags label  \n",
       "0  [Solifugae, Eremobatidae, NIM]   NIM  \n",
       "1      [Araneidae, Neoscona, NIM]   NIM  \n",
       "2    [Zoropsidae, Lauricius, NIM]   NIM  \n",
       "3                [Loxosceles, IM]    IM  \n",
       "4                [Loxosceles, IM]    IM  "
      ]
     },
     "execution_count": 30,
     "metadata": {},
     "output_type": "execute_result"
    }
   ],
   "source": [
    "tweets_df.head()"
   ]
  },
  {
   "cell_type": "markdown",
   "id": "31a99ff6-3af6-4afb-9c20-ad2142063e6e",
   "metadata": {},
   "source": [
    "Pasar la columna de links ('outlinks') externos a una lista:"
   ]
  },
  {
   "cell_type": "code",
   "execution_count": 59,
   "id": "f380a16b-ab18-4243-b45f-a98a9f7ef2aa",
   "metadata": {},
   "outputs": [],
   "source": [
    "links = []\n",
    "for i in range(len(tweets_df)):\n",
    "    link = tweets_df[\"outlinks\"][i][0]\n",
    "    links.append(link)"
   ]
  },
  {
   "cell_type": "code",
   "execution_count": 60,
   "id": "246b8877-ce19-4073-998a-c434b72a38ed",
   "metadata": {},
   "outputs": [
    {
     "data": {
      "text/plain": [
       "['https://twitter.com/LGLS34/status/1433795716690948096',\n",
       " 'https://twitter.com/missael0/status/1433834683012460544',\n",
       " 'https://twitter.com/_Liaga_/status/1433849917261365254',\n",
       " 'https://twitter.com/Arachno_Cosas/status/1295470633669799936?s=20',\n",
       " 'https://twitter.com/Arachno_Cosas/status/1295470633669799936?s=20',\n",
       " 'https://twitter.com/Arachno_Cosas/status/1295470633669799936?s=20',\n",
       " 'https://twitter.com/Adjloo85/status/1433458396527747073',\n",
       " 'https://twitter.com/humbertoallen/status/1427441557360332805',\n",
       " 'https://twitter.com/Arachno_Cosas/status/1204068593949970432?s=19',\n",
       " 'https://twitter.com/Clementbm/status/1433566922491236353']"
      ]
     },
     "execution_count": 60,
     "metadata": {},
     "output_type": "execute_result"
    }
   ],
   "source": [
    "links"
   ]
  },
  {
   "cell_type": "markdown",
   "id": "0318c25b-73ae-4e29-a289-95cb6040799b",
   "metadata": {},
   "source": [
    "### Tweet de muestra\n",
    "\n",
    "Ya que el data frame solo tiene un link al tweet que contiene la imagen en la que se menciona al experto es necesario hacer scrapping de esa url. \n",
    "\n",
    "Ejemplo:"
   ]
  },
  {
   "cell_type": "code",
   "execution_count": 32,
   "id": "c6c60795-d216-4b64-bdd5-19f8ce326069",
   "metadata": {},
   "outputs": [],
   "source": [
    "tweet_index = 0"
   ]
  },
  {
   "cell_type": "code",
   "execution_count": 33,
   "id": "4cadf547-1a9c-44c3-917c-41fe16fdb645",
   "metadata": {},
   "outputs": [
    {
     "data": {
      "text/plain": [
       "index                                                              12\n",
       "url                 https://twitter.com/Arachno_Cosas/status/14339...\n",
       "date                                        2021-09-03 23:20:13+00:00\n",
       "content             ¡Que bonito arácnido! Pertenece al orden #Soli...\n",
       "renderedContent     ¡Que bonito arácnido! Pertenece al orden #Soli...\n",
       "id                                                1433932875586543616\n",
       "user                {'_type': 'snscrape.modules.twitter.User', 'us...\n",
       "conversationId                                    1433932875586543616\n",
       "outlinks            [https://twitter.com/LGLS34/status/14337957166...\n",
       "inReplyToTweetId                                                  NaN\n",
       "mentionedUsers      [{'_type': 'snscrape.modules.twitter.User', 'u...\n",
       "hashtags                               [Solifugae, Eremobatidae, NIM]\n",
       "label                                                             NIM\n",
       "Name: 0, dtype: object"
      ]
     },
     "execution_count": 33,
     "metadata": {},
     "output_type": "execute_result"
    }
   ],
   "source": [
    "tweets_df.iloc[tweet_index]"
   ]
  },
  {
   "cell_type": "code",
   "execution_count": 34,
   "id": "1a71974d-0b2d-48fb-938c-45ff80b6c3ec",
   "metadata": {},
   "outputs": [
    {
     "name": "stdout",
     "output_type": "stream",
     "text": [
      "Url: https://twitter.com/Arachno_Cosas/status/1433932875586543616\n",
      "Conversation Id: 1433932875586543616\n",
      "Link externo: ['https://twitter.com/LGLS34/status/1433795716690948096']\n",
      "Etiqueta: NIM\n",
      "Contenido: ¡Que bonito arácnido! Pertenece al orden #Solifugae, de la familia #Eremobatidae probablemente. Carecen de veneno, por lo que no son considerados de importancia médica #NIM✅ Se les conoce como \"arañas camello\". Gracias por compartir @LGLS34. https://t.co/4xeteyNjse\n"
     ]
    }
   ],
   "source": [
    "print(\"Url: \" + str(tweets_df['url'][tweet_index]))\n",
    "print(\"Conversation Id: \" + str(tweets_df['conversationId'][tweet_index]))\n",
    "print(\"Link externo: \" + str(tweets_df['outlinks'][tweet_index]))\n",
    "print(\"Etiqueta: \" + str(tweets_df['label'][tweet_index]))\n",
    "print(\"Contenido: \" + str(tweets_df['content'][tweet_index]))"
   ]
  },
  {
   "cell_type": "code",
   "execution_count": 47,
   "id": "d6854203-2775-47b4-9926-ad9e485b14b9",
   "metadata": {},
   "outputs": [
    {
     "data": {
      "text/plain": [
       "'https://twitter.com/LGLS34/status/1433795716690948096'"
      ]
     },
     "execution_count": 47,
     "metadata": {},
     "output_type": "execute_result"
    }
   ],
   "source": [
    "url_externo = tweets_df['outlinks'][tweet_index][0]\n",
    "url_externo"
   ]
  },
  {
   "cell_type": "markdown",
   "id": "800da3f1-3550-46f8-9643-e91078ffaa1e",
   "metadata": {},
   "source": [
    "## 2. Tweet Scrapping con Tweepy y BeatifulSoup"
   ]
  },
  {
   "cell_type": "markdown",
   "id": "3f7db695-6b0c-4bac-93bc-906fed32c943",
   "metadata": {},
   "source": [
    "En esta sección se intenta realizar la descarga de la imagen relacionada al Tweet en el que se menciona a Arachno_Cosas. Cada Tweet conteniendo la imagen está dado por la url (outlinks) del dataframe anterior. El objetivo es descargar la imagen de un Tweet a partir de su url. "
   ]
  },
  {
   "cell_type": "code",
   "execution_count": 508,
   "id": "9ab79eb8-e283-4c68-baad-3b0476bb8727",
   "metadata": {},
   "outputs": [],
   "source": [
    "#!pip install tweepy"
   ]
  },
  {
   "cell_type": "code",
   "execution_count": 62,
   "id": "c7f11120-2eb3-4806-8670-95e47356e850",
   "metadata": {},
   "outputs": [],
   "source": [
    "import tweepy\n",
    "from tweepy import OAuthHandler\n",
    "import requests\n",
    "from tqdm import tqdm\n",
    "from bs4 import BeautifulSoup as bs\n",
    "from urllib.parse import urljoin, urlparse\n",
    "from requests_oauthlib import OAuth1"
   ]
  },
  {
   "cell_type": "markdown",
   "id": "6b0b03e4-ec86-407a-8ac7-91be16d581c4",
   "metadata": {},
   "source": [
    "Autorización de Twitter, se definen las credenciales de desarrollador de Twitter (consumer_key, consumer_secret, access_token, access_secret) desde un archivo para mantenerlas secretas:"
   ]
  },
  {
   "cell_type": "code",
   "execution_count": 79,
   "id": "64a1d650-6b73-46c5-888a-3c2238da4b2f",
   "metadata": {},
   "outputs": [],
   "source": [
    "#pip install python-decouple\n",
    "#librería para desacoplar las credenciales"
   ]
  },
  {
   "cell_type": "code",
   "execution_count": 74,
   "id": "fd1a33ec-704c-4d18-9d10-6da93abbb31d",
   "metadata": {},
   "outputs": [],
   "source": [
    "from decouple import config\n",
    "\n",
    "consumer_key = config('consumer_key',default='')\n",
    "consumer_secret = config('consumer_secret',default='')\n",
    "access_token = config('access_token',default='')\n",
    "access_secret = config('access_secret',default='')"
   ]
  },
  {
   "cell_type": "code",
   "execution_count": 75,
   "id": "4abe1a72-5407-4f1b-9ca8-15b883029c8c",
   "metadata": {
    "tags": []
   },
   "outputs": [],
   "source": [
    "auth = tweepy.OAuthHandler(consumer_key, consumer_secret)\n",
    "auth.set_access_token(access_token, access_secret)\n",
    "api = tweepy.API(auth,wait_on_rate_limit=True)"
   ]
  },
  {
   "cell_type": "markdown",
   "id": "783d3b0a-f4a6-4e51-ad79-3b0d1defd449",
   "metadata": {},
   "source": [
    "#### Extracción de la imagen a partir de la url"
   ]
  },
  {
   "cell_type": "code",
   "execution_count": 63,
   "id": "d27ab424-c8a9-4c20-b39f-ea28a9f96273",
   "metadata": {},
   "outputs": [],
   "source": [
    "# url de prueba correspondiente al Tweet de muestra en la sección anterior\n",
    "url = url_externo"
   ]
  },
  {
   "cell_type": "markdown",
   "id": "e5611be0-4cb6-4ceb-acc8-185ad401f1a7",
   "metadata": {},
   "source": [
    "Función para verificar que la url sea válida:"
   ]
  },
  {
   "cell_type": "code",
   "execution_count": 39,
   "id": "ba0c347a-92da-456c-8550-ef07606bdc4b",
   "metadata": {},
   "outputs": [],
   "source": [
    "def is_valid(url):\n",
    "    parsed = urlparse(url)\n",
    "    return bool(parsed.netloc) and bool(parsed.scheme)"
   ]
  },
  {
   "cell_type": "code",
   "execution_count": 49,
   "id": "517a21af-0625-44d2-9b90-b4b6ea828abd",
   "metadata": {},
   "outputs": [
    {
     "data": {
      "text/plain": [
       "True"
      ]
     },
     "execution_count": 49,
     "metadata": {},
     "output_type": "execute_result"
    }
   ],
   "source": [
    "is_valid(url)"
   ]
  },
  {
   "cell_type": "markdown",
   "id": "6649a87a-b1f8-4f9d-b0e4-6d52585b581f",
   "metadata": {},
   "source": [
    "Función para obtener todas las imágenes de la url:"
   ]
  },
  {
   "cell_type": "code",
   "execution_count": 76,
   "id": "072c19a1-c051-47b2-833f-9081630b756f",
   "metadata": {},
   "outputs": [],
   "source": [
    "def get_all_images(url):\n",
    "    auth = OAuth1('consumer_key', 'consumer_secret',\n",
    "                  'access_token', 'access_secret')\n",
    "    soup = bs(requests.get(url, auth = auth).content, \"html.parser\")\n",
    "    urls = []\n",
    "    for img in tqdm(soup.find_all(\"img\"), \"Extracting images\"):\n",
    "        img_url = img.attrs.get(\"src\")\n",
    "        if \"/thumbnail\" in img_url:\n",
    "            continue\n",
    "        if not img_url:\n",
    "            continue\n",
    "        img_url = urljoin(url, img_url)\n",
    "        try:\n",
    "            pos = img_url.index(\"?\")\n",
    "            img_url = img_url[:pos]\n",
    "        except ValueError:\n",
    "            pass\n",
    "        if is_valid(img_url):\n",
    "            urls.append(img_url)\n",
    "    return urls"
   ]
  },
  {
   "cell_type": "code",
   "execution_count": 77,
   "id": "4f21f512-f078-4ced-a41e-5744e1de1e20",
   "metadata": {},
   "outputs": [
    {
     "name": "stderr",
     "output_type": "stream",
     "text": [
      "Extracting images: 100%|██████████| 1/1 [00:00<?, ?it/s]\n"
     ]
    },
    {
     "data": {
      "text/plain": [
       "['https://abs.twimg.com/errors/logo46x38.png']"
      ]
     },
     "execution_count": 77,
     "metadata": {},
     "output_type": "execute_result"
    }
   ],
   "source": [
    "get_all_images(url)"
   ]
  },
  {
   "cell_type": "markdown",
   "id": "825f1372-a47f-410a-a749-874d37d78730",
   "metadata": {},
   "source": [
    "Función para descargar las imágenes a un folder:"
   ]
  },
  {
   "cell_type": "code",
   "execution_count": 53,
   "id": "725037cb-73e4-4e6a-8e12-aaeb1e22800f",
   "metadata": {},
   "outputs": [],
   "source": [
    "def download(url, pathname):\n",
    "    if not os.path.isdir(pathname):\n",
    "        os.makedirs(pathname)\n",
    "    response = requests.get(url, stream=True)\n",
    "    file_size = int(response.headers.get(\"Content-Length\", 0))\n",
    "    filename = os.path.join(pathname, url.split(\"/\")[-1])\n",
    "    progress = tqdm(response.iter_content(1024), f\"Downloading {filename}\", total=file_size, unit=\"B\", unit_scale=True, unit_divisor=1024)\n",
    "    with open(filename, \"wb\") as f:\n",
    "        for data in progress:\n",
    "            f.write(data)\n",
    "            progress.update(len(data))"
   ]
  },
  {
   "cell_type": "markdown",
   "id": "ea4b6605-a229-48bb-8c58-390fcd25e8df",
   "metadata": {},
   "source": [
    "Función final:"
   ]
  },
  {
   "cell_type": "code",
   "execution_count": 54,
   "id": "72e0ea0e-5c89-4d4e-94be-6392ed2b32a6",
   "metadata": {},
   "outputs": [],
   "source": [
    "def final(links, path):\n",
    "    for i in links:\n",
    "        imgs = get_all_images(i)\n",
    "        for img in imgs:\n",
    "            download(img, path)"
   ]
  },
  {
   "cell_type": "code",
   "execution_count": 61,
   "id": "c6ae7771-6566-4476-8ea9-c020a9ef93a9",
   "metadata": {},
   "outputs": [
    {
     "name": "stderr",
     "output_type": "stream",
     "text": [
      "Extracting images: 100%|██████████| 1/1 [00:00<00:00, 976.10it/s]\n",
      "Downloading imagenes\\logo46x38.png:   0%|          | 1.00/0.99k [00:00<00:03, 335B/s]\n",
      "Extracting images: 100%|██████████| 1/1 [00:00<?, ?it/s]\n",
      "Downloading imagenes\\logo46x38.png:   0%|          | 1.00/0.99k [00:00<00:02, 501B/s]\n",
      "Extracting images: 100%|██████████| 1/1 [00:00<00:00, 1000.07it/s]\n",
      "Downloading imagenes\\logo46x38.png:   0%|          | 1.00/0.99k [00:00<00:02, 502B/s]\n",
      "Extracting images: 100%|██████████| 1/1 [00:00<?, ?it/s]\n",
      "Downloading imagenes\\logo46x38.png:   0%|          | 1.00/0.99k [00:00<00:02, 501B/s]\n",
      "Extracting images: 100%|██████████| 1/1 [00:00<?, ?it/s]\n",
      "Downloading imagenes\\logo46x38.png:   0%|          | 1.00/0.99k [00:00<00:02, 501B/s]\n",
      "Extracting images: 100%|██████████| 1/1 [00:00<00:00, 1002.22it/s]\n",
      "Downloading imagenes\\logo46x38.png:   0%|          | 1.00/0.99k [00:00<00:02, 501B/s]\n",
      "Extracting images: 100%|██████████| 1/1 [00:00<?, ?it/s]\n",
      "Downloading imagenes\\logo46x38.png:   0%|          | 1.00/0.99k [00:00<00:02, 501B/s]\n",
      "Extracting images: 100%|██████████| 1/1 [00:00<?, ?it/s]\n",
      "Downloading imagenes\\logo46x38.png:   0%|          | 1.00/0.99k [00:00<00:02, 501B/s]\n",
      "Extracting images: 100%|██████████| 1/1 [00:00<?, ?it/s]\n",
      "Downloading imagenes\\logo46x38.png:   0%|          | 1.00/0.99k [00:00<00:05, 202B/s]\n",
      "Extracting images: 100%|██████████| 1/1 [00:00<?, ?it/s]\n",
      "Downloading imagenes\\logo46x38.png:   0%|          | 1.00/0.99k [00:00<00:06, 167B/s]\n"
     ]
    }
   ],
   "source": [
    "final(links, \"imagenes\")"
   ]
  },
  {
   "cell_type": "markdown",
   "id": "4877252e-3b21-4f0f-b619-8f72549fb07f",
   "metadata": {},
   "source": [
    "#### Función alternativa para el Tweet Scrapping inicial \n",
    "(Descargar atributos de los n Tweets más recientes de una cuenta de usuario de Twitter y guardarlos a un csv). "
   ]
  },
  {
   "cell_type": "code",
   "execution_count": 71,
   "id": "22d0b914-6a21-4eb3-9d1a-d6afebc3c3db",
   "metadata": {},
   "outputs": [],
   "source": [
    "def username_tweets_to_csv(username,count):\n",
    "    tweets = []\n",
    "    try:      \n",
    "        # creación del método de query usando parámetros\n",
    "        tweets = tweepy.Cursor(api.user_timeline,id=username).items(count)\n",
    "\n",
    "        # extraer información de tweets (objeto iterable)\n",
    "        tweets_list = [[tweet.created_at, \n",
    "                        tweet.id, tweet.text, \n",
    "                        tweet.in_reply_to_status_id,\n",
    "                        tweet.entities[\"hashtags\"], \n",
    "                        tweet.in_reply_to_user_id_str, \n",
    "                        tweet.in_reply_to_screen_name] \n",
    "                       for tweet in tweets]\n",
    "\n",
    "        # crear un data frame desde una lista tweets_list\n",
    "        # añadir columnas según los atributos extraídos \n",
    "        tweets_df = pd.DataFrame(tweets_list,columns=['Datetime', \n",
    "                                                      'Tweet Id', \n",
    "                                                      'Text',\n",
    "                                                      'InReplyToStatusId',\n",
    "                                                      'hashtags',\n",
    "                                                      'in_reply_to_user_id_strs',\n",
    "                                                      'in_reply_to_screen_name'])\n",
    "\n",
    "        # convertir el dataframe a csv\n",
    "        tweets_df.to_csv('{}-tweets.csv'.format(username), sep=',', index = False)\n",
    "\n",
    "    except BaseException as e:\n",
    "        print('failed on_status,',str(e))\n",
    "        time.sleep(3)"
   ]
  }
 ],
 "metadata": {
  "kernelspec": {
   "display_name": "Python 3",
   "language": "python",
   "name": "python3"
  },
  "language_info": {
   "codemirror_mode": {
    "name": "ipython",
    "version": 3
   },
   "file_extension": ".py",
   "mimetype": "text/x-python",
   "name": "python",
   "nbconvert_exporter": "python",
   "pygments_lexer": "ipython3",
   "version": "3.8.10"
  }
 },
 "nbformat": 4,
 "nbformat_minor": 5
}
