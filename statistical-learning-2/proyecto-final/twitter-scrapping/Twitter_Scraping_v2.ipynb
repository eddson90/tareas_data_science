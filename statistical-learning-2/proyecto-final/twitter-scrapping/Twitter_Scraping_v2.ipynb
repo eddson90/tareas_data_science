{
 "cells": [
  {
   "cell_type": "markdown",
   "id": "0a056fe2-465e-4543-b7c8-7a1eebdbea89",
   "metadata": {},
   "source": [
    "# Twitter Scraping with snscrape"
   ]
  },
  {
   "cell_type": "code",
   "execution_count": null,
   "id": "1771c7c6-c63a-4a8f-9d79-a757aa4b5fde",
   "metadata": {},
   "outputs": [],
   "source": [
    "# Instalar snscrape desde git\n",
    "#pip install git+https://github.com/JustAnotherArchivist/snscrape.git"
   ]
  },
  {
   "cell_type": "code",
   "execution_count": 241,
   "id": "89b261ed-d265-465e-97fc-7039dee2d64b",
   "metadata": {},
   "outputs": [],
   "source": [
    "import os\n",
    "import pandas as pd\n",
    "import numpy as np\n",
    "import re\n",
    "import requests"
   ]
  },
  {
   "cell_type": "code",
   "execution_count": 250,
   "id": "91e0101d-b8af-4be5-b502-4ae9705c3c4f",
   "metadata": {},
   "outputs": [],
   "source": [
    "def scrape_account(username, results):\n",
    "    os.system(\"snscrape --jsonl --max-results \" +str(results)+ \" twitter-search 'from:\"+str(username)+\"'> user-tweets.json\")\n",
    "    df = pd.read_json('user-tweets.json', lines=True)\n",
    "    \n",
    "    # Transformacion del dataframe\n",
    "        #Columnas disponibles:\n",
    "        #['_type', 'url', 'date', 'content', 'renderedContent', 'id', 'user',\n",
    "        #              'replyCount', 'retweetCount', 'likeCount', 'quoteCount',\n",
    "        #              'conversationId', 'lang', 'source', 'sourceUrl', 'sourceLabel',\n",
    "        #              'outlinks', 'tcooutlinks', 'media', 'retweetedTweet', 'quotedTweet',\n",
    "        #              'inReplyToTweetId', 'inReplyToUser', 'mentionedUsers', 'coordinates',\n",
    "        #             'hashtags', 'cashtags']\n",
    "        \n",
    "    # Filtrar dataframe\n",
    "    df = df[df['lang'] == 'es']\n",
    "    df = df[pd.isnull(df['mentionedUsers']) == False]\n",
    "    df = df[pd.isnull(df['outlinks']) == False]\n",
    "    df = df[pd.isnull(df['hashtags']) == False]\n",
    "        \n",
    "    # Remover columnas innecesarias\n",
    "    # drop original\n",
    "    #df = df.drop(['_type','replyCount', 'retweetCount', 'likeCount', 'quoteCount',\n",
    "    #              'sourceLabel', 'cashtags', 'source','sourceUrl', 'tcooutlinks',\n",
    "    #              'media','place','coordinates','retweetedTweet','inReplyToTweetId',\n",
    "    #              'inReplyToUser','lang'], axis = 1)\n",
    "    \n",
    "    df = df.drop(['_type','replyCount', 'retweetCount', 'likeCount', 'quoteCount',\n",
    "                  'sourceLabel', 'cashtags', 'source','sourceUrl', 'tcooutlinks',\n",
    "                  'media','place','coordinates',\n",
    "                  'inReplyToUser','lang'], axis = 1)\n",
    "    \n",
    "    df = df.reset_index()\n",
    "\n",
    "    return df"
   ]
  },
  {
   "cell_type": "code",
   "execution_count": 108,
   "id": "75487614-98c5-4428-8a38-193418428ee0",
   "metadata": {},
   "outputs": [],
   "source": [
    "def extract_mention(df):\n",
    "    mentionedUserNames = []\n",
    "    for row in range(len(df)):\n",
    "        mentionedUserName = df['mentionedUsers'][row][0]['username']\n",
    "        mentionedUserNames.append(mentionedUserName)\n",
    "    df['mentionedUserName'] = mentionedUserNames\n",
    "    return df"
   ]
  },
  {
   "cell_type": "code",
   "execution_count": 128,
   "id": "99a84745-fa99-481f-9aeb-9d195bed9824",
   "metadata": {},
   "outputs": [],
   "source": [
    "def extract_picture_url(df):\n",
    "    UrlImagenes = []\n",
    "    for row in range(len(df)):\n",
    "        try:\n",
    "            UrlImagen = df['quotedTweet'][row]['media'][0]['fullUrl']\n",
    "            UrlImagenes.append(UrlImagen)\n",
    "        except:\n",
    "            try:\n",
    "                UrlImagen = df['quotedTweet'][row]['media'][0]['thumbnailUrl']\n",
    "                UrlImagenes.append(UrlImagen)\n",
    "            except:\n",
    "                UrlImagenes.append('error')\n",
    "    \n",
    "    df['picture_url'] = UrlImagenes\n",
    "    df = df[df['picture_url'] != 'error']\n",
    "    df = df.reset_index()\n",
    "    \n",
    "    return df"
   ]
  },
  {
   "cell_type": "code",
   "execution_count": 129,
   "id": "c20b9bcd-4504-4850-bb6a-09c61e0dc9ee",
   "metadata": {},
   "outputs": [],
   "source": [
    "def scrape_tweet(username, results):\n",
    "    df = scrape_account(username,results)\n",
    "    df = extract_mention(df)\n",
    "    df = extract_picture_url(df)\n",
    "    return df"
   ]
  },
  {
   "cell_type": "code",
   "execution_count": 131,
   "id": "10c32cf9-0ad3-4cc7-b192-3f2c5d59b96e",
   "metadata": {},
   "outputs": [
    {
     "data": {
      "text/plain": [
       "(5939, 15)"
      ]
     },
     "execution_count": 131,
     "metadata": {},
     "output_type": "execute_result"
    }
   ],
   "source": [
    "df = scrape_tweet('Arachno_Cosas',100000)\n",
    "df.shape"
   ]
  },
  {
   "cell_type": "markdown",
   "id": "e9ead04d-1fa5-4971-bc16-d1aa433b2c33",
   "metadata": {},
   "source": [
    "## Clean the dataframe"
   ]
  },
  {
   "cell_type": "code",
   "execution_count": null,
   "id": "ed1ee9df-c93a-40b6-b5bb-4eab67b4e9f2",
   "metadata": {},
   "outputs": [],
   "source": [
    "labels = []\n",
    "patron = r'[N]?[I][M]'\n",
    "\n",
    "for i in range(len(df)):\n",
    "    texto = str(df['hashtags'][i])\n",
    "    try:\n",
    "        match = re.search(patron, texto)\n",
    "        hashtag = match.group()\n",
    "        labels.append(hashtag)\n",
    "    except:\n",
    "        labels.append(\"\")\n",
    "\n",
    "df['label_IM'] = labels\n",
    "df = df[df['label_IM'] != '']"
   ]
  },
  {
   "cell_type": "code",
   "execution_count": 238,
   "id": "61ef9508-7252-454e-8bdb-41dce8792e11",
   "metadata": {},
   "outputs": [],
   "source": [
    "df = df.reset_index(drop=True)"
   ]
  },
  {
   "cell_type": "code",
   "execution_count": 199,
   "id": "a973ff35-001c-481f-8120-3940af2389b9",
   "metadata": {},
   "outputs": [
    {
     "data": {
      "text/plain": [
       "[['Corinnidae', 'NIM'],\n",
       " ['Thomisidae', 'NIM'],\n",
       " ['Oxyopidae', 'Peucetia', 'NIM'],\n",
       " ['Vaejovidae', 'Vaejovis', 'NIM'],\n",
       " ['Araneidae', 'Eriophora', 'NIM'],\n",
       " ['Phidippus', 'NIM'],\n",
       " ['Latrodectus', 'IM'],\n",
       " ['Aphonopelma', 'NIM'],\n",
       " ['Araneidae', 'Araneus', 'NIM'],\n",
       " ['Lycosidae', 'NIM']]"
      ]
     },
     "execution_count": 199,
     "metadata": {},
     "output_type": "execute_result"
    }
   ],
   "source": [
    "list(df['hashtags'])[0:10]"
   ]
  },
  {
   "cell_type": "code",
   "execution_count": 257,
   "id": "66d7f0a0-21ea-44a8-8a32-375b6d873e9f",
   "metadata": {},
   "outputs": [
    {
     "data": {
      "text/html": [
       "<div>\n",
       "<style scoped>\n",
       "    .dataframe tbody tr th:only-of-type {\n",
       "        vertical-align: middle;\n",
       "    }\n",
       "\n",
       "    .dataframe tbody tr th {\n",
       "        vertical-align: top;\n",
       "    }\n",
       "\n",
       "    .dataframe thead th {\n",
       "        text-align: right;\n",
       "    }\n",
       "</style>\n",
       "<table border=\"1\" class=\"dataframe\">\n",
       "  <thead>\n",
       "    <tr style=\"text-align: right;\">\n",
       "      <th></th>\n",
       "      <th>level_0</th>\n",
       "      <th>index</th>\n",
       "      <th>url</th>\n",
       "      <th>date</th>\n",
       "      <th>content</th>\n",
       "      <th>renderedContent</th>\n",
       "      <th>id</th>\n",
       "      <th>user</th>\n",
       "      <th>conversationId</th>\n",
       "      <th>outlinks</th>\n",
       "      <th>quotedTweet</th>\n",
       "      <th>mentionedUsers</th>\n",
       "      <th>hashtags</th>\n",
       "      <th>mentionedUserName</th>\n",
       "      <th>picture_url</th>\n",
       "      <th>label_IM</th>\n",
       "    </tr>\n",
       "  </thead>\n",
       "  <tbody>\n",
       "    <tr>\n",
       "      <th>0</th>\n",
       "      <td>0</td>\n",
       "      <td>1</td>\n",
       "      <td>https://twitter.com/Arachno_Cosas/status/13204...</td>\n",
       "      <td>2021-09-14 13:46:10+00:00</td>\n",
       "      <td>¡Hola, @TopoGigo6! Gracias por compartir. Pert...</td>\n",
       "      <td>¡Hola, @TopoGigo6! Gracias por compartir. Pert...</td>\n",
       "      <td>1437774676604985351</td>\n",
       "      <td>{'_type': 'snscrape.modules.twitter.User', 'us...</td>\n",
       "      <td>1437774676604985351</td>\n",
       "      <td>[https://twitter.com/TopoGigo6/status/14376763...</td>\n",
       "      <td>{'_type': 'snscrape.modules.twitter.Tweet', 'u...</td>\n",
       "      <td>[{'_type': 'snscrape.modules.twitter.User', 'u...</td>\n",
       "      <td>[Corinnidae, NIM]</td>\n",
       "      <td>TopoGigo6</td>\n",
       "      <td>https://pbs.twimg.com/media/E_Om-6dWUAALKL9?fo...</td>\n",
       "      <td>NIM</td>\n",
       "    </tr>\n",
       "    <tr>\n",
       "      <th>1</th>\n",
       "      <td>1</td>\n",
       "      <td>3</td>\n",
       "      <td>https://twitter.com/Arachno_Cosas/status/13204...</td>\n",
       "      <td>2021-09-14 13:42:56+00:00</td>\n",
       "      <td>¡Hola, @Elwestrand! Gracias por compartir. Per...</td>\n",
       "      <td>¡Hola, @Elwestrand! Gracias por compartir. Per...</td>\n",
       "      <td>1437773863627149314</td>\n",
       "      <td>{'_type': 'snscrape.modules.twitter.User', 'us...</td>\n",
       "      <td>1437773863627149314</td>\n",
       "      <td>[https://twitter.com/Elwestrand/status/1437712...</td>\n",
       "      <td>{'_type': 'snscrape.modules.twitter.Tweet', 'u...</td>\n",
       "      <td>[{'_type': 'snscrape.modules.twitter.User', 'u...</td>\n",
       "      <td>[Thomisidae, NIM]</td>\n",
       "      <td>Elwestrand</td>\n",
       "      <td>https://pbs.twimg.com/media/E_PH0fbXEAMPYi5?fo...</td>\n",
       "      <td>NIM</td>\n",
       "    </tr>\n",
       "    <tr>\n",
       "      <th>2</th>\n",
       "      <td>2</td>\n",
       "      <td>4</td>\n",
       "      <td>https://twitter.com/Arachno_Cosas/status/13204...</td>\n",
       "      <td>2021-09-14 13:39:45+00:00</td>\n",
       "      <td>¡Hola, @ddiazgar76! Gracias por la consulta. P...</td>\n",
       "      <td>¡Hola, @ddiazgar76! Gracias por la consulta. P...</td>\n",
       "      <td>1437773064843010057</td>\n",
       "      <td>{'_type': 'snscrape.modules.twitter.User', 'us...</td>\n",
       "      <td>1437773064843010057</td>\n",
       "      <td>[https://twitter.com/ddiazgar76/status/1437753...</td>\n",
       "      <td>{'_type': 'snscrape.modules.twitter.Tweet', 'u...</td>\n",
       "      <td>[{'_type': 'snscrape.modules.twitter.User', 'u...</td>\n",
       "      <td>[Oxyopidae, Peucetia, NIM]</td>\n",
       "      <td>ddiazgar76</td>\n",
       "      <td>https://pbs.twimg.com/media/E_PtC1OWYAox7UL?fo...</td>\n",
       "      <td>NIM</td>\n",
       "    </tr>\n",
       "    <tr>\n",
       "      <th>3</th>\n",
       "      <td>3</td>\n",
       "      <td>6</td>\n",
       "      <td>https://twitter.com/Arachno_Cosas/status/13204...</td>\n",
       "      <td>2021-09-14 13:35:38+00:00</td>\n",
       "      <td>¡Hola, @adukation! Gracias por tu consulta. Pe...</td>\n",
       "      <td>¡Hola, @adukation! Gracias por tu consulta. Pe...</td>\n",
       "      <td>1437772025574174722</td>\n",
       "      <td>{'_type': 'snscrape.modules.twitter.User', 'us...</td>\n",
       "      <td>1437772025574174722</td>\n",
       "      <td>[https://twitter.com/adukation/status/14377698...</td>\n",
       "      <td>{'_type': 'snscrape.modules.twitter.Tweet', 'u...</td>\n",
       "      <td>[{'_type': 'snscrape.modules.twitter.User', 'u...</td>\n",
       "      <td>[Vaejovidae, Vaejovis, NIM]</td>\n",
       "      <td>adukation</td>\n",
       "      <td>https://pbs.twimg.com/ext_tw_video_thumb/14377...</td>\n",
       "      <td>NIM</td>\n",
       "    </tr>\n",
       "    <tr>\n",
       "      <th>4</th>\n",
       "      <td>4</td>\n",
       "      <td>7</td>\n",
       "      <td>https://twitter.com/Arachno_Cosas/status/13204...</td>\n",
       "      <td>2021-09-14 13:33:23+00:00</td>\n",
       "      <td>¡Hola, @rodrigosolomon! Gracias por compartir....</td>\n",
       "      <td>¡Hola, @rodrigosolomon! Gracias por compartir....</td>\n",
       "      <td>1437771461469605899</td>\n",
       "      <td>{'_type': 'snscrape.modules.twitter.User', 'us...</td>\n",
       "      <td>1437771461469605899</td>\n",
       "      <td>[https://twitter.com/rodrigosolomon/status/143...</td>\n",
       "      <td>{'_type': 'snscrape.modules.twitter.Tweet', 'u...</td>\n",
       "      <td>[{'_type': 'snscrape.modules.twitter.User', 'u...</td>\n",
       "      <td>[Araneidae, Eriophora, NIM]</td>\n",
       "      <td>rodrigosolomon</td>\n",
       "      <td>https://pbs.twimg.com/media/E_F7p-8UYAAUC45?fo...</td>\n",
       "      <td>NIM</td>\n",
       "    </tr>\n",
       "  </tbody>\n",
       "</table>\n",
       "</div>"
      ],
      "text/plain": [
       "   level_0  index                                                url  \\\n",
       "0        0      1  https://twitter.com/Arachno_Cosas/status/13204...   \n",
       "1        1      3  https://twitter.com/Arachno_Cosas/status/13204...   \n",
       "2        2      4  https://twitter.com/Arachno_Cosas/status/13204...   \n",
       "3        3      6  https://twitter.com/Arachno_Cosas/status/13204...   \n",
       "4        4      7  https://twitter.com/Arachno_Cosas/status/13204...   \n",
       "\n",
       "                       date  \\\n",
       "0 2021-09-14 13:46:10+00:00   \n",
       "1 2021-09-14 13:42:56+00:00   \n",
       "2 2021-09-14 13:39:45+00:00   \n",
       "3 2021-09-14 13:35:38+00:00   \n",
       "4 2021-09-14 13:33:23+00:00   \n",
       "\n",
       "                                             content  \\\n",
       "0  ¡Hola, @TopoGigo6! Gracias por compartir. Pert...   \n",
       "1  ¡Hola, @Elwestrand! Gracias por compartir. Per...   \n",
       "2  ¡Hola, @ddiazgar76! Gracias por la consulta. P...   \n",
       "3  ¡Hola, @adukation! Gracias por tu consulta. Pe...   \n",
       "4  ¡Hola, @rodrigosolomon! Gracias por compartir....   \n",
       "\n",
       "                                     renderedContent                   id  \\\n",
       "0  ¡Hola, @TopoGigo6! Gracias por compartir. Pert...  1437774676604985351   \n",
       "1  ¡Hola, @Elwestrand! Gracias por compartir. Per...  1437773863627149314   \n",
       "2  ¡Hola, @ddiazgar76! Gracias por la consulta. P...  1437773064843010057   \n",
       "3  ¡Hola, @adukation! Gracias por tu consulta. Pe...  1437772025574174722   \n",
       "4  ¡Hola, @rodrigosolomon! Gracias por compartir....  1437771461469605899   \n",
       "\n",
       "                                                user       conversationId  \\\n",
       "0  {'_type': 'snscrape.modules.twitter.User', 'us...  1437774676604985351   \n",
       "1  {'_type': 'snscrape.modules.twitter.User', 'us...  1437773863627149314   \n",
       "2  {'_type': 'snscrape.modules.twitter.User', 'us...  1437773064843010057   \n",
       "3  {'_type': 'snscrape.modules.twitter.User', 'us...  1437772025574174722   \n",
       "4  {'_type': 'snscrape.modules.twitter.User', 'us...  1437771461469605899   \n",
       "\n",
       "                                            outlinks  \\\n",
       "0  [https://twitter.com/TopoGigo6/status/14376763...   \n",
       "1  [https://twitter.com/Elwestrand/status/1437712...   \n",
       "2  [https://twitter.com/ddiazgar76/status/1437753...   \n",
       "3  [https://twitter.com/adukation/status/14377698...   \n",
       "4  [https://twitter.com/rodrigosolomon/status/143...   \n",
       "\n",
       "                                         quotedTweet  \\\n",
       "0  {'_type': 'snscrape.modules.twitter.Tweet', 'u...   \n",
       "1  {'_type': 'snscrape.modules.twitter.Tweet', 'u...   \n",
       "2  {'_type': 'snscrape.modules.twitter.Tweet', 'u...   \n",
       "3  {'_type': 'snscrape.modules.twitter.Tweet', 'u...   \n",
       "4  {'_type': 'snscrape.modules.twitter.Tweet', 'u...   \n",
       "\n",
       "                                      mentionedUsers  \\\n",
       "0  [{'_type': 'snscrape.modules.twitter.User', 'u...   \n",
       "1  [{'_type': 'snscrape.modules.twitter.User', 'u...   \n",
       "2  [{'_type': 'snscrape.modules.twitter.User', 'u...   \n",
       "3  [{'_type': 'snscrape.modules.twitter.User', 'u...   \n",
       "4  [{'_type': 'snscrape.modules.twitter.User', 'u...   \n",
       "\n",
       "                      hashtags mentionedUserName  \\\n",
       "0            [Corinnidae, NIM]         TopoGigo6   \n",
       "1            [Thomisidae, NIM]        Elwestrand   \n",
       "2   [Oxyopidae, Peucetia, NIM]        ddiazgar76   \n",
       "3  [Vaejovidae, Vaejovis, NIM]         adukation   \n",
       "4  [Araneidae, Eriophora, NIM]    rodrigosolomon   \n",
       "\n",
       "                                         picture_url label_IM  \n",
       "0  https://pbs.twimg.com/media/E_Om-6dWUAALKL9?fo...      NIM  \n",
       "1  https://pbs.twimg.com/media/E_PH0fbXEAMPYi5?fo...      NIM  \n",
       "2  https://pbs.twimg.com/media/E_PtC1OWYAox7UL?fo...      NIM  \n",
       "3  https://pbs.twimg.com/ext_tw_video_thumb/14377...      NIM  \n",
       "4  https://pbs.twimg.com/media/E_F7p-8UYAAUC45?fo...      NIM  "
      ]
     },
     "execution_count": 257,
     "metadata": {},
     "output_type": "execute_result"
    }
   ],
   "source": [
    "df.head(5)"
   ]
  },
  {
   "cell_type": "markdown",
   "id": "c7a292af-561e-4662-b010-34f379c3293c",
   "metadata": {},
   "source": [
    "## Download images from dataframe"
   ]
  },
  {
   "cell_type": "code",
   "execution_count": 268,
   "id": "c3cbe908-2416-40ac-8cab-ee5adb0e4116",
   "metadata": {},
   "outputs": [],
   "source": [
    "def download_images(df,url_column):\n",
    "    for row in range(len(df)):\n",
    "        response = requests.get(df[str(url_column)][row])\n",
    "        path = '.\\\\' + 'Imagenes' + '\\\\' + str(df['id'][row]) + '.png' \n",
    "        file = open(path,'wb')\n",
    "        file.write(response.content)\n",
    "        file.close()"
   ]
  },
  {
   "cell_type": "code",
   "execution_count": 269,
   "id": "966288b2-e1a2-4bea-95e0-a00fea967179",
   "metadata": {},
   "outputs": [],
   "source": [
    "download_images(df,'picture_url')"
   ]
  },
  {
   "cell_type": "markdown",
   "id": "f5b2c199-5b86-42aa-906f-128a0725cc05",
   "metadata": {},
   "source": [
    "## Save the dataframe to a csv and a pickle file"
   ]
  },
  {
   "cell_type": "code",
   "execution_count": 168,
   "id": "d47f7421-1d3b-4307-903f-e2c7a2c4706b",
   "metadata": {},
   "outputs": [],
   "source": [
    "df.to_csv(r'C:\\Users\\eddso\\OneDrive\\Maestría\\Tareas Git Hub\\tareas_data_science\\statistical-learning-2\\proyecto-final\\twitter-scrapping\\df.csv',\n",
    "          sep = ';')"
   ]
  },
  {
   "cell_type": "code",
   "execution_count": 265,
   "id": "4507d864-cce0-48b2-86fd-07cfdbb09573",
   "metadata": {},
   "outputs": [],
   "source": [
    "df_p = pd.read_pickle(r'C:\\Users\\eddso\\OneDrive\\Maestría\\Tareas Git Hub\\tareas_data_science\\statistical-learning-2\\proyecto-final\\twitter-scrapping\\df.pickle')"
   ]
  },
  {
   "cell_type": "code",
   "execution_count": 267,
   "id": "4f92db9f-5663-4d88-9f0a-28be3cc9141b",
   "metadata": {},
   "outputs": [
    {
     "data": {
      "text/plain": [
       "(5578, 16)"
      ]
     },
     "execution_count": 267,
     "metadata": {},
     "output_type": "execute_result"
    }
   ],
   "source": [
    "df_p.shape"
   ]
  }
 ],
 "metadata": {
  "kernelspec": {
   "display_name": "Python 3",
   "language": "python",
   "name": "python3"
  },
  "language_info": {
   "codemirror_mode": {
    "name": "ipython",
    "version": 3
   },
   "file_extension": ".py",
   "mimetype": "text/x-python",
   "name": "python",
   "nbconvert_exporter": "python",
   "pygments_lexer": "ipython3",
   "version": "3.8.10"
  },
  "toc-autonumbering": false,
  "toc-showmarkdowntxt": true,
  "toc-showtags": false
 },
 "nbformat": 4,
 "nbformat_minor": 5
}
