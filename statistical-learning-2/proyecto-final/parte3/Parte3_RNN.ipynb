{
  "nbformat": 4,
  "nbformat_minor": 0,
  "metadata": {
    "colab": {
      "name": "Parte3_RNN.ipynb",
      "provenance": [],
      "toc_visible": true,
      "mount_file_id": "1u_CM0z1p4mBeCe6DqzlqFwaxN6v9lJum",
      "authorship_tag": "ABX9TyNftPU5etneMQRCrZycpeUQ",
      "include_colab_link": true
    },
    "kernelspec": {
      "name": "python3",
      "display_name": "Python 3"
    },
    "language_info": {
      "name": "python"
    }
  },
  "cells": [
    {
      "cell_type": "markdown",
      "metadata": {
        "id": "view-in-github",
        "colab_type": "text"
      },
      "source": [
        "<a href=\"https://colab.research.google.com/github/eddson90/tareas_data_science/blob/main/statistical-learning-2/proyecto-final/parte3/Parte3_RNN.ipynb\" target=\"_parent\"><img src=\"https://colab.research.google.com/assets/colab-badge.svg\" alt=\"Open In Colab\"/></a>"
      ]
    },
    {
      "cell_type": "markdown",
      "metadata": {
        "id": "mdQ5-ZxTp__t"
      },
      "source": [
        "# **Parte 3: Red Neuronal Recurrente (RNN)**\n",
        "\n",
        "## Proyecto Final: Implementación de Modelos de Deep Learning\n",
        "---\n",
        "\n",
        "Statistical Learning II\n",
        "\n",
        "Universidad Galileo\n",
        "\n",
        "Eddson Sierra"
      ]
    },
    {
      "cell_type": "markdown",
      "metadata": {
        "id": "nV5TH2Z8yKsU"
      },
      "source": [
        "## Carga de librerías"
      ]
    },
    {
      "cell_type": "code",
      "metadata": {
        "colab": {
          "base_uri": "https://localhost:8080/"
        },
        "id": "PDR0Pd2Lzidk",
        "outputId": "44c5dcbd-86b9-42f3-f077-691e75d12a1a"
      },
      "source": [
        "pip install pickle5"
      ],
      "execution_count": 2,
      "outputs": [
        {
          "output_type": "stream",
          "name": "stdout",
          "text": [
            "Collecting pickle5\n",
            "  Downloading pickle5-0.0.11.tar.gz (132 kB)\n",
            "\u001b[?25l\r\u001b[K     |██▌                             | 10 kB 21.3 MB/s eta 0:00:01\r\u001b[K     |█████                           | 20 kB 25.7 MB/s eta 0:00:01\r\u001b[K     |███████▍                        | 30 kB 14.1 MB/s eta 0:00:01\r\u001b[K     |██████████                      | 40 kB 10.0 MB/s eta 0:00:01\r\u001b[K     |████████████▍                   | 51 kB 5.4 MB/s eta 0:00:01\r\u001b[K     |██████████████▉                 | 61 kB 6.0 MB/s eta 0:00:01\r\u001b[K     |█████████████████▍              | 71 kB 5.7 MB/s eta 0:00:01\r\u001b[K     |███████████████████▉            | 81 kB 6.4 MB/s eta 0:00:01\r\u001b[K     |██████████████████████▎         | 92 kB 4.8 MB/s eta 0:00:01\r\u001b[K     |████████████████████████▉       | 102 kB 5.2 MB/s eta 0:00:01\r\u001b[K     |███████████████████████████▎    | 112 kB 5.2 MB/s eta 0:00:01\r\u001b[K     |█████████████████████████████▊  | 122 kB 5.2 MB/s eta 0:00:01\r\u001b[K     |████████████████████████████████| 132 kB 5.2 MB/s \n",
            "\u001b[?25hBuilding wheels for collected packages: pickle5\n",
            "  Building wheel for pickle5 (setup.py) ... \u001b[?25l\u001b[?25hdone\n",
            "  Created wheel for pickle5: filename=pickle5-0.0.11-cp37-cp37m-linux_x86_64.whl size=219303 sha256=a3b0db7f751510f9d854169ce3a662e704241fdd8762842572aa8f0d6e862468\n",
            "  Stored in directory: /root/.cache/pip/wheels/7e/6a/00/67136a90d6aca437d806d1d3cedf98106e840c97a3e5188198\n",
            "Successfully built pickle5\n",
            "Installing collected packages: pickle5\n",
            "Successfully installed pickle5-0.0.11\n"
          ]
        }
      ]
    },
    {
      "cell_type": "code",
      "metadata": {
        "id": "vV3bQoJMzgAT"
      },
      "source": [
        "import pickle5 as pickle"
      ],
      "execution_count": 3,
      "outputs": []
    },
    {
      "cell_type": "code",
      "metadata": {
        "id": "bSDBNCPLp_hm"
      },
      "source": [
        "import numpy as np\n",
        "from numpy import array\n",
        "import matplotlib.pyplot as plt\n",
        "%matplotlib inline\n",
        "\n",
        "import string\n",
        "import os\n",
        "import glob\n",
        "from PIL import Image\n",
        "from time import time\n",
        "\n",
        "from keras import Input, layers\n",
        "from keras import optimizers\n",
        "from tensorflow.keras.optimizers import Adam\n",
        " \n",
        "from keras.preprocessing import sequence\n",
        "from keras.preprocessing import image\n",
        "from keras.preprocessing.text import Tokenizer\n",
        "from keras.preprocessing.sequence import pad_sequences\n",
        "from keras.layers import LSTM, Embedding, Dense, Activation, Flatten, Reshape, Dropout\n",
        "from keras.layers.wrappers import Bidirectional\n",
        "from keras.layers.merge import add\n",
        "from keras.applications.inception_v3 import InceptionV3\n",
        "from keras.applications.inception_v3 import preprocess_input\n",
        "from keras.models import Model\n",
        "from tensorflow.keras.utils import to_categorical"
      ],
      "execution_count": 4,
      "outputs": []
    },
    {
      "cell_type": "markdown",
      "metadata": {
        "id": "zs5_ZZvPyZiT"
      },
      "source": [
        "## Carga de datos y preprocesamiento"
      ]
    },
    {
      "cell_type": "code",
      "metadata": {
        "id": "DrOdqLl9yKKd"
      },
      "source": [
        "images_path = '/content/drive/MyDrive/Colab Notebooks/Proyecto Final SL2/Parte2_CNN/img_data_file.pkl'\n",
        "tweet_content_path = '/content/drive/MyDrive/Colab Notebooks/Proyecto Final SL2/Parte2_CNN/tweet_content_file.pkl'"
      ],
      "execution_count": 5,
      "outputs": []
    },
    {
      "cell_type": "code",
      "metadata": {
        "id": "PSqcNUAezYQF"
      },
      "source": [
        "def load_from_pk(file_name):\n",
        "  pickle_file = open(file_name, \"rb\")\n",
        "  #objects = []\n",
        "  while True:\n",
        "      try:\n",
        "          #objects.append(pickle.load(pickle_file))\n",
        "          salida = pickle.load(pickle_file)\n",
        "      except EOFError:\n",
        "          break\n",
        "  pickle_file.close()\n",
        "\n",
        "  return salida"
      ],
      "execution_count": 6,
      "outputs": []
    },
    {
      "cell_type": "code",
      "metadata": {
        "id": "MdbbiN52zZUr"
      },
      "source": [
        "images = np.array(load_from_pk(images_path))\n",
        "captions = np.array(load_from_pk(tweet_content_path)).reshape(-1,1)"
      ],
      "execution_count": 7,
      "outputs": []
    },
    {
      "cell_type": "code",
      "metadata": {
        "colab": {
          "base_uri": "https://localhost:8080/"
        },
        "id": "Rshuoz8r0B3U",
        "outputId": "6f60f0cb-deac-4c52-8233-fefc75198421"
      },
      "source": [
        "images.shape, captions.shape"
      ],
      "execution_count": 8,
      "outputs": [
        {
          "output_type": "execute_result",
          "data": {
            "text/plain": [
              "((5574, 128, 128, 3), (5574, 1))"
            ]
          },
          "metadata": {},
          "execution_count": 8
        }
      ]
    },
    {
      "cell_type": "code",
      "metadata": {
        "colab": {
          "base_uri": "https://localhost:8080/"
        },
        "id": "qhy3kgS10Lhk",
        "outputId": "ea140b9a-107a-4514-8260-105310b9a590"
      },
      "source": [
        "captions[0:4]"
      ],
      "execution_count": 9,
      "outputs": [
        {
          "output_type": "execute_result",
          "data": {
            "text/plain": [
              "array([['¡Hola, @TopoGigo6! Gracias por compartir. Pertenece a la familia #Corinnidae probablemente. No son consideradas de importancia médica #NIM✅ Saludos https://t.co/hwXi74WiLs'],\n",
              "       ['¡Hola, @Elwestrand! Gracias por compartir. Pertenece a la familia #Thomisidae, posiblemente del género «Thomisius». No son consideradas de importancia médica #NIM✅ Saludos https://t.co/vUaVvkMHOn'],\n",
              "       ['¡Hola, @ddiazgar76! Gracias por la consulta. Pertenece a la familia #Oxyopidae, del género #Peucetia probablemente. Se les conoce como arañas lince verdes. No son consideradas de importancia médica #NIM✅ Le hacen falta un par de patas. Saludos https://t.co/UMjC3fIxTF'],\n",
              "       ['¡Hola, @adukation! Gracias por tu consulta. Pertenece a la familia #Vaejovidae, posiblemente del género #Vaejovis. No son considerados de importancia médica #NIM✅ Sí, es posible que haya más, por el hecho de ser la CDMX zona de distribución natural de 2 especies de este género https://t.co/InMQqvn8xC']],\n",
              "      dtype='<U327')"
            ]
          },
          "metadata": {},
          "execution_count": 9
        }
      ]
    },
    {
      "cell_type": "markdown",
      "metadata": {
        "id": "EjnqzJRmwf6k"
      },
      "source": [
        "#### Pasar lista a string"
      ]
    },
    {
      "cell_type": "markdown",
      "metadata": {
        "id": "5AudF6yyn2Lr"
      },
      "source": [
        "Creamos una función para pasar la lista a string y la aplicamos para cada elemento de la lista de captions (que es una lista en sí misma):"
      ]
    },
    {
      "cell_type": "code",
      "metadata": {
        "id": "mAIfe7uZ1sSL"
      },
      "source": [
        "def listToString(s): \n",
        "    str1 = \" \" \n",
        "    return (str1.join(s))"
      ],
      "execution_count": 10,
      "outputs": []
    },
    {
      "cell_type": "code",
      "metadata": {
        "id": "Pp0lYTa25J3G"
      },
      "source": [
        "captions_list_str = []\n",
        "for i in range(len(captions)):\n",
        "  caption_str = listToString(captions[i])\n",
        "  captions_list_str.append(caption_str)"
      ],
      "execution_count": 11,
      "outputs": []
    },
    {
      "cell_type": "code",
      "metadata": {
        "colab": {
          "base_uri": "https://localhost:8080/"
        },
        "id": "kjUzTSoR0fe0",
        "outputId": "7f7ee560-1d7c-40d2-96e3-ca70e96ec163"
      },
      "source": [
        "captions_list_str[0:4]"
      ],
      "execution_count": 12,
      "outputs": [
        {
          "output_type": "execute_result",
          "data": {
            "text/plain": [
              "['¡Hola, @TopoGigo6! Gracias por compartir. Pertenece a la familia #Corinnidae probablemente. No son consideradas de importancia médica #NIM✅ Saludos https://t.co/hwXi74WiLs',\n",
              " '¡Hola, @Elwestrand! Gracias por compartir. Pertenece a la familia #Thomisidae, posiblemente del género «Thomisius». No son consideradas de importancia médica #NIM✅ Saludos https://t.co/vUaVvkMHOn',\n",
              " '¡Hola, @ddiazgar76! Gracias por la consulta. Pertenece a la familia #Oxyopidae, del género #Peucetia probablemente. Se les conoce como arañas lince verdes. No son consideradas de importancia médica #NIM✅ Le hacen falta un par de patas. Saludos https://t.co/UMjC3fIxTF',\n",
              " '¡Hola, @adukation! Gracias por tu consulta. Pertenece a la familia #Vaejovidae, posiblemente del género #Vaejovis. No son considerados de importancia médica #NIM✅ Sí, es posible que haya más, por el hecho de ser la CDMX zona de distribución natural de 2 especies de este género https://t.co/InMQqvn8xC']"
            ]
          },
          "metadata": {},
          "execution_count": 12
        }
      ]
    },
    {
      "cell_type": "markdown",
      "metadata": {
        "id": "muTkFm2wwmwU"
      },
      "source": [
        "#### Convertir a minúsculas"
      ]
    },
    {
      "cell_type": "markdown",
      "metadata": {
        "id": "pgHsG7SgoCHE"
      },
      "source": [
        "Convertimos la lista de captions a minúsculas:"
      ]
    },
    {
      "cell_type": "code",
      "metadata": {
        "id": "D_PZS7mz6LQU"
      },
      "source": [
        "captions_list_clean = []\n",
        "for i in range(len(captions_list_str)):\n",
        "        desc = captions_list_str[i]\n",
        "        desc = desc.split()\n",
        "        desc = [word.lower() for word in desc]\n",
        "        captions_list_clean.append(' '.join(desc))"
      ],
      "execution_count": 179,
      "outputs": []
    },
    {
      "cell_type": "code",
      "metadata": {
        "colab": {
          "base_uri": "https://localhost:8080/"
        },
        "id": "y8yxGPjA8gLE",
        "outputId": "f2b1c12a-8ad1-43a3-f6cf-9a1dcf812295"
      },
      "source": [
        "captions_list_clean[0:4]"
      ],
      "execution_count": 181,
      "outputs": [
        {
          "output_type": "execute_result",
          "data": {
            "text/plain": [
              "['¡hola, @topogigo6! gracias por compartir. pertenece a la familia #corinnidae probablemente. no son consideradas de importancia médica #nim✅ saludos https://t.co/hwxi74wils',\n",
              " '¡hola, @elwestrand! gracias por compartir. pertenece a la familia #thomisidae, posiblemente del género «thomisius». no son consideradas de importancia médica #nim✅ saludos https://t.co/vuavvkmhon',\n",
              " '¡hola, @ddiazgar76! gracias por la consulta. pertenece a la familia #oxyopidae, del género #peucetia probablemente. se les conoce como arañas lince verdes. no son consideradas de importancia médica #nim✅ le hacen falta un par de patas. saludos https://t.co/umjc3fixtf',\n",
              " '¡hola, @adukation! gracias por tu consulta. pertenece a la familia #vaejovidae, posiblemente del género #vaejovis. no son considerados de importancia médica #nim✅ sí, es posible que haya más, por el hecho de ser la cdmx zona de distribución natural de 2 especies de este género https://t.co/inmqqvn8xc']"
            ]
          },
          "metadata": {},
          "execution_count": 181
        }
      ]
    },
    {
      "cell_type": "markdown",
      "metadata": {
        "id": "mMqIrCuLwrok"
      },
      "source": [
        "#### Remover usuario y url con regex"
      ]
    },
    {
      "cell_type": "markdown",
      "metadata": {
        "id": "bHHf08wRoLzM"
      },
      "source": [
        "Removemos los nombres de usuario y las urls presentes en las captions a través de expresiones regulares:"
      ]
    },
    {
      "cell_type": "code",
      "metadata": {
        "id": "pW8THOCG8vb0"
      },
      "source": [
        "import re"
      ],
      "execution_count": 182,
      "outputs": []
    },
    {
      "cell_type": "code",
      "metadata": {
        "id": "rHEY-Q9K8yWs"
      },
      "source": [
        "patron_user = r\"@([a-z]*)?([0-9]*)?(!|_|-)?\"\n",
        "patron_url = r\"https?:\\/\\/(www\\.)?[-a-zA-Z0-9@:%._\\+~#=]{1,256}\\.[a-zA-Z0-9()]{1,6}\\b([-a-zA-Z0-9()@:%_\\+.~#?&//=]*)\""
      ],
      "execution_count": 183,
      "outputs": []
    },
    {
      "cell_type": "code",
      "metadata": {
        "id": "IH03pe5j_ZgM"
      },
      "source": [
        "for i in range(len(captions_list_clean)):\n",
        "  try:\n",
        "    match_user = re.search(patron_user, captions_list_clean[i]).group()\n",
        "    match_url = re.search(patron_url, captions_list_clean[i]).group()\n",
        "    captions_list_clean[i] = captions_list_clean[i].replace(match_user,'')\n",
        "    captions_list_clean[i] = captions_list_clean[i].replace(match_url,'')\n",
        "  except:\n",
        "    try:\n",
        "      match_user = re.search(patron_user, captions_list_clean[i]).group()\n",
        "      captions_list_clean[i] = captions_list_clean[i].replace(match_user,'')\n",
        "    except:\n",
        "      try:\n",
        "        match_url = re.search(patron_url, captions_list_clean[i]).group()\n",
        "        captions_list_clean[i] = captions_list_clean[i].replace(match_url,'')\n",
        "      except:\n",
        "        continue "
      ],
      "execution_count": 184,
      "outputs": []
    },
    {
      "cell_type": "code",
      "metadata": {
        "colab": {
          "base_uri": "https://localhost:8080/"
        },
        "id": "ar-HvhxtAIO-",
        "outputId": "5bd4c4b8-360e-4171-cc95-da9627a89efc"
      },
      "source": [
        "captions_list_clean[0:4]"
      ],
      "execution_count": 185,
      "outputs": [
        {
          "output_type": "execute_result",
          "data": {
            "text/plain": [
              "['¡hola,  gracias por compartir. pertenece a la familia #corinnidae probablemente. no son consideradas de importancia médica #nim✅ saludos ',\n",
              " '¡hola,  gracias por compartir. pertenece a la familia #thomisidae, posiblemente del género «thomisius». no son consideradas de importancia médica #nim✅ saludos ',\n",
              " '¡hola,  gracias por la consulta. pertenece a la familia #oxyopidae, del género #peucetia probablemente. se les conoce como arañas lince verdes. no son consideradas de importancia médica #nim✅ le hacen falta un par de patas. saludos ',\n",
              " '¡hola,  gracias por tu consulta. pertenece a la familia #vaejovidae, posiblemente del género #vaejovis. no son considerados de importancia médica #nim✅ sí, es posible que haya más, por el hecho de ser la cdmx zona de distribución natural de 2 especies de este género ']"
            ]
          },
          "metadata": {},
          "execution_count": 185
        }
      ]
    },
    {
      "cell_type": "markdown",
      "metadata": {
        "id": "IVtXmEkiwMnE"
      },
      "source": [
        "### Remoción de emojis"
      ]
    },
    {
      "cell_type": "markdown",
      "metadata": {
        "id": "-ST6oPp7oUPM"
      },
      "source": [
        "Utilizando la librería demoji, creamos una función que permite extraer los emojis utilizados en un texto y la utilizamos para remover todos los emojis en las captions:"
      ]
    },
    {
      "cell_type": "code",
      "metadata": {
        "colab": {
          "base_uri": "https://localhost:8080/"
        },
        "id": "IStPlOq3s5c0",
        "outputId": "81744fee-5fd9-4c14-d33f-276f4c63e7c2"
      },
      "source": [
        "pip install demoji"
      ],
      "execution_count": 85,
      "outputs": [
        {
          "output_type": "stream",
          "name": "stdout",
          "text": [
            "Collecting demoji\n",
            "  Downloading demoji-1.1.0-py3-none-any.whl (42 kB)\n",
            "\u001b[?25l\r\u001b[K     |███████▋                        | 10 kB 15.6 MB/s eta 0:00:01\r\u001b[K     |███████████████▎                | 20 kB 19.6 MB/s eta 0:00:01\r\u001b[K     |███████████████████████         | 30 kB 13.4 MB/s eta 0:00:01\r\u001b[K     |██████████████████████████████▋ | 40 kB 10.0 MB/s eta 0:00:01\r\u001b[K     |████████████████████████████████| 42 kB 723 kB/s \n",
            "\u001b[?25hInstalling collected packages: demoji\n",
            "Successfully installed demoji-1.1.0\n"
          ]
        }
      ]
    },
    {
      "cell_type": "code",
      "metadata": {
        "colab": {
          "base_uri": "https://localhost:8080/"
        },
        "id": "w13n7dOhs7Wk",
        "outputId": "bb669177-055c-4039-b31a-91a0dd43c258"
      },
      "source": [
        "import demoji\n",
        "demoji.download_codes()"
      ],
      "execution_count": 151,
      "outputs": [
        {
          "output_type": "stream",
          "name": "stderr",
          "text": [
            "/usr/local/lib/python3.7/dist-packages/ipykernel_launcher.py:3: FutureWarning: The demoji.download_codes attribute is deprecated and will be removed from demoji in a future version. It is an unused attribute as emoji codes are now distributed directly with the demoji package.\n",
            "  This is separate from the ipykernel package so we can avoid doing imports until\n"
          ]
        }
      ]
    },
    {
      "cell_type": "code",
      "metadata": {
        "id": "w5kOY4NxyZGb"
      },
      "source": [
        "for i in range(len(captions_list_clean)):\n",
        "  try:\n",
        "    emoji_dict = demoji.findall(captions_list_clean[i])\n",
        "    for key in emoji_dict:\n",
        "      captions_list_clean[i] = captions_list_clean[i].replace(key,'')\n",
        "  except:\n",
        "    continue"
      ],
      "execution_count": 186,
      "outputs": []
    },
    {
      "cell_type": "code",
      "metadata": {
        "colab": {
          "base_uri": "https://localhost:8080/"
        },
        "id": "FA-ChBERyyss",
        "outputId": "98ea9631-a20e-4404-c709-349fea6b3ca9"
      },
      "source": [
        "captions_list_clean[0:4]"
      ],
      "execution_count": 187,
      "outputs": [
        {
          "output_type": "execute_result",
          "data": {
            "text/plain": [
              "['¡hola,  gracias por compartir. pertenece a la familia #corinnidae probablemente. no son consideradas de importancia médica #nim saludos ',\n",
              " '¡hola,  gracias por compartir. pertenece a la familia #thomisidae, posiblemente del género «thomisius». no son consideradas de importancia médica #nim saludos ',\n",
              " '¡hola,  gracias por la consulta. pertenece a la familia #oxyopidae, del género #peucetia probablemente. se les conoce como arañas lince verdes. no son consideradas de importancia médica #nim le hacen falta un par de patas. saludos ',\n",
              " '¡hola,  gracias por tu consulta. pertenece a la familia #vaejovidae, posiblemente del género #vaejovis. no son considerados de importancia médica #nim sí, es posible que haya más, por el hecho de ser la cdmx zona de distribución natural de 2 especies de este género ']"
            ]
          },
          "metadata": {},
          "execution_count": 187
        }
      ]
    },
    {
      "cell_type": "markdown",
      "metadata": {
        "id": "P4VMJyTBzlu0"
      },
      "source": [
        "### Remover otros signos de puntuación"
      ]
    },
    {
      "cell_type": "code",
      "metadata": {
        "id": "5U-kFII-0Do0"
      },
      "source": [
        "punc = '''!¡()-[]{};:'\"\\,<>./?@#$%^&*_~'''\n",
        "for i in range(len(captions_list_str)):\n",
        "  for ele in captions_list_clean[i]:\n",
        "      if ele in punc:\n",
        "          captions_list_clean[i] = captions_list_clean[i].replace(ele, \"\")"
      ],
      "execution_count": 189,
      "outputs": []
    },
    {
      "cell_type": "code",
      "metadata": {
        "colab": {
          "base_uri": "https://localhost:8080/"
        },
        "id": "CTcy6HV2z-c0",
        "outputId": "69f6d231-65e4-4238-cb90-155644b525e3"
      },
      "source": [
        "captions_list_clean[0:4]"
      ],
      "execution_count": 190,
      "outputs": [
        {
          "output_type": "execute_result",
          "data": {
            "text/plain": [
              "['hola  gracias por compartir pertenece a la familia corinnidae probablemente no son consideradas de importancia médica nim saludos ',\n",
              " 'hola  gracias por compartir pertenece a la familia thomisidae posiblemente del género «thomisius» no son consideradas de importancia médica nim saludos ',\n",
              " 'hola  gracias por la consulta pertenece a la familia oxyopidae del género peucetia probablemente se les conoce como arañas lince verdes no son consideradas de importancia médica nim le hacen falta un par de patas saludos ',\n",
              " 'hola  gracias por tu consulta pertenece a la familia vaejovidae posiblemente del género vaejovis no son considerados de importancia médica nim sí es posible que haya más por el hecho de ser la cdmx zona de distribución natural de 2 especies de este género ']"
            ]
          },
          "metadata": {},
          "execution_count": 190
        }
      ]
    },
    {
      "cell_type": "markdown",
      "metadata": {
        "id": "H5rGBIgp4rpb"
      },
      "source": [
        "### Creación de un vocabulario"
      ]
    }
  ]
}