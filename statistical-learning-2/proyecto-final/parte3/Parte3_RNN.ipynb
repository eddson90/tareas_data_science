{
  "nbformat": 4,
  "nbformat_minor": 0,
  "metadata": {
    "colab": {
      "name": "Parte3_RNN.ipynb",
      "provenance": [],
      "collapsed_sections": [],
      "toc_visible": true,
      "mount_file_id": "1u_CM0z1p4mBeCe6DqzlqFwaxN6v9lJum",
      "authorship_tag": "ABX9TyNG0V0GLEOeiNDMkof57MdE",
      "include_colab_link": true
    },
    "kernelspec": {
      "name": "python3",
      "display_name": "Python 3"
    },
    "language_info": {
      "name": "python"
    }
  },
  "cells": [
    {
      "cell_type": "markdown",
      "metadata": {
        "id": "view-in-github",
        "colab_type": "text"
      },
      "source": [
        "<a href=\"https://colab.research.google.com/github/eddson90/tareas_data_science/blob/main/statistical-learning-2/proyecto-final/parte3/Parte3_RNN.ipynb\" target=\"_parent\"><img src=\"https://colab.research.google.com/assets/colab-badge.svg\" alt=\"Open In Colab\"/></a>"
      ]
    },
    {
      "cell_type": "markdown",
      "metadata": {
        "id": "mdQ5-ZxTp__t"
      },
      "source": [
        "# **Parte 3: Red Neuronal Recurrente (RNN)**\n",
        "\n",
        "## Proyecto Final: Implementación de Modelos de Deep Learning\n",
        "---\n",
        "\n",
        "Statistical Learning II\n",
        "\n",
        "Universidad Galileo\n",
        "\n",
        "Eddson Sierra"
      ]
    },
    {
      "cell_type": "markdown",
      "metadata": {
        "id": "nV5TH2Z8yKsU"
      },
      "source": [
        "## Carga de librerías"
      ]
    },
    {
      "cell_type": "code",
      "metadata": {
        "colab": {
          "base_uri": "https://localhost:8080/"
        },
        "id": "PDR0Pd2Lzidk",
        "outputId": "f56314e8-e9da-4018-a72a-2df4dd8a9177"
      },
      "source": [
        "pip install pickle5\n"
      ],
      "execution_count": 1,
      "outputs": [
        {
          "output_type": "stream",
          "name": "stdout",
          "text": [
            "Collecting pickle5\n",
            "  Downloading pickle5-0.0.11.tar.gz (132 kB)\n",
            "\u001b[?25l\r\u001b[K     |██▌                             | 10 kB 28.6 MB/s eta 0:00:01\r\u001b[K     |█████                           | 20 kB 36.6 MB/s eta 0:00:01\r\u001b[K     |███████▍                        | 30 kB 36.9 MB/s eta 0:00:01\r\u001b[K     |██████████                      | 40 kB 40.6 MB/s eta 0:00:01\r\u001b[K     |████████████▍                   | 51 kB 16.0 MB/s eta 0:00:01\r\u001b[K     |██████████████▉                 | 61 kB 17.5 MB/s eta 0:00:01\r\u001b[K     |█████████████████▍              | 71 kB 9.9 MB/s eta 0:00:01\r\u001b[K     |███████████████████▉            | 81 kB 10.8 MB/s eta 0:00:01\r\u001b[K     |██████████████████████▎         | 92 kB 11.7 MB/s eta 0:00:01\r\u001b[K     |████████████████████████▉       | 102 kB 12.8 MB/s eta 0:00:01\r\u001b[K     |███████████████████████████▎    | 112 kB 12.8 MB/s eta 0:00:01\r\u001b[K     |█████████████████████████████▊  | 122 kB 12.8 MB/s eta 0:00:01\r\u001b[K     |████████████████████████████████| 132 kB 12.8 MB/s \n",
            "\u001b[?25hBuilding wheels for collected packages: pickle5\n",
            "  Building wheel for pickle5 (setup.py) ... \u001b[?25l\u001b[?25hdone\n",
            "  Created wheel for pickle5: filename=pickle5-0.0.11-cp37-cp37m-linux_x86_64.whl size=219329 sha256=02565ea175ff256035a93a30969208a2ae31feb51cd693c59f04e18e1d0f1f78\n",
            "  Stored in directory: /root/.cache/pip/wheels/7e/6a/00/67136a90d6aca437d806d1d3cedf98106e840c97a3e5188198\n",
            "Successfully built pickle5\n",
            "Installing collected packages: pickle5\n",
            "Successfully installed pickle5-0.0.11\n"
          ]
        }
      ]
    },
    {
      "cell_type": "code",
      "metadata": {
        "id": "vV3bQoJMzgAT"
      },
      "source": [
        "import pickle5 as pickle"
      ],
      "execution_count": 2,
      "outputs": []
    },
    {
      "cell_type": "code",
      "metadata": {
        "id": "bSDBNCPLp_hm"
      },
      "source": [
        "import numpy as np\n",
        "from numpy import array\n",
        "import matplotlib.pyplot as plt\n",
        "import pandas as pd\n",
        "%matplotlib inline\n",
        "\n",
        "import string\n",
        "import os\n",
        "import glob\n",
        "from PIL import Image\n",
        "from time import time\n",
        "\n",
        "from keras import Input, layers\n",
        "from keras import optimizers\n",
        "from tensorflow.keras.optimizers import Adam\n",
        " \n",
        "from keras.preprocessing import sequence\n",
        "from keras.preprocessing import image\n",
        "from keras.preprocessing.text import Tokenizer\n",
        "from keras.preprocessing.sequence import pad_sequences\n",
        "from keras.layers import LSTM, Embedding, Dense, Activation, Flatten, Reshape, Dropout\n",
        "from keras.layers.wrappers import Bidirectional\n",
        "from keras.layers.merge import add\n",
        "from keras.applications.inception_v3 import InceptionV3\n",
        "from keras.applications.inception_v3 import preprocess_input\n",
        "from keras.models import Model\n",
        "from tensorflow.keras.utils import to_categorical"
      ],
      "execution_count": 60,
      "outputs": []
    },
    {
      "cell_type": "markdown",
      "metadata": {
        "id": "zs5_ZZvPyZiT"
      },
      "source": [
        "## Carga de datos y preprocesamiento"
      ]
    },
    {
      "cell_type": "markdown",
      "metadata": {
        "id": "OqcRL3T5Lj8z"
      },
      "source": [
        "#### Carga de datos"
      ]
    },
    {
      "cell_type": "code",
      "metadata": {
        "id": "DrOdqLl9yKKd"
      },
      "source": [
        "images_path = '/content/drive/MyDrive/Colab Notebooks/Proyecto Final SL2/Parte2_CNN/img_data_file.pkl'\n",
        "tweet_content_path = '/content/drive/MyDrive/Colab Notebooks/Proyecto Final SL2/Parte2_CNN/tweet_content_file.pkl'"
      ],
      "execution_count": 4,
      "outputs": []
    },
    {
      "cell_type": "code",
      "metadata": {
        "id": "PSqcNUAezYQF"
      },
      "source": [
        "def load_from_pk(file_name):\n",
        "  pickle_file = open(file_name, \"rb\")\n",
        "  #objects = []\n",
        "  while True:\n",
        "      try:\n",
        "          #objects.append(pickle.load(pickle_file))\n",
        "          salida = pickle.load(pickle_file)\n",
        "      except EOFError:\n",
        "          break\n",
        "  pickle_file.close()\n",
        "\n",
        "  return salida"
      ],
      "execution_count": 5,
      "outputs": []
    },
    {
      "cell_type": "code",
      "metadata": {
        "id": "MdbbiN52zZUr"
      },
      "source": [
        "images = np.array(load_from_pk(images_path))\n",
        "captions = np.array(load_from_pk(tweet_content_path)).reshape(-1,1)"
      ],
      "execution_count": 6,
      "outputs": []
    },
    {
      "cell_type": "code",
      "metadata": {
        "colab": {
          "base_uri": "https://localhost:8080/"
        },
        "id": "Rshuoz8r0B3U",
        "outputId": "aa880c6f-34b9-43bf-97a8-562fa85e8a6b"
      },
      "source": [
        "images.shape, captions.shape"
      ],
      "execution_count": 7,
      "outputs": [
        {
          "output_type": "execute_result",
          "data": {
            "text/plain": [
              "((5574, 128, 128, 3), (5574, 1))"
            ]
          },
          "metadata": {},
          "execution_count": 7
        }
      ]
    },
    {
      "cell_type": "code",
      "metadata": {
        "colab": {
          "base_uri": "https://localhost:8080/",
          "height": 305
        },
        "id": "L8U7P2sbLqn6",
        "outputId": "6c1cb857-1a2a-481e-8ced-9135602b2196"
      },
      "source": [
        "plt.imshow(images[0])\n",
        "print(captions[0][0])"
      ],
      "execution_count": 8,
      "outputs": [
        {
          "output_type": "stream",
          "name": "stdout",
          "text": [
            "¡Hola, @TopoGigo6! Gracias por compartir. Pertenece a la familia #Corinnidae probablemente. No son consideradas de importancia médica #NIM✅ Saludos https://t.co/hwXi74WiLs\n"
          ]
        },
        {
          "output_type": "display_data",
          "data": {
            "image/png": "[encoded data removed]",
            "text/plain": [
              "<Figure size 432x288 with 1 Axes>"
            ]
          },
          "metadata": {
            "needs_background": "light"
          }
        }
      ]
    },
    {
      "cell_type": "code",
      "metadata": {
        "colab": {
          "base_uri": "https://localhost:8080/"
        },
        "id": "qhy3kgS10Lhk",
        "outputId": "33002495-ec4c-4fe5-b9ad-4c6d985ee7c5"
      },
      "source": [
        "captions[0:4]"
      ],
      "execution_count": 9,
      "outputs": [
        {
          "output_type": "execute_result",
          "data": {
            "text/plain": [
              "array([['¡Hola, @TopoGigo6! Gracias por compartir. Pertenece a la familia #Corinnidae probablemente. No son consideradas de importancia médica #NIM✅ Saludos https://t.co/hwXi74WiLs'],\n",
              "       ['¡Hola, @Elwestrand! Gracias por compartir. Pertenece a la familia #Thomisidae, posiblemente del género «Thomisius». No son consideradas de importancia médica #NIM✅ Saludos https://t.co/vUaVvkMHOn'],\n",
              "       ['¡Hola, @ddiazgar76! Gracias por la consulta. Pertenece a la familia #Oxyopidae, del género #Peucetia probablemente. Se les conoce como arañas lince verdes. No son consideradas de importancia médica #NIM✅ Le hacen falta un par de patas. Saludos https://t.co/UMjC3fIxTF'],\n",
              "       ['¡Hola, @adukation! Gracias por tu consulta. Pertenece a la familia #Vaejovidae, posiblemente del género #Vaejovis. No son considerados de importancia médica #NIM✅ Sí, es posible que haya más, por el hecho de ser la CDMX zona de distribución natural de 2 especies de este género https://t.co/InMQqvn8xC']],\n",
              "      dtype='<U327')"
            ]
          },
          "metadata": {},
          "execution_count": 9
        }
      ]
    },
    {
      "cell_type": "markdown",
      "metadata": {
        "id": "EjnqzJRmwf6k"
      },
      "source": [
        "#### Pasar lista a string"
      ]
    },
    {
      "cell_type": "markdown",
      "metadata": {
        "id": "5AudF6yyn2Lr"
      },
      "source": [
        "Creamos una función para pasar la lista a string y la aplicamos para cada elemento de la lista de captions (que es una lista en sí misma):"
      ]
    },
    {
      "cell_type": "code",
      "metadata": {
        "id": "mAIfe7uZ1sSL"
      },
      "source": [
        "def listToString(s): \n",
        "    str1 = \" \" \n",
        "    return (str1.join(s))"
      ],
      "execution_count": 10,
      "outputs": []
    },
    {
      "cell_type": "code",
      "metadata": {
        "id": "Pp0lYTa25J3G"
      },
      "source": [
        "captions_list_str = []\n",
        "for i in range(len(captions)):\n",
        "  caption_str = listToString(captions[i])\n",
        "  captions_list_str.append(caption_str)"
      ],
      "execution_count": 11,
      "outputs": []
    },
    {
      "cell_type": "code",
      "metadata": {
        "colab": {
          "base_uri": "https://localhost:8080/"
        },
        "id": "kjUzTSoR0fe0",
        "outputId": "cb682807-0e59-4a8f-cb3d-e93ffa34f32e"
      },
      "source": [
        "captions_list_str[0:4]"
      ],
      "execution_count": 12,
      "outputs": [
        {
          "output_type": "execute_result",
          "data": {
            "text/plain": [
              "['¡Hola, @TopoGigo6! Gracias por compartir. Pertenece a la familia #Corinnidae probablemente. No son consideradas de importancia médica #NIM✅ Saludos https://t.co/hwXi74WiLs',\n",
              " '¡Hola, @Elwestrand! Gracias por compartir. Pertenece a la familia #Thomisidae, posiblemente del género «Thomisius». No son consideradas de importancia médica #NIM✅ Saludos https://t.co/vUaVvkMHOn',\n",
              " '¡Hola, @ddiazgar76! Gracias por la consulta. Pertenece a la familia #Oxyopidae, del género #Peucetia probablemente. Se les conoce como arañas lince verdes. No son consideradas de importancia médica #NIM✅ Le hacen falta un par de patas. Saludos https://t.co/UMjC3fIxTF',\n",
              " '¡Hola, @adukation! Gracias por tu consulta. Pertenece a la familia #Vaejovidae, posiblemente del género #Vaejovis. No son considerados de importancia médica #NIM✅ Sí, es posible que haya más, por el hecho de ser la CDMX zona de distribución natural de 2 especies de este género https://t.co/InMQqvn8xC']"
            ]
          },
          "metadata": {},
          "execution_count": 12
        }
      ]
    },
    {
      "cell_type": "markdown",
      "metadata": {
        "id": "muTkFm2wwmwU"
      },
      "source": [
        "#### Convertir a minúsculas"
      ]
    },
    {
      "cell_type": "markdown",
      "metadata": {
        "id": "pgHsG7SgoCHE"
      },
      "source": [
        "Convertimos la lista de captions a minúsculas:"
      ]
    },
    {
      "cell_type": "code",
      "metadata": {
        "id": "D_PZS7mz6LQU"
      },
      "source": [
        "captions_list_clean = []\n",
        "for i in range(len(captions_list_str)):\n",
        "        desc = captions_list_str[i]\n",
        "        desc = desc.split()\n",
        "        desc = [word.lower() for word in desc]\n",
        "        captions_list_clean.append(' '.join(desc))"
      ],
      "execution_count": 13,
      "outputs": []
    },
    {
      "cell_type": "code",
      "metadata": {
        "colab": {
          "base_uri": "https://localhost:8080/"
        },
        "id": "y8yxGPjA8gLE",
        "outputId": "fe5c582b-d74f-4c21-fa57-c580e3dc7bb1"
      },
      "source": [
        "captions_list_clean[0:4]"
      ],
      "execution_count": 14,
      "outputs": [
        {
          "output_type": "execute_result",
          "data": {
            "text/plain": [
              "['¡hola, @topogigo6! gracias por compartir. pertenece a la familia #corinnidae probablemente. no son consideradas de importancia médica #nim✅ saludos https://t.co/hwxi74wils',\n",
              " '¡hola, @elwestrand! gracias por compartir. pertenece a la familia #thomisidae, posiblemente del género «thomisius». no son consideradas de importancia médica #nim✅ saludos https://t.co/vuavvkmhon',\n",
              " '¡hola, @ddiazgar76! gracias por la consulta. pertenece a la familia #oxyopidae, del género #peucetia probablemente. se les conoce como arañas lince verdes. no son consideradas de importancia médica #nim✅ le hacen falta un par de patas. saludos https://t.co/umjc3fixtf',\n",
              " '¡hola, @adukation! gracias por tu consulta. pertenece a la familia #vaejovidae, posiblemente del género #vaejovis. no son considerados de importancia médica #nim✅ sí, es posible que haya más, por el hecho de ser la cdmx zona de distribución natural de 2 especies de este género https://t.co/inmqqvn8xc']"
            ]
          },
          "metadata": {},
          "execution_count": 14
        }
      ]
    },
    {
      "cell_type": "markdown",
      "metadata": {
        "id": "mMqIrCuLwrok"
      },
      "source": [
        "#### Remover usuario y url con regex"
      ]
    },
    {
      "cell_type": "markdown",
      "metadata": {
        "id": "bHHf08wRoLzM"
      },
      "source": [
        "Removemos los nombres de usuario y las urls presentes en las captions a través de expresiones regulares:"
      ]
    },
    {
      "cell_type": "code",
      "metadata": {
        "id": "pW8THOCG8vb0"
      },
      "source": [
        "import re"
      ],
      "execution_count": 15,
      "outputs": []
    },
    {
      "cell_type": "code",
      "metadata": {
        "id": "rHEY-Q9K8yWs"
      },
      "source": [
        "patron_user = r\"@([a-z]*)?([0-9]*)?(!|_|-)?\"\n",
        "patron_url = r\"https?:\\/\\/(www\\.)?[-a-zA-Z0-9@:%._\\+~#=]{1,256}\\.[a-zA-Z0-9()]{1,6}\\b([-a-zA-Z0-9()@:%_\\+.~#?&//=]*)\""
      ],
      "execution_count": 16,
      "outputs": []
    },
    {
      "cell_type": "code",
      "metadata": {
        "id": "IH03pe5j_ZgM"
      },
      "source": [
        "for i in range(len(captions_list_clean)):\n",
        "  try:\n",
        "    match_user = re.search(patron_user, captions_list_clean[i]).group()\n",
        "    match_url = re.search(patron_url, captions_list_clean[i]).group()\n",
        "    captions_list_clean[i] = captions_list_clean[i].replace(match_user,'')\n",
        "    captions_list_clean[i] = captions_list_clean[i].replace(match_url,'')\n",
        "  except:\n",
        "    try:\n",
        "      match_user = re.search(patron_user, captions_list_clean[i]).group()\n",
        "      captions_list_clean[i] = captions_list_clean[i].replace(match_user,'')\n",
        "    except:\n",
        "      try:\n",
        "        match_url = re.search(patron_url, captions_list_clean[i]).group()\n",
        "        captions_list_clean[i] = captions_list_clean[i].replace(match_url,'')\n",
        "      except:\n",
        "        continue "
      ],
      "execution_count": 17,
      "outputs": []
    },
    {
      "cell_type": "code",
      "metadata": {
        "colab": {
          "base_uri": "https://localhost:8080/"
        },
        "id": "ar-HvhxtAIO-",
        "outputId": "02148732-e19a-4786-d7a1-344a78f65e31"
      },
      "source": [
        "captions_list_clean[0:4]"
      ],
      "execution_count": 18,
      "outputs": [
        {
          "output_type": "execute_result",
          "data": {
            "text/plain": [
              "['¡hola,  gracias por compartir. pertenece a la familia #corinnidae probablemente. no son consideradas de importancia médica #nim✅ saludos ',\n",
              " '¡hola,  gracias por compartir. pertenece a la familia #thomisidae, posiblemente del género «thomisius». no son consideradas de importancia médica #nim✅ saludos ',\n",
              " '¡hola,  gracias por la consulta. pertenece a la familia #oxyopidae, del género #peucetia probablemente. se les conoce como arañas lince verdes. no son consideradas de importancia médica #nim✅ le hacen falta un par de patas. saludos ',\n",
              " '¡hola,  gracias por tu consulta. pertenece a la familia #vaejovidae, posiblemente del género #vaejovis. no son considerados de importancia médica #nim✅ sí, es posible que haya más, por el hecho de ser la cdmx zona de distribución natural de 2 especies de este género ']"
            ]
          },
          "metadata": {},
          "execution_count": 18
        }
      ]
    },
    {
      "cell_type": "markdown",
      "metadata": {
        "id": "IVtXmEkiwMnE"
      },
      "source": [
        "### Remoción de emojis"
      ]
    },
    {
      "cell_type": "markdown",
      "metadata": {
        "id": "-ST6oPp7oUPM"
      },
      "source": [
        "Utilizando la librería demoji, creamos una función que permite extraer los emojis utilizados en un texto y la utilizamos para remover todos los emojis en las captions:"
      ]
    },
    {
      "cell_type": "code",
      "metadata": {
        "colab": {
          "base_uri": "https://localhost:8080/"
        },
        "id": "IStPlOq3s5c0",
        "outputId": "d0a4d3b8-1d06-4deb-b992-e87af01ca3c8"
      },
      "source": [
        "pip install demoji"
      ],
      "execution_count": 19,
      "outputs": [
        {
          "output_type": "stream",
          "name": "stdout",
          "text": [
            "Collecting demoji\n",
            "  Downloading demoji-1.1.0-py3-none-any.whl (42 kB)\n",
            "\u001b[?25l\r\u001b[K     |███████▋                        | 10 kB 28.0 MB/s eta 0:00:01\r\u001b[K     |███████████████▎                | 20 kB 30.3 MB/s eta 0:00:01\r\u001b[K     |███████████████████████         | 30 kB 34.9 MB/s eta 0:00:01\r\u001b[K     |██████████████████████████████▋ | 40 kB 26.0 MB/s eta 0:00:01\r\u001b[K     |████████████████████████████████| 42 kB 1.1 MB/s \n",
            "\u001b[?25hInstalling collected packages: demoji\n",
            "Successfully installed demoji-1.1.0\n"
          ]
        }
      ]
    },
    {
      "cell_type": "code",
      "metadata": {
        "colab": {
          "base_uri": "https://localhost:8080/"
        },
        "id": "w13n7dOhs7Wk",
        "outputId": "e94ab8e7-e5bd-434f-8cbe-fbfb61244f8f"
      },
      "source": [
        "import demoji\n",
        "demoji.download_codes()"
      ],
      "execution_count": 20,
      "outputs": [
        {
          "output_type": "stream",
          "name": "stderr",
          "text": [
            "/usr/local/lib/python3.7/dist-packages/ipykernel_launcher.py:2: FutureWarning: The demoji.download_codes attribute is deprecated and will be removed from demoji in a future version. It is an unused attribute as emoji codes are now distributed directly with the demoji package.\n",
            "  \n"
          ]
        }
      ]
    },
    {
      "cell_type": "code",
      "metadata": {
        "id": "w5kOY4NxyZGb"
      },
      "source": [
        "for i in range(len(captions_list_clean)):\n",
        "  try:\n",
        "    emoji_dict = demoji.findall(captions_list_clean[i])\n",
        "    for key in emoji_dict:\n",
        "      captions_list_clean[i] = captions_list_clean[i].replace(key,'')\n",
        "  except:\n",
        "    continue"
      ],
      "execution_count": 21,
      "outputs": []
    },
    {
      "cell_type": "code",
      "metadata": {
        "colab": {
          "base_uri": "https://localhost:8080/"
        },
        "id": "FA-ChBERyyss",
        "outputId": "052c346f-eb20-4122-c759-dcf2b9d7f6cc"
      },
      "source": [
        "captions_list_clean[0:4]"
      ],
      "execution_count": 22,
      "outputs": [
        {
          "output_type": "execute_result",
          "data": {
            "text/plain": [
              "['¡hola,  gracias por compartir. pertenece a la familia #corinnidae probablemente. no son consideradas de importancia médica #nim saludos ',\n",
              " '¡hola,  gracias por compartir. pertenece a la familia #thomisidae, posiblemente del género «thomisius». no son consideradas de importancia médica #nim saludos ',\n",
              " '¡hola,  gracias por la consulta. pertenece a la familia #oxyopidae, del género #peucetia probablemente. se les conoce como arañas lince verdes. no son consideradas de importancia médica #nim le hacen falta un par de patas. saludos ',\n",
              " '¡hola,  gracias por tu consulta. pertenece a la familia #vaejovidae, posiblemente del género #vaejovis. no son considerados de importancia médica #nim sí, es posible que haya más, por el hecho de ser la cdmx zona de distribución natural de 2 especies de este género ']"
            ]
          },
          "metadata": {},
          "execution_count": 22
        }
      ]
    },
    {
      "cell_type": "markdown",
      "metadata": {
        "id": "P4VMJyTBzlu0"
      },
      "source": [
        "### Remover otros signos de puntuación"
      ]
    },
    {
      "cell_type": "code",
      "metadata": {
        "id": "5U-kFII-0Do0"
      },
      "source": [
        "punc = '''!¡()-[]{};:'\"\\,<>./?@#$%^&*_~'''\n",
        "for i in range(len(captions_list_str)):\n",
        "  for ele in captions_list_clean[i]:\n",
        "      if ele in punc:\n",
        "          captions_list_clean[i] = captions_list_clean[i].replace(ele, \"\")"
      ],
      "execution_count": 23,
      "outputs": []
    },
    {
      "cell_type": "code",
      "metadata": {
        "colab": {
          "base_uri": "https://localhost:8080/"
        },
        "id": "CTcy6HV2z-c0",
        "outputId": "fd33b305-4cee-480b-abbe-c724c47926ae"
      },
      "source": [
        "captions_list_clean[0:4]"
      ],
      "execution_count": 24,
      "outputs": [
        {
          "output_type": "execute_result",
          "data": {
            "text/plain": [
              "['hola  gracias por compartir pertenece a la familia corinnidae probablemente no son consideradas de importancia médica nim saludos ',\n",
              " 'hola  gracias por compartir pertenece a la familia thomisidae posiblemente del género «thomisius» no son consideradas de importancia médica nim saludos ',\n",
              " 'hola  gracias por la consulta pertenece a la familia oxyopidae del género peucetia probablemente se les conoce como arañas lince verdes no son consideradas de importancia médica nim le hacen falta un par de patas saludos ',\n",
              " 'hola  gracias por tu consulta pertenece a la familia vaejovidae posiblemente del género vaejovis no son considerados de importancia médica nim sí es posible que haya más por el hecho de ser la cdmx zona de distribución natural de 2 especies de este género ']"
            ]
          },
          "metadata": {},
          "execution_count": 24
        }
      ]
    },
    {
      "cell_type": "code",
      "metadata": {
        "colab": {
          "base_uri": "https://localhost:8080/",
          "height": 286
        },
        "id": "vIfAk6txMOJK",
        "outputId": "1e04e501-2cae-4fa5-ef7b-05614a442bf9"
      },
      "source": [
        "plt.imshow(images[5500])\n",
        "captions_list_clean[5500]"
      ],
      "execution_count": 25,
      "outputs": [
        {
          "output_type": "execute_result",
          "data": {
            "application/vnd.google.colaboratory.intrinsic+json": {
              "type": "string"
            },
            "text/plain": [
              "'hola  se trata de una araña de la familia araneidae posiblemente del género wagneriana son arañas bastante llamativas e inofensivas nim '"
            ]
          },
          "metadata": {},
          "execution_count": 25
        },
        {
          "output_type": "display_data",
          "data": {
            "image/png": "[encoded data removed]",
            "text/plain": [
              "<Figure size 432x288 with 1 Axes>"
            ]
          },
          "metadata": {
            "needs_background": "light"
          }
        }
      ]
    },
    {
      "cell_type": "markdown",
      "metadata": {
        "id": "H5rGBIgp4rpb"
      },
      "source": [
        "### Lista de captions y diccionario de imágenes\n",
        "\n",
        "Creamos un diccionario que relaciona todas las captions con el índice de la imagen correspondiente:"
      ]
    },
    {
      "cell_type": "code",
      "metadata": {
        "id": "SsBFEBJxMkSp"
      },
      "source": [
        "descriptions = {}\n",
        "for index, caption in enumerate(captions_list_clean):\n",
        "    descriptions[index] = caption"
      ],
      "execution_count": 33,
      "outputs": []
    },
    {
      "cell_type": "markdown",
      "metadata": {
        "id": "wc0OdgmpT7__"
      },
      "source": [
        "Creamos un dataframe a partir del diccionario:"
      ]
    },
    {
      "cell_type": "code",
      "metadata": {
        "colab": {
          "base_uri": "https://localhost:8080/",
          "height": 203
        },
        "id": "bNiJvWSvTJZQ",
        "outputId": "ecba5d15-3501-4ecf-844f-f1ad75a371f3"
      },
      "source": [
        "data = pd.DataFrame.from_dict(descriptions,orient='index', columns=['caption'])\n",
        "data['image_index'] = data.index\n",
        "data = data[['image_index', 'caption']]\n",
        "data.head()"
      ],
      "execution_count": 86,
      "outputs": [
        {
          "output_type": "execute_result",
          "data": {
            "text/html": [
              "<div>\n",
              "<style scoped>\n",
              "    .dataframe tbody tr th:only-of-type {\n",
              "        vertical-align: middle;\n",
              "    }\n",
              "\n",
              "    .dataframe tbody tr th {\n",
              "        vertical-align: top;\n",
              "    }\n",
              "\n",
              "    .dataframe thead th {\n",
              "        text-align: right;\n",
              "    }\n",
              "</style>\n",
              "<table border=\"1\" class=\"dataframe\">\n",
              "  <thead>\n",
              "    <tr style=\"text-align: right;\">\n",
              "      <th></th>\n",
              "      <th>image_index</th>\n",
              "      <th>caption</th>\n",
              "    </tr>\n",
              "  </thead>\n",
              "  <tbody>\n",
              "    <tr>\n",
              "      <th>0</th>\n",
              "      <td>0</td>\n",
              "      <td>hola  gracias por compartir pertenece a la fam...</td>\n",
              "    </tr>\n",
              "    <tr>\n",
              "      <th>1</th>\n",
              "      <td>1</td>\n",
              "      <td>hola  gracias por compartir pertenece a la fam...</td>\n",
              "    </tr>\n",
              "    <tr>\n",
              "      <th>2</th>\n",
              "      <td>2</td>\n",
              "      <td>hola  gracias por la consulta pertenece a la f...</td>\n",
              "    </tr>\n",
              "    <tr>\n",
              "      <th>3</th>\n",
              "      <td>3</td>\n",
              "      <td>hola  gracias por tu consulta pertenece a la f...</td>\n",
              "    </tr>\n",
              "    <tr>\n",
              "      <th>4</th>\n",
              "      <td>4</td>\n",
              "      <td>hola  gracias por compartir pertenece a la fam...</td>\n",
              "    </tr>\n",
              "  </tbody>\n",
              "</table>\n",
              "</div>"
            ],
            "text/plain": [
              "   image_index                                            caption\n",
              "0            0  hola  gracias por compartir pertenece a la fam...\n",
              "1            1  hola  gracias por compartir pertenece a la fam...\n",
              "2            2  hola  gracias por la consulta pertenece a la f...\n",
              "3            3  hola  gracias por tu consulta pertenece a la f...\n",
              "4            4  hola  gracias por compartir pertenece a la fam..."
            ]
          },
          "metadata": {},
          "execution_count": 86
        }
      ]
    },
    {
      "cell_type": "markdown",
      "metadata": {
        "id": "a2v-jfZHbRXs"
      },
      "source": [
        "Ahora ya tenemos 2 elementos que usaremos después: \n",
        "1. Un diccionario de imágenes y sus captions correspondientes, y\n",
        "2. Un lista de todas las captions\n",
        "\n",
        "Por facilidad los renombramos:"
      ]
    },
    {
      "cell_type": "code",
      "metadata": {
        "id": "AyNGtIkZZ9Ck"
      },
      "source": [
        "text_data=captions_list_clean\n",
        "captions_mapping=descriptions"
      ],
      "execution_count": 92,
      "outputs": []
    },
    {
      "cell_type": "markdown",
      "metadata": {
        "id": "sRpk-g_6cAbq"
      },
      "source": [
        "### Vocabulario"
      ]
    },
    {
      "cell_type": "markdown",
      "metadata": {
        "id": "tWXhVjUAOA0Q"
      },
      "source": [
        "Ahora creamos un vocabulario con todas las palabras únicas que aparecen en las captions:"
      ]
    },
    {
      "cell_type": "code",
      "metadata": {
        "colab": {
          "base_uri": "https://localhost:8080/"
        },
        "id": "TxWSiN_HNTd5",
        "outputId": "31049090-82b7-4c86-8b61-1452d554c3c8"
      },
      "source": [
        "vocabulario = set()\n",
        "for key in descriptions.keys():\n",
        "  vocabulario.update(descriptions[key].split())\n",
        "print('Tamaño original del vocabulario: '+str(len(vocabulario)))"
      ],
      "execution_count": 56,
      "outputs": [
        {
          "output_type": "stream",
          "name": "stdout",
          "text": [
            "Tamaño original del vocabulario: 4376\n"
          ]
        }
      ]
    },
    {
      "cell_type": "markdown",
      "metadata": {
        "id": "OEbeiCIwdcnS"
      },
      "source": [
        "## Separación de datos (Captions)"
      ]
    },
    {
      "cell_type": "markdown",
      "metadata": {
        "id": "injlniGHc3Ww"
      },
      "source": [
        "Definimos una función para separar el diccionario:"
      ]
    },
    {
      "cell_type": "code",
      "metadata": {
        "id": "6feNPqL6cxxK"
      },
      "source": [
        "def train_val_split(caption_data, train_size=0.8, shuffle=True):\n",
        "    all_images = list(caption_data.keys())\n",
        "    if shuffle:\n",
        "        np.random.shuffle(all_images)\n",
        "\n",
        "    train_size = int(len(caption_data) * train_size)\n",
        "\n",
        "    training_data = {\n",
        "        img_name: caption_data[img_name] for img_name in all_images[:train_size]\n",
        "    }\n",
        "    validation_data = {\n",
        "        img_name: caption_data[img_name] for img_name in all_images[train_size:]\n",
        "    }\n",
        "\n",
        "    return training_data, validation_data"
      ],
      "execution_count": 89,
      "outputs": []
    },
    {
      "cell_type": "code",
      "metadata": {
        "id": "fYXTpWeAdA5R"
      },
      "source": [
        "train_data, validation_data = train_val_split(captions_mapping)"
      ],
      "execution_count": 102,
      "outputs": []
    },
    {
      "cell_type": "code",
      "metadata": {
        "id": "hzVzyjdKdvc6"
      },
      "source": [
        "train_data, test_data = train_val_split(train_data, train_size=0.9)"
      ],
      "execution_count": 103,
      "outputs": []
    },
    {
      "cell_type": "code",
      "metadata": {
        "colab": {
          "base_uri": "https://localhost:8080/"
        },
        "id": "iZrQYkIIdlff",
        "outputId": "61caf9a0-b2e6-4a15-becb-307c2447b6cb"
      },
      "source": [
        "print(\"Entrenamiento: \", len(train_data))\n",
        "print(\"Validación: \", len(validation_data))\n",
        "print(\"Testing:\", len(test_data))"
      ],
      "execution_count": 104,
      "outputs": [
        {
          "output_type": "stream",
          "name": "stdout",
          "text": [
            "Entrenamiento:  4013\n",
            "Validación:  1115\n",
            "Testing: 446\n"
          ]
        }
      ]
    },
    {
      "cell_type": "markdown",
      "metadata": {
        "id": "52-M5mt4efNX"
      },
      "source": [
        "## Vectorización de datos (Embeddings)"
      ]
    },
    {
      "cell_type": "markdown",
      "metadata": {
        "id": "3cnlhndfwOZi"
      },
      "source": [
        "Importar GloVe"
      ]
    },
    {
      "cell_type": "code",
      "metadata": {
        "id": "WmX1jlyAwQKD"
      },
      "source": [
        "! pip install glove_python"
      ],
      "execution_count": null,
      "outputs": []
    },
    {
      "cell_type": "markdown",
      "metadata": {
        "id": "-Nskjbi9wwC0"
      },
      "source": [
        "Crear una matriz de concurrencia:"
      ]
    },
    {
      "cell_type": "code",
      "metadata": {
        "id": "WeXBCb1JwvBT"
      },
      "source": [
        "import glove\n",
        "glove_corpus = glove.Corpus()\n",
        "\n",
        "corpus_sentences = [ \n",
        "        [ w.lower() for w in next(corpus_sentence_tokens_gen)] # All lower-case\n",
        "        for _ in range(0,100*1000) \n",
        "    ]\n",
        "\n",
        "# Fit the co-occurrence matrix using a sliding window of 10 words.\n",
        "t0 = time.time()\n",
        "glove_corpus.fit(corpus_sentences, window=10)\n",
        "\n",
        "print(\"Dictionary length=%d\" % (len(glove_corpus.dictionary),))\n",
        "print(\"Co-occurrence calculated in %5.1fsec\" % (time.time()-t0, ))"
      ],
      "execution_count": null,
      "outputs": []
    },
    {
      "cell_type": "markdown",
      "metadata": {
        "id": "b7tlDNJHw4eT"
      },
      "source": [
        "Usando TextVectorization:"
      ]
    },
    {
      "cell_type": "code",
      "metadata": {
        "id": "SSjBwrDDfyDt"
      },
      "source": [
        "import tensorflow as tf\n",
        "from tensorflow.keras.layers import TextVectorization\n",
        "from tensorflow import keras\n",
        "from keras.models import Sequential"
      ],
      "execution_count": 114,
      "outputs": []
    },
    {
      "cell_type": "code",
      "metadata": {
        "id": "Sv4zEBoKep7I"
      },
      "source": [
        "def custom_standardization(input_string):\n",
        "    lowercase = tf.strings.lower(input_string)\n",
        "    return tf.strings.regex_replace(lowercase, \"[%s]\" % re.escape(strip_chars), \"\")\n",
        "\n",
        "\n",
        "strip_chars = \"!\\\"#$%&'()*+,-./:;<=>?@[\\]^_`{|}~\"\n",
        "strip_chars = strip_chars.replace(\"<\", \"\")\n",
        "strip_chars = strip_chars.replace(\">\", \"\")\n",
        "\n",
        "vectorization = TextVectorization(\n",
        "    max_tokens=len(vocabulario), ## acá utilizamos el tamaño del vocabulario creado\n",
        "    output_mode=\"int\",\n",
        "    output_sequence_length=25,\n",
        "    standardize=custom_standardization,\n",
        ")\n",
        "vectorization.adapt(text_data)\n",
        "\n",
        "# aumentado de datos\n",
        "image_augmentation = keras.Sequential(\n",
        "    [\n",
        "        layers.RandomFlip(\"horizontal\"),\n",
        "        layers.RandomRotation(0.2),\n",
        "        layers.RandomContrast(0.3),\n",
        "    ]\n",
        ")"
      ],
      "execution_count": 132,
      "outputs": []
    },
    {
      "cell_type": "markdown",
      "metadata": {
        "id": "bZRCDtXLu3H9"
      },
      "source": [
        "Dataset como objeto de TensorFlow:"
      ]
    },
    {
      "cell_type": "code",
      "metadata": {
        "id": "4NlTMBlrtfpi"
      },
      "source": [
        "BATCH_SIZE = 64\n",
        "AUTOTUNE = tf.data.AUTOTUNE"
      ],
      "execution_count": 143,
      "outputs": []
    },
    {
      "cell_type": "code",
      "metadata": {
        "id": "VtGio1Xnspt9"
      },
      "source": [
        "cap_dataset = tf.data.Dataset.from_tensor_slices(list(train_data.values())).map(\n",
        "        vectorization, num_parallel_calls=AUTOTUNE\n",
        "    )"
      ],
      "execution_count": 144,
      "outputs": []
    },
    {
      "cell_type": "code",
      "metadata": {
        "id": "xUgFwiprs5J7"
      },
      "source": [
        "img_dataset = tf.data.Dataset.from_tensor_slices(images)"
      ],
      "execution_count": 145,
      "outputs": []
    },
    {
      "cell_type": "code",
      "metadata": {
        "id": "0R4ZvtZZtW6V"
      },
      "source": [
        "dataset = tf.data.Dataset.zip((img_dataset, cap_dataset))"
      ],
      "execution_count": 146,
      "outputs": []
    },
    {
      "cell_type": "code",
      "metadata": {
        "id": "iRU_eEXuteD0"
      },
      "source": [
        "dataset = dataset.batch(BATCH_SIZE).shuffle(256).prefetch(AUTOTUNE)"
      ],
      "execution_count": 147,
      "outputs": []
    },
    {
      "cell_type": "markdown",
      "metadata": {
        "id": "FdiCoZ6xt1KS"
      },
      "source": [
        "## Arquitectura"
      ]
    },
    {
      "cell_type": "markdown",
      "metadata": {
        "id": "s5xerX9Cum3S"
      },
      "source": [
        "Se utilizará un modelo pre-entrenado:"
      ]
    },
    {
      "cell_type": "code",
      "metadata": {
        "colab": {
          "base_uri": "https://localhost:8080/"
        },
        "id": "sz8mU7T5ua2K",
        "outputId": "7bfd7671-bc90-430a-d09d-8a8d7412c4b3"
      },
      "source": [
        "model = InceptionV3(weights='imagenet')"
      ],
      "execution_count": 152,
      "outputs": [
        {
          "output_type": "stream",
          "name": "stdout",
          "text": [
            "Downloading data from https://storage.googleapis.com/tensorflow/keras-applications/inception_v3/inception_v3_weights_tf_dim_ordering_tf_kernels.h5\n",
            "96116736/96112376 [==============================] - 3s 0us/step\n",
            "96124928/96112376 [==============================] - 3s 0us/step\n"
          ]
        }
      ]
    },
    {
      "cell_type": "markdown",
      "metadata": {
        "id": "8_lpBKnKusai"
      },
      "source": [
        "Removemos la capa de Softmax porque necesitamos la salida del feature map:"
      ]
    },
    {
      "cell_type": "code",
      "metadata": {
        "id": "qBcW9zIOupY8"
      },
      "source": [
        "model_new = Model(model.input, model.layers[-2].output)"
      ],
      "execution_count": 153,
      "outputs": []
    },
    {
      "cell_type": "markdown",
      "metadata": {
        "id": "QchyYs2KvL9y"
      },
      "source": [
        "## Entrenamiento, validación y selección"
      ]
    },
    {
      "cell_type": "markdown",
      "metadata": {
        "id": "kZWwM6TBvRMK"
      },
      "source": [
        "## Experimentación y evaluación en data set de pruebas"
      ]
    },
    {
      "cell_type": "markdown",
      "metadata": {
        "id": "-AL1LPdYvW6V"
      },
      "source": [
        ""
      ]
    }
  ]
}