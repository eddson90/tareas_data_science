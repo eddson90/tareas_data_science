{
  "nbformat": 4,
  "nbformat_minor": 0,
  "metadata": {
    "colab": {
      "name": "Parte1_FFNN.ipynb",
      "provenance": [],
      "collapsed_sections": [],
      "toc_visible": true,
      "mount_file_id": "1mooXRwfkV-z62jkgzfIcgRObKZ8yvWh5",
      "authorship_tag": "ABX9TyMT9/vhUmbvF0oy1RC/y0OS",
      "include_colab_link": true
    },
    "kernelspec": {
      "name": "python3",
      "display_name": "Python 3"
    },
    "language_info": {
      "name": "python"
    },
    "accelerator": "GPU"
  },
  "cells": [
    {
      "cell_type": "markdown",
      "metadata": {
        "id": "view-in-github",
        "colab_type": "text"
      },
      "source": [
        "<a href=\"https://colab.research.google.com/github/eddson90/tareas_data_science/blob/main/statistical-learning-2/proyecto-final/parte1/Parte1_FFNN.ipynb\" target=\"_parent\"><img src=\"https://colab.research.google.com/assets/colab-badge.svg\" alt=\"Open In Colab\"/></a>"
      ]
    },
    {
      "cell_type": "markdown",
      "metadata": {
        "id": "otvQK0M3rgP2"
      },
      "source": [
        "# **Parte 1:  Red Neuronal Feed Forward (FFNN)**\n",
        "\n",
        "## Proyecto Final: Implementación de Modelos de Deep Learning\n",
        "---\n",
        "\n",
        "Statistical Learning II\n",
        "\n",
        "Universidad Galileo\n",
        "\n",
        "Eddson Sierra"
      ]
    },
    {
      "cell_type": "markdown",
      "metadata": {
        "id": "w--VgIORsKMP"
      },
      "source": [
        "## Descripción"
      ]
    },
    {
      "cell_type": "markdown",
      "metadata": {
        "id": "GDnpM6DVsWCW"
      },
      "source": [
        "En esta parte se ha elegido implementar una red neuronal feed forward para modelar el *churn* de un banco. El objetivo es predecir el número de clientes que abandonan el banco. Se trata de un problema de **clasificación** y se trabajará con un dataset estructurado que incluye la columna 'Exited' que indica 1 si el cliente abandonó y 0 de lo contrario."
      ]
    },
    {
      "cell_type": "markdown",
      "metadata": {
        "id": "fpMh5NkWV-_x"
      },
      "source": [
        "## Carga inicial de librerías"
      ]
    },
    {
      "cell_type": "code",
      "metadata": {
        "id": "7RiZZlTprOpO"
      },
      "source": [
        "import pandas as pd\n",
        "import numpy as np\n",
        "import time"
      ],
      "execution_count": 2,
      "outputs": []
    },
    {
      "cell_type": "markdown",
      "metadata": {
        "id": "HnLgM0I-Xgj4"
      },
      "source": [
        "## Carga de datos"
      ]
    },
    {
      "cell_type": "markdown",
      "metadata": {
        "id": "WS4_xFRmXjeA"
      },
      "source": [
        "**Créditos del autor del dataset**\n",
        "\n",
        "El dataset fue tomado del repositorio de Github de Siddharth Dixit. (https://github.com/Sid-darthvader)"
      ]
    },
    {
      "cell_type": "code",
      "metadata": {
        "id": "27n4g7RlWEHf"
      },
      "source": [
        "url = 'https://raw.githubusercontent.com/Sid-darthvader/Artificial-Neural-Network-on-Churn-Modeling-Dataset-for-a-Bank/master/Churn_Modelling.csv'\n",
        "data = pd.read_csv(url,sep=',',error_bad_lines=False)"
      ],
      "execution_count": 3,
      "outputs": []
    },
    {
      "cell_type": "code",
      "metadata": {
        "colab": {
          "base_uri": "https://localhost:8080/",
          "height": 223
        },
        "id": "Kv9RDH_-WYiI",
        "outputId": "e0d31aa3-4e4a-44b6-fe59-40157eb20e33"
      },
      "source": [
        "data.head(5)"
      ],
      "execution_count": 4,
      "outputs": [
        {
          "output_type": "execute_result",
          "data": {
            "text/html": [
              "<div>\n",
              "<style scoped>\n",
              "    .dataframe tbody tr th:only-of-type {\n",
              "        vertical-align: middle;\n",
              "    }\n",
              "\n",
              "    .dataframe tbody tr th {\n",
              "        vertical-align: top;\n",
              "    }\n",
              "\n",
              "    .dataframe thead th {\n",
              "        text-align: right;\n",
              "    }\n",
              "</style>\n",
              "<table border=\"1\" class=\"dataframe\">\n",
              "  <thead>\n",
              "    <tr style=\"text-align: right;\">\n",
              "      <th></th>\n",
              "      <th>RowNumber</th>\n",
              "      <th>CustomerId</th>\n",
              "      <th>Surname</th>\n",
              "      <th>CreditScore</th>\n",
              "      <th>Geography</th>\n",
              "      <th>Gender</th>\n",
              "      <th>Age</th>\n",
              "      <th>Tenure</th>\n",
              "      <th>Balance</th>\n",
              "      <th>NumOfProducts</th>\n",
              "      <th>HasCrCard</th>\n",
              "      <th>IsActiveMember</th>\n",
              "      <th>EstimatedSalary</th>\n",
              "      <th>Exited</th>\n",
              "    </tr>\n",
              "  </thead>\n",
              "  <tbody>\n",
              "    <tr>\n",
              "      <th>0</th>\n",
              "      <td>1</td>\n",
              "      <td>15634602</td>\n",
              "      <td>Hargrave</td>\n",
              "      <td>619</td>\n",
              "      <td>France</td>\n",
              "      <td>Female</td>\n",
              "      <td>42</td>\n",
              "      <td>2</td>\n",
              "      <td>0.00</td>\n",
              "      <td>1</td>\n",
              "      <td>1</td>\n",
              "      <td>1</td>\n",
              "      <td>101348.88</td>\n",
              "      <td>1</td>\n",
              "    </tr>\n",
              "    <tr>\n",
              "      <th>1</th>\n",
              "      <td>2</td>\n",
              "      <td>15647311</td>\n",
              "      <td>Hill</td>\n",
              "      <td>608</td>\n",
              "      <td>Spain</td>\n",
              "      <td>Female</td>\n",
              "      <td>41</td>\n",
              "      <td>1</td>\n",
              "      <td>83807.86</td>\n",
              "      <td>1</td>\n",
              "      <td>0</td>\n",
              "      <td>1</td>\n",
              "      <td>112542.58</td>\n",
              "      <td>0</td>\n",
              "    </tr>\n",
              "    <tr>\n",
              "      <th>2</th>\n",
              "      <td>3</td>\n",
              "      <td>15619304</td>\n",
              "      <td>Onio</td>\n",
              "      <td>502</td>\n",
              "      <td>France</td>\n",
              "      <td>Female</td>\n",
              "      <td>42</td>\n",
              "      <td>8</td>\n",
              "      <td>159660.80</td>\n",
              "      <td>3</td>\n",
              "      <td>1</td>\n",
              "      <td>0</td>\n",
              "      <td>113931.57</td>\n",
              "      <td>1</td>\n",
              "    </tr>\n",
              "    <tr>\n",
              "      <th>3</th>\n",
              "      <td>4</td>\n",
              "      <td>15701354</td>\n",
              "      <td>Boni</td>\n",
              "      <td>699</td>\n",
              "      <td>France</td>\n",
              "      <td>Female</td>\n",
              "      <td>39</td>\n",
              "      <td>1</td>\n",
              "      <td>0.00</td>\n",
              "      <td>2</td>\n",
              "      <td>0</td>\n",
              "      <td>0</td>\n",
              "      <td>93826.63</td>\n",
              "      <td>0</td>\n",
              "    </tr>\n",
              "    <tr>\n",
              "      <th>4</th>\n",
              "      <td>5</td>\n",
              "      <td>15737888</td>\n",
              "      <td>Mitchell</td>\n",
              "      <td>850</td>\n",
              "      <td>Spain</td>\n",
              "      <td>Female</td>\n",
              "      <td>43</td>\n",
              "      <td>2</td>\n",
              "      <td>125510.82</td>\n",
              "      <td>1</td>\n",
              "      <td>1</td>\n",
              "      <td>1</td>\n",
              "      <td>79084.10</td>\n",
              "      <td>0</td>\n",
              "    </tr>\n",
              "  </tbody>\n",
              "</table>\n",
              "</div>"
            ],
            "text/plain": [
              "   RowNumber  CustomerId   Surname  ...  IsActiveMember EstimatedSalary Exited\n",
              "0          1    15634602  Hargrave  ...               1       101348.88      1\n",
              "1          2    15647311      Hill  ...               1       112542.58      0\n",
              "2          3    15619304      Onio  ...               0       113931.57      1\n",
              "3          4    15701354      Boni  ...               0        93826.63      0\n",
              "4          5    15737888  Mitchell  ...               1        79084.10      0\n",
              "\n",
              "[5 rows x 14 columns]"
            ]
          },
          "metadata": {},
          "execution_count": 4
        }
      ]
    },
    {
      "cell_type": "markdown",
      "metadata": {
        "id": "BKla5xqsZbD2"
      },
      "source": [
        "## Preparación de datos\n",
        "\n",
        "Podemos observar que las columnas 'RowNumber', y 'Surname' no tienen impacto en el churn por lo que podemos removerlas del dataset."
      ]
    },
    {
      "cell_type": "code",
      "metadata": {
        "id": "dHowPa6-ZOVH"
      },
      "source": [
        "data = data.drop(['RowNumber','Surname','CustomerId'], axis = 1)"
      ],
      "execution_count": 5,
      "outputs": []
    },
    {
      "cell_type": "markdown",
      "metadata": {
        "id": "esVVLABabk-f"
      },
      "source": [
        "Ahora separamos el dataset en un dataset de etiquetas (Y) y uno de características (X):"
      ]
    },
    {
      "cell_type": "code",
      "metadata": {
        "colab": {
          "base_uri": "https://localhost:8080/",
          "height": 110
        },
        "id": "11gcbCWHbigv",
        "outputId": "40e1e100-9ca7-481d-a8dd-988b66719050"
      },
      "source": [
        "X = data.iloc[:,0:10]\n",
        "X.head(2)"
      ],
      "execution_count": 6,
      "outputs": [
        {
          "output_type": "execute_result",
          "data": {
            "text/html": [
              "<div>\n",
              "<style scoped>\n",
              "    .dataframe tbody tr th:only-of-type {\n",
              "        vertical-align: middle;\n",
              "    }\n",
              "\n",
              "    .dataframe tbody tr th {\n",
              "        vertical-align: top;\n",
              "    }\n",
              "\n",
              "    .dataframe thead th {\n",
              "        text-align: right;\n",
              "    }\n",
              "</style>\n",
              "<table border=\"1\" class=\"dataframe\">\n",
              "  <thead>\n",
              "    <tr style=\"text-align: right;\">\n",
              "      <th></th>\n",
              "      <th>CreditScore</th>\n",
              "      <th>Geography</th>\n",
              "      <th>Gender</th>\n",
              "      <th>Age</th>\n",
              "      <th>Tenure</th>\n",
              "      <th>Balance</th>\n",
              "      <th>NumOfProducts</th>\n",
              "      <th>HasCrCard</th>\n",
              "      <th>IsActiveMember</th>\n",
              "      <th>EstimatedSalary</th>\n",
              "    </tr>\n",
              "  </thead>\n",
              "  <tbody>\n",
              "    <tr>\n",
              "      <th>0</th>\n",
              "      <td>619</td>\n",
              "      <td>France</td>\n",
              "      <td>Female</td>\n",
              "      <td>42</td>\n",
              "      <td>2</td>\n",
              "      <td>0.00</td>\n",
              "      <td>1</td>\n",
              "      <td>1</td>\n",
              "      <td>1</td>\n",
              "      <td>101348.88</td>\n",
              "    </tr>\n",
              "    <tr>\n",
              "      <th>1</th>\n",
              "      <td>608</td>\n",
              "      <td>Spain</td>\n",
              "      <td>Female</td>\n",
              "      <td>41</td>\n",
              "      <td>1</td>\n",
              "      <td>83807.86</td>\n",
              "      <td>1</td>\n",
              "      <td>0</td>\n",
              "      <td>1</td>\n",
              "      <td>112542.58</td>\n",
              "    </tr>\n",
              "  </tbody>\n",
              "</table>\n",
              "</div>"
            ],
            "text/plain": [
              "   CreditScore Geography  Gender  ...  HasCrCard  IsActiveMember  EstimatedSalary\n",
              "0          619    France  Female  ...          1               1        101348.88\n",
              "1          608     Spain  Female  ...          0               1        112542.58\n",
              "\n",
              "[2 rows x 10 columns]"
            ]
          },
          "metadata": {},
          "execution_count": 6
        }
      ]
    },
    {
      "cell_type": "code",
      "metadata": {
        "colab": {
          "base_uri": "https://localhost:8080/",
          "height": 110
        },
        "id": "qL16-JxJdI6H",
        "outputId": "8be9b85d-f974-46bd-d7ee-ce22f40b6a40"
      },
      "source": [
        "Y = pd.DataFrame(data.iloc[:,-1].values, columns = ['Exited'])\n",
        "Y.head(2)"
      ],
      "execution_count": 7,
      "outputs": [
        {
          "output_type": "execute_result",
          "data": {
            "text/html": [
              "<div>\n",
              "<style scoped>\n",
              "    .dataframe tbody tr th:only-of-type {\n",
              "        vertical-align: middle;\n",
              "    }\n",
              "\n",
              "    .dataframe tbody tr th {\n",
              "        vertical-align: top;\n",
              "    }\n",
              "\n",
              "    .dataframe thead th {\n",
              "        text-align: right;\n",
              "    }\n",
              "</style>\n",
              "<table border=\"1\" class=\"dataframe\">\n",
              "  <thead>\n",
              "    <tr style=\"text-align: right;\">\n",
              "      <th></th>\n",
              "      <th>Exited</th>\n",
              "    </tr>\n",
              "  </thead>\n",
              "  <tbody>\n",
              "    <tr>\n",
              "      <th>0</th>\n",
              "      <td>1</td>\n",
              "    </tr>\n",
              "    <tr>\n",
              "      <th>1</th>\n",
              "      <td>0</td>\n",
              "    </tr>\n",
              "  </tbody>\n",
              "</table>\n",
              "</div>"
            ],
            "text/plain": [
              "   Exited\n",
              "0       1\n",
              "1       0"
            ]
          },
          "metadata": {},
          "execution_count": 7
        }
      ]
    },
    {
      "cell_type": "markdown",
      "metadata": {
        "id": "iuW6Qtbvdv_H"
      },
      "source": [
        "### Tratamiento de variables categóricas"
      ]
    },
    {
      "cell_type": "markdown",
      "metadata": {
        "id": "VcFQCquOd48m"
      },
      "source": [
        "Observamos que la variable Geography solo tiene 3 posibles valores, y la variable Gender 2 (es mejor verificar). "
      ]
    },
    {
      "cell_type": "code",
      "metadata": {
        "colab": {
          "base_uri": "https://localhost:8080/"
        },
        "id": "Gi1JZfVWd8aG",
        "outputId": "cbd625bf-00db-43d5-fb40-9af1b2725fb8"
      },
      "source": [
        "np.unique(X['Geography'])"
      ],
      "execution_count": 8,
      "outputs": [
        {
          "output_type": "execute_result",
          "data": {
            "text/plain": [
              "array(['France', 'Germany', 'Spain'], dtype=object)"
            ]
          },
          "metadata": {},
          "execution_count": 8
        }
      ]
    },
    {
      "cell_type": "code",
      "metadata": {
        "colab": {
          "base_uri": "https://localhost:8080/"
        },
        "id": "ze5Aii4YeF1n",
        "outputId": "77fc71f6-c63e-46e7-e265-6dd5dd0f7637"
      },
      "source": [
        "np.unique(X['Gender'])"
      ],
      "execution_count": 9,
      "outputs": [
        {
          "output_type": "execute_result",
          "data": {
            "text/plain": [
              "array(['Female', 'Male'], dtype=object)"
            ]
          },
          "metadata": {},
          "execution_count": 9
        }
      ]
    },
    {
      "cell_type": "markdown",
      "metadata": {
        "id": "2HIuNXJjl4ZG"
      },
      "source": [
        "Ejecutamos One Hot Encoding sobre ambas variables y generamos el nuevo dataset X:"
      ]
    },
    {
      "cell_type": "code",
      "metadata": {
        "id": "zM55h8MpfeDm"
      },
      "source": [
        "from sklearn.preprocessing import OneHotEncoder"
      ],
      "execution_count": 10,
      "outputs": []
    },
    {
      "cell_type": "code",
      "metadata": {
        "id": "Enf7AHoYgUZm"
      },
      "source": [
        "OHE = OneHotEncoder(dtype='int')\n",
        "OHE_gen = pd.DataFrame(OHE.fit_transform(X[['Gender']]).toarray(), columns = ['Female','Male'])\n",
        "OHE_geo = pd.DataFrame(OHE.fit_transform(X[['Geography']]).toarray(), columns = ['France','Germany','Spain'])"
      ],
      "execution_count": 11,
      "outputs": []
    },
    {
      "cell_type": "code",
      "metadata": {
        "id": "eB8Xr6R3iiZ-"
      },
      "source": [
        "X = X.join(OHE_gen)\n",
        "X = X.join(OHE_geo)"
      ],
      "execution_count": 12,
      "outputs": []
    },
    {
      "cell_type": "code",
      "metadata": {
        "colab": {
          "base_uri": "https://localhost:8080/",
          "height": 130
        },
        "id": "Cj5R4xjPj3AP",
        "outputId": "b5d57c4a-2341-454c-b533-fc23029abb54"
      },
      "source": [
        "X.head(2)"
      ],
      "execution_count": 13,
      "outputs": [
        {
          "output_type": "execute_result",
          "data": {
            "text/html": [
              "<div>\n",
              "<style scoped>\n",
              "    .dataframe tbody tr th:only-of-type {\n",
              "        vertical-align: middle;\n",
              "    }\n",
              "\n",
              "    .dataframe tbody tr th {\n",
              "        vertical-align: top;\n",
              "    }\n",
              "\n",
              "    .dataframe thead th {\n",
              "        text-align: right;\n",
              "    }\n",
              "</style>\n",
              "<table border=\"1\" class=\"dataframe\">\n",
              "  <thead>\n",
              "    <tr style=\"text-align: right;\">\n",
              "      <th></th>\n",
              "      <th>CreditScore</th>\n",
              "      <th>Geography</th>\n",
              "      <th>Gender</th>\n",
              "      <th>Age</th>\n",
              "      <th>Tenure</th>\n",
              "      <th>Balance</th>\n",
              "      <th>NumOfProducts</th>\n",
              "      <th>HasCrCard</th>\n",
              "      <th>IsActiveMember</th>\n",
              "      <th>EstimatedSalary</th>\n",
              "      <th>Female</th>\n",
              "      <th>Male</th>\n",
              "      <th>France</th>\n",
              "      <th>Germany</th>\n",
              "      <th>Spain</th>\n",
              "    </tr>\n",
              "  </thead>\n",
              "  <tbody>\n",
              "    <tr>\n",
              "      <th>0</th>\n",
              "      <td>619</td>\n",
              "      <td>France</td>\n",
              "      <td>Female</td>\n",
              "      <td>42</td>\n",
              "      <td>2</td>\n",
              "      <td>0.00</td>\n",
              "      <td>1</td>\n",
              "      <td>1</td>\n",
              "      <td>1</td>\n",
              "      <td>101348.88</td>\n",
              "      <td>1</td>\n",
              "      <td>0</td>\n",
              "      <td>1</td>\n",
              "      <td>0</td>\n",
              "      <td>0</td>\n",
              "    </tr>\n",
              "    <tr>\n",
              "      <th>1</th>\n",
              "      <td>608</td>\n",
              "      <td>Spain</td>\n",
              "      <td>Female</td>\n",
              "      <td>41</td>\n",
              "      <td>1</td>\n",
              "      <td>83807.86</td>\n",
              "      <td>1</td>\n",
              "      <td>0</td>\n",
              "      <td>1</td>\n",
              "      <td>112542.58</td>\n",
              "      <td>1</td>\n",
              "      <td>0</td>\n",
              "      <td>0</td>\n",
              "      <td>0</td>\n",
              "      <td>1</td>\n",
              "    </tr>\n",
              "  </tbody>\n",
              "</table>\n",
              "</div>"
            ],
            "text/plain": [
              "   CreditScore Geography  Gender  Age  ...  Male  France  Germany  Spain\n",
              "0          619    France  Female   42  ...     0       1        0      0\n",
              "1          608     Spain  Female   41  ...     0       0        0      1\n",
              "\n",
              "[2 rows x 15 columns]"
            ]
          },
          "metadata": {},
          "execution_count": 13
        }
      ]
    },
    {
      "cell_type": "markdown",
      "metadata": {
        "id": "KRtjfdVvl2Vt"
      },
      "source": [
        "Removemos las columnas de referencia:"
      ]
    },
    {
      "cell_type": "code",
      "metadata": {
        "colab": {
          "base_uri": "https://localhost:8080/",
          "height": 130
        },
        "id": "sqe1-i7ll1s-",
        "outputId": "967f6960-8ccd-45a2-9741-557a6703b278"
      },
      "source": [
        "X = X.drop(['Gender','Geography'], axis = 1)\n",
        "X.head(2)"
      ],
      "execution_count": 14,
      "outputs": [
        {
          "output_type": "execute_result",
          "data": {
            "text/html": [
              "<div>\n",
              "<style scoped>\n",
              "    .dataframe tbody tr th:only-of-type {\n",
              "        vertical-align: middle;\n",
              "    }\n",
              "\n",
              "    .dataframe tbody tr th {\n",
              "        vertical-align: top;\n",
              "    }\n",
              "\n",
              "    .dataframe thead th {\n",
              "        text-align: right;\n",
              "    }\n",
              "</style>\n",
              "<table border=\"1\" class=\"dataframe\">\n",
              "  <thead>\n",
              "    <tr style=\"text-align: right;\">\n",
              "      <th></th>\n",
              "      <th>CreditScore</th>\n",
              "      <th>Age</th>\n",
              "      <th>Tenure</th>\n",
              "      <th>Balance</th>\n",
              "      <th>NumOfProducts</th>\n",
              "      <th>HasCrCard</th>\n",
              "      <th>IsActiveMember</th>\n",
              "      <th>EstimatedSalary</th>\n",
              "      <th>Female</th>\n",
              "      <th>Male</th>\n",
              "      <th>France</th>\n",
              "      <th>Germany</th>\n",
              "      <th>Spain</th>\n",
              "    </tr>\n",
              "  </thead>\n",
              "  <tbody>\n",
              "    <tr>\n",
              "      <th>0</th>\n",
              "      <td>619</td>\n",
              "      <td>42</td>\n",
              "      <td>2</td>\n",
              "      <td>0.00</td>\n",
              "      <td>1</td>\n",
              "      <td>1</td>\n",
              "      <td>1</td>\n",
              "      <td>101348.88</td>\n",
              "      <td>1</td>\n",
              "      <td>0</td>\n",
              "      <td>1</td>\n",
              "      <td>0</td>\n",
              "      <td>0</td>\n",
              "    </tr>\n",
              "    <tr>\n",
              "      <th>1</th>\n",
              "      <td>608</td>\n",
              "      <td>41</td>\n",
              "      <td>1</td>\n",
              "      <td>83807.86</td>\n",
              "      <td>1</td>\n",
              "      <td>0</td>\n",
              "      <td>1</td>\n",
              "      <td>112542.58</td>\n",
              "      <td>1</td>\n",
              "      <td>0</td>\n",
              "      <td>0</td>\n",
              "      <td>0</td>\n",
              "      <td>1</td>\n",
              "    </tr>\n",
              "  </tbody>\n",
              "</table>\n",
              "</div>"
            ],
            "text/plain": [
              "   CreditScore  Age  Tenure   Balance  ...  Male  France  Germany  Spain\n",
              "0          619   42       2      0.00  ...     0       1        0      0\n",
              "1          608   41       1  83807.86  ...     0       0        0      1\n",
              "\n",
              "[2 rows x 13 columns]"
            ]
          },
          "metadata": {},
          "execution_count": 14
        }
      ]
    },
    {
      "cell_type": "markdown",
      "metadata": {
        "id": "1L_8zTKieVE_"
      },
      "source": [
        "### Separación de datos"
      ]
    },
    {
      "cell_type": "code",
      "metadata": {
        "id": "DzbY1zrkbkNA"
      },
      "source": [
        "from sklearn.model_selection import train_test_split"
      ],
      "execution_count": 15,
      "outputs": []
    },
    {
      "cell_type": "code",
      "metadata": {
        "id": "y542t_lMm37O"
      },
      "source": [
        "x_train, x_test, y_train, y_test = train_test_split(X, Y, train_size = 0.80, random_state = 2021)"
      ],
      "execution_count": 16,
      "outputs": []
    },
    {
      "cell_type": "code",
      "metadata": {
        "id": "eBTG_6UanQPN"
      },
      "source": [
        "x_train, x_val, y_train, y_val = train_test_split(x_train, y_train, train_size = 0.9, random_state = 2021)"
      ],
      "execution_count": 17,
      "outputs": []
    },
    {
      "cell_type": "code",
      "metadata": {
        "colab": {
          "base_uri": "https://localhost:8080/"
        },
        "id": "O7ACwn8pnnGG",
        "outputId": "dee8b3f7-7543-498c-8f36-44400d01a6c3"
      },
      "source": [
        "print(\"X Rows: x_train= {}, x_test= {}, x_val= {}\".format(x_train.shape[0], x_test.shape[0], x_val.shape[0]))"
      ],
      "execution_count": 18,
      "outputs": [
        {
          "output_type": "stream",
          "name": "stdout",
          "text": [
            "X Rows: x_train= 7200, x_test= 2000, x_val= 800\n"
          ]
        }
      ]
    },
    {
      "cell_type": "code",
      "metadata": {
        "colab": {
          "base_uri": "https://localhost:8080/"
        },
        "id": "9KZsDrES8_6P",
        "outputId": "d35c64dc-15c2-4552-e655-a0cb95cd177e"
      },
      "source": [
        "print(\"Y Rows: y_train= {}, y_test= {}, y_val= {}\".format(y_train.shape[0], y_test.shape[0], y_val.shape[0])) "
      ],
      "execution_count": 19,
      "outputs": [
        {
          "output_type": "stream",
          "name": "stdout",
          "text": [
            "Y Rows: y_train= 7200, y_test= 2000, y_val= 800\n"
          ]
        }
      ]
    },
    {
      "cell_type": "markdown",
      "metadata": {
        "id": "jmP5sMoPEWzb"
      },
      "source": [
        "### Scaling de datos"
      ]
    },
    {
      "cell_type": "code",
      "metadata": {
        "id": "T0UbtHjGEad7"
      },
      "source": [
        "from sklearn.preprocessing import StandardScaler"
      ],
      "execution_count": 20,
      "outputs": []
    },
    {
      "cell_type": "code",
      "metadata": {
        "id": "WIeyPnw1EfP8"
      },
      "source": [
        "scaler = StandardScaler()\n",
        "x_train = scaler.fit_transform(x_train)\n",
        "x_test = scaler.fit_transform(x_test)\n",
        "x_val = scaler.fit_transform(x_val)"
      ],
      "execution_count": 21,
      "outputs": []
    },
    {
      "cell_type": "markdown",
      "metadata": {
        "id": "Usu8S27XF-h0"
      },
      "source": [
        "## Red neuronal feed forward (FFNN)"
      ]
    },
    {
      "cell_type": "markdown",
      "metadata": {
        "id": "5GltR83TGJYy"
      },
      "source": [
        "#### Importar Tensorflow y Keras"
      ]
    },
    {
      "cell_type": "code",
      "metadata": {
        "id": "GySJQzy8GMsC"
      },
      "source": [
        "import tensorflow as tf\n",
        "from tensorflow import keras\n",
        "from keras.models import Sequential\n",
        "from keras.layers import Dense\n",
        "from keras.layers import Flatten\n",
        "from keras import metrics\n",
        "from keras.layers import BatchNormalization"
      ],
      "execution_count": 23,
      "outputs": []
    },
    {
      "cell_type": "markdown",
      "metadata": {
        "id": "pOKz1owJGdoC"
      },
      "source": [
        "### Definición de la arquitectura"
      ]
    },
    {
      "cell_type": "code",
      "metadata": {
        "id": "U5hyA7N9GYxz"
      },
      "source": [
        "initializer = tf.keras.initializers.GlorotNormal()\n",
        "\n",
        "ffnn = Sequential([Flatten(), \n",
        "                   Dense(units=512, activation='relu', kernel_initializer=initializer),\n",
        "                   BatchNormalization(),\n",
        "                   Dense(units=256, activation='relu',kernel_initializer=initializer),\n",
        "                   BatchNormalization(),\n",
        "                   Dense(units=1, activation='sigmoid'),\n",
        "])"
      ],
      "execution_count": 24,
      "outputs": []
    },
    {
      "cell_type": "markdown",
      "metadata": {
        "id": "uIk2c9i7HEnU"
      },
      "source": [
        "### Parámetros de optimización"
      ]
    },
    {
      "cell_type": "code",
      "metadata": {
        "id": "27bqCI6tHIU0"
      },
      "source": [
        "ffnn.compile(optimizer = 'adam', \n",
        "            loss = tf.keras.losses.BinaryCrossentropy(from_logits=False), \n",
        "            metrics = ['accuracy',\n",
        "                       tf.keras.metrics.BinaryAccuracy(),\n",
        "                       tf.keras.metrics.Precision(),\n",
        "                       tf.keras.metrics.Recall()])"
      ],
      "execution_count": 26,
      "outputs": []
    },
    {
      "cell_type": "markdown",
      "metadata": {
        "id": "8NjR12UZHmPD"
      },
      "source": [
        "### Entrenamiento, validación y evaluación\n",
        "\n",
        "Creamos una función que entrena la red neuronal de acuerdo a los parámetros epochs, step_per_epoch, batch_size; luego valida los resultados en el dataset de validación, guarda el modelo en un directorio y finalmente evalúa la red en los datos de prueba devolviendo un dataframe con el nombre del modelo y los resultados de las métricas en el dataset de pruebas.\n",
        "\n",
        "Internamente, la función también crea un checkpoint de los mejores steps del modelo y los guarda en un directorio a través de un callback. "
      ]
    },
    {
      "cell_type": "code",
      "metadata": {
        "id": "MRA9BNIMNgoq"
      },
      "source": [
        "def train_val(epochs, steps_per_epoch, batch_size, verbose):\n",
        "  # Definición de Callbacks\n",
        "  model_checkpoint =  tf.keras.callbacks.ModelCheckpoint(\n",
        "      filepath = '/content/drive/MyDrive/Colab Notebooks/Proyecto Final SL2/Parte1_FFNN/Checkpoints/checkpoint_e-{epoch:02d}_-val_acc-{val_accuracy:.2f}.h5',\n",
        "      save_weights_only=False,\n",
        "      monitor='val_accuracy',\n",
        "      mode='max',\n",
        "      save_best_only=True,\n",
        "      save_freq='epoch',\n",
        "      verbose=verbose)\n",
        "  \n",
        "  myCallbacks = [model_checkpoint]\n",
        "\n",
        "  # Entrenamiento y validación de la red\n",
        "  ffnn.fit(x_train, y_train, \n",
        "          epochs=epochs,\n",
        "          batch_size = batch_size,\n",
        "          steps_per_epoch=steps_per_epoch,\n",
        "          validation_data = (x_val, y_val),\n",
        "          verbose = verbose,\n",
        "          callbacks=myCallbacks\n",
        "          )\n",
        "\n",
        "  # Guardar el modelo con el timestamp de ejecución\n",
        "  timestamp = time.strftime('%Y%m%d_%H%M%S', time.localtime(time.time()))\n",
        "  ffnn.save('/content/drive/MyDrive/Colab Notebooks/Proyecto Final SL2/Parte1_FFNN/Models/ffnn_'+str(timestamp)+'_bs='+str(batch_size)+'.h5')\n",
        "\n",
        "  # Generar dataframe con métricas de evaluación del modelo\n",
        "  model_name = 'ffnn_'+str(timestamp)+'_bs='+str(batch_size)+'_ep='+str(epochs)+'_spe='+str(steps_per_epoch)\n",
        "\n",
        "  bitacora = pd.DataFrame(np.hstack((model_name,np.array(ffnn.evaluate(x_test, y_test, verbose=0)))).reshape(1,6), \n",
        "                          columns = ['name','loss','accuracy','binary_accuracy','precision','recall'])\n",
        "  \n",
        "  bitacora['f1_score'] = 2*(float(bitacora['precision'])*float(bitacora['recall']))/(float(bitacora['precision'])+float(bitacora['recall']))\n",
        "\n",
        "  return bitacora"
      ],
      "execution_count": 27,
      "outputs": []
    },
    {
      "cell_type": "code",
      "metadata": {
        "colab": {
          "base_uri": "https://localhost:8080/",
          "height": 436
        },
        "id": "NJA_LlzR711o",
        "outputId": "c572ed7e-d079-4e11-e65e-ede607855601"
      },
      "source": [
        "train_val(epochs=5, steps_per_epoch=5, batch_size=2, verbose=1)"
      ],
      "execution_count": 28,
      "outputs": [
        {
          "output_type": "stream",
          "name": "stdout",
          "text": [
            "Epoch 1/5\n",
            "5/5 [==============================] - 6s 375ms/step - loss: 1.0815 - accuracy: 0.5000 - binary_accuracy: 0.5000 - precision: 0.2000 - recall: 0.5000 - val_loss: 0.6652 - val_accuracy: 0.6275 - val_binary_accuracy: 0.6275 - val_precision: 0.2625 - val_recall: 0.5097\n",
            "\n",
            "Epoch 00001: val_accuracy improved from -inf to 0.62750, saving model to /content/drive/MyDrive/Colab Notebooks/Proyecto Final SL2/Parte1_FFNN/Checkpoints/checkpoint_e-01_-val_acc-0.63.h5\n",
            "Epoch 2/5\n",
            "5/5 [==============================] - 1s 272ms/step - loss: 0.4952 - accuracy: 0.8000 - binary_accuracy: 0.8000 - precision: 0.6000 - recall: 1.0000 - val_loss: 0.6527 - val_accuracy: 0.6288 - val_binary_accuracy: 0.6288 - val_precision: 0.2861 - val_recall: 0.6129\n",
            "\n",
            "Epoch 00002: val_accuracy improved from 0.62750 to 0.62875, saving model to /content/drive/MyDrive/Colab Notebooks/Proyecto Final SL2/Parte1_FFNN/Checkpoints/checkpoint_e-02_-val_acc-0.63.h5\n",
            "Epoch 3/5\n",
            "5/5 [==============================] - 1s 326ms/step - loss: 1.1974 - accuracy: 0.3000 - binary_accuracy: 0.3000 - precision: 0.0000e+00 - recall: 0.0000e+00 - val_loss: 0.6435 - val_accuracy: 0.6513 - val_binary_accuracy: 0.6513 - val_precision: 0.2933 - val_recall: 0.5677\n",
            "\n",
            "Epoch 00003: val_accuracy improved from 0.62875 to 0.65125, saving model to /content/drive/MyDrive/Colab Notebooks/Proyecto Final SL2/Parte1_FFNN/Checkpoints/checkpoint_e-03_-val_acc-0.65.h5\n",
            "Epoch 4/5\n",
            "5/5 [==============================] - 1s 275ms/step - loss: 0.8372 - accuracy: 0.7000 - binary_accuracy: 0.7000 - precision: 0.2500 - recall: 1.0000 - val_loss: 0.6453 - val_accuracy: 0.6288 - val_binary_accuracy: 0.6288 - val_precision: 0.2601 - val_recall: 0.4968\n",
            "\n",
            "Epoch 00004: val_accuracy did not improve from 0.65125\n",
            "Epoch 5/5\n",
            "5/5 [==============================] - 1s 326ms/step - loss: 1.0300 - accuracy: 0.7000 - binary_accuracy: 0.7000 - precision: 0.4000 - recall: 1.0000 - val_loss: 0.6326 - val_accuracy: 0.6513 - val_binary_accuracy: 0.6513 - val_precision: 0.2634 - val_recall: 0.4452\n",
            "\n",
            "Epoch 00005: val_accuracy did not improve from 0.65125\n"
          ]
        },
        {
          "output_type": "execute_result",
          "data": {
            "text/html": [
              "<div>\n",
              "<style scoped>\n",
              "    .dataframe tbody tr th:only-of-type {\n",
              "        vertical-align: middle;\n",
              "    }\n",
              "\n",
              "    .dataframe tbody tr th {\n",
              "        vertical-align: top;\n",
              "    }\n",
              "\n",
              "    .dataframe thead th {\n",
              "        text-align: right;\n",
              "    }\n",
              "</style>\n",
              "<table border=\"1\" class=\"dataframe\">\n",
              "  <thead>\n",
              "    <tr style=\"text-align: right;\">\n",
              "      <th></th>\n",
              "      <th>name</th>\n",
              "      <th>loss</th>\n",
              "      <th>accuracy</th>\n",
              "      <th>binary_accuracy</th>\n",
              "      <th>precision</th>\n",
              "      <th>recall</th>\n",
              "      <th>f1_score</th>\n",
              "    </tr>\n",
              "  </thead>\n",
              "  <tbody>\n",
              "    <tr>\n",
              "      <th>0</th>\n",
              "      <td>ffnn_20210923_215115_bs=2_ep=5_spe=5</td>\n",
              "      <td>0.6474273800849915</td>\n",
              "      <td>0.6119999885559082</td>\n",
              "      <td>0.6119999885559082</td>\n",
              "      <td>0.22900763154029846</td>\n",
              "      <td>0.35629454255104065</td>\n",
              "      <td>0.27881</td>\n",
              "    </tr>\n",
              "  </tbody>\n",
              "</table>\n",
              "</div>"
            ],
            "text/plain": [
              "                                   name  ... f1_score\n",
              "0  ffnn_20210923_215115_bs=2_ep=5_spe=5  ...  0.27881\n",
              "\n",
              "[1 rows x 7 columns]"
            ]
          },
          "metadata": {},
          "execution_count": 28
        }
      ]
    },
    {
      "cell_type": "markdown",
      "metadata": {
        "id": "hMWrEy5H8nJb"
      },
      "source": [
        "Entrenamos varios modelos (5 experimentos):"
      ]
    },
    {
      "cell_type": "code",
      "metadata": {
        "id": "KVhrNJOjTZ40"
      },
      "source": [
        "ffnn1 = train_val(epochs=100, steps_per_epoch=20, batch_size=2, verbose=0)\n",
        "ffnn2 = train_val(epochs=100, steps_per_epoch=40, batch_size=4, verbose=0)\n",
        "ffnn3 = train_val(epochs=100, steps_per_epoch=60, batch_size=32, verbose=0)\n",
        "ffnn4 = train_val(epochs=100, steps_per_epoch=20, batch_size=16, verbose=0)\n",
        "ffnn5 = train_val(epochs=100, steps_per_epoch=40, batch_size=2, verbose=0)"
      ],
      "execution_count": 29,
      "outputs": []
    },
    {
      "cell_type": "markdown",
      "metadata": {
        "id": "bkeoJPro8uVY"
      },
      "source": [
        "Concatenamos todos los resultados para poder compararlos en un dataframe final:"
      ]
    },
    {
      "cell_type": "code",
      "metadata": {
        "colab": {
          "base_uri": "https://localhost:8080/",
          "height": 223
        },
        "id": "l8ADGa8WXLse",
        "outputId": "ceabc9bd-f1fd-4dcf-e339-60f7c017cb43"
      },
      "source": [
        "resumen = pd.concat([ffnn1,ffnn2, ffnn3, ffnn4, ffnn5], ignore_index = True)\n",
        "resumen"
      ],
      "execution_count": 30,
      "outputs": [
        {
          "output_type": "execute_result",
          "data": {
            "text/html": [
              "<div>\n",
              "<style scoped>\n",
              "    .dataframe tbody tr th:only-of-type {\n",
              "        vertical-align: middle;\n",
              "    }\n",
              "\n",
              "    .dataframe tbody tr th {\n",
              "        vertical-align: top;\n",
              "    }\n",
              "\n",
              "    .dataframe thead th {\n",
              "        text-align: right;\n",
              "    }\n",
              "</style>\n",
              "<table border=\"1\" class=\"dataframe\">\n",
              "  <thead>\n",
              "    <tr style=\"text-align: right;\">\n",
              "      <th></th>\n",
              "      <th>name</th>\n",
              "      <th>loss</th>\n",
              "      <th>accuracy</th>\n",
              "      <th>binary_accuracy</th>\n",
              "      <th>precision</th>\n",
              "      <th>recall</th>\n",
              "      <th>f1_score</th>\n",
              "    </tr>\n",
              "  </thead>\n",
              "  <tbody>\n",
              "    <tr>\n",
              "      <th>0</th>\n",
              "      <td>ffnn_20210923_215412_bs=2_ep=100_spe=20</td>\n",
              "      <td>0.565550684928894</td>\n",
              "      <td>0.7680000066757202</td>\n",
              "      <td>0.7680000066757202</td>\n",
              "      <td>0.45057472586631775</td>\n",
              "      <td>0.4655582010746002</td>\n",
              "      <td>0.457944</td>\n",
              "    </tr>\n",
              "    <tr>\n",
              "      <th>1</th>\n",
              "      <td>ffnn_20210923_215635_bs=4_ep=100_spe=40</td>\n",
              "      <td>0.4121256172657013</td>\n",
              "      <td>0.828000009059906</td>\n",
              "      <td>0.828000009059906</td>\n",
              "      <td>0.6711111068725586</td>\n",
              "      <td>0.35866984724998474</td>\n",
              "      <td>0.467492</td>\n",
              "    </tr>\n",
              "    <tr>\n",
              "      <th>2</th>\n",
              "      <td>ffnn_20210923_215724_bs=32_ep=100_spe=60</td>\n",
              "      <td>0.37255480885505676</td>\n",
              "      <td>0.847000002861023</td>\n",
              "      <td>0.847000002861023</td>\n",
              "      <td>0.6619718074798584</td>\n",
              "      <td>0.5581947565078735</td>\n",
              "      <td>0.605670</td>\n",
              "    </tr>\n",
              "    <tr>\n",
              "      <th>3</th>\n",
              "      <td>ffnn_20210923_215805_bs=16_ep=100_spe=20</td>\n",
              "      <td>0.3760450780391693</td>\n",
              "      <td>0.8554999828338623</td>\n",
              "      <td>0.8554999828338623</td>\n",
              "      <td>0.7598425149917603</td>\n",
              "      <td>0.45843231678009033</td>\n",
              "      <td>0.571852</td>\n",
              "    </tr>\n",
              "    <tr>\n",
              "      <th>4</th>\n",
              "      <td>ffnn_20210923_220027_bs=2_ep=100_spe=40</td>\n",
              "      <td>1.1485934257507324</td>\n",
              "      <td>0.8209999799728394</td>\n",
              "      <td>0.8209999799728394</td>\n",
              "      <td>0.931506872177124</td>\n",
              "      <td>0.16152018308639526</td>\n",
              "      <td>0.275304</td>\n",
              "    </tr>\n",
              "  </tbody>\n",
              "</table>\n",
              "</div>"
            ],
            "text/plain": [
              "                                       name  ...  f1_score\n",
              "0   ffnn_20210923_215412_bs=2_ep=100_spe=20  ...  0.457944\n",
              "1   ffnn_20210923_215635_bs=4_ep=100_spe=40  ...  0.467492\n",
              "2  ffnn_20210923_215724_bs=32_ep=100_spe=60  ...  0.605670\n",
              "3  ffnn_20210923_215805_bs=16_ep=100_spe=20  ...  0.571852\n",
              "4   ffnn_20210923_220027_bs=2_ep=100_spe=40  ...  0.275304\n",
              "\n",
              "[5 rows x 7 columns]"
            ]
          },
          "metadata": {},
          "execution_count": 30
        }
      ]
    },
    {
      "cell_type": "markdown",
      "metadata": {
        "id": "I8XIqenC0GLB"
      },
      "source": [
        "### Selección"
      ]
    },
    {
      "cell_type": "markdown",
      "metadata": {
        "id": "f6EZ2oqL-xui"
      },
      "source": [
        "También es posible y más recomendable en caso de modelos que toman más tiempo en el entrenamiento, cargar los modelos entrenados y evaluarlos a continuación."
      ]
    },
    {
      "cell_type": "markdown",
      "metadata": {
        "id": "rgolwSCosUR4"
      },
      "source": [
        "Cargamos los modelos (deployment):"
      ]
    },
    {
      "cell_type": "code",
      "metadata": {
        "id": "s4zWT5V_rceZ"
      },
      "source": [
        "exp1 = tf.keras.models.load_model('/content/drive/MyDrive/Colab Notebooks/Proyecto Final SL2/Parte1_FFNN/Models/ffnn_20210923_215412_bs=2.h5')\n",
        "exp2 = tf.keras.models.load_model('/content/drive/MyDrive/Colab Notebooks/Proyecto Final SL2/Parte1_FFNN/Models/ffnn_20210923_215635_bs=4.h5')\n",
        "exp3 = tf.keras.models.load_model('/content/drive/MyDrive/Colab Notebooks/Proyecto Final SL2/Parte1_FFNN/Models/ffnn_20210923_215724_bs=32.h5')\n",
        "exp4 = tf.keras.models.load_model('/content/drive/MyDrive/Colab Notebooks/Proyecto Final SL2/Parte1_FFNN/Models/ffnn_20210923_215805_bs=16.h5')\n",
        "exp5 = tf.keras.models.load_model('/content/drive/MyDrive/Colab Notebooks/Proyecto Final SL2/Parte1_FFNN/Models/ffnn_20210923_220027_bs=2.h5')"
      ],
      "execution_count": 31,
      "outputs": []
    },
    {
      "cell_type": "markdown",
      "metadata": {
        "id": "8DcLwP0EsWho"
      },
      "source": [
        "Y los evaluamos en el dataset de pruebas:"
      ]
    },
    {
      "cell_type": "code",
      "metadata": {
        "id": "Vqv8WuftsGN4"
      },
      "source": [
        "met1 = pd.DataFrame(np.array(exp1.evaluate(x_test,y_test, verbose=0)).reshape(1,5))\n",
        "met2 = pd.DataFrame(np.array(exp2.evaluate(x_test,y_test, verbose=0)).reshape(1,5))\n",
        "met3 = pd.DataFrame(np.array(exp3.evaluate(x_test,y_test, verbose=0)).reshape(1,5))\n",
        "met4 = pd.DataFrame(np.array(exp4.evaluate(x_test,y_test, verbose=0)).reshape(1,5))\n",
        "met5 = pd.DataFrame(np.array(exp5.evaluate(x_test,y_test, verbose=0)).reshape(1,5))"
      ],
      "execution_count": 32,
      "outputs": []
    },
    {
      "cell_type": "markdown",
      "metadata": {
        "id": "IYoLbKPYsZ5f"
      },
      "source": [
        "Obtenemos las métricas y las almacenamos en un dataframe:"
      ]
    },
    {
      "cell_type": "code",
      "metadata": {
        "colab": {
          "base_uri": "https://localhost:8080/",
          "height": 203
        },
        "id": "Z_NegQkksIzf",
        "outputId": "64307020-f0b1-4560-ff8c-82a996a15f24"
      },
      "source": [
        "metricas = pd.concat([met1,met2,met3,met4,met5], ignore_index=True)\n",
        "metricas.columns = ['loss','accuracy','binary_accuracy','precision','recall']\n",
        "metricas['f1_score'] = (2.0*metricas['precision']*metricas['recall'])/(metricas['precision']+metricas['recall'])\n",
        "metricas"
      ],
      "execution_count": 42,
      "outputs": [
        {
          "output_type": "execute_result",
          "data": {
            "text/html": [
              "<div>\n",
              "<style scoped>\n",
              "    .dataframe tbody tr th:only-of-type {\n",
              "        vertical-align: middle;\n",
              "    }\n",
              "\n",
              "    .dataframe tbody tr th {\n",
              "        vertical-align: top;\n",
              "    }\n",
              "\n",
              "    .dataframe thead th {\n",
              "        text-align: right;\n",
              "    }\n",
              "</style>\n",
              "<table border=\"1\" class=\"dataframe\">\n",
              "  <thead>\n",
              "    <tr style=\"text-align: right;\">\n",
              "      <th></th>\n",
              "      <th>loss</th>\n",
              "      <th>accuracy</th>\n",
              "      <th>binary_accuracy</th>\n",
              "      <th>precision</th>\n",
              "      <th>recall</th>\n",
              "      <th>f1_score</th>\n",
              "    </tr>\n",
              "  </thead>\n",
              "  <tbody>\n",
              "    <tr>\n",
              "      <th>0</th>\n",
              "      <td>0.565551</td>\n",
              "      <td>0.7680</td>\n",
              "      <td>0.7680</td>\n",
              "      <td>0.450575</td>\n",
              "      <td>0.465558</td>\n",
              "      <td>0.457944</td>\n",
              "    </tr>\n",
              "    <tr>\n",
              "      <th>1</th>\n",
              "      <td>0.412126</td>\n",
              "      <td>0.8280</td>\n",
              "      <td>0.8280</td>\n",
              "      <td>0.671111</td>\n",
              "      <td>0.358670</td>\n",
              "      <td>0.467492</td>\n",
              "    </tr>\n",
              "    <tr>\n",
              "      <th>2</th>\n",
              "      <td>0.372555</td>\n",
              "      <td>0.8470</td>\n",
              "      <td>0.8470</td>\n",
              "      <td>0.661972</td>\n",
              "      <td>0.558195</td>\n",
              "      <td>0.605670</td>\n",
              "    </tr>\n",
              "    <tr>\n",
              "      <th>3</th>\n",
              "      <td>0.376045</td>\n",
              "      <td>0.8555</td>\n",
              "      <td>0.8555</td>\n",
              "      <td>0.759843</td>\n",
              "      <td>0.458432</td>\n",
              "      <td>0.571852</td>\n",
              "    </tr>\n",
              "    <tr>\n",
              "      <th>4</th>\n",
              "      <td>1.148593</td>\n",
              "      <td>0.8210</td>\n",
              "      <td>0.8210</td>\n",
              "      <td>0.931507</td>\n",
              "      <td>0.161520</td>\n",
              "      <td>0.275304</td>\n",
              "    </tr>\n",
              "  </tbody>\n",
              "</table>\n",
              "</div>"
            ],
            "text/plain": [
              "       loss  accuracy  binary_accuracy  precision    recall  f1_score\n",
              "0  0.565551    0.7680           0.7680   0.450575  0.465558  0.457944\n",
              "1  0.412126    0.8280           0.8280   0.671111  0.358670  0.467492\n",
              "2  0.372555    0.8470           0.8470   0.661972  0.558195  0.605670\n",
              "3  0.376045    0.8555           0.8555   0.759843  0.458432  0.571852\n",
              "4  1.148593    0.8210           0.8210   0.931507  0.161520  0.275304"
            ]
          },
          "metadata": {},
          "execution_count": 42
        }
      ]
    },
    {
      "cell_type": "markdown",
      "metadata": {
        "id": "h8cm0qjrzyPD"
      },
      "source": [
        "El mejor modelo corresponde al experimento 4 entrenando la red neuronal con 100 epochs, 20 pasos por epoch y un batch size de 16."
      ]
    }
  ]
}