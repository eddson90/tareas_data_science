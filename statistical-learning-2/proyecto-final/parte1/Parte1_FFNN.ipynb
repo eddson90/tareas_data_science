{
  "nbformat": 4,
  "nbformat_minor": 0,
  "metadata": {
    "colab": {
      "name": "Parte1_FFNN.ipynb",
      "provenance": [],
      "collapsed_sections": [],
      "toc_visible": true,
      "mount_file_id": "1mooXRwfkV-z62jkgzfIcgRObKZ8yvWh5",
      "authorship_tag": "ABX9TyNI33vv5437Y246XlKQ0SXO",
      "include_colab_link": true
    },
    "kernelspec": {
      "name": "python3",
      "display_name": "Python 3"
    },
    "language_info": {
      "name": "python"
    },
    "accelerator": "GPU"
  },
  "cells": [
    {
      "cell_type": "markdown",
      "metadata": {
        "id": "view-in-github",
        "colab_type": "text"
      },
      "source": [
        "<a href=\"https://colab.research.google.com/github/eddson90/tareas_data_science/blob/main/statistical-learning-2/proyecto-final/parte1/Parte1_FFNN.ipynb\" target=\"_parent\"><img src=\"https://colab.research.google.com/assets/colab-badge.svg\" alt=\"Open In Colab\"/></a>"
      ]
    },
    {
      "cell_type": "markdown",
      "metadata": {
        "id": "otvQK0M3rgP2"
      },
      "source": [
        "# **Parte 1:  Red Neuronal Feed Forward (FFNN)**\n",
        "\n",
        "## Proyecto Final: Implementación de Modelos de Deep Learning\n",
        "---\n",
        "\n",
        "Statistical Learning II\n",
        "\n",
        "Universidad Galileo\n",
        "\n",
        "Eddson Sierra"
      ]
    },
    {
      "cell_type": "markdown",
      "metadata": {
        "id": "w--VgIORsKMP"
      },
      "source": [
        "## Descripción"
      ]
    },
    {
      "cell_type": "markdown",
      "metadata": {
        "id": "GDnpM6DVsWCW"
      },
      "source": [
        "En esta parte se ha elegido implementar una red neuronal feed forward para modelar el *churn* de un banco. El objetivo es predecir el número de clientes que abandonan el banco. Se trata de un problema de **clasificación** y se trabajará con un dataset estructurado que incluye la columna 'Exited' que indica 1 si el cliente abandonó y 0 de lo contrario."
      ]
    },
    {
      "cell_type": "markdown",
      "metadata": {
        "id": "fpMh5NkWV-_x"
      },
      "source": [
        "## Carga inicial de librerías"
      ]
    },
    {
      "cell_type": "code",
      "metadata": {
        "id": "7RiZZlTprOpO"
      },
      "source": [
        "import pandas as pd\n",
        "import numpy as np\n",
        "import time"
      ],
      "execution_count": 2,
      "outputs": []
    },
    {
      "cell_type": "markdown",
      "metadata": {
        "id": "HnLgM0I-Xgj4"
      },
      "source": [
        "## Carga de datos"
      ]
    },
    {
      "cell_type": "markdown",
      "metadata": {
        "id": "WS4_xFRmXjeA"
      },
      "source": [
        "**Créditos del autor del dataset**\n",
        "\n",
        "El dataset fue tomado del repositorio de Github de Siddharth Dixit. (https://github.com/Sid-darthvader)"
      ]
    },
    {
      "cell_type": "code",
      "metadata": {
        "id": "27n4g7RlWEHf"
      },
      "source": [
        "url = 'https://raw.githubusercontent.com/Sid-darthvader/Artificial-Neural-Network-on-Churn-Modeling-Dataset-for-a-Bank/master/Churn_Modelling.csv'\n",
        "data = pd.read_csv(url,sep=',',error_bad_lines=False)"
      ],
      "execution_count": 3,
      "outputs": []
    },
    {
      "cell_type": "code",
      "metadata": {
        "colab": {
          "base_uri": "https://localhost:8080/",
          "height": 223
        },
        "id": "Kv9RDH_-WYiI",
        "outputId": "e0d31aa3-4e4a-44b6-fe59-40157eb20e33"
      },
      "source": [
        "data.head(5)"
      ],
      "execution_count": 4,
      "outputs": [
        {
          "output_type": "execute_result",
          "data": {
            "text/html": [
              "<div>\n",
              "<style scoped>\n",
              "    .dataframe tbody tr th:only-of-type {\n",
              "        vertical-align: middle;\n",
              "    }\n",
              "\n",
              "    .dataframe tbody tr th {\n",
              "        vertical-align: top;\n",
              "    }\n",
              "\n",
              "    .dataframe thead th {\n",
              "        text-align: right;\n",
              "    }\n",
              "</style>\n",
              "<table border=\"1\" class=\"dataframe\">\n",
              "  <thead>\n",
              "    <tr style=\"text-align: right;\">\n",
              "      <th></th>\n",
              "      <th>RowNumber</th>\n",
              "      <th>CustomerId</th>\n",
              "      <th>Surname</th>\n",
              "      <th>CreditScore</th>\n",
              "      <th>Geography</th>\n",
              "      <th>Gender</th>\n",
              "      <th>Age</th>\n",
              "      <th>Tenure</th>\n",
              "      <th>Balance</th>\n",
              "      <th>NumOfProducts</th>\n",
              "      <th>HasCrCard</th>\n",
              "      <th>IsActiveMember</th>\n",
              "      <th>EstimatedSalary</th>\n",
              "      <th>Exited</th>\n",
              "    </tr>\n",
              "  </thead>\n",
              "  <tbody>\n",
              "    <tr>\n",
              "      <th>0</th>\n",
              "      <td>1</td>\n",
              "      <td>15634602</td>\n",
              "      <td>Hargrave</td>\n",
              "      <td>619</td>\n",
              "      <td>France</td>\n",
              "      <td>Female</td>\n",
              "      <td>42</td>\n",
              "      <td>2</td>\n",
              "      <td>0.00</td>\n",
              "      <td>1</td>\n",
              "      <td>1</td>\n",
              "      <td>1</td>\n",
              "      <td>101348.88</td>\n",
              "      <td>1</td>\n",
              "    </tr>\n",
              "    <tr>\n",
              "      <th>1</th>\n",
              "      <td>2</td>\n",
              "      <td>15647311</td>\n",
              "      <td>Hill</td>\n",
              "      <td>608</td>\n",
              "      <td>Spain</td>\n",
              "      <td>Female</td>\n",
              "      <td>41</td>\n",
              "      <td>1</td>\n",
              "      <td>83807.86</td>\n",
              "      <td>1</td>\n",
              "      <td>0</td>\n",
              "      <td>1</td>\n",
              "      <td>112542.58</td>\n",
              "      <td>0</td>\n",
              "    </tr>\n",
              "    <tr>\n",
              "      <th>2</th>\n",
              "      <td>3</td>\n",
              "      <td>15619304</td>\n",
              "      <td>Onio</td>\n",
              "      <td>502</td>\n",
              "      <td>France</td>\n",
              "      <td>Female</td>\n",
              "      <td>42</td>\n",
              "      <td>8</td>\n",
              "      <td>159660.80</td>\n",
              "      <td>3</td>\n",
              "      <td>1</td>\n",
              "      <td>0</td>\n",
              "      <td>113931.57</td>\n",
              "      <td>1</td>\n",
              "    </tr>\n",
              "    <tr>\n",
              "      <th>3</th>\n",
              "      <td>4</td>\n",
              "      <td>15701354</td>\n",
              "      <td>Boni</td>\n",
              "      <td>699</td>\n",
              "      <td>France</td>\n",
              "      <td>Female</td>\n",
              "      <td>39</td>\n",
              "      <td>1</td>\n",
              "      <td>0.00</td>\n",
              "      <td>2</td>\n",
              "      <td>0</td>\n",
              "      <td>0</td>\n",
              "      <td>93826.63</td>\n",
              "      <td>0</td>\n",
              "    </tr>\n",
              "    <tr>\n",
              "      <th>4</th>\n",
              "      <td>5</td>\n",
              "      <td>15737888</td>\n",
              "      <td>Mitchell</td>\n",
              "      <td>850</td>\n",
              "      <td>Spain</td>\n",
              "      <td>Female</td>\n",
              "      <td>43</td>\n",
              "      <td>2</td>\n",
              "      <td>125510.82</td>\n",
              "      <td>1</td>\n",
              "      <td>1</td>\n",
              "      <td>1</td>\n",
              "      <td>79084.10</td>\n",
              "      <td>0</td>\n",
              "    </tr>\n",
              "  </tbody>\n",
              "</table>\n",
              "</div>"
            ],
            "text/plain": [
              "   RowNumber  CustomerId   Surname  ...  IsActiveMember EstimatedSalary Exited\n",
              "0          1    15634602  Hargrave  ...               1       101348.88      1\n",
              "1          2    15647311      Hill  ...               1       112542.58      0\n",
              "2          3    15619304      Onio  ...               0       113931.57      1\n",
              "3          4    15701354      Boni  ...               0        93826.63      0\n",
              "4          5    15737888  Mitchell  ...               1        79084.10      0\n",
              "\n",
              "[5 rows x 14 columns]"
            ]
          },
          "metadata": {},
          "execution_count": 4
        }
      ]
    },
    {
      "cell_type": "markdown",
      "metadata": {
        "id": "BKla5xqsZbD2"
      },
      "source": [
        "## Preparación de datos\n",
        "\n",
        "Podemos observar que las columnas 'RowNumber', y 'Surname' no tienen impacto en el churn por lo que podemos removerlas del dataset."
      ]
    },
    {
      "cell_type": "code",
      "metadata": {
        "id": "dHowPa6-ZOVH"
      },
      "source": [
        "data = data.drop(['RowNumber','Surname','CustomerId'], axis = 1)"
      ],
      "execution_count": 5,
      "outputs": []
    },
    {
      "cell_type": "markdown",
      "metadata": {
        "id": "esVVLABabk-f"
      },
      "source": [
        "Ahora separamos el dataset en un dataset de etiquetas (Y) y uno de características (X):"
      ]
    },
    {
      "cell_type": "code",
      "metadata": {
        "colab": {
          "base_uri": "https://localhost:8080/",
          "height": 110
        },
        "id": "11gcbCWHbigv",
        "outputId": "40e1e100-9ca7-481d-a8dd-988b66719050"
      },
      "source": [
        "X = data.iloc[:,0:10]\n",
        "X.head(2)"
      ],
      "execution_count": 6,
      "outputs": [
        {
          "output_type": "execute_result",
          "data": {
            "text/html": [
              "<div>\n",
              "<style scoped>\n",
              "    .dataframe tbody tr th:only-of-type {\n",
              "        vertical-align: middle;\n",
              "    }\n",
              "\n",
              "    .dataframe tbody tr th {\n",
              "        vertical-align: top;\n",
              "    }\n",
              "\n",
              "    .dataframe thead th {\n",
              "        text-align: right;\n",
              "    }\n",
              "</style>\n",
              "<table border=\"1\" class=\"dataframe\">\n",
              "  <thead>\n",
              "    <tr style=\"text-align: right;\">\n",
              "      <th></th>\n",
              "      <th>CreditScore</th>\n",
              "      <th>Geography</th>\n",
              "      <th>Gender</th>\n",
              "      <th>Age</th>\n",
              "      <th>Tenure</th>\n",
              "      <th>Balance</th>\n",
              "      <th>NumOfProducts</th>\n",
              "      <th>HasCrCard</th>\n",
              "      <th>IsActiveMember</th>\n",
              "      <th>EstimatedSalary</th>\n",
              "    </tr>\n",
              "  </thead>\n",
              "  <tbody>\n",
              "    <tr>\n",
              "      <th>0</th>\n",
              "      <td>619</td>\n",
              "      <td>France</td>\n",
              "      <td>Female</td>\n",
              "      <td>42</td>\n",
              "      <td>2</td>\n",
              "      <td>0.00</td>\n",
              "      <td>1</td>\n",
              "      <td>1</td>\n",
              "      <td>1</td>\n",
              "      <td>101348.88</td>\n",
              "    </tr>\n",
              "    <tr>\n",
              "      <th>1</th>\n",
              "      <td>608</td>\n",
              "      <td>Spain</td>\n",
              "      <td>Female</td>\n",
              "      <td>41</td>\n",
              "      <td>1</td>\n",
              "      <td>83807.86</td>\n",
              "      <td>1</td>\n",
              "      <td>0</td>\n",
              "      <td>1</td>\n",
              "      <td>112542.58</td>\n",
              "    </tr>\n",
              "  </tbody>\n",
              "</table>\n",
              "</div>"
            ],
            "text/plain": [
              "   CreditScore Geography  Gender  ...  HasCrCard  IsActiveMember  EstimatedSalary\n",
              "0          619    France  Female  ...          1               1        101348.88\n",
              "1          608     Spain  Female  ...          0               1        112542.58\n",
              "\n",
              "[2 rows x 10 columns]"
            ]
          },
          "metadata": {},
          "execution_count": 6
        }
      ]
    },
    {
      "cell_type": "code",
      "metadata": {
        "colab": {
          "base_uri": "https://localhost:8080/",
          "height": 110
        },
        "id": "qL16-JxJdI6H",
        "outputId": "8be9b85d-f974-46bd-d7ee-ce22f40b6a40"
      },
      "source": [
        "Y = pd.DataFrame(data.iloc[:,-1].values, columns = ['Exited'])\n",
        "Y.head(2)"
      ],
      "execution_count": 7,
      "outputs": [
        {
          "output_type": "execute_result",
          "data": {
            "text/html": [
              "<div>\n",
              "<style scoped>\n",
              "    .dataframe tbody tr th:only-of-type {\n",
              "        vertical-align: middle;\n",
              "    }\n",
              "\n",
              "    .dataframe tbody tr th {\n",
              "        vertical-align: top;\n",
              "    }\n",
              "\n",
              "    .dataframe thead th {\n",
              "        text-align: right;\n",
              "    }\n",
              "</style>\n",
              "<table border=\"1\" class=\"dataframe\">\n",
              "  <thead>\n",
              "    <tr style=\"text-align: right;\">\n",
              "      <th></th>\n",
              "      <th>Exited</th>\n",
              "    </tr>\n",
              "  </thead>\n",
              "  <tbody>\n",
              "    <tr>\n",
              "      <th>0</th>\n",
              "      <td>1</td>\n",
              "    </tr>\n",
              "    <tr>\n",
              "      <th>1</th>\n",
              "      <td>0</td>\n",
              "    </tr>\n",
              "  </tbody>\n",
              "</table>\n",
              "</div>"
            ],
            "text/plain": [
              "   Exited\n",
              "0       1\n",
              "1       0"
            ]
          },
          "metadata": {},
          "execution_count": 7
        }
      ]
    },
    {
      "cell_type": "markdown",
      "metadata": {
        "id": "iuW6Qtbvdv_H"
      },
      "source": [
        "### Tratamiento de variables categóricas"
      ]
    },
    {
      "cell_type": "markdown",
      "metadata": {
        "id": "VcFQCquOd48m"
      },
      "source": [
        "Observamos que la variable Geography solo tiene 3 posibles valores, y la variable Gender 2 (es mejor verificar). "
      ]
    },
    {
      "cell_type": "code",
      "metadata": {
        "colab": {
          "base_uri": "https://localhost:8080/"
        },
        "id": "Gi1JZfVWd8aG",
        "outputId": "cbd625bf-00db-43d5-fb40-9af1b2725fb8"
      },
      "source": [
        "np.unique(X['Geography'])"
      ],
      "execution_count": 8,
      "outputs": [
        {
          "output_type": "execute_result",
          "data": {
            "text/plain": [
              "array(['France', 'Germany', 'Spain'], dtype=object)"
            ]
          },
          "metadata": {},
          "execution_count": 8
        }
      ]
    },
    {
      "cell_type": "code",
      "metadata": {
        "colab": {
          "base_uri": "https://localhost:8080/"
        },
        "id": "ze5Aii4YeF1n",
        "outputId": "77fc71f6-c63e-46e7-e265-6dd5dd0f7637"
      },
      "source": [
        "np.unique(X['Gender'])"
      ],
      "execution_count": 9,
      "outputs": [
        {
          "output_type": "execute_result",
          "data": {
            "text/plain": [
              "array(['Female', 'Male'], dtype=object)"
            ]
          },
          "metadata": {},
          "execution_count": 9
        }
      ]
    },
    {
      "cell_type": "markdown",
      "metadata": {
        "id": "2HIuNXJjl4ZG"
      },
      "source": [
        "Ejecutamos One Hot Encoding sobre ambas variables y generamos el nuevo dataset X:"
      ]
    },
    {
      "cell_type": "code",
      "metadata": {
        "id": "zM55h8MpfeDm"
      },
      "source": [
        "from sklearn.preprocessing import OneHotEncoder"
      ],
      "execution_count": 10,
      "outputs": []
    },
    {
      "cell_type": "code",
      "metadata": {
        "id": "Enf7AHoYgUZm"
      },
      "source": [
        "OHE = OneHotEncoder(dtype='int')\n",
        "OHE_gen = pd.DataFrame(OHE.fit_transform(X[['Gender']]).toarray(), columns = ['Female','Male'])\n",
        "OHE_geo = pd.DataFrame(OHE.fit_transform(X[['Geography']]).toarray(), columns = ['France','Germany','Spain'])"
      ],
      "execution_count": 11,
      "outputs": []
    },
    {
      "cell_type": "code",
      "metadata": {
        "id": "eB8Xr6R3iiZ-"
      },
      "source": [
        "X = X.join(OHE_gen)\n",
        "X = X.join(OHE_geo)"
      ],
      "execution_count": 12,
      "outputs": []
    },
    {
      "cell_type": "code",
      "metadata": {
        "colab": {
          "base_uri": "https://localhost:8080/",
          "height": 130
        },
        "id": "Cj5R4xjPj3AP",
        "outputId": "b5d57c4a-2341-454c-b533-fc23029abb54"
      },
      "source": [
        "X.head(2)"
      ],
      "execution_count": 13,
      "outputs": [
        {
          "output_type": "execute_result",
          "data": {
            "text/html": [
              "<div>\n",
              "<style scoped>\n",
              "    .dataframe tbody tr th:only-of-type {\n",
              "        vertical-align: middle;\n",
              "    }\n",
              "\n",
              "    .dataframe tbody tr th {\n",
              "        vertical-align: top;\n",
              "    }\n",
              "\n",
              "    .dataframe thead th {\n",
              "        text-align: right;\n",
              "    }\n",
              "</style>\n",
              "<table border=\"1\" class=\"dataframe\">\n",
              "  <thead>\n",
              "    <tr style=\"text-align: right;\">\n",
              "      <th></th>\n",
              "      <th>CreditScore</th>\n",
              "      <th>Geography</th>\n",
              "      <th>Gender</th>\n",
              "      <th>Age</th>\n",
              "      <th>Tenure</th>\n",
              "      <th>Balance</th>\n",
              "      <th>NumOfProducts</th>\n",
              "      <th>HasCrCard</th>\n",
              "      <th>IsActiveMember</th>\n",
              "      <th>EstimatedSalary</th>\n",
              "      <th>Female</th>\n",
              "      <th>Male</th>\n",
              "      <th>France</th>\n",
              "      <th>Germany</th>\n",
              "      <th>Spain</th>\n",
              "    </tr>\n",
              "  </thead>\n",
              "  <tbody>\n",
              "    <tr>\n",
              "      <th>0</th>\n",
              "      <td>619</td>\n",
              "      <td>France</td>\n",
              "      <td>Female</td>\n",
              "      <td>42</td>\n",
              "      <td>2</td>\n",
              "      <td>0.00</td>\n",
              "      <td>1</td>\n",
              "      <td>1</td>\n",
              "      <td>1</td>\n",
              "      <td>101348.88</td>\n",
              "      <td>1</td>\n",
              "      <td>0</td>\n",
              "      <td>1</td>\n",
              "      <td>0</td>\n",
              "      <td>0</td>\n",
              "    </tr>\n",
              "    <tr>\n",
              "      <th>1</th>\n",
              "      <td>608</td>\n",
              "      <td>Spain</td>\n",
              "      <td>Female</td>\n",
              "      <td>41</td>\n",
              "      <td>1</td>\n",
              "      <td>83807.86</td>\n",
              "      <td>1</td>\n",
              "      <td>0</td>\n",
              "      <td>1</td>\n",
              "      <td>112542.58</td>\n",
              "      <td>1</td>\n",
              "      <td>0</td>\n",
              "      <td>0</td>\n",
              "      <td>0</td>\n",
              "      <td>1</td>\n",
              "    </tr>\n",
              "  </tbody>\n",
              "</table>\n",
              "</div>"
            ],
            "text/plain": [
              "   CreditScore Geography  Gender  Age  ...  Male  France  Germany  Spain\n",
              "0          619    France  Female   42  ...     0       1        0      0\n",
              "1          608     Spain  Female   41  ...     0       0        0      1\n",
              "\n",
              "[2 rows x 15 columns]"
            ]
          },
          "metadata": {},
          "execution_count": 13
        }
      ]
    },
    {
      "cell_type": "markdown",
      "metadata": {
        "id": "KRtjfdVvl2Vt"
      },
      "source": [
        "Removemos las columnas de referencia:"
      ]
    },
    {
      "cell_type": "code",
      "metadata": {
        "colab": {
          "base_uri": "https://localhost:8080/",
          "height": 130
        },
        "id": "sqe1-i7ll1s-",
        "outputId": "967f6960-8ccd-45a2-9741-557a6703b278"
      },
      "source": [
        "X = X.drop(['Gender','Geography'], axis = 1)\n",
        "X.head(2)"
      ],
      "execution_count": 14,
      "outputs": [
        {
          "output_type": "execute_result",
          "data": {
            "text/html": [
              "<div>\n",
              "<style scoped>\n",
              "    .dataframe tbody tr th:only-of-type {\n",
              "        vertical-align: middle;\n",
              "    }\n",
              "\n",
              "    .dataframe tbody tr th {\n",
              "        vertical-align: top;\n",
              "    }\n",
              "\n",
              "    .dataframe thead th {\n",
              "        text-align: right;\n",
              "    }\n",
              "</style>\n",
              "<table border=\"1\" class=\"dataframe\">\n",
              "  <thead>\n",
              "    <tr style=\"text-align: right;\">\n",
              "      <th></th>\n",
              "      <th>CreditScore</th>\n",
              "      <th>Age</th>\n",
              "      <th>Tenure</th>\n",
              "      <th>Balance</th>\n",
              "      <th>NumOfProducts</th>\n",
              "      <th>HasCrCard</th>\n",
              "      <th>IsActiveMember</th>\n",
              "      <th>EstimatedSalary</th>\n",
              "      <th>Female</th>\n",
              "      <th>Male</th>\n",
              "      <th>France</th>\n",
              "      <th>Germany</th>\n",
              "      <th>Spain</th>\n",
              "    </tr>\n",
              "  </thead>\n",
              "  <tbody>\n",
              "    <tr>\n",
              "      <th>0</th>\n",
              "      <td>619</td>\n",
              "      <td>42</td>\n",
              "      <td>2</td>\n",
              "      <td>0.00</td>\n",
              "      <td>1</td>\n",
              "      <td>1</td>\n",
              "      <td>1</td>\n",
              "      <td>101348.88</td>\n",
              "      <td>1</td>\n",
              "      <td>0</td>\n",
              "      <td>1</td>\n",
              "      <td>0</td>\n",
              "      <td>0</td>\n",
              "    </tr>\n",
              "    <tr>\n",
              "      <th>1</th>\n",
              "      <td>608</td>\n",
              "      <td>41</td>\n",
              "      <td>1</td>\n",
              "      <td>83807.86</td>\n",
              "      <td>1</td>\n",
              "      <td>0</td>\n",
              "      <td>1</td>\n",
              "      <td>112542.58</td>\n",
              "      <td>1</td>\n",
              "      <td>0</td>\n",
              "      <td>0</td>\n",
              "      <td>0</td>\n",
              "      <td>1</td>\n",
              "    </tr>\n",
              "  </tbody>\n",
              "</table>\n",
              "</div>"
            ],
            "text/plain": [
              "   CreditScore  Age  Tenure   Balance  ...  Male  France  Germany  Spain\n",
              "0          619   42       2      0.00  ...     0       1        0      0\n",
              "1          608   41       1  83807.86  ...     0       0        0      1\n",
              "\n",
              "[2 rows x 13 columns]"
            ]
          },
          "metadata": {},
          "execution_count": 14
        }
      ]
    },
    {
      "cell_type": "markdown",
      "metadata": {
        "id": "1L_8zTKieVE_"
      },
      "source": [
        "### Separación de datos"
      ]
    },
    {
      "cell_type": "code",
      "metadata": {
        "id": "DzbY1zrkbkNA"
      },
      "source": [
        "from sklearn.model_selection import train_test_split"
      ],
      "execution_count": 15,
      "outputs": []
    },
    {
      "cell_type": "code",
      "metadata": {
        "id": "y542t_lMm37O"
      },
      "source": [
        "x_train, x_test, y_train, y_test = train_test_split(X, Y, train_size = 0.80, random_state = 2021)"
      ],
      "execution_count": 16,
      "outputs": []
    },
    {
      "cell_type": "code",
      "metadata": {
        "id": "eBTG_6UanQPN"
      },
      "source": [
        "x_train, x_val, y_train, y_val = train_test_split(x_train, y_train, train_size = 0.9, random_state = 2021)"
      ],
      "execution_count": 17,
      "outputs": []
    },
    {
      "cell_type": "code",
      "metadata": {
        "colab": {
          "base_uri": "https://localhost:8080/"
        },
        "id": "O7ACwn8pnnGG",
        "outputId": "dee8b3f7-7543-498c-8f36-44400d01a6c3"
      },
      "source": [
        "print(\"X Rows: x_train= {}, x_test= {}, x_val= {}\".format(x_train.shape[0], x_test.shape[0], x_val.shape[0]))"
      ],
      "execution_count": 18,
      "outputs": [
        {
          "output_type": "stream",
          "name": "stdout",
          "text": [
            "X Rows: x_train= 7200, x_test= 2000, x_val= 800\n"
          ]
        }
      ]
    },
    {
      "cell_type": "code",
      "metadata": {
        "colab": {
          "base_uri": "https://localhost:8080/"
        },
        "id": "9KZsDrES8_6P",
        "outputId": "d35c64dc-15c2-4552-e655-a0cb95cd177e"
      },
      "source": [
        "print(\"Y Rows: y_train= {}, y_test= {}, y_val= {}\".format(y_train.shape[0], y_test.shape[0], y_val.shape[0])) "
      ],
      "execution_count": 19,
      "outputs": [
        {
          "output_type": "stream",
          "name": "stdout",
          "text": [
            "Y Rows: y_train= 7200, y_test= 2000, y_val= 800\n"
          ]
        }
      ]
    },
    {
      "cell_type": "markdown",
      "metadata": {
        "id": "jmP5sMoPEWzb"
      },
      "source": [
        "### Scaling de datos"
      ]
    },
    {
      "cell_type": "code",
      "metadata": {
        "id": "T0UbtHjGEad7"
      },
      "source": [
        "from sklearn.preprocessing import StandardScaler"
      ],
      "execution_count": 20,
      "outputs": []
    },
    {
      "cell_type": "code",
      "metadata": {
        "id": "WIeyPnw1EfP8"
      },
      "source": [
        "scaler = StandardScaler()\n",
        "x_train = scaler.fit_transform(x_train)\n",
        "x_test = scaler.fit_transform(x_test)\n",
        "x_val = scaler.fit_transform(x_val)"
      ],
      "execution_count": 21,
      "outputs": []
    },
    {
      "cell_type": "markdown",
      "metadata": {
        "id": "Usu8S27XF-h0"
      },
      "source": [
        "## Red neuronal feed forward (FFNN)"
      ]
    },
    {
      "cell_type": "markdown",
      "metadata": {
        "id": "5GltR83TGJYy"
      },
      "source": [
        "#### Importar Tensorflow y Keras"
      ]
    },
    {
      "cell_type": "code",
      "metadata": {
        "id": "GySJQzy8GMsC"
      },
      "source": [
        "import tensorflow as tf\n",
        "from tensorflow import keras\n",
        "from keras.models import Sequential\n",
        "from keras.layers import Dense\n",
        "from keras.layers import Flatten\n",
        "from keras import metrics\n",
        "from keras.layers import BatchNormalization"
      ],
      "execution_count": 23,
      "outputs": []
    },
    {
      "cell_type": "markdown",
      "metadata": {
        "id": "pOKz1owJGdoC"
      },
      "source": [
        "### Definición de la arquitectura"
      ]
    },
    {
      "cell_type": "code",
      "metadata": {
        "id": "U5hyA7N9GYxz"
      },
      "source": [
        "initializer = tf.keras.initializers.GlorotNormal()\n",
        "\n",
        "ffnn = Sequential([Flatten(), \n",
        "                   Dense(units=512, activation='relu', kernel_initializer=initializer),\n",
        "                   BatchNormalization(),\n",
        "                   Dense(units=256, activation='relu',kernel_initializer=initializer),\n",
        "                   BatchNormalization(),\n",
        "                   Dense(units=1, activation='sigmoid'),\n",
        "])"
      ],
      "execution_count": 24,
      "outputs": []
    },
    {
      "cell_type": "markdown",
      "metadata": {
        "id": "uIk2c9i7HEnU"
      },
      "source": [
        "### Parámetros de optimización"
      ]
    },
    {
      "cell_type": "code",
      "metadata": {
        "id": "27bqCI6tHIU0"
      },
      "source": [
        "ffnn.compile(optimizer = 'adam', \n",
        "            loss = tf.keras.losses.BinaryCrossentropy(from_logits=False), \n",
        "            metrics = ['accuracy',\n",
        "                       tf.keras.metrics.BinaryAccuracy(),\n",
        "                       tf.keras.metrics.Precision(),\n",
        "                       tf.keras.metrics.Recall()])"
      ],
      "execution_count": 26,
      "outputs": []
    },
    {
      "cell_type": "markdown",
      "metadata": {
        "id": "8NjR12UZHmPD"
      },
      "source": [
        "### Entrenamiento, validación y evaluación\n",
        "\n",
        "Creamos una función que entrena la red neuronal de acuerdo a los parámetros epochs, step_per_epoch, batch_size; luego valida los resultados en el dataset de validación, guarda el modelo en un directorio y finalmente evalúa la red en los datos de prueba devolviendo un dataframe con el nombre del modelo y los resultados de las métricas en el dataset de pruebas.\n",
        "\n",
        "Internamente, la función también crea un checkpoint de los mejores steps del modelo y los guarda en un directorio a través de un callback. "
      ]
    },
    {
      "cell_type": "code",
      "metadata": {
        "id": "MRA9BNIMNgoq"
      },
      "source": [
        "def train_val(epochs, steps_per_epoch, batch_size, verbose):\n",
        "  # Definición de Callbacks\n",
        "  model_checkpoint =  tf.keras.callbacks.ModelCheckpoint(\n",
        "      filepath = '/content/drive/MyDrive/Colab Notebooks/Proyecto Final SL2/Parte1_FFNN/Checkpoints/checkpoint_e-{epoch:02d}_-val_acc-{val_accuracy:.2f}.h5',\n",
        "      save_weights_only=False,\n",
        "      monitor='val_accuracy',\n",
        "      mode='max',\n",
        "      save_best_only=True,\n",
        "      save_freq='epoch',\n",
        "      verbose=verbose)\n",
        "  \n",
        "  myCallbacks = [model_checkpoint]\n",
        "\n",
        "  # Entrenamiento y validación de la red\n",
        "  ffnn.fit(x_train, y_train, \n",
        "          epochs=epochs,\n",
        "          batch_size = batch_size,\n",
        "          steps_per_epoch=steps_per_epoch,\n",
        "          validation_data = (x_val, y_val),\n",
        "          verbose = verbose,\n",
        "          callbacks=myCallbacks\n",
        "          )\n",
        "\n",
        "  # Guardar el modelo con el timestamp de ejecución\n",
        "  timestamp = time.strftime('%Y%m%d_%H%M%S', time.localtime(time.time()))\n",
        "  ffnn.save('/content/drive/MyDrive/Colab Notebooks/Proyecto Final SL2/Parte1_FFNN/Models/ffnn_'+str(timestamp)+'_bs='+str(batch_size)+'.h5')\n",
        "\n",
        "  # Generar dataframe con métricas de evaluación del modelo\n",
        "  model_name = 'ffnn_'+str(timestamp)+'_bs='+str(batch_size)+'_ep='+str(epochs)+'_spe='+str(steps_per_epoch)\n",
        "\n",
        "  bitacora = pd.DataFrame(np.hstack((model_name,np.array(ffnn.evaluate(x_test, y_test, verbose=0)))).reshape(1,6), \n",
        "                          columns = ['name','loss','accuracy','binary_accuracy','precision','recall'])\n",
        "  \n",
        "  bitacora['f1_score'] = 2*(float(bitacora['precision'])*float(bitacora['recall']))/(float(bitacora['precision'])+float(bitacora['recall']))\n",
        "\n",
        "  return bitacora"
      ],
      "execution_count": 27,
      "outputs": []
    },
    {
      "cell_type": "code",
      "metadata": {
        "colab": {
          "base_uri": "https://localhost:8080/",
          "height": 436
        },
        "id": "NJA_LlzR711o",
        "outputId": "c572ed7e-d079-4e11-e65e-ede607855601"
      },
      "source": [
        "train_val(epochs=5, steps_per_epoch=5, batch_size=2, verbose=1)"
      ],
      "execution_count": 28,
      "outputs": [
        {
          "output_type": "stream",
          "name": "stdout",
          "text": [
            "Epoch 1/5\n",
            "5/5 [==============================] - 6s 375ms/step - loss: 1.0815 - accuracy: 0.5000 - binary_accuracy: 0.5000 - precision: 0.2000 - recall: 0.5000 - val_loss: 0.6652 - val_accuracy: 0.6275 - val_binary_accuracy: 0.6275 - val_precision: 0.2625 - val_recall: 0.5097\n",
            "\n",
            "Epoch 00001: val_accuracy improved from -inf to 0.62750, saving model to /content/drive/MyDrive/Colab Notebooks/Proyecto Final SL2/Parte1_FFNN/Checkpoints/checkpoint_e-01_-val_acc-0.63.h5\n",
            "Epoch 2/5\n",
            "5/5 [==============================] - 1s 272ms/step - loss: 0.4952 - accuracy: 0.8000 - binary_accuracy: 0.8000 - precision: 0.6000 - recall: 1.0000 - val_loss: 0.6527 - val_accuracy: 0.6288 - val_binary_accuracy: 0.6288 - val_precision: 0.2861 - val_recall: 0.6129\n",
            "\n",
            "Epoch 00002: val_accuracy improved from 0.62750 to 0.62875, saving model to /content/drive/MyDrive/Colab Notebooks/Proyecto Final SL2/Parte1_FFNN/Checkpoints/checkpoint_e-02_-val_acc-0.63.h5\n",
            "Epoch 3/5\n",
            "5/5 [==============================] - 1s 326ms/step - loss: 1.1974 - accuracy: 0.3000 - binary_accuracy: 0.3000 - precision: 0.0000e+00 - recall: 0.0000e+00 - val_loss: 0.6435 - val_accuracy: 0.6513 - val_binary_accuracy: 0.6513 - val_precision: 0.2933 - val_recall: 0.5677\n",
            "\n",
            "Epoch 00003: val_accuracy improved from 0.62875 to 0.65125, saving model to /content/drive/MyDrive/Colab Notebooks/Proyecto Final SL2/Parte1_FFNN/Checkpoints/checkpoint_e-03_-val_acc-0.65.h5\n",
            "Epoch 4/5\n",
            "5/5 [==============================] - 1s 275ms/step - loss: 0.8372 - accuracy: 0.7000 - binary_accuracy: 0.7000 - precision: 0.2500 - recall: 1.0000 - val_loss: 0.6453 - val_accuracy: 0.6288 - val_binary_accuracy: 0.6288 - val_precision: 0.2601 - val_recall: 0.4968\n",
            "\n",
            "Epoch 00004: val_accuracy did not improve from 0.65125\n",
            "Epoch 5/5\n",
            "5/5 [==============================] - 1s 326ms/step - loss: 1.0300 - accuracy: 0.7000 - binary_accuracy: 0.7000 - precision: 0.4000 - recall: 1.0000 - val_loss: 0.6326 - val_accuracy: 0.6513 - val_binary_accuracy: 0.6513 - val_precision: 0.2634 - val_recall: 0.4452\n",
            "\n",
            "Epoch 00005: val_accuracy did not improve from 0.65125\n"
          ]
        },
        {
          "output_type": "execute_result",
          "data": {
            "text/html": [
              "<div>\n",
              "<style scoped>\n",
              "    .dataframe tbody tr th:only-of-type {\n",
              "        vertical-align: middle;\n",
              "    }\n",
              "\n",
              "    .dataframe tbody tr th {\n",
              "        vertical-align: top;\n",
              "    }\n",
              "\n",
              "    .dataframe thead th {\n",
              "        text-align: right;\n",
              "    }\n",
              "</style>\n",
              "<table border=\"1\" class=\"dataframe\">\n",
              "  <thead>\n",
              "    <tr style=\"text-align: right;\">\n",
              "      <th></th>\n",
              "      <th>name</th>\n",
              "      <th>loss</th>\n",
              "      <th>accuracy</th>\n",
              "      <th>binary_accuracy</th>\n",
              "      <th>precision</th>\n",
              "      <th>recall</th>\n",
              "      <th>f1_score</th>\n",
              "    </tr>\n",
              "  </thead>\n",
              "  <tbody>\n",
              "    <tr>\n",
              "      <th>0</th>\n",
              "      <td>ffnn_20210923_215115_bs=2_ep=5_spe=5</td>\n",
              "      <td>0.6474273800849915</td>\n",
              "      <td>0.6119999885559082</td>\n",
              "      <td>0.6119999885559082</td>\n",
              "      <td>0.22900763154029846</td>\n",
              "      <td>0.35629454255104065</td>\n",
              "      <td>0.27881</td>\n",
              "    </tr>\n",
              "  </tbody>\n",
              "</table>\n",
              "</div>"
            ],
            "text/plain": [
              "                                   name  ... f1_score\n",
              "0  ffnn_20210923_215115_bs=2_ep=5_spe=5  ...  0.27881\n",
              "\n",
              "[1 rows x 7 columns]"
            ]
          },
          "metadata": {},
          "execution_count": 28
        }
      ]
    },
    {
      "cell_type": "markdown",
      "metadata": {
        "id": "hMWrEy5H8nJb"
      },
      "source": [
        "Entrenamos varios modelos (5 experimentos):"
      ]
    },
    {
      "cell_type": "code",
      "metadata": {
        "id": "KVhrNJOjTZ40"
      },
      "source": [
        "ffnn1 = train_val(epochs=100, steps_per_epoch=20, batch_size=2, verbose=0)\n",
        "ffnn2 = train_val(epochs=100, steps_per_epoch=40, batch_size=4, verbose=0)\n",
        "ffnn3 = train_val(epochs=100, steps_per_epoch=60, batch_size=32, verbose=0)\n",
        "ffnn4 = train_val(epochs=100, steps_per_epoch=20, batch_size=16, verbose=0)\n",
        "ffnn5 = train_val(epochs=100, steps_per_epoch=40, batch_size=2, verbose=0)"
      ],
      "execution_count": 29,
      "outputs": []
    },
    {
      "cell_type": "markdown",
      "metadata": {
        "id": "bkeoJPro8uVY"
      },
      "source": [
        "Concatenamos todos los resultados para poder compararlos en un dataframe final:"
      ]
    },
    {
      "cell_type": "code",
      "metadata": {
        "colab": {
          "base_uri": "https://localhost:8080/",
          "height": 223
        },
        "id": "l8ADGa8WXLse",
        "outputId": "ceabc9bd-f1fd-4dcf-e339-60f7c017cb43"
      },
      "source": [
        "resumen = pd.concat([ffnn1,ffnn2, ffnn3, ffnn4, ffnn5], ignore_index = True)\n",
        "resumen"
      ],
      "execution_count": 30,
      "outputs": [
        {
          "output_type": "execute_result",
          "data": {
            "text/html": [
              "<div>\n",
              "<style scoped>\n",
              "    .dataframe tbody tr th:only-of-type {\n",
              "        vertical-align: middle;\n",
              "    }\n",
              "\n",
              "    .dataframe tbody tr th {\n",
              "        vertical-align: top;\n",
              "    }\n",
              "\n",
              "    .dataframe thead th {\n",
              "        text-align: right;\n",
              "    }\n",
              "</style>\n",
              "<table border=\"1\" class=\"dataframe\">\n",
              "  <thead>\n",
              "    <tr style=\"text-align: right;\">\n",
              "      <th></th>\n",
              "      <th>name</th>\n",
              "      <th>loss</th>\n",
              "      <th>accuracy</th>\n",
              "      <th>binary_accuracy</th>\n",
              "      <th>precision</th>\n",
              "      <th>recall</th>\n",
              "      <th>f1_score</th>\n",
              "    </tr>\n",
              "  </thead>\n",
              "  <tbody>\n",
              "    <tr>\n",
              "      <th>0</th>\n",
              "      <td>ffnn_20210923_215412_bs=2_ep=100_spe=20</td>\n",
              "      <td>0.565550684928894</td>\n",
              "      <td>0.7680000066757202</td>\n",
              "      <td>0.7680000066757202</td>\n",
              "      <td>0.45057472586631775</td>\n",
              "      <td>0.4655582010746002</td>\n",
              "      <td>0.457944</td>\n",
              "    </tr>\n",
              "    <tr>\n",
              "      <th>1</th>\n",
              "      <td>ffnn_20210923_215635_bs=4_ep=100_spe=40</td>\n",
              "      <td>0.4121256172657013</td>\n",
              "      <td>0.828000009059906</td>\n",
              "      <td>0.828000009059906</td>\n",
              "      <td>0.6711111068725586</td>\n",
              "      <td>0.35866984724998474</td>\n",
              "      <td>0.467492</td>\n",
              "    </tr>\n",
              "    <tr>\n",
              "      <th>2</th>\n",
              "      <td>ffnn_20210923_215724_bs=32_ep=100_spe=60</td>\n",
              "      <td>0.37255480885505676</td>\n",
              "      <td>0.847000002861023</td>\n",
              "      <td>0.847000002861023</td>\n",
              "      <td>0.6619718074798584</td>\n",
              "      <td>0.5581947565078735</td>\n",
              "      <td>0.605670</td>\n",
              "    </tr>\n",
              "    <tr>\n",
              "      <th>3</th>\n",
              "      <td>ffnn_20210923_215805_bs=16_ep=100_spe=20</td>\n",
              "      <td>0.3760450780391693</td>\n",
              "      <td>0.8554999828338623</td>\n",
              "      <td>0.8554999828338623</td>\n",
              "      <td>0.7598425149917603</td>\n",
              "      <td>0.45843231678009033</td>\n",
              "      <td>0.571852</td>\n",
              "    </tr>\n",
              "    <tr>\n",
              "      <th>4</th>\n",
              "      <td>ffnn_20210923_220027_bs=2_ep=100_spe=40</td>\n",
              "      <td>1.1485934257507324</td>\n",
              "      <td>0.8209999799728394</td>\n",
              "      <td>0.8209999799728394</td>\n",
              "      <td>0.931506872177124</td>\n",
              "      <td>0.16152018308639526</td>\n",
              "      <td>0.275304</td>\n",
              "    </tr>\n",
              "  </tbody>\n",
              "</table>\n",
              "</div>"
            ],
            "text/plain": [
              "                                       name  ...  f1_score\n",
              "0   ffnn_20210923_215412_bs=2_ep=100_spe=20  ...  0.457944\n",
              "1   ffnn_20210923_215635_bs=4_ep=100_spe=40  ...  0.467492\n",
              "2  ffnn_20210923_215724_bs=32_ep=100_spe=60  ...  0.605670\n",
              "3  ffnn_20210923_215805_bs=16_ep=100_spe=20  ...  0.571852\n",
              "4   ffnn_20210923_220027_bs=2_ep=100_spe=40  ...  0.275304\n",
              "\n",
              "[5 rows x 7 columns]"
            ]
          },
          "metadata": {},
          "execution_count": 30
        }
      ]
    },
    {
      "cell_type": "markdown",
      "metadata": {
        "id": "I8XIqenC0GLB"
      },
      "source": [
        "### Selección"
      ]
    },
    {
      "cell_type": "markdown",
      "metadata": {
        "id": "f6EZ2oqL-xui"
      },
      "source": [
        "También es posible y más recomendable en caso de modelos que toman más tiempo en el entrenamiento, cargar los modelos entrenados y evaluarlos a continuación."
      ]
    },
    {
      "cell_type": "markdown",
      "metadata": {
        "id": "rgolwSCosUR4"
      },
      "source": [
        "Cargamos los modelos (deployment):"
      ]
    },
    {
      "cell_type": "code",
      "metadata": {
        "id": "s4zWT5V_rceZ"
      },
      "source": [
        "exp1 = tf.keras.models.load_model('/content/drive/MyDrive/Colab Notebooks/Proyecto Final SL2/Parte1_FFNN/Models/ffnn_20210923_215412_bs=2.h5')\n",
        "exp2 = tf.keras.models.load_model('/content/drive/MyDrive/Colab Notebooks/Proyecto Final SL2/Parte1_FFNN/Models/ffnn_20210923_215635_bs=4.h5')\n",
        "exp3 = tf.keras.models.load_model('/content/drive/MyDrive/Colab Notebooks/Proyecto Final SL2/Parte1_FFNN/Models/ffnn_20210923_215724_bs=32.h5')\n",
        "exp4 = tf.keras.models.load_model('/content/drive/MyDrive/Colab Notebooks/Proyecto Final SL2/Parte1_FFNN/Models/ffnn_20210923_215805_bs=16.h5')\n",
        "exp5 = tf.keras.models.load_model('/content/drive/MyDrive/Colab Notebooks/Proyecto Final SL2/Parte1_FFNN/Models/ffnn_20210923_220027_bs=2.h5')"
      ],
      "execution_count": 31,
      "outputs": []
    },
    {
      "cell_type": "markdown",
      "metadata": {
        "id": "8DcLwP0EsWho"
      },
      "source": [
        "Y los evaluamos en el dataset de pruebas:"
      ]
    },
    {
      "cell_type": "code",
      "metadata": {
        "id": "Vqv8WuftsGN4"
      },
      "source": [
        "met1 = pd.DataFrame(np.array(exp1.evaluate(x_test,y_test, verbose=0)).reshape(1,5))\n",
        "met2 = pd.DataFrame(np.array(exp2.evaluate(x_test,y_test, verbose=0)).reshape(1,5))\n",
        "met3 = pd.DataFrame(np.array(exp3.evaluate(x_test,y_test, verbose=0)).reshape(1,5))\n",
        "met4 = pd.DataFrame(np.array(exp4.evaluate(x_test,y_test, verbose=0)).reshape(1,5))\n",
        "met5 = pd.DataFrame(np.array(exp5.evaluate(x_test,y_test, verbose=0)).reshape(1,5))"
      ],
      "execution_count": 32,
      "outputs": []
    },
    {
      "cell_type": "markdown",
      "metadata": {
        "id": "IYoLbKPYsZ5f"
      },
      "source": [
        "Obtenemos las métricas y las almacenamos en un dataframe:"
      ]
    },
    {
      "cell_type": "code",
      "metadata": {
        "colab": {
          "base_uri": "https://localhost:8080/",
          "height": 203
        },
        "id": "Z_NegQkksIzf",
        "outputId": "64307020-f0b1-4560-ff8c-82a996a15f24"
      },
      "source": [
        "metricas = pd.concat([met1,met2,met3,met4,met5], ignore_index=True)\n",
        "metricas.columns = ['loss','accuracy','binary_accuracy','precision','recall']\n",
        "metricas['f1_score'] = (2.0*metricas['precision']*metricas['recall'])/(metricas['precision']+metricas['recall'])\n",
        "metricas"
      ],
      "execution_count": 42,
      "outputs": [
        {
          "output_type": "execute_result",
          "data": {
            "text/html": [
              "<div>\n",
              "<style scoped>\n",
              "    .dataframe tbody tr th:only-of-type {\n",
              "        vertical-align: middle;\n",
              "    }\n",
              "\n",
              "    .dataframe tbody tr th {\n",
              "        vertical-align: top;\n",
              "    }\n",
              "\n",
              "    .dataframe thead th {\n",
              "        text-align: right;\n",
              "    }\n",
              "</style>\n",
              "<table border=\"1\" class=\"dataframe\">\n",
              "  <thead>\n",
              "    <tr style=\"text-align: right;\">\n",
              "      <th></th>\n",
              "      <th>loss</th>\n",
              "      <th>accuracy</th>\n",
              "      <th>binary_accuracy</th>\n",
              "      <th>precision</th>\n",
              "      <th>recall</th>\n",
              "      <th>f1_score</th>\n",
              "    </tr>\n",
              "  </thead>\n",
              "  <tbody>\n",
              "    <tr>\n",
              "      <th>0</th>\n",
              "      <td>0.565551</td>\n",
              "      <td>0.7680</td>\n",
              "      <td>0.7680</td>\n",
              "      <td>0.450575</td>\n",
              "      <td>0.465558</td>\n",
              "      <td>0.457944</td>\n",
              "    </tr>\n",
              "    <tr>\n",
              "      <th>1</th>\n",
              "      <td>0.412126</td>\n",
              "      <td>0.8280</td>\n",
              "      <td>0.8280</td>\n",
              "      <td>0.671111</td>\n",
              "      <td>0.358670</td>\n",
              "      <td>0.467492</td>\n",
              "    </tr>\n",
              "    <tr>\n",
              "      <th>2</th>\n",
              "      <td>0.372555</td>\n",
              "      <td>0.8470</td>\n",
              "      <td>0.8470</td>\n",
              "      <td>0.661972</td>\n",
              "      <td>0.558195</td>\n",
              "      <td>0.605670</td>\n",
              "    </tr>\n",
              "    <tr>\n",
              "      <th>3</th>\n",
              "      <td>0.376045</td>\n",
              "      <td>0.8555</td>\n",
              "      <td>0.8555</td>\n",
              "      <td>0.759843</td>\n",
              "      <td>0.458432</td>\n",
              "      <td>0.571852</td>\n",
              "    </tr>\n",
              "    <tr>\n",
              "      <th>4</th>\n",
              "      <td>1.148593</td>\n",
              "      <td>0.8210</td>\n",
              "      <td>0.8210</td>\n",
              "      <td>0.931507</td>\n",
              "      <td>0.161520</td>\n",
              "      <td>0.275304</td>\n",
              "    </tr>\n",
              "  </tbody>\n",
              "</table>\n",
              "</div>"
            ],
            "text/plain": [
              "       loss  accuracy  binary_accuracy  precision    recall  f1_score\n",
              "0  0.565551    0.7680           0.7680   0.450575  0.465558  0.457944\n",
              "1  0.412126    0.8280           0.8280   0.671111  0.358670  0.467492\n",
              "2  0.372555    0.8470           0.8470   0.661972  0.558195  0.605670\n",
              "3  0.376045    0.8555           0.8555   0.759843  0.458432  0.571852\n",
              "4  1.148593    0.8210           0.8210   0.931507  0.161520  0.275304"
            ]
          },
          "metadata": {},
          "execution_count": 42
        }
      ]
    },
    {
      "cell_type": "markdown",
      "metadata": {
        "id": "h8cm0qjrzyPD"
      },
      "source": [
        "El mejor modelo corresponde al experimento 4 entrenando la red neuronal con 100 epochs, 20 pasos por epoch y un batch size de 16."
      ]
    },
    {
      "cell_type": "markdown",
      "metadata": {
        "id": "jg6QZaui193q"
      },
      "source": [
        "## Anexos"
      ]
    },
    {
      "cell_type": "markdown",
      "metadata": {
        "id": "p1jG_NnJ2PsX"
      },
      "source": [
        "Captura de pantalla de los checkpoints generados y guardados:"
      ]
    },
    {
      "cell_type": "markdown",
      "metadata": {
        "id": "9JKl6lYd2BFR"
      },
      "source": [
        "![image.png](data:image/png;base64,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)"
      ]
    }
  ]
}