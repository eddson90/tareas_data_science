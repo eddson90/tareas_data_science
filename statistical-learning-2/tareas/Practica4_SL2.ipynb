{
  "nbformat": 4,
  "nbformat_minor": 0,
  "metadata": {
    "colab": {
      "name": "Practica4_SL2.ipynb",
      "provenance": [],
      "collapsed_sections": [],
      "toc_visible": true
    },
    "kernelspec": {
      "name": "python3",
      "display_name": "Python 3"
    },
    "language_info": {
      "name": "python"
    }
  },
  "cells": [
    {
      "cell_type": "markdown",
      "metadata": {
        "id": "RccPYS74x5t7"
      },
      "source": [
        "# **Práctica 4: Back Propagation**\n",
        "\n",
        "Statistical Learning II\n",
        "\n",
        "Eddson Sierra"
      ]
    },
    {
      "cell_type": "code",
      "metadata": {
        "id": "VnHADmXBjVRp"
      },
      "source": [
        "import numpy as np\n",
        "import matplotlib.pyplot as plt\n",
        "import seaborn as sns\n",
        "from matplotlib.colors import ListedColormap"
      ],
      "execution_count": 101,
      "outputs": []
    },
    {
      "cell_type": "markdown",
      "metadata": {
        "id": "iyb4wi_sx4vs"
      },
      "source": [
        "### **1. Datos de entrada y etiquetas**"
      ]
    },
    {
      "cell_type": "code",
      "metadata": {
        "id": "cdPr4YhXjyUJ"
      },
      "source": [
        "X = np.array([[0, 0],\n",
        "              [0, 1],\n",
        "              [1, 0],\n",
        "              [0, 0]])"
      ],
      "execution_count": 22,
      "outputs": []
    },
    {
      "cell_type": "code",
      "metadata": {
        "colab": {
          "base_uri": "https://localhost:8080/"
        },
        "id": "a5EDg3rawLGx",
        "outputId": "2aa362c7-6290-4fa0-d84b-b90d5d01b16d"
      },
      "source": [
        "Y = np.array([0,1,1,0]).reshape(4,1)\n",
        "Y"
      ],
      "execution_count": 23,
      "outputs": [
        {
          "output_type": "execute_result",
          "data": {
            "text/plain": [
              "array([[0],\n",
              "       [1],\n",
              "       [1],\n",
              "       [0]])"
            ]
          },
          "metadata": {},
          "execution_count": 23
        }
      ]
    },
    {
      "cell_type": "markdown",
      "metadata": {
        "id": "7MjDOs8JxwkF"
      },
      "source": [
        "## **2. Forward propagation**"
      ]
    },
    {
      "cell_type": "markdown",
      "metadata": {
        "id": "3k1JVCW_yN3f"
      },
      "source": [
        "### Función de activación"
      ]
    },
    {
      "cell_type": "code",
      "metadata": {
        "id": "R57CiD_-p9sX"
      },
      "source": [
        "def relu(x):\n",
        "  return np.maximum(0,x)"
      ],
      "execution_count": 24,
      "outputs": []
    },
    {
      "cell_type": "code",
      "metadata": {
        "id": "ep5fCXNlw9cT"
      },
      "source": [
        "def identidad(x):\n",
        "  return x"
      ],
      "execution_count": 25,
      "outputs": []
    },
    {
      "cell_type": "markdown",
      "metadata": {
        "id": "bw_Fr_i7yVab"
      },
      "source": [
        "### Inicialización aleatoria de parámetros"
      ]
    },
    {
      "cell_type": "markdown",
      "metadata": {
        "id": "IIAMaHcevQ_5"
      },
      "source": [
        "Inicializando las matrices de pesos de forma aleatoria con distribucion normal centrada en 0 y desviacion estandar de 0.1:"
      ]
    },
    {
      "cell_type": "code",
      "metadata": {
        "id": "Ins0guAUurXV"
      },
      "source": [
        "def init_parametros():\n",
        "  W1 = np.random.normal(loc=0,scale=0.1,size=(2,2))\n",
        "  W2 = np.random.normal(loc=0,scale=0.1,size=(2,2))\n",
        "  W3 = np.random.normal(loc=0,scale=0.1,size=(2,1))\n",
        "  return W1, W2, W3"
      ],
      "execution_count": 26,
      "outputs": []
    },
    {
      "cell_type": "code",
      "metadata": {
        "colab": {
          "base_uri": "https://localhost:8080/"
        },
        "id": "CdR_CcVBVHl3",
        "outputId": "3bb00a65-8b5b-43a9-e85b-8c0d75b32085"
      },
      "source": [
        "W1, W2, W3 = init_parametros()\n",
        "W1, W2, W3"
      ],
      "execution_count": 27,
      "outputs": [
        {
          "output_type": "execute_result",
          "data": {
            "text/plain": [
              "(array([[-0.1079738 ,  0.02943851],\n",
              "        [-0.11803567,  0.02628045]]), array([[-0.11367847, -0.01930687],\n",
              "        [ 0.06064197,  0.13014866]]), array([[ 0.10788427],\n",
              "        [-0.09834711]]))"
            ]
          },
          "metadata": {},
          "execution_count": 27
        }
      ]
    },
    {
      "cell_type": "markdown",
      "metadata": {
        "id": "1Wirb5H6A8uC"
      },
      "source": [
        "Con los parámetros inicializados y la función de activación podemos crear una función para forward propagation:"
      ]
    },
    {
      "cell_type": "code",
      "metadata": {
        "id": "k4G86qeU_glm"
      },
      "source": [
        "def forward_prop(x,w1,w2,w3):\n",
        "  # Primera Capa Oculta\n",
        "  z1 = np.matmul(x,w1)\n",
        "  a1 = relu(z1)\n",
        "\n",
        "  # Segunda Capa Oculta\n",
        "  z2 = np.matmul(a1,w2)\n",
        "  a2 = relu(z2) # Representacion intermedia de la segunda capa oculta\n",
        "\n",
        "  # Salida sin activacion\n",
        "  zout = np.matmul(a2,w3)\n",
        "  aout = identidad(zout)\n",
        "\n",
        "  return z1, a1, z2, a2, zout, aout"
      ],
      "execution_count": 28,
      "outputs": []
    },
    {
      "cell_type": "markdown",
      "metadata": {
        "id": "ShEYT7kCBEUo"
      },
      "source": [
        "Calculamos la salida:"
      ]
    },
    {
      "cell_type": "code",
      "metadata": {
        "colab": {
          "base_uri": "https://localhost:8080/"
        },
        "id": "7wozSQMBvmoQ",
        "outputId": "0e9912cd-ac3a-4236-a081-b884e6924562"
      },
      "source": [
        "Z1, A1, Z2, A2, Zout, Aout = forward_prop(X,W1,W2,W3)\n",
        "Aout"
      ],
      "execution_count": 29,
      "outputs": [
        {
          "output_type": "execute_result",
          "data": {
            "text/plain": [
              "array([[ 0.        ],\n",
              "       [-0.00016445],\n",
              "       [-0.00018421],\n",
              "       [ 0.        ]])"
            ]
          },
          "metadata": {},
          "execution_count": 29
        }
      ]
    },
    {
      "cell_type": "markdown",
      "metadata": {
        "id": "2WlShyHOyeyj"
      },
      "source": [
        "## **3. Back Propagation**"
      ]
    },
    {
      "cell_type": "markdown",
      "metadata": {
        "id": "6T-IT99l9G5Y"
      },
      "source": [
        "### Función de costo"
      ]
    },
    {
      "cell_type": "code",
      "metadata": {
        "id": "pgvtg8Iv9MjA"
      },
      "source": [
        "def mse(y,y_hat):\n",
        "  return 1/2*np.mean(np.power(y_hat-y,2))"
      ],
      "execution_count": 30,
      "outputs": []
    },
    {
      "cell_type": "code",
      "metadata": {
        "colab": {
          "base_uri": "https://localhost:8080/"
        },
        "id": "TTzeZjyh9xpP",
        "outputId": "47451f04-1ca8-4946-d190-01a9704c1c01"
      },
      "source": [
        "mse(Y,Aout)"
      ],
      "execution_count": 31,
      "outputs": [
        {
          "output_type": "execute_result",
          "data": {
            "text/plain": [
              "0.25008717197094105"
            ]
          },
          "metadata": {},
          "execution_count": 31
        }
      ]
    },
    {
      "cell_type": "markdown",
      "metadata": {
        "id": "hP0bPhU-BMVY"
      },
      "source": [
        "### Derivada de la función de activación"
      ]
    },
    {
      "cell_type": "code",
      "metadata": {
        "id": "wToAEp6tygyP"
      },
      "source": [
        "def relu_prima(x):\n",
        "  x[x<0] = 0\n",
        "  x[x>0] =1\n",
        "  return x"
      ],
      "execution_count": 32,
      "outputs": []
    },
    {
      "cell_type": "code",
      "metadata": {
        "id": "wFRPxixyxReM"
      },
      "source": [
        "def identidad_prima(x):\n",
        "  return 1"
      ],
      "execution_count": 33,
      "outputs": []
    },
    {
      "cell_type": "markdown",
      "metadata": {
        "id": "KjWEAzFY2Br9"
      },
      "source": [
        "Creamos una función que propaga el error hacia las entradas y calcula las derivadas del costo respecto a los parámetros:"
      ]
    },
    {
      "cell_type": "code",
      "metadata": {
        "id": "9dkSxY8JwDAF"
      },
      "source": [
        "def backward_prop(z1, a1, z2, a2, zout, aout, w1, w2, w3, x, y):\n",
        "  # terminos de error\n",
        "  delta = aout - y\n",
        "  te3 = delta*identidad_prima(zout)\n",
        "  te2 = np.matmul(te3,w3.T)*relu_prima(z2)\n",
        "  te1 = np.matmul(te2,w2.T)*relu_prima(z1)\n",
        "\n",
        "  # derivada del costo respecto a los parametros\n",
        "  dCw3 = np.matmul(a2.T, te3)\n",
        "  dCw2 = np.matmul(a1.T, te2)\n",
        "  dCw1 = np.matmul(x.T, te1)\n",
        "\n",
        "  return dCw1, dCw2, dCw3"
      ],
      "execution_count": 34,
      "outputs": []
    },
    {
      "cell_type": "code",
      "metadata": {
        "id": "SYePVI5E0DEG"
      },
      "source": [
        "dCW1, dCW2, dCW3 = backward_prop(Z1, A1, Z2, A2, Zout, Aout, W1, W2, W3, X, Y)"
      ],
      "execution_count": 35,
      "outputs": []
    },
    {
      "cell_type": "markdown",
      "metadata": {
        "id": "riWPMU3vI29W"
      },
      "source": [
        "### Actualización de los pesos"
      ]
    },
    {
      "cell_type": "code",
      "metadata": {
        "id": "jUsKIdRDI2H9"
      },
      "source": [
        "def update_parametros(lr, w1, w2, w3, dCw1, dCw2, dCw3):\n",
        "  w1 = w1 - lr*dCw1\n",
        "  w2 = w2 - lr*dCw2\n",
        "  w3 = w3 - lr*dCw3\n",
        "\n",
        "  return w1, w2, w3"
      ],
      "execution_count": 36,
      "outputs": []
    },
    {
      "cell_type": "code",
      "metadata": {
        "id": "mPewaTJr2crL"
      },
      "source": [
        "W1, W2, W3 = update_parametros(0.001, W1, W2, W3, dCW1, dCW2, dCW3)"
      ],
      "execution_count": 37,
      "outputs": []
    },
    {
      "cell_type": "markdown",
      "metadata": {
        "id": "lY8NzUu73ye2"
      },
      "source": [
        "## **4. Unir todo**"
      ]
    },
    {
      "cell_type": "code",
      "metadata": {
        "id": "EofHmtsO31X9"
      },
      "source": [
        "def entrenar_modelo(x,y,epochs,learning_rate, verbose):\n",
        "  \n",
        "  w1, w2, w3 = init_parametros()\n",
        "\n",
        "  losses = []\n",
        "\n",
        "  for epoch in range(epochs):\n",
        "    z1, a1, z2, a2, zout, aout = forward_prop(x,w1,w2,w3)\n",
        "    loss = mse(y,aout)\n",
        "    if verbose == 1:\n",
        "\n",
        "      print('Epoch:{}--->, Salida XOR:{}{}{}{}, loss:{}\\n'.format(epoch,\n",
        "                                                      aout[0],aout[1],aout[2],aout[3],\n",
        "                                                      loss))\n",
        "    elif verbose == 0:\n",
        "      continue\n",
        "    losses.append(loss)\n",
        "    dCw1, dCw2, dCw3 = backward_prop(z1, a1, z2, a2, zout, aout, w1, w2, w3, x, y)\n",
        "    w1, w2, w3 = update_parametros(learning_rate, w1, w2, w3, dCw1, dCw2, dCw3)\n",
        "\n",
        "  #print('Representacion intermedia de la segunda capa oculta -->')  \n",
        "  return a2"
      ],
      "execution_count": 90,
      "outputs": []
    },
    {
      "cell_type": "code",
      "metadata": {
        "colab": {
          "base_uri": "https://localhost:8080/"
        },
        "id": "hltsmRIV5RBn",
        "outputId": "a4e2667c-79a1-4553-e222-b6c09fe13eaf"
      },
      "source": [
        "entrenar_modelo(X,Y,10,0.1,verbose=1)"
      ],
      "execution_count": 120,
      "outputs": [
        {
          "output_type": "stream",
          "name": "stdout",
          "text": [
            "Epoch:0--->, Salida XOR:[0.][-0.00743503][-0.00273166][0.], loss:0.25254951566364814\n",
            "\n",
            "Epoch:1--->, Salida XOR:[0.][-0.00686769][-0.00240848][0.], loss:0.2523256649219111\n",
            "\n",
            "Epoch:2--->, Salida XOR:[0.][-0.0063573][-0.00212322][0.], loss:0.2521257439238382\n",
            "\n",
            "Epoch:3--->, Salida XOR:[0.][-0.00589659][-0.00187068][0.], loss:0.2519466010161706\n",
            "\n",
            "Epoch:4--->, Salida XOR:[0.][-0.00547943][-0.00164651][0.], loss:0.2517855751594793\n",
            "\n",
            "Epoch:5--->, Salida XOR:[0.][-0.00510057][-0.00144701][0.], loss:0.25164040811384136\n",
            "\n",
            "Epoch:6--->, Salida XOR:[0.][-0.00475553][-0.00126906][0.], loss:0.2515091742813763\n",
            "\n",
            "Epoch:7--->, Salida XOR:[0.][-0.00444044][-0.00110998][0.], loss:0.25139022427877034\n",
            "\n",
            "Epoch:8--->, Salida XOR:[0.][-0.00415198][-0.00096749][0.], loss:0.25128213926695225\n",
            "\n",
            "Epoch:9--->, Salida XOR:[0.][-0.00388726][-0.00083961][0.], loss:0.25118369376844907\n",
            "\n"
          ]
        },
        {
          "output_type": "execute_result",
          "data": {
            "text/plain": [
              "array([[0.        , 0.        ],\n",
              "       [0.01254766, 0.02165534],\n",
              "       [0.00236663, 0.00548404],\n",
              "       [0.        , 0.        ]])"
            ]
          },
          "metadata": {},
          "execution_count": 120
        }
      ]
    },
    {
      "cell_type": "markdown",
      "metadata": {
        "id": "7JSw5yFLHcAb"
      },
      "source": [
        "### Representaciones intermedias"
      ]
    },
    {
      "cell_type": "code",
      "metadata": {
        "id": "J1uyV3YQFJMY"
      },
      "source": [
        "def graficar_int(numero_experimento):\n",
        "  colours = ListedColormap(['r','b'])\n",
        "  classes = [\"0\",\"1\"]\n",
        "  plot = plt.scatter(experimentos[numero_experimento-1][:,0],experimentos[numero_experimento-1][:, 1],c=list(Y),cmap=colours)\n",
        "\n",
        "  plt.legend(handles=plot.legend_elements()[0],labels=classes)\n",
        "  plt.title(\"Representación intermedia de la Capa 2 | Experimento {}\".format(numero_experimento))\n",
        "  plt.grid(True)\n",
        "  plt.show()"
      ],
      "execution_count": 111,
      "outputs": []
    },
    {
      "cell_type": "code",
      "metadata": {
        "colab": {
          "base_uri": "https://localhost:8080/",
          "height": 1000
        },
        "id": "IwKzJBE2Ec84",
        "outputId": "f66e9949-900f-48e7-adde-800adc207bd4"
      },
      "source": [
        "experimentos = []\n",
        "for experimento in range(1,6):\n",
        "  experimentos.append(entrenar_modelo(X,Y,10,0.1,0))\n",
        "\n",
        "  graficar_int(experimento)"
      ],
      "execution_count": 114,
      "outputs": [
        {
          "output_type": "display_data",
          "data": {
            "image/png": "[encoded data removed]",
            "text/plain": [
              "<Figure size 432x288 with 1 Axes>"
            ]
          },
          "metadata": {
            "needs_background": "light"
          }
        },
        {
          "output_type": "display_data",
          "data": {
            "image/png": "[encoded data removed]",
            "text/plain": [
              "<Figure size 432x288 with 1 Axes>"
            ]
          },
          "metadata": {
            "needs_background": "light"
          }
        },
        {
          "output_type": "display_data",
          "data": {
            "image/png": "[encoded data removed]",
            "text/plain": [
              "<Figure size 432x288 with 1 Axes>"
            ]
          },
          "metadata": {
            "needs_background": "light"
          }
        },
        {
          "output_type": "display_data",
          "data": {
            "image/png": "[encoded data removed]",
            "text/plain": [
              "<Figure size 432x288 with 1 Axes>"
            ]
          },
          "metadata": {
            "needs_background": "light"
          }
        },
        {
          "output_type": "display_data",
          "data": {
            "image/png": "[encoded data removed]",
            "text/plain": [
              "<Figure size 432x288 with 1 Axes>"
            ]
          },
          "metadata": {
            "needs_background": "light"
          }
        }
      ]
    },
    {
      "cell_type": "markdown",
      "metadata": {
        "id": "CmJWodOcMSGE"
      },
      "source": [
        "**Comparación:**\n",
        "\n",
        "Al comparar las representaciones intermedias en los 5 experimentos y observar los resultados de uno de los entrenamientos del modelo, se puede verificar que en cada experimento la representación de la capa oculta 2, es muy diferente. No es posible trazar una misma línea que separe los elementos 0 y 1. "
      ]
    },
    {
      "cell_type": "markdown",
      "metadata": {
        "id": "LjcjjufAM6xW"
      },
      "source": [
        "## **5. Conclusiones**"
      ]
    },
    {
      "cell_type": "markdown",
      "metadata": {
        "id": "3oioJGBWNTid"
      },
      "source": [
        "* El proceso de back propagation (propagación hacia atrás) es el algoritmo iterativo que permite entrenar una red neuronal o perceptrón multicapa. Consiste, esencialmente, en calcular la derivada del costo respecto a los parámetros a través de la regla de la cadena. Este último número permite, junto con el learnin rate, aplicar el algoritmo de gradient descent y actualizar los parámetros. \n",
        "\n",
        "* En el caso particular de la implementación de este modelo de aproximación XOR, no se obtuvieron buenos resultados ocasionados por su arquitectura. La función de activación ReLU es proclive a generar el efecto de 'dying ReLu' debido a que con el paso de las iteraciones las derivadas pueden comenzar a aproximarse a cero y eso impide que el modelo converga a un punto óptimo. \n",
        "\n",
        "* Como se trabajó en el ejercicio de forward propagation anterior, una función de activación sigmoid para las capas intermedias y la salida produciría mejores resultados en este modelo. \n",
        "\n",
        "* Las gráficas de la representación intermedia de la segunda capa de esta red, permite concluir que en ningún experimento es posible trazar la misma línea (con los mismos pesos o similares) que separen las clases (0 o 1). Nunca, las representación intermedia de 2 experimentos tiene los mismos puntos, esto sucede porque la matriz de salida de la representación proviene de la activación ReLU que provoca un decaimiento del gradiente a lo largo del tiempo.\n",
        "\n",
        "* Este ejercicio ha sido muy útil para comprender el proceso de propagación hacia atrás que ocurre automáticamente en los métodos '.fit()' de la mayoría de los frameworks existentes. La realización de esta práctica permite comprender la importancia fundamental del cálculo y principalmente del concepto de la regla de la cadena y sus aplicaciones en problemas como este. "
      ]
    }
  ]
}