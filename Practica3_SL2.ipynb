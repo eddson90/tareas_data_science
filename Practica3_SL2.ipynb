{
 "cells": [
  {
   "cell_type": "markdown",
   "id": "44d87442",
   "metadata": {},
   "source": [
    "# Práctica 3: La maldición de la dimensionalidad\n",
    "\n",
    "Statistical Learning II\n",
    "\n",
    "Eddson Sierra"
   ]
  },
  {
   "cell_type": "code",
   "execution_count": 36,
   "id": "ebe5b0a0",
   "metadata": {},
   "outputs": [],
   "source": [
    "import sklearn as sk\n",
    "import pandas as pd\n",
    "import numpy as np \n",
    "import matplotlib.pyplot as plt\n",
    "from sklearn.preprocessing import PolynomialFeatures"
   ]
  },
  {
   "cell_type": "markdown",
   "id": "f785121e",
   "metadata": {},
   "source": [
    "Extraemos las features del dataset de precios de casas: "
   ]
  },
  {
   "cell_type": "code",
   "execution_count": 39,
   "id": "2b04b7a9",
   "metadata": {},
   "outputs": [
    {
     "data": {
      "text/html": [
       "<div>\n",
       "<style scoped>\n",
       "    .dataframe tbody tr th:only-of-type {\n",
       "        vertical-align: middle;\n",
       "    }\n",
       "\n",
       "    .dataframe tbody tr th {\n",
       "        vertical-align: top;\n",
       "    }\n",
       "\n",
       "    .dataframe thead th {\n",
       "        text-align: right;\n",
       "    }\n",
       "</style>\n",
       "<table border=\"1\" class=\"dataframe\">\n",
       "  <thead>\n",
       "    <tr style=\"text-align: right;\">\n",
       "      <th></th>\n",
       "      <th>OverallQual</th>\n",
       "      <th>1stFlrSF</th>\n",
       "      <th>TotRmsAbvGrd</th>\n",
       "      <th>YearBuilt</th>\n",
       "      <th>LotFrontage</th>\n",
       "    </tr>\n",
       "  </thead>\n",
       "  <tbody>\n",
       "    <tr>\n",
       "      <th>0</th>\n",
       "      <td>7.0</td>\n",
       "      <td>856.0</td>\n",
       "      <td>8.0</td>\n",
       "      <td>2003.0</td>\n",
       "      <td>65.0</td>\n",
       "    </tr>\n",
       "    <tr>\n",
       "      <th>1</th>\n",
       "      <td>6.0</td>\n",
       "      <td>1262.0</td>\n",
       "      <td>6.0</td>\n",
       "      <td>1976.0</td>\n",
       "      <td>80.0</td>\n",
       "    </tr>\n",
       "    <tr>\n",
       "      <th>2</th>\n",
       "      <td>7.0</td>\n",
       "      <td>920.0</td>\n",
       "      <td>6.0</td>\n",
       "      <td>2001.0</td>\n",
       "      <td>68.0</td>\n",
       "    </tr>\n",
       "    <tr>\n",
       "      <th>3</th>\n",
       "      <td>7.0</td>\n",
       "      <td>961.0</td>\n",
       "      <td>7.0</td>\n",
       "      <td>1915.0</td>\n",
       "      <td>60.0</td>\n",
       "    </tr>\n",
       "    <tr>\n",
       "      <th>4</th>\n",
       "      <td>8.0</td>\n",
       "      <td>1145.0</td>\n",
       "      <td>9.0</td>\n",
       "      <td>2000.0</td>\n",
       "      <td>84.0</td>\n",
       "    </tr>\n",
       "  </tbody>\n",
       "</table>\n",
       "</div>"
      ],
      "text/plain": [
       "   OverallQual  1stFlrSF  TotRmsAbvGrd  YearBuilt  LotFrontage\n",
       "0          7.0     856.0           8.0     2003.0         65.0\n",
       "1          6.0    1262.0           6.0     1976.0         80.0\n",
       "2          7.0     920.0           6.0     2001.0         68.0\n",
       "3          7.0     961.0           7.0     1915.0         60.0\n",
       "4          8.0    1145.0           9.0     2000.0         84.0"
      ]
     },
     "execution_count": 39,
     "metadata": {},
     "output_type": "execute_result"
    }
   ],
   "source": [
    "data = np.load(r\"C:\\Users\\eddso\\OneDrive\\Maestría\\Ciclo 1 - 2021\\Ciencia de Datos en Python\\Proyecto\\proyecto_training_data.npy\")\n",
    "features = pd.DataFrame(data[:,1:6])\n",
    "features = features.fillna(0)\n",
    "features_df = features.rename(columns = {0: 'OverallQual', 1: '1stFlrSF', 2:'TotRmsAbvGrd', 3:'YearBuilt', 4:'LotFrontage'})\n",
    "features_df.head()"
   ]
  },
  {
   "cell_type": "code",
   "execution_count": 139,
   "id": "7f2e0444",
   "metadata": {},
   "outputs": [],
   "source": [
    "def dimension(features, grado_max):\n",
    "\n",
    "    una_variable = features[:,1].reshape(-1,1)\n",
    "    dos_variables = features[:,1:3]\n",
    "    tres_variables = features[:,1:4]\n",
    "    features_lista = [una_variable, dos_variables,tres_variables]\n",
    "    \n",
    "    resultado = []\n",
    "    \n",
    "    for i in range(1,grado_max+1):\n",
    "        poli = PolynomialFeatures(i)\n",
    "        \n",
    "        for j in range(0,len(features_lista)): \n",
    "            featuresPV = poli.fit_transform(features_lista[j])\n",
    "            dimPV = featuresPV.shape[1]\n",
    "            #resultado[i] = (features_lista[j].shape[1], dimPV)\n",
    "            resultado.append((i, features_lista[j].shape[1], dimPV))\n",
    "            \n",
    "    return resultado\n"
   ]
  },
  {
   "cell_type": "code",
   "execution_count": 140,
   "id": "6598478c",
   "metadata": {},
   "outputs": [],
   "source": [
    "salida = np.array(dimension(data,grado_max = 3))\n",
    "grado1 = salida[:3,:]\n",
    "grado2 = salida[3:6,:]\n",
    "grado3 = salida[6:,:]"
   ]
  },
  {
   "cell_type": "code",
   "execution_count": 173,
   "id": "5bf48391",
   "metadata": {},
   "outputs": [
    {
     "data": {
      "image/png": "[encoded data removed]",
      "text/plain": [
       "<Figure size 432x288 with 1 Axes>"
      ]
     },
     "metadata": {
      "needs_background": "light"
     },
     "output_type": "display_data"
    }
   ],
   "source": [
    "plt.plot(grado1[:,1], grado1[:,2], marker='o', linestyle='--', label = 'grado1')\n",
    "plt.plot(grado2[:,1], grado2[:,2], marker='o', linestyle='--', label = 'grado2')\n",
    "plt.plot(grado3[:,1], grado3[:,2], marker='o', linestyle='--', label = 'grado3')\n",
    "plt.xticks(range(1,4))\n",
    "plt.yticks(range(2,21))\n",
    "plt.xlabel('Cantidad de variables')\n",
    "plt.ylabel('Dimensiones')\n",
    "plt.title('Dimensionalidad de features polinómicas en función del grado')\n",
    "plt.legend()\n",
    "plt.show()"
   ]
  },
  {
   "cell_type": "markdown",
   "id": "0fab01c4",
   "metadata": {},
   "source": [
    "**Breve análisis**\n",
    "\n",
    "Como podemos observar en la gráfica, la cantidad de dimensiones (features polinómicas) incrementan exponencialmente a mayor cantidad de variables y grado del polinomio, lo que aumenta la complejidad y disminuye la habilidad de un modelo para generalizar los datos. Esto es lo que se conoce como *maldición de dimensionalidad*.\n",
    "\n",
    "Por ejemplo, para un polinomio de grado 1 a partir de una sola variable se obtienen dos dimensiones, pero si se utiliza una sola variable con  un polinomio de grado 3, las features polinómicas aumentan a 4. Como puede observarse en la gráfica, la mientras mayor grado también se aumenta el riesgo de sobreajuste a los datos. La maldición de dimensionalidad es un obstáculo en el aprendizaje automático y también en la estadística bayesiana donde su principal efecto es causar que una distribución tenga demasiados parámetros. "
   ]
  }
 ],
 "metadata": {
  "kernelspec": {
   "display_name": "Python 3",
   "language": "python",
   "name": "python3"
  },
  "language_info": {
   "codemirror_mode": {
    "name": "ipython",
    "version": 3
   },
   "file_extension": ".py",
   "mimetype": "text/x-python",
   "name": "python",
   "nbconvert_exporter": "python",
   "pygments_lexer": "ipython3",
   "version": "3.8.10"
  }
 },
 "nbformat": 4,
 "nbformat_minor": 5
}
